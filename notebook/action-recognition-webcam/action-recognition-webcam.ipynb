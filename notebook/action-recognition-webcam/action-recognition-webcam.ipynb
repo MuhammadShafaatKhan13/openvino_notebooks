{
 "cells": [
  {
   "attachments": {},
   "cell_type": "markdown",
   "metadata": {
    "pycharm": {
     "name": "#%% md\n"
    },
    "tags": []
   },
   "source": [
    "# Human Action Recognition with OpenVINO™\n",
    "\n",
    "This notebook demonstrates live human action recognition with OpenVINO, using the [Action Recognition Models](https://docs.openvino.ai/2020.2/usergroup13.html) from [Open Model Zoo](https://github.com/openvinotoolkit/open_model_zoo), specifically an [Encoder](https://docs.openvino.ai/2020.2/_models_intel_action_recognition_0001_encoder_description_action_recognition_0001_encoder.html) and a [Decoder](https://docs.openvino.ai/2020.2/_models_intel_action_recognition_0001_decoder_description_action_recognition_0001_decoder.html). Both models create a sequence to sequence (`\"seq2seq\"`) \\[1\\] system to identify the human activities for [Kinetics-400 dataset](https://deepmind.com/research/open-source/kinetics). The models use the Video Transformer approach with ResNet34 encoder \\[2\\]. The notebook shows how to create the following pipeline:\n",
    "\n",
    "<img align='center' src=\"https://user-images.githubusercontent.com/10940214/148401661-477aebcd-f2d0-4771-b107-4b37f94d0b1e.jpeg\" alt=\"drawing\" width=\"1000\"/>\n",
    "\n",
    "Final part of this notebook shows live inference results from a webcam. Additionally, you can also upload a video file.\n",
    "\n",
    "**NOTE**: To use a webcam, you must run this Jupyter notebook on a computer with a webcam. If you run on a server, the webcam will not work. However, you can still do inference on a video in the final step.\n",
    "\n",
    "---\n",
    "\n",
    "\\[1\\] seq2seq: Deep learning models that take a sequence of items to the input and output. In this case, input: video frames, output: actions sequence. This `\"seq2seq\"` is composed of an encoder and a decoder. The encoder captures `\"context\"` of the inputs to be analyzed by the decoder, and finally gets the human action and confidence.\n",
    "\n",
    "\\[2\\] [Video Transformer](https://en.wikipedia.org/wiki/Transformer_(machine_learning_model)) and [ResNet34](https://pytorch.org/vision/main/models/generated/torchvision.models.resnet34.html).\n",
    "\n",
    "\n",
    "\n",
    "#### Table of contents:\n",
    "\n",
    "- [Imports](#Imports)\n",
    "- [The models](#The-models)\n",
    "    - [Download the models](#Download-the-models)\n",
    "    - [Load your labels](#Load-your-labels)\n",
    "    - [Load the models](#Load-the-models)\n",
    "        - [Model Initialization function](#Model-Initialization-function)\n",
    "        - [Initialization for Encoder and Decoder](#Initialization-for-Encoder-and-Decoder)\n",
    "    - [Helper functions](#Helper-functions)\n",
    "    - [AI Functions](#AI-Functions)\n",
    "    - [Main Processing Function](#Main-Processing-Function)\n",
    "    - [Run Action Recognition](#Run-Action-Recognition)\n",
    "\n"
   ]
  },
  {
   "cell_type": "code",
   "execution_count": 1,
   "metadata": {},
   "outputs": [
    {
     "name": "stdout",
     "output_type": "stream",
     "text": [
      "Note: you may need to restart the kernel to use updated packages.\n"
     ]
    }
   ],
   "source": [
    "%pip install -q \"openvino>=2024.0.0\" \"opencv-python\" \"tqdm\" \"python-dotenv\" \"spacy\" \"nltk\" \"scikit-learn\" \"matplotlib\""
   ]
  },
  {
   "cell_type": "markdown",
   "metadata": {},
   "source": [
    "## Natural Language Processing"
   ]
  },
  {
   "cell_type": "code",
   "execution_count": 2,
   "metadata": {},
   "outputs": [
    {
     "name": "stderr",
     "output_type": "stream",
     "text": [
      "[nltk_data] Downloading package wordnet to\n",
      "[nltk_data]     C:\\Users\\shafa\\AppData\\Roaming\\nltk_data...\n",
      "[nltk_data]   Package wordnet is already up-to-date!\n"
     ]
    },
    {
     "data": {
      "text/plain": [
       "True"
      ]
     },
     "execution_count": 2,
     "metadata": {},
     "output_type": "execute_result"
    }
   ],
   "source": [
    "import nltk\n",
    "import spacy\n",
    "from nltk.corpus import wordnet\n",
    "spacy_nlp = spacy.load(\"en_core_web_lg\")\n",
    "nltk.download('wordnet')"
   ]
  },
  {
   "cell_type": "code",
   "execution_count": 3,
   "metadata": {},
   "outputs": [
    {
     "data": {
      "text/plain": [
       "[Synset('look.v.01')]"
      ]
     },
     "execution_count": 3,
     "metadata": {},
     "output_type": "execute_result"
    }
   ],
   "source": [
    "wordnet.synset('stare.v.02').hypernyms() "
   ]
  },
  {
   "cell_type": "code",
   "execution_count": 4,
   "metadata": {},
   "outputs": [
    {
     "data": {
      "text/plain": [
       "'judge or regard; look upon; judge'"
      ]
     },
     "execution_count": 4,
     "metadata": {},
     "output_type": "execute_result"
    }
   ],
   "source": [
    "wordnet.synset('think.v.01').definition()"
   ]
  },
  {
   "cell_type": "code",
   "execution_count": 5,
   "metadata": {},
   "outputs": [
    {
     "data": {
      "text/plain": [
       "'form a critical opinion of'"
      ]
     },
     "execution_count": 5,
     "metadata": {},
     "output_type": "execute_result"
    }
   ],
   "source": [
    "wordnet.synset('evaluate.v.02').definition()"
   ]
  },
  {
   "cell_type": "code",
   "execution_count": 6,
   "metadata": {},
   "outputs": [
    {
     "data": {
      "text/plain": [
       "\"use or exercise the mind or one's power of reason in order to make inferences, decisions, or arrive at a solution or judgments\""
      ]
     },
     "execution_count": 6,
     "metadata": {},
     "output_type": "execute_result"
    }
   ],
   "source": [
    "wordnet.synset('think.v.03').definition()"
   ]
  },
  {
   "cell_type": "code",
   "execution_count": 7,
   "metadata": {},
   "outputs": [
    {
     "data": {
      "text/plain": [
       "[Synset('think.v.03')]"
      ]
     },
     "execution_count": 7,
     "metadata": {},
     "output_type": "execute_result"
    }
   ],
   "source": [
    "wordnet.synset('evaluate.v.02').hypernyms() "
   ]
  },
  {
   "cell_type": "code",
   "execution_count": 8,
   "metadata": {},
   "outputs": [
    {
     "data": {
      "text/plain": [
       "[]"
      ]
     },
     "execution_count": 8,
     "metadata": {},
     "output_type": "execute_result"
    }
   ],
   "source": [
    "wordnet.synset('think.v.03').hypernyms() "
   ]
  },
  {
   "cell_type": "code",
   "execution_count": 9,
   "metadata": {},
   "outputs": [
    {
     "name": "stdout",
     "output_type": "stream",
     "text": [
      "Synset('get.v.11')\n"
     ]
    }
   ],
   "source": [
    "# Word Sense Disambiguation:\n",
    "from nltk.wsd import lesk \n",
    "caption = ['catching', 'or', 'throwing', 'frisbee'] \n",
    "print(lesk(caption, 'catching')) \n"
   ]
  },
  {
   "cell_type": "code",
   "execution_count": 10,
   "metadata": {},
   "outputs": [
    {
     "data": {
      "text/plain": [
       "'succeed in catching or seizing, especially after a chase'"
      ]
     },
     "execution_count": 10,
     "metadata": {},
     "output_type": "execute_result"
    }
   ],
   "source": [
    "wordnet.synset('get.v.11').definition()"
   ]
  },
  {
   "cell_type": "code",
   "execution_count": 11,
   "metadata": {},
   "outputs": [
    {
     "data": {
      "text/plain": [
       "[Synset('seize.v.01')]"
      ]
     },
     "execution_count": 11,
     "metadata": {},
     "output_type": "execute_result"
    }
   ],
   "source": [
    "wordnet.synset('get.v.11').hypernyms() "
   ]
  },
  {
   "cell_type": "code",
   "execution_count": 12,
   "metadata": {},
   "outputs": [
    {
     "data": {
      "text/plain": [
       "'take hold of; grab'"
      ]
     },
     "execution_count": 12,
     "metadata": {},
     "output_type": "execute_result"
    }
   ],
   "source": [
    "wordnet.synset('seize.v.01').definition()"
   ]
  },
  {
   "cell_type": "code",
   "execution_count": 13,
   "metadata": {},
   "outputs": [
    {
     "data": {
      "text/plain": [
       "[Synset('work.v.12')]"
      ]
     },
     "execution_count": 13,
     "metadata": {},
     "output_type": "execute_result"
    }
   ],
   "source": [
    "wordnet.synset('exercise.v.03').hypernyms() "
   ]
  },
  {
   "cell_type": "code",
   "execution_count": 14,
   "metadata": {},
   "outputs": [
    {
     "data": {
      "text/plain": [
       "'rise up'"
      ]
     },
     "execution_count": 14,
     "metadata": {},
     "output_type": "execute_result"
    }
   ],
   "source": [
    "wordnet.synset('rise.v.04').definition()"
   ]
  },
  {
   "cell_type": "code",
   "execution_count": 15,
   "metadata": {},
   "outputs": [
    {
     "data": {
      "text/plain": [
       "[Synset('look.v.02')]"
      ]
     },
     "execution_count": 15,
     "metadata": {},
     "output_type": "execute_result"
    }
   ],
   "source": [
    "wordnet.synset('rise.v.04').hypernyms() "
   ]
  },
  {
   "cell_type": "code",
   "execution_count": 16,
   "metadata": {},
   "outputs": [
    {
     "data": {
      "text/plain": [
       "[Synset('rise.v.01'),\n",
       " Synset('rise.v.02'),\n",
       " Synset('arise.v.03'),\n",
       " Synset('rise.v.04'),\n",
       " Synset('surface.v.01'),\n",
       " Synset('originate.v.01'),\n",
       " Synset('ascend.v.08'),\n",
       " Synset('wax.v.02'),\n",
       " Synset('heighten.v.01'),\n",
       " Synset('get_up.v.02'),\n",
       " Synset('rise.v.11'),\n",
       " Synset('rise.v.12'),\n",
       " Synset('rise.v.13'),\n",
       " Synset('rebel.v.01'),\n",
       " Synset('rise.v.15'),\n",
       " Synset('rise.v.16'),\n",
       " Synset('resurrect.v.03')]"
      ]
     },
     "execution_count": 16,
     "metadata": {},
     "output_type": "execute_result"
    }
   ],
   "source": [
    "wordnet.synsets('rise', pos=wordnet.VERB) \n"
   ]
  },
  {
   "cell_type": "code",
   "execution_count": 17,
   "metadata": {},
   "outputs": [
    {
     "name": "stdout",
     "output_type": "stream",
     "text": [
      "Natural natural ADJ JJ amod Xxxxx True False\n",
      "language language NOUN NN compound xxxx True False\n",
      "processing processing NOUN NN nsubj xxxx True False\n",
      ", , PUNCT , punct , False False\n",
      "or or CCONJ CC cc xx True True\n",
      "NLP NLP PROPN NNP conj XXX True False\n",
      ", , PUNCT , punct , False False\n",
      "combines combine VERB VBZ ROOT xxxx True False\n",
      "computational computational ADJ JJ amod xxxx True False\n",
      "linguistics linguistic NOUN NNS dobj xxxx True False\n",
      "— — PUNCT : punct — False False\n",
      "rule rule NOUN NN npadvmod xxxx True False\n",
      "- - PUNCT HYPH punct - False False\n",
      "based base VERB VBN amod xxxx True False\n",
      "modeling modeling NOUN NN appos xxxx True False\n",
      "of of ADP IN prep xx True True\n",
      "human human ADJ JJ amod xxxx True False\n",
      "language language NOUN NN pobj xxxx True False\n",
      "— — PUNCT : punct — False False\n",
      "with with ADP IN prep xxxx True True\n",
      "statistical statistical ADJ JJ amod xxxx True False\n",
      "and and CCONJ CC cc xxx True True\n",
      "machine machine NOUN NN conj xxxx True False\n",
      "learning learning NOUN NN conj xxxx True False\n",
      "models model NOUN NNS pobj xxxx True False\n",
      "to to PART TO aux xx True True\n",
      "enable enable VERB VB advcl xxxx True False\n",
      "computers computer NOUN NNS dobj xxxx True False\n",
      "and and CCONJ CC cc xxx True True\n",
      "digital digital ADJ JJ amod xxxx True False\n",
      "devices device NOUN NNS conj xxxx True False\n",
      "to to PART TO aux xx True True\n",
      "recognize recognize VERB VB xcomp xxxx True False\n",
      ", , PUNCT , punct , False False\n",
      "understand understand VERB VB conj xxxx True False\n",
      "and and CCONJ CC cc xxx True True\n",
      "generate generate VERB VB conj xxxx True False\n",
      "text text NOUN NN dobj xxxx True False\n",
      "and and CCONJ CC cc xxx True True\n",
      "speech speech NOUN NN conj xxxx True False\n",
      ". . PUNCT . punct . False False\n"
     ]
    }
   ],
   "source": [
    "doc = spacy_nlp(\"Natural language processing, or NLP, combines computational linguistics—rule-based modeling of human language—with statistical and machine learning models to enable computers and digital devices to recognize, understand and generate text and speech.\")\n",
    "\n",
    "for token in doc:\n",
    "    print(token.text, token.lemma_, token.pos_, token.tag_, token.dep_,\n",
    "            token.shape_, token.is_alpha, token.is_stop)"
   ]
  },
  {
   "attachments": {},
   "cell_type": "markdown",
   "metadata": {
    "pycharm": {
     "name": "#%% md\n"
    }
   },
   "source": [
    "## Imports\n",
    "[back to top ⬆️](#Table-of-contents:)\n"
   ]
  },
  {
   "cell_type": "code",
   "execution_count": 18,
   "metadata": {
    "pycharm": {
     "name": "#%%\n"
    }
   },
   "outputs": [],
   "source": [
    "import collections\n",
    "import os\n",
    "import time\n",
    "import json\n",
    "from typing import Tuple, List\n",
    "\n",
    "from pathlib import Path\n",
    "from dotenv import load_dotenv\n",
    "from sklearn.metrics import confusion_matrix, ConfusionMatrixDisplay, precision_score\n",
    "\n",
    "import cv2\n",
    "import numpy as np\n",
    "from IPython import display\n",
    "import openvino as ov\n",
    "\n",
    "from openvino.runtime.ie_api import CompiledModel\n",
    "\n",
    "# Fetch `notebook_utils` module\n",
    "import requests\n",
    "\n",
    "r = requests.get(\n",
    "    url=\"https://raw.githubusercontent.com/openvinotoolkit/openvino_notebooks/latest/utils/notebook_utils.py\",\n",
    ")\n",
    "open(\"notebook_utils.py\", \"w\").write(r.text)\n",
    "import notebook_utils as utils"
   ]
  },
  {
   "cell_type": "code",
   "execution_count": 19,
   "metadata": {},
   "outputs": [
    {
     "name": "stdout",
     "output_type": "stream",
     "text": [
      "['03dk7mneDU0.mp4', '1MmjE51PeIE.mp4', '2PCKDO_cEds.mp4', '7Mtprt8_bqM.mp4', '9HoB1hqX1Zw.mp4', 'C5Z1sRArUR0.mp4', 'chMJGDu0g8w.mp4', 'DYpTE_n-Wvk.mp4', 'EWRO7cZ9w0E.mp4', 'Exd3SE5Zg0k.mp4', 'EzMqjDPLRhc.mp4', 'fBcw-xGGxZI.mp4', 'fiKJm0eavfw.mp4', 'hKMt8sgFrDg.mp4', 'i8d4Z-FxkrY.mp4', 'IGShO22ldOM.mp4', 'J-1gayS1jc8.mp4', 'JlVJ2vA9vmU.mp4', 'LYnwn3ufbDI.mp4', 'mE4-cdQxdgM.mp4', 'ml4v9_rYeu4.mp4', 'nJqTkVxoft8.mp4', 'o79s5eOAF-c.mp4', 'oMT-lPga9h8.mp4', 'qv32dEIKREg.mp4', 'RL16kQZcfTw.mp4', 'S47k3jJS4ew.mp4', 'TKWm13mAlW4.mp4', 'TRcWcUTFY0U.mp4', 'weBWP6td8ZU.mp4', 'wL4XUmnamIQ.mp4', 'Y-acp_jXG1Q.mp4', 'y5vsk8Mj-3w.mp4']\n"
     ]
    }
   ],
   "source": [
    "load_dotenv()\n",
    "VIDEOS_PATH = os.environ['VIDEOS_PATH']\n",
    "VIDEOS = os.listdir(VIDEOS_PATH)\n",
    "VIDEO_CAPTION = os.environ['CAPTIONS']\n",
    "print(VIDEOS)\n"
   ]
  },
  {
   "attachments": {},
   "cell_type": "markdown",
   "metadata": {},
   "source": [
    "## The models\n",
    "[back to top ⬆️](#Table-of-contents:)\n",
    "\n",
    "### Download the models\n",
    "[back to top ⬆️](#Table-of-contents:)\n",
    "\n",
    "Use the `download_ir_model`, a function from the `notebook_utils` file. It automatically creates a directory structure and downloads the selected model.\n",
    "\n",
    "In this case you can use `\"action-recognition-0001\"` as a model name, and the system automatically downloads the two models `\"action-recognition-0001-encoder\"` and `\"action-recognition-0001-decoder\"`\n",
    "\n",
    "> **NOTE**: If you want to download another model, such as `\"driver-action-recognition-adas-0002\"` (`\"driver-action-recognition-adas-0002-encoder\"` + `\"driver-action-recognition-adas-0002-decoder\"`), replace the name of the model in the code below. Using a model outside the list can require different pre- and post-processing. "
   ]
  },
  {
   "cell_type": "code",
   "execution_count": 20,
   "metadata": {
    "tags": []
   },
   "outputs": [],
   "source": [
    "#to store predictions of each frame\n",
    "all_predictions_dict={}\n",
    "logs_file_path=os.getcwd() + \"\\\\logs.txt\"\n",
    "open(logs_file_path, 'w').close()\n",
    "# A directory where the model will be downloaded.\n",
    "base_model_dir = \"model\"\n",
    "# The name of the model from Open Model Zoo.\n",
    "model_name = \"action-recognition-0001\"\n",
    "# Selected precision (FP32, FP16, FP16-INT8).\n",
    "precision = \"FP16\"\n",
    "model_path_decoder = f\"model/intel/{model_name}/{model_name}-decoder/{precision}/{model_name}-decoder.xml\"\n",
    "model_path_encoder = f\"model/intel/{model_name}/{model_name}-encoder/{precision}/{model_name}-encoder.xml\"\n",
    "encoder_url = f\"https://storage.openvinotoolkit.org/repositories/open_model_zoo/temp/{model_name}/{model_name}-encoder/{precision}/{model_name}-encoder.xml\"\n",
    "decoder_url = f\"https://storage.openvinotoolkit.org/repositories/open_model_zoo/temp/{model_name}/{model_name}-decoder/{precision}/{model_name}-decoder.xml\"\n",
    "\n",
    "if not os.path.exists(model_path_decoder):\n",
    "    utils.download_ir_model(decoder_url, Path(model_path_decoder).parent)\n",
    "if not os.path.exists(model_path_encoder):\n",
    "    utils.download_ir_model(encoder_url, Path(model_path_encoder).parent)"
   ]
  },
  {
   "cell_type": "code",
   "execution_count": null,
   "metadata": {},
   "outputs": [],
   "source": [
    "\n",
    "\n",
    "\n"
   ]
  },
  {
   "attachments": {},
   "cell_type": "markdown",
   "metadata": {},
   "source": [
    "### Load your labels\n",
    "[back to top ⬆️](#Table-of-contents:)\n",
    "\n",
    "This tutorial uses [Kinetics-400 dataset](https://deepmind.com/research/open-source/kinetics), and also provides the text file embedded into this notebook. \n",
    "\n",
    "> **NOTE**: If you want to run `\"driver-action-recognition-adas-0002\"` model, replace the `kinetics.txt` file to `driver_actions.txt`."
   ]
  },
  {
   "cell_type": "code",
   "execution_count": 21,
   "metadata": {},
   "outputs": [
    {
     "name": "stdout",
     "output_type": "stream",
     "text": [
      "'data\\kinetics.txt' already exists.\n",
      "['abseiling', 'air drumming', 'answering questions', 'applauding', 'applying cream', 'archery', 'arm wrestling', 'arranging flowers', 'assembling computer'] (400,)\n",
      "<class 'list'>\n"
     ]
    }
   ],
   "source": [
    "# Download the text from the openvino_notebooks storage\n",
    "vocab_file_path = utils.download_file(\n",
    "    \"https://storage.openvinotoolkit.org/repositories/openvino_notebooks/data/data/text/kinetics.txt\",\n",
    "    directory=\"data\",\n",
    ")\n",
    "\n",
    "with vocab_file_path.open(mode=\"r\") as f:\n",
    "    labels = [line.strip() for line in f]\n",
    "\n",
    "print(labels[0:9], np.shape(labels))\n",
    "print(type(labels))\n"
   ]
  },
  {
   "attachments": {},
   "cell_type": "markdown",
   "metadata": {
    "pycharm": {
     "name": "#%% md\n"
    }
   },
   "source": [
    "### Load the models\n",
    "[back to top ⬆️](#Table-of-contents:)\n",
    "\n",
    "Load the two models for this particular architecture, Encoder and Decoder. Downloaded models are located in a fixed structure, indicating a vendor, the name of the model, and a precision.\n",
    "\n",
    " 1. Initialize OpenVINO Runtime.\n",
    " 2. Read the network from `*.bin` and `*.xml` files (weights and architecture).\n",
    " 3. Compile the model for specified device.\n",
    " 4. Get input and output names of nodes.\n",
    "\n",
    "Only a few lines of code are required to run the model."
   ]
  },
  {
   "attachments": {},
   "cell_type": "markdown",
   "metadata": {},
   "source": [
    "Select device from dropdown list for running inference using OpenVINO"
   ]
  },
  {
   "cell_type": "code",
   "execution_count": 22,
   "metadata": {},
   "outputs": [
    {
     "data": {
      "application/vnd.jupyter.widget-view+json": {
       "model_id": "a819d861b35b4a38bc5285d9761de600",
       "version_major": 2,
       "version_minor": 0
      },
      "text/plain": [
       "Dropdown(description='Device:', index=2, options=('CPU', 'GPU', 'AUTO'), value='AUTO')"
      ]
     },
     "execution_count": 22,
     "metadata": {},
     "output_type": "execute_result"
    }
   ],
   "source": [
    "import ipywidgets as widgets\n",
    "\n",
    "core = ov.Core()\n",
    "device = widgets.Dropdown(\n",
    "    options=core.available_devices + [\"AUTO\"],\n",
    "    value=\"AUTO\",\n",
    "    description=\"Device:\",\n",
    "    disabled=False,\n",
    ")\n",
    "\n",
    "device"
   ]
  },
  {
   "attachments": {},
   "cell_type": "markdown",
   "metadata": {},
   "source": [
    "#### Model Initialization function\n",
    "[back to top ⬆️](#Table-of-contents:)\n"
   ]
  },
  {
   "cell_type": "code",
   "execution_count": 23,
   "metadata": {},
   "outputs": [],
   "source": [
    "# Initialize OpenVINO Runtime.\n",
    "core = ov.Core()\n",
    "\n",
    "\n",
    "def model_init(model_path: str, device: str) -> Tuple:\n",
    "    \"\"\"\n",
    "    Read the network and weights from a file, load the\n",
    "    model on CPU and get input and output names of nodes\n",
    "\n",
    "    :param:\n",
    "            model: model architecture path *.xml\n",
    "            device: inference device\n",
    "    :retuns:\n",
    "            compiled_model: Compiled model\n",
    "            input_key: Input node for model\n",
    "            output_key: Output node for model\n",
    "    \"\"\"\n",
    "\n",
    "    # Read the network and corresponding weights from a file.\n",
    "    model = core.read_model(model=model_path)\n",
    "    l_file = open(logs_file_path, \"a\")  # append mode\n",
    "    l_file.write(\"\\nmodel:\\n\" )\n",
    "    l_file.write(str(model ))\n",
    "    l_file.close()\n",
    "    # Compile the model for specified device.\n",
    "    compiled_model = core.compile_model(model=model, device_name=device)\n",
    "    # Get input and output names of nodes.\n",
    "    input_keys = compiled_model.input(0)\n",
    "    l_file = open(logs_file_path, \"a\")  # append mode\n",
    "    l_file.write(\"\\ninput keys:\\n\" )\n",
    "    l_file.write(str(input_keys ))\n",
    "    l_file.close()\n",
    "    output_keys = compiled_model.output(0)\n",
    "    return input_keys, output_keys, compiled_model"
   ]
  },
  {
   "attachments": {},
   "cell_type": "markdown",
   "metadata": {},
   "source": [
    "#### Initialization for Encoder and Decoder\n",
    "[back to top ⬆️](#Table-of-contents:)\n"
   ]
  },
  {
   "cell_type": "code",
   "execution_count": 24,
   "metadata": {},
   "outputs": [
    {
     "name": "stdout",
     "output_type": "stream",
     "text": [
      "16\n"
     ]
    }
   ],
   "source": [
    "l_file = open(logs_file_path, \"a\")  # append mode\n",
    "l_file.write(\"\\nmodel peth encoder:\\n\" )\n",
    "l_file.write(str(model_path_encoder ))\n",
    "l_file.write(\"\\nmodel peth decoder:\\n\" )\n",
    "l_file.write(str(model_path_decoder ))\n",
    "l_file.close()\n",
    "# Encoder initialization\n",
    "input_key_en, output_keys_en, compiled_model_en = model_init(model_path_encoder, device.value)\n",
    "# Decoder initialization\n",
    "input_key_de, output_keys_de, compiled_model_de = model_init(model_path_decoder, device.value)\n",
    "\n",
    "# Get input size - Encoder.\n",
    "height_en, width_en = list(input_key_en.shape)[2:]\n",
    "# Get input size - Decoder.\n",
    "frames2decode = list(input_key_de.shape)[0:][1]\n",
    "print(frames2decode)"
   ]
  },
  {
   "attachments": {},
   "cell_type": "markdown",
   "metadata": {},
   "source": [
    "### Helper functions\n",
    "[back to top ⬆️](#Table-of-contents:)\n",
    "\n",
    "Use the following helper functions for preprocessing and postprocessing frames:\n",
    "\n",
    "1. Preprocess the input image before running the Encoder model. (`center_crop` and `adaptative_resize`)\n",
    "2. Decode top-3 probabilities into label names. (`decode_output`)\n",
    "3. Draw the Region of Interest (ROI) over the video. (`rec_frame_display`)\n",
    "4. Prepare the frame for displaying label names over the video. (`display_text_fnc`)"
   ]
  },
  {
   "cell_type": "code",
   "execution_count": 25,
   "metadata": {},
   "outputs": [],
   "source": [
    "def center_crop(frame: np.ndarray) -> np.ndarray:\n",
    "    \"\"\"\n",
    "    Center crop squared the original frame to standardize the input image to the encoder model\n",
    "\n",
    "    :param frame: input frame\n",
    "    :returns: center-crop-squared frame\n",
    "    \"\"\"\n",
    "    img_h, img_w, _ = frame.shape\n",
    "    min_dim = min(img_h, img_w)\n",
    "    start_x = int((img_w - min_dim) / 2.0)\n",
    "    start_y = int((img_h - min_dim) / 2.0)\n",
    "    roi = [start_y, (start_y + min_dim), start_x, (start_x + min_dim)]\n",
    "    return frame[start_y : (start_y + min_dim), start_x : (start_x + min_dim), ...], roi\n",
    "\n",
    "\n",
    "def adaptive_resize(frame: np.ndarray, size: int) -> np.ndarray:\n",
    "    \"\"\"\n",
    "     The frame going to be resized to have a height of size or a width of size\n",
    "\n",
    "    :param frame: input frame\n",
    "    :param size: input size to encoder model\n",
    "    :returns: resized frame, np.array type\n",
    "    \"\"\"\n",
    "    h, w, _ = frame.shape\n",
    "    scale = size / min(h, w)\n",
    "    w_scaled, h_scaled = int(w * scale), int(h * scale)\n",
    "    if w_scaled == w and h_scaled == h:\n",
    "        return frame\n",
    "    return cv2.resize(frame, (w_scaled, h_scaled))\n",
    "\n",
    "\n",
    "def decode_output(probs: np.ndarray, labels: np.ndarray, top_k: int = 3) -> np.ndarray:\n",
    "    \"\"\"\n",
    "    Decodes top probabilities into corresponding label names\n",
    "\n",
    "    :param probs: confidence vector for 400 actions\n",
    "    :param labels: list of actions\n",
    "    :param top_k: The k most probable positions in the list of labels\n",
    "    :returns: decoded_labels: The k most probable actions from the labels list\n",
    "              decoded_top_probs: confidence for the k most probable actions\n",
    "    \"\"\"\n",
    "    top_ind = np.argsort(-1 * probs)[:top_k]\n",
    "    out_label = np.array(labels)[top_ind.astype(int)]\n",
    "    decoded_labels = [out_label[0][0], out_label[0][1], out_label[0][2]]\n",
    "    top_probs = np.array(probs)[0][top_ind.astype(int)]\n",
    "    decoded_top_probs = [top_probs[0][0], top_probs[0][1], top_probs[0][2]]\n",
    "    return decoded_labels, decoded_top_probs\n",
    "\n",
    "\n",
    "def rec_frame_display(frame: np.ndarray, roi) -> np.ndarray:\n",
    "    \"\"\"\n",
    "    Draw a rec frame over actual frame\n",
    "\n",
    "    :param frame: input frame\n",
    "    :param roi: Region of interest, image section processed by the Encoder\n",
    "    :returns: frame with drawed shape\n",
    "\n",
    "    \"\"\"\n",
    "\n",
    "    cv2.line(frame, (roi[2] + 3, roi[0] + 3), (roi[2] + 3, roi[0] + 100), (0, 200, 0), 2)\n",
    "    cv2.line(frame, (roi[2] + 3, roi[0] + 3), (roi[2] + 100, roi[0] + 3), (0, 200, 0), 2)\n",
    "    cv2.line(frame, (roi[3] - 3, roi[1] - 3), (roi[3] - 3, roi[1] - 100), (0, 200, 0), 2)\n",
    "    cv2.line(frame, (roi[3] - 3, roi[1] - 3), (roi[3] - 100, roi[1] - 3), (0, 200, 0), 2)\n",
    "    cv2.line(frame, (roi[3] - 3, roi[0] + 3), (roi[3] - 3, roi[0] + 100), (0, 200, 0), 2)\n",
    "    cv2.line(frame, (roi[3] - 3, roi[0] + 3), (roi[3] - 100, roi[0] + 3), (0, 200, 0), 2)\n",
    "    cv2.line(frame, (roi[2] + 3, roi[1] - 3), (roi[2] + 3, roi[1] - 100), (0, 200, 0), 2)\n",
    "    cv2.line(frame, (roi[2] + 3, roi[1] - 3), (roi[2] + 100, roi[1] - 3), (0, 200, 0), 2)\n",
    "    # Write ROI over actual frame\n",
    "    FONT_STYLE = cv2.FONT_HERSHEY_SIMPLEX\n",
    "    org = (roi[2] + 3, roi[1] - 3)\n",
    "    org2 = (roi[2] + 2, roi[1] - 2)\n",
    "    FONT_SIZE = 0.5\n",
    "    FONT_COLOR = (0, 200, 0)\n",
    "    FONT_COLOR2 = (0, 0, 0)\n",
    "    cv2.putText(frame, \"ROI\", org2, FONT_STYLE, FONT_SIZE, FONT_COLOR2)\n",
    "    cv2.putText(frame, \"ROI\", org, FONT_STYLE, FONT_SIZE, FONT_COLOR)\n",
    "    return frame\n",
    "\n",
    "\n",
    "def display_text_fnc(frame: np.ndarray, display_text: str, index: int):\n",
    "    \"\"\"\n",
    "    Include a text on the analyzed frame\n",
    "\n",
    "    :param frame: input frame\n",
    "    :param display_text: text to add on the frame\n",
    "    :param index: index line dor adding text\n",
    "\n",
    "    \"\"\"\n",
    "    # Configuration for displaying images with text.\n",
    "    FONT_COLOR = (255, 255, 255)\n",
    "    FONT_COLOR2 = (0, 0, 0)\n",
    "    FONT_STYLE = cv2.FONT_HERSHEY_DUPLEX\n",
    "    FONT_SIZE = 0.7\n",
    "    TEXT_VERTICAL_INTERVAL = 25\n",
    "    TEXT_LEFT_MARGIN = 15\n",
    "    # ROI over actual frame\n",
    "    (processed, roi) = center_crop(frame)\n",
    "    # Draw a ROI over actual frame.\n",
    "    frame = rec_frame_display(frame, roi)\n",
    "    # Put a text over actual frame.\n",
    "    text_loc = (TEXT_LEFT_MARGIN, TEXT_VERTICAL_INTERVAL * (index + 1))\n",
    "    text_loc2 = (TEXT_LEFT_MARGIN + 1, TEXT_VERTICAL_INTERVAL * (index + 1) + 1)\n",
    "    cv2.putText(frame, display_text, text_loc2, FONT_STYLE, FONT_SIZE, FONT_COLOR2)\n",
    "    cv2.putText(frame, display_text, text_loc, FONT_STYLE, FONT_SIZE, FONT_COLOR)"
   ]
  },
  {
   "attachments": {},
   "cell_type": "markdown",
   "metadata": {},
   "source": [
    "### AI Functions\n",
    "[back to top ⬆️](#Table-of-contents:)\n",
    "\n",
    "<img align='center' src=\"https://user-images.githubusercontent.com/10940214/148401661-477aebcd-f2d0-4771-b107-4b37f94d0b1e.jpeg\" alt=\"drawing\" width=\"1000\"/>\n",
    "\n",
    "Following the pipeline above, you will use the next functions to:\n",
    "\n",
    "1. Preprocess a frame before running the Encoder. (`preprocessing`)\n",
    "2. Encoder Inference per frame. (`encoder`)\n",
    "3. Decoder inference per set of frames. (`decoder`)\n",
    "4. Normalize the Decoder output to get confidence values per action recognition label. (`softmax`)"
   ]
  },
  {
   "cell_type": "code",
   "execution_count": 26,
   "metadata": {},
   "outputs": [],
   "source": [
    "def preprocessing(frame: np.ndarray, size: int) -> np.ndarray:\n",
    "    \"\"\"\n",
    "    Preparing frame before Encoder.\n",
    "    The image should be scaled to its shortest dimension at \"size\"\n",
    "    and cropped, centered, and squared so that both width and\n",
    "    height have lengths \"size\". The frame must be transposed from\n",
    "    Height-Width-Channels (HWC) to Channels-Height-Width (CHW).\n",
    "\n",
    "    :param frame: input frame\n",
    "    :param size: input size to encoder model\n",
    "    :returns: resized and cropped frame\n",
    "    \"\"\"\n",
    "    # Adaptative resize\n",
    "    preprocessed = adaptive_resize(frame, size)\n",
    "    # Center_crop\n",
    "    (preprocessed, roi) = center_crop(preprocessed)\n",
    "    # Transpose frame HWC -> CHW\n",
    "    preprocessed = preprocessed.transpose((2, 0, 1))[None,]  # HWC -> CHW\n",
    "    return preprocessed, roi\n",
    "\n",
    "\n",
    "def encoder(preprocessed: np.ndarray, compiled_model: CompiledModel) -> List:\n",
    "    \"\"\"\n",
    "    Encoder Inference per frame. This function calls the network previously\n",
    "    configured for the encoder model (compiled_model), extracts the data\n",
    "    from the output node, and appends it in an array to be used by the decoder.\n",
    "\n",
    "    :param: preprocessed: preprocessing frame\n",
    "    :param: compiled_model: Encoder model network\n",
    "    :returns: encoder_output: embedding layer that is appended with each arriving frame\n",
    "    \"\"\"\n",
    "    output_key_en = compiled_model.output(0)\n",
    "\n",
    "    # Get results on action-recognition-0001-encoder model\n",
    "    infer_result_encoder = compiled_model([preprocessed])[output_key_en]\n",
    "    return infer_result_encoder\n",
    "\n",
    "\n",
    "def decoder(encoder_output: List, compiled_model_de: CompiledModel) -> List:\n",
    "    \"\"\"\n",
    "    Decoder inference per set of frames. This function concatenates the embedding layer\n",
    "    froms the encoder output, transpose the array to match with the decoder input size.\n",
    "    Calls the network previously configured for the decoder model (compiled_model_de), extracts\n",
    "    the logits and normalize those to get confidence values along specified axis.\n",
    "    Decodes top probabilities into corresponding label names\n",
    "\n",
    "    :param: encoder_output: embedding layer for 16 frames\n",
    "    :param: compiled_model_de: Decoder model network\n",
    "    :returns: decoded_labels: The k most probable actions from the labels list\n",
    "              decoded_top_probs: confidence for the k most probable actions\n",
    "    \"\"\"\n",
    "    # Concatenate sample_duration frames in just one array\n",
    "    decoder_input = np.concatenate(encoder_output, axis=0)\n",
    "    # Organize input shape vector to the Decoder (shape: [1x16x512]]\n",
    "    decoder_input = decoder_input.transpose((2, 0, 1, 3))\n",
    "    decoder_input = np.squeeze(decoder_input, axis=3)\n",
    "    output_key_de = compiled_model_de.output(0)\n",
    "    # Get results on action-recognition-0001-decoder model\n",
    "    result_de = compiled_model_de([decoder_input])[output_key_de]\n",
    "    # Normalize logits to get confidence values along specified axis\n",
    "    probs = softmax(result_de - np.max(result_de))\n",
    "    # Decodes top probabilities into corresponding label names\n",
    "    decoded_labels, decoded_top_probs = decode_output(probs, labels, top_k=3)\n",
    "    return decoded_labels, decoded_top_probs\n",
    "\n",
    "\n",
    "def softmax(x: np.ndarray) -> np.ndarray:\n",
    "    \"\"\"\n",
    "    Normalizes logits to get confidence values along specified axis\n",
    "    x: np.array, axis=None\n",
    "    \"\"\"\n",
    "    exp = np.exp(x)\n",
    "    return exp / np.sum(exp, axis=None)"
   ]
  },
  {
   "attachments": {},
   "cell_type": "markdown",
   "metadata": {
    "pycharm": {
     "name": "#%% md\n"
    },
    "tags": []
   },
   "source": [
    "### Main Processing Function\n",
    "[back to top ⬆️](#Table-of-contents:)\n",
    "\n",
    "Running action recognition function will run in different operations, either a webcam or a video file. See the list of procedures below:\n",
    "\n",
    "1. Create a video player to play with target fps (`utils.VideoPlayer`).\n",
    "2. Prepare a set of frames to be encoded-decoded.\n",
    "3. Run AI functions\n",
    "4. Visualize the results."
   ]
  },
  {
   "cell_type": "code",
   "execution_count": 27,
   "metadata": {
    "tags": []
   },
   "outputs": [],
   "source": [
    "def run_action_recognition(\n",
    "    source: str = \"0\",\n",
    "    flip: bool = True,\n",
    "    use_popup: bool = False,\n",
    "    compiled_model_en: CompiledModel = compiled_model_en,\n",
    "    compiled_model_de: CompiledModel = compiled_model_de,\n",
    "    skip_first_frames: int = 0,\n",
    "    all_predictions_dict: dict = {},\n",
    "    video_name: str = \"\"\n",
    "):\n",
    "    \"\"\"\n",
    "    Use the \"source\" webcam or video file to run the complete pipeline for action-recognition problem\n",
    "    1. Create a video player to play with target fps\n",
    "    2. Prepare a set of frames to be encoded-decoded\n",
    "    3. Preprocess frame before Encoder\n",
    "    4. Encoder Inference per frame\n",
    "    5. Decoder inference per set of frames\n",
    "    6. Visualize the results\n",
    "\n",
    "    :param: source: webcam \"0\" or video path\n",
    "    :param: flip: to be used by VideoPlayer function for flipping capture image\n",
    "    :param: use_popup: False for showing encoded frames over this notebook, True for creating a popup window.\n",
    "    :param: skip_first_frames: Number of frames to skip at the beginning of the video.\n",
    "    :returns: display video over the notebook or in a popup window\n",
    "\n",
    "    \"\"\"\n",
    "    all_predictions_dict[video_name] = []\n",
    "    size = height_en  # Endoder input size - From Cell 5_9\n",
    "    sample_duration = frames2decode  # Decoder input size - From Cell 5_7\n",
    "    # Select frames per second of your source.\n",
    "    fps = 30\n",
    "    player = None\n",
    "    try:\n",
    "        # Create a video player.\n",
    "        player = utils.VideoPlayer(source, flip=flip, fps=fps, skip_first_frames=skip_first_frames)\n",
    "        # Start capturing.\n",
    "        player.start()\n",
    "        if use_popup:\n",
    "            title = \"Press ESC to Exit\"\n",
    "            cv2.namedWindow(title, cv2.WINDOW_GUI_NORMAL | cv2.WINDOW_AUTOSIZE)\n",
    "\n",
    "        processing_times = collections.deque()\n",
    "        processing_time = 0\n",
    "        encoder_output = []\n",
    "        decoded_labels = [0, 0, 0]\n",
    "        decoded_top_probs = [0, 0, 0]\n",
    "        counter = 0\n",
    "        # Create a text template to show inference results over video.\n",
    "        text_inference_template = \"Infer Time:{Time:.1f}ms,{fps:.1f}FPS\"\n",
    "        text_template = \"{label},{conf:.2f}%\"\n",
    "\n",
    "        while True:\n",
    "            counter = counter + 1\n",
    "\n",
    "            # Read a frame from the video stream.\n",
    "            frame = player.next()\n",
    "            if frame is None:\n",
    "                print(\"Source ended\")\n",
    "                break\n",
    "\n",
    "            scale = 1280 / max(frame.shape)\n",
    "\n",
    "            # Adaptative resize for visualization.\n",
    "            if scale < 1:\n",
    "                frame = cv2.resize(frame, None, fx=scale, fy=scale, interpolation=cv2.INTER_AREA)\n",
    "\n",
    "            # Select one frame every two for processing through the encoder.\n",
    "            # After 16 frames are processed, the decoder will find the action,\n",
    "            # and the label will be printed over the frames.\n",
    "\n",
    "            if counter % 2 == 0:\n",
    "                # Preprocess frame before Encoder.\n",
    "                (preprocessed, _) = preprocessing(frame, size)\n",
    "\n",
    "                # Measure processing time.\n",
    "                start_time = time.time()\n",
    "\n",
    "                # Encoder Inference per frame\n",
    "                encoder_output.append(encoder(preprocessed, compiled_model_en))\n",
    "                # l_file = open(logs_file_path, \"a\")  # append mode\n",
    "                # l_file.write(\"\\nbefore decoder\\n\" )\n",
    "                # l_file.close()\n",
    "                # Decoder inference per set of frames\n",
    "                # Wait for sample duration to work with decoder model.\n",
    "                if len(encoder_output) == sample_duration:\n",
    "                    decoded_labels, decoded_top_probs = decoder(encoder_output, compiled_model_de)\n",
    "                    for i in range(0, 3):\n",
    "                        if i == 0:\n",
    "                            all_predictions_dict[video_name].append([])\n",
    "                        all_predictions_dict[video_name][-1].append({'label': str(decoded_labels[i]), 'confidence': str(decoded_top_probs[i] * 100)})\n",
    "                    encoder_output = []\n",
    "\n",
    "                # Inference has finished. Display the results.\n",
    "                stop_time = time.time()\n",
    "\n",
    "                # Calculate processing time.\n",
    "                processing_times.append(stop_time - start_time)\n",
    "\n",
    "                # Use processing times from last 200 frames.\n",
    "                if len(processing_times) > 200:\n",
    "                    processing_times.popleft()\n",
    "\n",
    "                # Mean processing time [ms]\n",
    "                processing_time = np.mean(processing_times) * 1000\n",
    "                fps = 1000 / processing_time\n",
    "            # Visualize the results.\n",
    "            for i in range(0, 3):\n",
    "                display_text = text_template.format(\n",
    "                    label=decoded_labels[i],\n",
    "                    conf=decoded_top_probs[i] * 100,\n",
    "                )\n",
    "                display_text_fnc(frame, display_text, i)\n",
    "            display_text = text_inference_template.format(Time=processing_time, fps=fps)\n",
    "            display_text_fnc(frame, display_text, 3)\n",
    "\n",
    "            # Use this workaround if you experience flickering.\n",
    "            if use_popup:\n",
    "                cv2.imshow(title, frame)\n",
    "                key = cv2.waitKey(1)\n",
    "                # escape = 27\n",
    "                if key == 27:\n",
    "                    break\n",
    "            else:\n",
    "                # Encode numpy array to jpg.\n",
    "                _, encoded_img = cv2.imencode(\".jpg\", frame, params=[cv2.IMWRITE_JPEG_QUALITY, 90])\n",
    "                # Create an IPython image.\n",
    "                i = display.Image(data=encoded_img)\n",
    "                # Display the image in this notebook.\n",
    "                display.clear_output(wait=True)\n",
    "                display.display(i)\n",
    "    # ctrl-c\n",
    "    except KeyboardInterrupt:\n",
    "        print(\"Interrupted\")\n",
    "    # Any different error\n",
    "    except RuntimeError as e:\n",
    "        print(e)\n",
    "    finally:\n",
    "        if player is not None:\n",
    "            # Stop capturing.\n",
    "            player.stop()\n",
    "        if use_popup:\n",
    "            cv2.destroyAllWindows()"
   ]
  },
  {
   "attachments": {},
   "cell_type": "markdown",
   "metadata": {},
   "source": [
    "### Run Action Recognition\n",
    "[back to top ⬆️](#Table-of-contents:)\n",
    "\n",
    "Find out how the model works in a video file. [Any format supported](https://docs.opencv.org/4.5.1/dd/d43/tutorial_py_video_display.html) by OpenCV will work. You can press the stop button anytime while the video file is running, and it will activate the webcam for the next step.\n",
    "\n",
    "> **NOTE**: Sometimes, the video can be cut off if there are corrupted frames. In that case, you can convert it. If you experience any problems with your video, use the [HandBrake](https://handbrake.fr/) and select the MPEG format.\n",
    "\n",
    "if you want to use a web camera as an input source for the demo, please change the value of `USE_WEBCAM` variable to True and specify `cam_id` (the default value is 0, which can be different in multi-camera systems)."
   ]
  },
  {
   "cell_type": "code",
   "execution_count": 28,
   "metadata": {},
   "outputs": [],
   "source": [
    "# %pip install pafy"
   ]
  },
  {
   "cell_type": "code",
   "execution_count": 29,
   "metadata": {},
   "outputs": [],
   "source": [
    "# %pip install --upgrade youtube-dl"
   ]
  },
  {
   "cell_type": "code",
   "execution_count": 30,
   "metadata": {},
   "outputs": [],
   "source": [
    "l_file = open(logs_file_path, \"a\")  # append mode\n",
    "l_file.write(\"\\ntest var: \\n\" + json.dumps(all_predictions_dict, indent = 4) + \"\\n\" )\n",
    "l_file.close()\n"
   ]
  },
  {
   "cell_type": "code",
   "execution_count": 31,
   "metadata": {},
   "outputs": [
    {
     "name": "stdout",
     "output_type": "stream",
     "text": [
      "D:\\Downloads\\test_vids\\videos\n"
     ]
    }
   ],
   "source": [
    "print(os.environ.get('VIDEOS_PATH'))#os.environ['VIDEO_PATH']"
   ]
  },
  {
   "cell_type": "code",
   "execution_count": 32,
   "metadata": {},
   "outputs": [
    {
     "name": "stdout",
     "output_type": "stream",
     "text": [
      "<class 'list'>\n"
     ]
    }
   ],
   "source": [
    "print(type(VIDEOS))"
   ]
  },
  {
   "cell_type": "code",
   "execution_count": 33,
   "metadata": {
    "tags": [],
    "test_replace": {
     "{\"skip_first_frames\": 600, \"flip\": False} if not USE_WEBCAM else {\"flip\": True}\n": "{\"skip_first_frames\": 1800, \"flip\": False} if not USE_WEBCAM else {\"flip\": True}\n"
    }
   },
   "outputs": [
    {
     "data": {
      "image/png": "[encoded data removed]",
      "text/plain": [
       "<IPython.core.display.Image object>"
      ]
     },
     "metadata": {},
     "output_type": "display_data"
    },
    {
     "name": "stdout",
     "output_type": "stream",
     "text": [
      "Source ended\n"
     ]
    }
   ],
   "source": [
    "\n",
    "# import pafy\n",
    "\n",
    "USE_WEBCAM = False\n",
    "\n",
    "cam_id = 0\n",
    "#video_file = \"https://www.youtube.com/embed/0347ZoDXyP0?start=95&end=105&ref=autodidacts.io\" #not working\n",
    "#video_file = \"https://www.youtube.com/watch?v=0347ZoDXyP0\"  #not working\n",
    "#video = pafy.new(\"https://www.youtube.com/watch?v=0347ZoDXyP0\") #not working\n",
    "#video_file = video.getbest(preftype=\"mp4\") #not working\n",
    "# got VIDEO_PATH through environment variable\n",
    "for video in VIDEOS:\n",
    "    video_file = VIDEOS_PATH + \"\\\\\" + video\n",
    "    source = cam_id if USE_WEBCAM else video_file\n",
    "    additional_options = {\"skip_first_frames\": 0, \"flip\": False} if not USE_WEBCAM else {\"flip\": True}\n",
    "    run_action_recognition(source=source, use_popup=False, all_predictions_dict=all_predictions_dict, video_name=video, **additional_options)\n",
    "    "
   ]
  },
  {
   "cell_type": "code",
   "execution_count": 34,
   "metadata": {},
   "outputs": [],
   "source": [
    "with open(os.getcwd() + \"\\\\logs.json\", \"w\") as outfile:\n",
    "    outfile.write(json.dumps(all_predictions_dict,  indent=4))\n",
    "l_file = open(logs_file_path, \"a\")  # append mode\n",
    "l_file.write(\"output of predictions written into \" + os.getcwd() + \"\\\\logs.json\" )\n",
    "l_file.close()\n",
    "sorted_predictions = {}\n",
    "no_of_frames = 0\n",
    "\n",
    "for video in all_predictions_dict:\n",
    "    tmp_s_p = {}\n",
    "    for frame in all_predictions_dict[video]:\n",
    "        no_of_frames = no_of_frames + 1\n",
    "        for prediction in frame:\n",
    "            if prediction['label'] in tmp_s_p.keys():\n",
    "                tmp_s_p[prediction['label']] = float(tmp_s_p[prediction['label']]) + float(prediction['confidence'])\n",
    "            else:\n",
    "                tmp_s_p[prediction['label']] = float(prediction['confidence'])\n",
    "    for pred in tmp_s_p:\n",
    "        tmp_s_p[pred] = tmp_s_p[pred]/no_of_frames\n",
    "    no_of_frames = 0\n",
    "    while tmp_s_p:\n",
    "        key = max(zip(tmp_s_p.values(), tmp_s_p.keys()))[1]\n",
    "        value = max(zip(tmp_s_p.values(), tmp_s_p.keys()))[0]\n",
    "        if video not in  sorted_predictions:\n",
    "            sorted_predictions[video] = []\n",
    "        sorted_predictions[video].append({'name': key, 'value': value})\n",
    "        tmp_s_p.pop(key)"
   ]
  },
  {
   "cell_type": "code",
   "execution_count": null,
   "metadata": {},
   "outputs": [],
   "source": []
  },
  {
   "cell_type": "code",
   "execution_count": null,
   "metadata": {},
   "outputs": [],
   "source": []
  },
  {
   "cell_type": "code",
   "execution_count": 35,
   "metadata": {},
   "outputs": [
    {
     "data": {
      "text/plain": [
       "{'03dk7mneDU0.mp4': [{'name': 'presenting weather forecast',\n",
       "   'value': 99.96609262057713},\n",
       "  {'name': 'news anchoring', 'value': 0.03277320600838201},\n",
       "  {'name': 'archery', 'value': 0.00032748241340284167},\n",
       "  {'name': 'climbing tree', 'value': 4.5808638203327844e-05},\n",
       "  {'name': 'paragliding', 'value': 1.801503454349326e-06},\n",
       "  {'name': 'kissing', 'value': 8.177318124223478e-07}],\n",
       " '1MmjE51PeIE.mp4': [{'name': 'diving cliff', 'value': 60.0918880601724},\n",
       "  {'name': 'contact juggling', 'value': 3.74184583624204},\n",
       "  {'name': 'rock climbing', 'value': 1.6502458229660988},\n",
       "  {'name': 'pushing wheelchair', 'value': 1.320688823858897},\n",
       "  {'name': 'riding elephant', 'value': 0.6616839269797007},\n",
       "  {'name': 'climbing tree', 'value': 0.6500129401683807},\n",
       "  {'name': 'kitesurfing', 'value': 0.48955942193667096},\n",
       "  {'name': 'washing hair', 'value': 0.41385407249132794},\n",
       "  {'name': 'yoga', 'value': 0.2859357992808024},\n",
       "  {'name': 'snorkeling', 'value': 0.20407874137163162},\n",
       "  {'name': 'swinging on something', 'value': 0.15481807757169008},\n",
       "  {'name': 'catching fish', 'value': 0.1373272885878881},\n",
       "  {'name': 'bungee jumping', 'value': 0.11498305946588516},\n",
       "  {'name': 'jumping into pool', 'value': 0.057875167209810265},\n",
       "  {'name': 'feeding fish', 'value': 0.0156893627718091},\n",
       "  {'name': 'somersaulting', 'value': 0.00806852690099428},\n",
       "  {'name': 'feeding birds', 'value': 0.007019441109150648}],\n",
       " '2PCKDO_cEds.mp4': [{'name': 'riding mechanical bull',\n",
       "   'value': 23.53533370686429},\n",
       "  {'name': 'tango dancing', 'value': 4.453043659616794},\n",
       "  {'name': 'celebrating', 'value': 3.8511192159993306},\n",
       "  {'name': 'playing poker', 'value': 1.8297885145459856},\n",
       "  {'name': 'giving or receiving award', 'value': 1.2783598686967577},\n",
       "  {'name': 'texting', 'value': 0.795716406511409},\n",
       "  {'name': 'yoga', 'value': 0.776711678398507},\n",
       "  {'name': 'belly dancing', 'value': 0.7555271365812847},\n",
       "  {'name': 'salsa dancing', 'value': 0.7098276168107986},\n",
       "  {'name': 'changing oil', 'value': 0.6093534774013928},\n",
       "  {'name': 'massaging back', 'value': 0.4502164399517434},\n",
       "  {'name': 'bending back', 'value': 0.2951207969869886},\n",
       "  {'name': 'carrying baby', 'value': 0.255140768630164},\n",
       "  {'name': 'clay pottery making', 'value': 0.19542515677000796},\n",
       "  {'name': 'pumping gas', 'value': 0.1812093225972993},\n",
       "  {'name': 'washing feet', 'value': 0.16307073778339795},\n",
       "  {'name': 'canoeing or kayaking', 'value': 0.0787177189652409},\n",
       "  {'name': 'news anchoring', 'value': 0.03098644582288606}],\n",
       " '7Mtprt8_bqM.mp4': [{'name': 'tying tie', 'value': 98.94904173337497},\n",
       "  {'name': 'tying knot (not on a tie)', 'value': 0.6205297783918258},\n",
       "  {'name': 'tying bow tie', 'value': 0.424082908620431}],\n",
       " '9HoB1hqX1Zw.mp4': [{'name': 'riding mechanical bull',\n",
       "   'value': 91.29581536565509},\n",
       "  {'name': 'milking cow', 'value': 0.8919144932731017},\n",
       "  {'name': 'riding elephant', 'value': 0.6541908572909831},\n",
       "  {'name': 'salsa dancing', 'value': 0.3275450052959578},\n",
       "  {'name': 'eating ice cream', 'value': 0.021009140514901707},\n",
       "  {'name': 'playing guitar', 'value': 0.0019474595366172512},\n",
       "  {'name': 'riding camel', 'value': 0.0005720836530339771},\n",
       "  {'name': 'riding or walking with horse', 'value': 0.000407994707621714}],\n",
       " 'C5Z1sRArUR0.mp4': [{'name': 'presenting weather forecast',\n",
       "   'value': 99.77865723463205},\n",
       "  {'name': 'checking tires', 'value': 0.050805260693428306},\n",
       "  {'name': 'catching or throwing frisbee', 'value': 0.012730357747596618},\n",
       "  {'name': 'news anchoring', 'value': 0.005695050108792761},\n",
       "  {'name': 'throwing discus', 'value': 4.8568279873087216e-05}],\n",
       " 'chMJGDu0g8w.mp4': [{'name': 'riding mechanical bull',\n",
       "   'value': 99.98459915320079},\n",
       "  {'name': 'riding or walking with horse', 'value': 0.007609572073286053},\n",
       "  {'name': 'motorcycling', 'value': 0.0013399171924296145},\n",
       "  {'name': 'riding elephant', 'value': 0.0013081205241941933},\n",
       "  {'name': 'riding camel', 'value': 0.0011040349809495382},\n",
       "  {'name': 'changing oil', 'value': 0.00015524872954604993}],\n",
       " 'DYpTE_n-Wvk.mp4': [{'name': 'passing American football (in game)',\n",
       "   'value': 95.69344967603683},\n",
       "  {'name': 'kicking field goal', 'value': 1.3561300176661462},\n",
       "  {'name': 'tossing coin', 'value': 0.8755208356888033},\n",
       "  {'name': 'dunking basketball', 'value': 0.026468519354239106},\n",
       "  {'name': 'high kick', 'value': 0.02509081386961043},\n",
       "  {'name': 'passing American football (not in game)',\n",
       "   'value': 0.002442987715767231}],\n",
       " 'EWRO7cZ9w0E.mp4': [{'name': 'riding mechanical bull',\n",
       "   'value': 80.5628425042544},\n",
       "  {'name': 'wrapping present', 'value': 0.7885669700044673},\n",
       "  {'name': 'riding or walking with horse', 'value': 0.7448912017675217},\n",
       "  {'name': 'pumping fist', 'value': 0.2990951495511191},\n",
       "  {'name': 'headbanging', 'value': 0.2959528671843665},\n",
       "  {'name': 'playing flute', 'value': 0.2780522885067122},\n",
       "  {'name': 'playing guitar', 'value': 0.24249508444752013},\n",
       "  {'name': 'playing trumpet', 'value': 0.20582532244069235},\n",
       "  {'name': 'belly dancing', 'value': 0.15276710369757243},\n",
       "  {'name': 'riding mule', 'value': 0.0792430532913256},\n",
       "  {'name': 'riding elephant', 'value': 0.019425341659890755},\n",
       "  {'name': 'riding camel', 'value': 0.001494713251304347}],\n",
       " 'Exd3SE5Zg0k.mp4': [{'name': 'playing squash or racquetball',\n",
       "   'value': 99.99735616147518},\n",
       "  {'name': 'throwing ball', 'value': 0.0008847387112709271},\n",
       "  {'name': 'playing badminton', 'value': 0.0004110397933021481},\n",
       "  {'name': 'dodgeball', 'value': 0.00025628686586287586},\n",
       "  {'name': 'dancing charleston', 'value': 1.6019229143182656e-05},\n",
       "  {'name': 'playing tennis', 'value': 1.8749046759580779e-06}],\n",
       " 'EzMqjDPLRhc.mp4': [{'name': 'diving cliff', 'value': 97.7054234345754},\n",
       "  {'name': 'abseiling', 'value': 0.6992816042232638},\n",
       "  {'name': 'snorkeling', 'value': 0.20566513024580976},\n",
       "  {'name': 'swinging on something', 'value': 0.0652616083001097},\n",
       "  {'name': 'catching fish', 'value': 0.03599706416328748},\n",
       "  {'name': 'somersaulting', 'value': 0.0272423845793431},\n",
       "  {'name': 'slacklining', 'value': 0.01641697172696392},\n",
       "  {'name': 'climbing ladder', 'value': 0.015670567906151216},\n",
       "  {'name': 'jumping into pool', 'value': 0.005602466990239918},\n",
       "  {'name': 'scuba diving', 'value': 0.0021755992202088237}],\n",
       " 'fBcw-xGGxZI.mp4': [{'name': 'pull ups', 'value': 94.66366469860077},\n",
       "  {'name': 'climbing ladder', 'value': 0.29490838387573604},\n",
       "  {'name': 'building shed', 'value': 0.11654201698547695},\n",
       "  {'name': 'clean and jerk', 'value': 0.037104537477716804},\n",
       "  {'name': 'dunking basketball', 'value': 0.02590368276287336},\n",
       "  {'name': 'push up', 'value': 0.010592562466626987}],\n",
       " 'fiKJm0eavfw.mp4': [{'name': 'ice fishing', 'value': 70.93859825815473},\n",
       "  {'name': 'snowkiting', 'value': 24.113186076283455},\n",
       "  {'name': 'kitesurfing', 'value': 0.5242137371429375},\n",
       "  {'name': 'making snowman', 'value': 0.34111805393227507},\n",
       "  {'name': 'tobogganing', 'value': 0.20652595641357557},\n",
       "  {'name': 'catching fish', 'value': 0.10808613151311874},\n",
       "  {'name': 'ice skating', 'value': 0.04239077347197703},\n",
       "  {'name': 'ice climbing', 'value': 0.027621479239314795},\n",
       "  {'name': 'paragliding', 'value': 0.006446027379882123}],\n",
       " 'hKMt8sgFrDg.mp4': [{'name': 'filling eyebrows', 'value': 60.909260312716164},\n",
       "  {'name': 'applying cream', 'value': 15.893255743042877},\n",
       "  {'name': 'waxing eyebrows', 'value': 4.3948338242868585},\n",
       "  {'name': 'brush painting', 'value': 3.5265210612366595},\n",
       "  {'name': 'fixing hair', 'value': 0.42717496554056805}],\n",
       " 'i8d4Z-FxkrY.mp4': [{'name': 'riding mechanical bull',\n",
       "   'value': 99.9975820382436},\n",
       "  {'name': 'riding elephant', 'value': 0.002063318653201899},\n",
       "  {'name': 'climbing ladder', 'value': 5.8035941859676164e-05},\n",
       "  {'name': 'water sliding', 'value': 5.4709186845987766e-05},\n",
       "  {'name': 'driving tractor', 'value': 4.9015031133118704e-05},\n",
       "  {'name': 'bouncing on trampoline', 'value': 7.893758002808227e-07},\n",
       "  {'name': 'riding camel', 'value': 1.345096241796758e-07}],\n",
       " 'IGShO22ldOM.mp4': [{'name': 'riding mechanical bull',\n",
       "   'value': 94.29744184017181},\n",
       "  {'name': 'eating ice cream', 'value': 0.2576601558497974},\n",
       "  {'name': 'water sliding', 'value': 0.19260200538805552},\n",
       "  {'name': 'skateboarding', 'value': 0.05518450800861631},\n",
       "  {'name': 'feeding birds', 'value': 0.039747909509709904},\n",
       "  {'name': 'riding camel', 'value': 0.013264505978113508},\n",
       "  {'name': 'cleaning pool', 'value': 0.003481531166471541},\n",
       "  {'name': 'jetskiing', 'value': 0.0021523854229599237},\n",
       "  {'name': 'riding or walking with horse', 'value': 0.0011586071226151898},\n",
       "  {'name': 'climbing ladder', 'value': 0.0005865527782589197},\n",
       "  {'name': 'riding elephant', 'value': 4.887366876284358e-07},\n",
       "  {'name': 'clay pottery making', 'value': 1.070807212740935e-08}],\n",
       " 'J-1gayS1jc8.mp4': [{'name': 'riding or walking with horse',\n",
       "   'value': 89.36727643013},\n",
       "  {'name': 'riding mule', 'value': 5.969981982683142},\n",
       "  {'name': 'crossing river', 'value': 2.6063053511704006},\n",
       "  {'name': 'archery', 'value': 0.06158014526590705},\n",
       "  {'name': 'jogging', 'value': 0.014452124014496803}],\n",
       " 'JlVJ2vA9vmU.mp4': [{'name': 'riding mechanical bull',\n",
       "   'value': 76.68649812539418},\n",
       "  {'name': 'headbanging', 'value': 3.9885565203924975},\n",
       "  {'name': 'surfing crowd', 'value': 3.31153545062989},\n",
       "  {'name': 'beatboxing', 'value': 3.2704043264190354},\n",
       "  {'name': 'singing', 'value': 0.4656421144803365},\n",
       "  {'name': 'robot dancing', 'value': 0.3819249818722407},\n",
       "  {'name': 'riding elephant', 'value': 0.24117309250868857},\n",
       "  {'name': 'air drumming', 'value': 0.03275055127839247}],\n",
       " 'LYnwn3ufbDI.mp4': [{'name': 'presenting weather forecast',\n",
       "   'value': 87.43908393841524},\n",
       "  {'name': 'playing recorder', 'value': 0.23609689759233823},\n",
       "  {'name': 'using remote controller (not gaming)',\n",
       "   'value': 0.18296434878161213},\n",
       "  {'name': 'skydiving', 'value': 0.17831953099140754},\n",
       "  {'name': 'using computer', 'value': 0.1464933013686767},\n",
       "  {'name': 'yoga', 'value': 0.13842642880403078},\n",
       "  {'name': 'drumming fingers', 'value': 0.07271553174807475},\n",
       "  {'name': 'tapping pen', 'value': 0.005599481384986295},\n",
       "  {'name': 'playing ukulele', 'value': 0.004808456959346166},\n",
       "  {'name': 'folding clothes', 'value': 0.003538940934679256},\n",
       "  {'name': 'golf chipping', 'value': 0.0005340179856060646},\n",
       "  {'name': 'unboxing', 'value': 0.00046599105609437596},\n",
       "  {'name': 'ice climbing', 'value': 0.0002389944151778204},\n",
       "  {'name': 'archery', 'value': 0.00020070089633988502}],\n",
       " 'mE4-cdQxdgM.mp4': [{'name': 'bowling', 'value': 99.99263808131218},\n",
       "  {'name': 'throwing ball', 'value': 0.0031173898491942964},\n",
       "  {'name': 'hula hooping', 'value': 0.0003479011400742138},\n",
       "  {'name': 'dodgeball', 'value': 6.158685117441109e-07}],\n",
       " 'ml4v9_rYeu4.mp4': [{'name': 'riding mechanical bull',\n",
       "   'value': 94.24010652762193},\n",
       "  {'name': 'making bed', 'value': 0.8942882888592206},\n",
       "  {'name': 'massaging legs', 'value': 0.30634626746177673},\n",
       "  {'name': 'playing saxophone', 'value': 0.10490790725900577},\n",
       "  {'name': 'cleaning windows', 'value': 0.09893757792619559},\n",
       "  {'name': 'eating chips', 'value': 0.05372181678047547},\n",
       "  {'name': 'drinking beer', 'value': 0.038694371827519856},\n",
       "  {'name': 'wrapping present', 'value': 0.03279866845192513},\n",
       "  {'name': 'moving furniture', 'value': 0.029024342074990273},\n",
       "  {'name': 'opening present', 'value': 0.028461310788630866},\n",
       "  {'name': 'tapping guitar', 'value': 0.004336628710286907},\n",
       "  {'name': 'massaging back', 'value': 0.002534215757175564},\n",
       "  {'name': 'situp', 'value': 0.002010149630503013},\n",
       "  {'name': 'riding elephant', 'value': 0.00033837853921935533}],\n",
       " 'nJqTkVxoft8.mp4': [{'name': 'trapezing', 'value': 91.14371637503307},\n",
       "  {'name': 'somersaulting', 'value': 1.1085706020404966},\n",
       "  {'name': 'kitesurfing', 'value': 0.8366950639924653},\n",
       "  {'name': 'bungee jumping', 'value': 0.5307884886860847},\n",
       "  {'name': 'swinging on something', 'value': 0.5151271975288788},\n",
       "  {'name': 'snowkiting', 'value': 0.3962371964007616},\n",
       "  {'name': 'flying kite', 'value': 0.09488120364646117},\n",
       "  {'name': 'pole vault', 'value': 0.004750327449679996},\n",
       "  {'name': 'parasailing', 'value': 0.0012885964679298922}],\n",
       " 'o79s5eOAF-c.mp4': [{'name': 'playing tennis', 'value': 16.871204759393418},\n",
       "  {'name': 'tai chi', 'value': 7.23604325737272},\n",
       "  {'name': 'stretching arm', 'value': 3.197524723197733},\n",
       "  {'name': 'lunge', 'value': 1.9618502951094083},\n",
       "  {'name': 'stretching leg', 'value': 1.8192419250096594},\n",
       "  {'name': 'archery', 'value': 1.3730609523398536},\n",
       "  {'name': 'playing cricket', 'value': 1.1619813341115202},\n",
       "  {'name': 'hurdling', 'value': 0.6854579783976078},\n",
       "  {'name': 'catching or throwing frisbee', 'value': 0.3971116617321968},\n",
       "  {'name': 'jumpstyle dancing', 'value': 0.36953274559761795},\n",
       "  {'name': 'high kick', 'value': 0.27633149709020344},\n",
       "  {'name': 'playing badminton', 'value': 0.2515785130006926},\n",
       "  {'name': 'slacklining', 'value': 0.20254827769739286}],\n",
       " 'oMT-lPga9h8.mp4': [{'name': 'shearing sheep', 'value': 92.79246032238007},\n",
       "  {'name': 'cutting nails', 'value': 2.6152899758017156},\n",
       "  {'name': 'grooming dog', 'value': 1.7401168226829864},\n",
       "  {'name': 'trimming or shaving beard', 'value': 0.01895595674536058},\n",
       "  {'name': 'peeling potatoes', 'value': 0.00916798016987741},\n",
       "  {'name': 'breading or breadcrumbing', 'value': 0.00019656771265934886}],\n",
       " 'qv32dEIKREg.mp4': [{'name': 'bench pressing', 'value': 99.85808531443278},\n",
       "  {'name': 'situp', 'value': 0.039301865035668015},\n",
       "  {'name': 'exercising arm', 'value': 0.038942372217813194},\n",
       "  {'name': 'waxing legs', 'value': 0.00540199155996864}],\n",
       " 'RL16kQZcfTw.mp4': [{'name': 'riding mechanical bull',\n",
       "   'value': 22.239801287651062},\n",
       "  {'name': 'waxing back', 'value': 16.07004108705691},\n",
       "  {'name': 'pumping fist', 'value': 4.061938130429813},\n",
       "  {'name': 'surfing crowd', 'value': 2.768316386001451},\n",
       "  {'name': 'massaging back', 'value': 1.548676611855626},\n",
       "  {'name': 'eating chips', 'value': 1.2041074090770312},\n",
       "  {'name': 'waxing chest', 'value': 1.1938098019787244},\n",
       "  {'name': 'blowing glass', 'value': 0.6640834999935967},\n",
       "  {'name': 'drinking shots', 'value': 0.502510422042438},\n",
       "  {'name': 'driving car', 'value': 0.48481811370168415},\n",
       "  {'name': 'air drumming', 'value': 0.48292800784111023},\n",
       "  {'name': 'carving pumpkin', 'value': 0.3696181412254061},\n",
       "  {'name': 'waxing legs', 'value': 0.35670221384082523},\n",
       "  {'name': 'opening bottle', 'value': 0.3475585420216833},\n",
       "  {'name': 'drinking beer', 'value': 0.340015600834574},\n",
       "  {'name': 'waxing eyebrows', 'value': 0.24912109864609583},\n",
       "  {'name': 'yoga', 'value': 0.22181071607129915}],\n",
       " 'S47k3jJS4ew.mp4': [{'name': 'picking fruit', 'value': 99.94096618432265},\n",
       "  {'name': 'peeling apples', 'value': 0.009573666639769695},\n",
       "  {'name': 'riding elephant', 'value': 0.008495717954177123},\n",
       "  {'name': 'sticking tongue out', 'value': 2.7755745780326716e-05},\n",
       "  {'name': 'trimming trees', 'value': 4.5050872942176617e-10},\n",
       "  {'name': 'eating watermelon', 'value': 3.247481650162488e-11}],\n",
       " 'TKWm13mAlW4.mp4': [{'name': 'writing', 'value': 2.625244028038449},\n",
       "  {'name': 'doing nails', 'value': 2.083019746674432},\n",
       "  {'name': 'headbanging', 'value': 1.7660443981488545},\n",
       "  {'name': 'tasting food', 'value': 1.5356995579269197},\n",
       "  {'name': 'eating doughnuts', 'value': 1.4663256704807281},\n",
       "  {'name': 'dining', 'value': 0.7949526939127181},\n",
       "  {'name': 'grooming dog', 'value': 0.721519212755892},\n",
       "  {'name': 'playing chess', 'value': 0.694299696220292},\n",
       "  {'name': 'giving or receiving award', 'value': 0.6676187531815635},\n",
       "  {'name': 'making a cake', 'value': 0.5416689233647453},\n",
       "  {'name': 'playing monopoly', 'value': 0.45267273154523635},\n",
       "  {'name': 'wrapping present', 'value': 0.39865337312221527},\n",
       "  {'name': 'knitting', 'value': 0.3664555235041512},\n",
       "  {'name': 'weaving basket', 'value': 0.3349674865603447},\n",
       "  {'name': 'welding', 'value': 0.3317122037212054},\n",
       "  {'name': 'setting table', 'value': 0.2667805386914147},\n",
       "  {'name': 'flipping pancake', 'value': 0.2652219186226527},\n",
       "  {'name': 'sword fighting', 'value': 0.2604878611034817},\n",
       "  {'name': 'washing dishes', 'value': 0.2559490087959502}],\n",
       " 'TRcWcUTFY0U.mp4': [{'name': 'cutting watermelon', 'value': 57.9437255859375},\n",
       "  {'name': 'shaking head', 'value': 3.9106900493303933},\n",
       "  {'name': 'peeling apples', 'value': 2.6654373517885688},\n",
       "  {'name': 'eating ice cream', 'value': 1.5728156703213851},\n",
       "  {'name': 'headbanging', 'value': 0.8332536555826664},\n",
       "  {'name': 'tasting food', 'value': 0.771195317308108},\n",
       "  {'name': 'playing harmonica', 'value': 0.7475368368128935},\n",
       "  {'name': 'baking cookies', 'value': 0.6245329976081848},\n",
       "  {'name': 'cutting pineapple', 'value': 0.3728818124727695},\n",
       "  {'name': 'eating watermelon', 'value': 0.00013595204109151382}],\n",
       " 'weBWP6td8ZU.mp4': [{'name': 'presenting weather forecast',\n",
       "   'value': 99.43738167102521},\n",
       "  {'name': 'giving or receiving award', 'value': 0.3630255600543163},\n",
       "  {'name': 'news anchoring', 'value': 0.10394367726313739},\n",
       "  {'name': 'celebrating', 'value': 0.0015778924884776084},\n",
       "  {'name': 'planting trees', 'value': 0.00048619236062782316},\n",
       "  {'name': 'rock climbing', 'value': 0.00033124344134613726}],\n",
       " 'wL4XUmnamIQ.mp4': [{'name': 'riding mechanical bull',\n",
       "   'value': 99.99724179506302},\n",
       "  {'name': 'riding elephant', 'value': 0.0025107657731560096},\n",
       "  {'name': 'riding or walking with horse', 'value': 5.3507622273703724e-05},\n",
       "  {'name': 'climbing ladder', 'value': 2.2256350651339574e-05}],\n",
       " 'Y-acp_jXG1Q.mp4': [{'name': 'sled dog racing', 'value': 53.28873166671166},\n",
       "  {'name': 'snowboarding', 'value': 10.991293306534107},\n",
       "  {'name': 'skiing (not slalom or crosscountry)', 'value': 7.124551271016781},\n",
       "  {'name': 'tobogganing', 'value': 3.156134286053622},\n",
       "  {'name': 'skiing crosscountry', 'value': 1.3425787203686923},\n",
       "  {'name': 'walking the dog', 'value': 0.11424747994204573},\n",
       "  {'name': 'training dog', 'value': 0.024636062181133848},\n",
       "  {'name': 'shoveling snow', 'value': 0.021645455406262323},\n",
       "  {'name': 'snowmobiling', 'value': 0.009734079974175703},\n",
       "  {'name': 'biking through snow', 'value': 0.0035743170883506536}],\n",
       " 'y5vsk8Mj-3w.mp4': [{'name': 'crawling baby', 'value': 56.14297504608448},\n",
       "  {'name': 'somersaulting', 'value': 7.112871712216964},\n",
       "  {'name': 'shaking head', 'value': 2.808626741170883},\n",
       "  {'name': 'ripping paper', 'value': 0.7000075796475778},\n",
       "  {'name': 'pushing cart', 'value': 0.6562586014087384},\n",
       "  {'name': 'playing xylophone', 'value': 0.36951495477786434},\n",
       "  {'name': 'opening present', 'value': 0.35992213166677034},\n",
       "  {'name': 'hugging', 'value': 0.3021264592042336},\n",
       "  {'name': 'pushing car', 'value': 0.22055498109414026},\n",
       "  {'name': 'laughing', 'value': 0.05273244773539213}]}"
      ]
     },
     "execution_count": 35,
     "metadata": {},
     "output_type": "execute_result"
    }
   ],
   "source": [
    "sorted_predictions"
   ]
  },
  {
   "cell_type": "code",
   "execution_count": 36,
   "metadata": {},
   "outputs": [
    {
     "name": "stdout",
     "output_type": "stream",
     "text": [
      "[{'vid_name': '03dk7mneDU0.mp4', 'vid_label': 'presenting weather forecast'}, {'vid_name': '1MmjE51PeIE.mp4', 'vid_label': 'diving cliff'}, {'vid_name': '2PCKDO_cEds.mp4', 'vid_label': 'riding mechanical bull'}, {'vid_name': '7Mtprt8_bqM.mp4', 'vid_label': 'tying tie'}, {'vid_name': '9HoB1hqX1Zw.mp4', 'vid_label': 'riding mechanical bull'}, {'vid_name': 'C5Z1sRArUR0.mp4', 'vid_label': 'presenting weather forecast'}, {'vid_name': 'DYpTE_n-Wvk.mp4', 'vid_label': 'passing American football (in game)'}, {'vid_name': 'EWRO7cZ9w0E.mp4', 'vid_label': 'riding mechanical bull'}, {'vid_name': 'Exd3SE5Zg0k.mp4', 'vid_label': 'playing squash or racquetball'}, {'vid_name': 'EzMqjDPLRhc.mp4', 'vid_label': 'diving cliff'}, {'vid_name': 'IGShO22ldOM.mp4', 'vid_label': 'riding mechanical bull'}, {'vid_name': 'J-1gayS1jc8.mp4', 'vid_label': 'riding or walking with horse'}, {'vid_name': 'JlVJ2vA9vmU.mp4', 'vid_label': 'riding mechanical bull'}, {'vid_name': 'LYnwn3ufbDI.mp4', 'vid_label': 'presenting weather forecast'}, {'vid_name': 'RL16kQZcfTw.mp4', 'vid_label': 'riding mechanical bull'}, {'vid_name': 'S47k3jJS4ew.mp4', 'vid_label': 'picking fruit'}, {'vid_name': 'TKWm13mAlW4.mp4', 'vid_label': 'weaving basket'}, {'vid_name': 'TRcWcUTFY0U.mp4', 'vid_label': 'cutting watermelon'}, {'vid_name': 'Y-acp_jXG1Q.mp4', 'vid_label': 'sled dog racing'}, {'vid_name': 'chMJGDu0g8w.mp4', 'vid_label': 'riding mechanical bull'}, {'vid_name': 'fBcw-xGGxZI.mp4', 'vid_label': 'pull ups'}, {'vid_name': 'fiKJm0eavfw.mp4', 'vid_label': 'snowkiting'}, {'vid_name': 'hKMt8sgFrDg.mp4', 'vid_label': 'filling eyebrows'}, {'vid_name': 'i8d4Z-FxkrY.mp4', 'vid_label': 'riding mechanical bull'}, {'vid_name': 'mE4-cdQxdgM.mp4', 'vid_label': 'bowling'}, {'vid_name': 'ml4v9_rYeu4.mp4', 'vid_label': 'riding mechanical bull'}, {'vid_name': 'nJqTkVxoft8.mp4', 'vid_label': 'trapezing'}, {'vid_name': 'o79s5eOAF-c.mp4', 'vid_label': 'playing tennis'}, {'vid_name': 'oMT-lPga9h8.mp4', 'vid_label': 'shearing sheep'}, {'vid_name': 'qv32dEIKREg.mp4', 'vid_label': 'bench pressing'}, {'vid_name': 'wL4XUmnamIQ.mp4', 'vid_label': 'riding mechanical bull'}, {'vid_name': 'weBWP6td8ZU.mp4', 'vid_label': 'presenting weather forecast'}, {'vid_name': 'y5vsk8Mj-3w.mp4', 'vid_label': 'crawling baby'}]\n"
     ]
    }
   ],
   "source": [
    "lines = []\n",
    "actual_labels = []\n",
    "with open(VIDEO_CAPTION) as captions_file:\n",
    "    lines= captions_file.readlines()\n",
    "for line in lines:\n",
    "    actual_labels.append({'vid_name': line.split()[0], 'vid_label': labels[int(line.split()[-1])]})\n",
    "actual_labels = sorted(actual_labels, key=lambda label: label['vid_name'])\n",
    "print(actual_labels)\n"
   ]
  },
  {
   "cell_type": "code",
   "execution_count": 37,
   "metadata": {},
   "outputs": [
    {
     "name": "stdout",
     "output_type": "stream",
     "text": [
      "[{'vid_name': '03dk7mneDU0.mp4', 'vid_label': 'presenting weather forecast'}, {'vid_name': '1MmjE51PeIE.mp4', 'vid_label': 'diving cliff'}, {'vid_name': '2PCKDO_cEds.mp4', 'vid_label': 'riding mechanical bull'}, {'vid_name': '7Mtprt8_bqM.mp4', 'vid_label': 'tying tie'}, {'vid_name': '9HoB1hqX1Zw.mp4', 'vid_label': 'riding mechanical bull'}, {'vid_name': 'C5Z1sRArUR0.mp4', 'vid_label': 'presenting weather forecast'}, {'vid_name': 'DYpTE_n-Wvk.mp4', 'vid_label': 'passing American football (in game)'}, {'vid_name': 'EWRO7cZ9w0E.mp4', 'vid_label': 'riding mechanical bull'}, {'vid_name': 'Exd3SE5Zg0k.mp4', 'vid_label': 'playing squash or racquetball'}, {'vid_name': 'EzMqjDPLRhc.mp4', 'vid_label': 'diving cliff'}, {'vid_name': 'IGShO22ldOM.mp4', 'vid_label': 'riding mechanical bull'}, {'vid_name': 'J-1gayS1jc8.mp4', 'vid_label': 'riding or walking with horse'}, {'vid_name': 'JlVJ2vA9vmU.mp4', 'vid_label': 'riding mechanical bull'}, {'vid_name': 'LYnwn3ufbDI.mp4', 'vid_label': 'presenting weather forecast'}, {'vid_name': 'RL16kQZcfTw.mp4', 'vid_label': 'riding mechanical bull'}, {'vid_name': 'S47k3jJS4ew.mp4', 'vid_label': 'picking fruit'}, {'vid_name': 'TKWm13mAlW4.mp4', 'vid_label': 'writing'}, {'vid_name': 'TRcWcUTFY0U.mp4', 'vid_label': 'cutting watermelon'}, {'vid_name': 'Y-acp_jXG1Q.mp4', 'vid_label': 'sled dog racing'}, {'vid_name': 'chMJGDu0g8w.mp4', 'vid_label': 'riding mechanical bull'}, {'vid_name': 'fBcw-xGGxZI.mp4', 'vid_label': 'pull ups'}, {'vid_name': 'fiKJm0eavfw.mp4', 'vid_label': 'ice fishing'}, {'vid_name': 'hKMt8sgFrDg.mp4', 'vid_label': 'filling eyebrows'}, {'vid_name': 'i8d4Z-FxkrY.mp4', 'vid_label': 'riding mechanical bull'}, {'vid_name': 'mE4-cdQxdgM.mp4', 'vid_label': 'bowling'}, {'vid_name': 'ml4v9_rYeu4.mp4', 'vid_label': 'riding mechanical bull'}, {'vid_name': 'nJqTkVxoft8.mp4', 'vid_label': 'trapezing'}, {'vid_name': 'o79s5eOAF-c.mp4', 'vid_label': 'playing tennis'}, {'vid_name': 'oMT-lPga9h8.mp4', 'vid_label': 'shearing sheep'}, {'vid_name': 'qv32dEIKREg.mp4', 'vid_label': 'bench pressing'}, {'vid_name': 'wL4XUmnamIQ.mp4', 'vid_label': 'riding mechanical bull'}, {'vid_name': 'weBWP6td8ZU.mp4', 'vid_label': 'presenting weather forecast'}, {'vid_name': 'y5vsk8Mj-3w.mp4', 'vid_label': 'crawling baby'}]\n"
     ]
    }
   ],
   "source": [
    "predicted_labels = []\n",
    "for pred in sorted_predictions:\n",
    "    predicted_labels.append({'vid_name': pred, 'vid_label': sorted_predictions[pred][0]['name']})\n",
    "predicted_labels = sorted(predicted_labels, key=lambda label: label['vid_name'])\n",
    "print(predicted_labels)"
   ]
  },
  {
   "cell_type": "code",
   "execution_count": 38,
   "metadata": {},
   "outputs": [],
   "source": [
    "c_m_actual_labels = []\n",
    "for label in actual_labels:\n",
    "    c_m_actual_labels.append(label['vid_label'])\n",
    "c_m_predicted_labels = []\n",
    "for label in predicted_labels:\n",
    "    c_m_predicted_labels.append(label['vid_label'])\n",
    "import sys\n",
    "np.set_printoptions(threshold=sys.maxsize)\n",
    "confusion_matrix(c_m_actual_labels, c_m_predicted_labels, labels=labels)\n",
    "l_file = open(logs_file_path, \"a\")  # append mode\n",
    "l_file.write( str(confusion_matrix(c_m_actual_labels, c_m_predicted_labels, labels=labels)) )\n",
    "l_file.close()"
   ]
  },
  {
   "cell_type": "code",
   "execution_count": 39,
   "metadata": {},
   "outputs": [
    {
     "name": "stdout",
     "output_type": "stream",
     "text": [
      "['presenting weather forecast', 'diving cliff', 'riding mechanical bull', 'tying tie', 'riding mechanical bull', 'presenting weather forecast', 'passing American football (in game)', 'riding mechanical bull', 'playing squash or racquetball', 'diving cliff', 'riding mechanical bull', 'riding or walking with horse', 'riding mechanical bull', 'presenting weather forecast', 'riding mechanical bull', 'picking fruit', 'weaving basket', 'cutting watermelon', 'sled dog racing', 'riding mechanical bull', 'pull ups', 'snowkiting', 'filling eyebrows', 'riding mechanical bull', 'bowling', 'riding mechanical bull', 'trapezing', 'playing tennis', 'shearing sheep', 'bench pressing', 'riding mechanical bull', 'presenting weather forecast', 'crawling baby']\n"
     ]
    }
   ],
   "source": [
    "print(c_m_actual_labels)"
   ]
  },
  {
   "cell_type": "code",
   "execution_count": 40,
   "metadata": {},
   "outputs": [
    {
     "name": "stdout",
     "output_type": "stream",
     "text": [
      "['presenting weather forecast', 'diving cliff', 'riding mechanical bull', 'tying tie', 'riding mechanical bull', 'presenting weather forecast', 'passing American football (in game)', 'riding mechanical bull', 'playing squash or racquetball', 'diving cliff', 'riding mechanical bull', 'riding or walking with horse', 'riding mechanical bull', 'presenting weather forecast', 'riding mechanical bull', 'picking fruit', 'writing', 'cutting watermelon', 'sled dog racing', 'riding mechanical bull', 'pull ups', 'ice fishing', 'filling eyebrows', 'riding mechanical bull', 'bowling', 'riding mechanical bull', 'trapezing', 'playing tennis', 'shearing sheep', 'bench pressing', 'riding mechanical bull', 'presenting weather forecast', 'crawling baby']\n"
     ]
    }
   ],
   "source": [
    "print(c_m_predicted_labels)"
   ]
  },
  {
   "cell_type": "code",
   "execution_count": 41,
   "metadata": {},
   "outputs": [
    {
     "name": "stdout",
     "output_type": "stream",
     "text": [
      "['presenting weather forecast', 'diving cliff', 'riding mechanical bull', 'tying tie', 'riding mechanical bull', 'presenting weather forecast', 'passing American football (in game)', 'riding mechanical bull', 'playing squash or racquetball', 'diving cliff', 'riding mechanical bull', 'riding or walking with horse', 'riding mechanical bull', 'presenting weather forecast', 'riding mechanical bull', 'picking fruit', 'other classes', 'cutting watermelon', 'sled dog racing', 'riding mechanical bull', 'pull ups', 'other classes', 'filling eyebrows', 'riding mechanical bull', 'bowling', 'riding mechanical bull', 'trapezing', 'playing tennis', 'shearing sheep', 'bench pressing', 'riding mechanical bull', 'presenting weather forecast', 'crawling baby']\n"
     ]
    }
   ],
   "source": [
    "# for labels which are not present in actual 20 classes, replace 'other classes' with them\n",
    "for i, label in enumerate(c_m_predicted_labels):\n",
    "    if label not in c_m_actual_labels:\n",
    "        c_m_predicted_labels[i] = 'other classes'\n",
    "print(c_m_predicted_labels)"
   ]
  },
  {
   "cell_type": "code",
   "execution_count": 42,
   "metadata": {},
   "outputs": [],
   "source": [
    "%matplotlib inline\n",
    "import matplotlib.pyplot as plt"
   ]
  },
  {
   "cell_type": "code",
   "execution_count": 43,
   "metadata": {},
   "outputs": [
    {
     "data": {
      "text/plain": [
       "<sklearn.metrics._plot.confusion_matrix.ConfusionMatrixDisplay at 0x1e4fc90c0b0>"
      ]
     },
     "execution_count": 43,
     "metadata": {},
     "output_type": "execute_result"
    },
    {
     "data": {
      "image/png": "[encoded data removed]",
      "text/plain": [
       "<Figure size 640x480 with 2 Axes>"
      ]
     },
     "metadata": {},
     "output_type": "display_data"
    }
   ],
   "source": [
    "#imgplot = plt.imshow(confusion_matrix(c_m_actual_labels, c_m_predicted_labels, labels=labels))\n",
    "# imgplot = plt.imshow(confusion_matrix(c_m_actual_labels, c_m_predicted_labels, labels=['riding mechanical bull', 'presenting weather forecast']))\n",
    "c_m_display_labels = ['riding mechanical bull', \n",
    "                      'presenting weather forecast', \n",
    "                      'sled dog racing', \n",
    "                      'playing squash or racquetball',\n",
    "                      'snowkiting',\n",
    "                      'diving cliff',\n",
    "                      'shearing sheep',\n",
    "                      'pull ups',\n",
    "                      'filling eyebrows',\n",
    "                      'bench pressing',\n",
    "                      'riding or walking with horse',\n",
    "                      'passing American football (in game)',\n",
    "                      'picking fruit',\n",
    "                      'weaving basket',\n",
    "                      'playing tennis',\n",
    "                      'crawling baby',\n",
    "                      'cutting watermelon',\n",
    "                      'tying tie',\n",
    "                      'trapezing',\n",
    "                      'bowling',\n",
    "                      'other classes'\n",
    "                     ]\n",
    "disp =  ConfusionMatrixDisplay(confusion_matrix=confusion_matrix(c_m_actual_labels, c_m_predicted_labels, labels=c_m_display_labels),\n",
    "                              display_labels=c_m_display_labels)\n",
    "disp.plot(xticks_rotation = 'vertical')"
   ]
  },
  {
   "cell_type": "code",
   "execution_count": 44,
   "metadata": {},
   "outputs": [],
   "source": [
    "#plt.imsave('conf_matrix.png', confusion_matrix(c_m_actual_labels, c_m_predicted_labels, labels=labels))"
   ]
  },
  {
   "cell_type": "code",
   "execution_count": 45,
   "metadata": {},
   "outputs": [
    {
     "data": {
      "text/plain": [
       "array([[10,  0,  0,  0,  0,  0,  0,  0,  0,  0,  0,  0,  0,  0,  0,  0,\n",
       "         0,  0,  0,  0,  0],\n",
       "       [ 0,  4,  0,  0,  0,  0,  0,  0,  0,  0,  0,  0,  0,  0,  0,  0,\n",
       "         0,  0,  0,  0,  0],\n",
       "       [ 0,  0,  1,  0,  0,  0,  0,  0,  0,  0,  0,  0,  0,  0,  0,  0,\n",
       "         0,  0,  0,  0,  0],\n",
       "       [ 0,  0,  0,  1,  0,  0,  0,  0,  0,  0,  0,  0,  0,  0,  0,  0,\n",
       "         0,  0,  0,  0,  0],\n",
       "       [ 0,  0,  0,  0,  0,  0,  0,  0,  0,  0,  0,  0,  0,  0,  0,  0,\n",
       "         0,  0,  0,  0,  1],\n",
       "       [ 0,  0,  0,  0,  0,  2,  0,  0,  0,  0,  0,  0,  0,  0,  0,  0,\n",
       "         0,  0,  0,  0,  0],\n",
       "       [ 0,  0,  0,  0,  0,  0,  1,  0,  0,  0,  0,  0,  0,  0,  0,  0,\n",
       "         0,  0,  0,  0,  0],\n",
       "       [ 0,  0,  0,  0,  0,  0,  0,  1,  0,  0,  0,  0,  0,  0,  0,  0,\n",
       "         0,  0,  0,  0,  0],\n",
       "       [ 0,  0,  0,  0,  0,  0,  0,  0,  1,  0,  0,  0,  0,  0,  0,  0,\n",
       "         0,  0,  0,  0,  0],\n",
       "       [ 0,  0,  0,  0,  0,  0,  0,  0,  0,  1,  0,  0,  0,  0,  0,  0,\n",
       "         0,  0,  0,  0,  0],\n",
       "       [ 0,  0,  0,  0,  0,  0,  0,  0,  0,  0,  1,  0,  0,  0,  0,  0,\n",
       "         0,  0,  0,  0,  0],\n",
       "       [ 0,  0,  0,  0,  0,  0,  0,  0,  0,  0,  0,  1,  0,  0,  0,  0,\n",
       "         0,  0,  0,  0,  0],\n",
       "       [ 0,  0,  0,  0,  0,  0,  0,  0,  0,  0,  0,  0,  1,  0,  0,  0,\n",
       "         0,  0,  0,  0,  0],\n",
       "       [ 0,  0,  0,  0,  0,  0,  0,  0,  0,  0,  0,  0,  0,  0,  0,  0,\n",
       "         0,  0,  0,  0,  1],\n",
       "       [ 0,  0,  0,  0,  0,  0,  0,  0,  0,  0,  0,  0,  0,  0,  1,  0,\n",
       "         0,  0,  0,  0,  0],\n",
       "       [ 0,  0,  0,  0,  0,  0,  0,  0,  0,  0,  0,  0,  0,  0,  0,  1,\n",
       "         0,  0,  0,  0,  0],\n",
       "       [ 0,  0,  0,  0,  0,  0,  0,  0,  0,  0,  0,  0,  0,  0,  0,  0,\n",
       "         1,  0,  0,  0,  0],\n",
       "       [ 0,  0,  0,  0,  0,  0,  0,  0,  0,  0,  0,  0,  0,  0,  0,  0,\n",
       "         0,  1,  0,  0,  0],\n",
       "       [ 0,  0,  0,  0,  0,  0,  0,  0,  0,  0,  0,  0,  0,  0,  0,  0,\n",
       "         0,  0,  1,  0,  0],\n",
       "       [ 0,  0,  0,  0,  0,  0,  0,  0,  0,  0,  0,  0,  0,  0,  0,  0,\n",
       "         0,  0,  0,  1,  0],\n",
       "       [ 0,  0,  0,  0,  0,  0,  0,  0,  0,  0,  0,  0,  0,  0,  0,  0,\n",
       "         0,  0,  0,  0,  0]], dtype=int64)"
      ]
     },
     "execution_count": 45,
     "metadata": {},
     "output_type": "execute_result"
    }
   ],
   "source": [
    "confusion_matrix(c_m_actual_labels, c_m_predicted_labels, labels=c_m_display_labels)"
   ]
  },
  {
   "cell_type": "code",
   "execution_count": 46,
   "metadata": {},
   "outputs": [
    {
     "data": {
      "text/plain": [
       "0.9393939393939394"
      ]
     },
     "execution_count": 46,
     "metadata": {},
     "output_type": "execute_result"
    }
   ],
   "source": [
    "precision_sc = precision_score(c_m_actual_labels, c_m_predicted_labels, average='micro')\n",
    "precision_sc"
   ]
  },
  {
   "cell_type": "code",
   "execution_count": 47,
   "metadata": {},
   "outputs": [
    {
     "data": {
      "text/plain": [
       "0.9393939393939394"
      ]
     },
     "execution_count": 47,
     "metadata": {},
     "output_type": "execute_result"
    }
   ],
   "source": [
    "from sklearn.metrics import recall_score\n",
    "recall_sc = recall_score(c_m_actual_labels, c_m_predicted_labels,  average='micro')\n",
    "recall_sc"
   ]
  },
  {
   "cell_type": "code",
   "execution_count": 48,
   "metadata": {},
   "outputs": [
    {
     "data": {
      "text/plain": [
       "0.9393939393939394"
      ]
     },
     "execution_count": 48,
     "metadata": {},
     "output_type": "execute_result"
    }
   ],
   "source": [
    "f1_score = (2 * precision_sc * recall_sc)/(precision_sc + recall_sc)\n",
    "f1_score"
   ]
  },
  {
   "cell_type": "code",
   "execution_count": null,
   "metadata": {},
   "outputs": [],
   "source": []
  },
  {
   "cell_type": "code",
   "execution_count": null,
   "metadata": {},
   "outputs": [],
   "source": []
  }
 ],
 "metadata": {
  "celltoolbar": "Edit Metadata",
  "kernelspec": {
   "display_name": "Python 3 (ipykernel)",
   "language": "python",
   "name": "python3"
  },
  "language_info": {
   "codemirror_mode": {
    "name": "ipython",
    "version": 3
   },
   "file_extension": ".py",
   "mimetype": "text/x-python",
   "name": "python",
   "nbconvert_exporter": "python",
   "pygments_lexer": "ipython3",
   "version": "3.12.3"
  },
  "openvino_notebooks": {
   "imageUrl": "https://user-images.githubusercontent.com/10940214/151552326-642d6e49-f5a0-4fc1-bf14-ae3f457e1fec.gif",
   "tags": {
    "categories": [
     "Live Demos"
    ],
    "libraries": [],
    "other": [],
    "tasks": [
     "Image Classification"
    ]
   }
  },
  "widgets": {
   "application/vnd.jupyter.widget-state+json": {
    "state": {},
    "version_major": 2,
    "version_minor": 0
   }
  }
 },
 "nbformat": 4,
 "nbformat_minor": 4
}
