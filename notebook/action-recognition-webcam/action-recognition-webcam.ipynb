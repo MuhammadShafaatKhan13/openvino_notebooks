{
 "cells": [
  {
   "attachments": {},
   "cell_type": "markdown",
   "metadata": {
    "pycharm": {
     "name": "#%% md\n"
    },
    "tags": []
   },
   "source": [
    "# Human Action Recognition with OpenVINO™\n",
    "\n",
    "This notebook demonstrates live human action recognition with OpenVINO, using the [Action Recognition Models](https://docs.openvino.ai/2020.2/usergroup13.html) from [Open Model Zoo](https://github.com/openvinotoolkit/open_model_zoo), specifically an [Encoder](https://docs.openvino.ai/2020.2/_models_intel_action_recognition_0001_encoder_description_action_recognition_0001_encoder.html) and a [Decoder](https://docs.openvino.ai/2020.2/_models_intel_action_recognition_0001_decoder_description_action_recognition_0001_decoder.html). Both models create a sequence to sequence (`\"seq2seq\"`) \\[1\\] system to identify the human activities for [Kinetics-400 dataset](https://deepmind.com/research/open-source/kinetics). The models use the Video Transformer approach with ResNet34 encoder \\[2\\]. The notebook shows how to create the following pipeline:\n",
    "\n",
    "<img align='center' src=\"https://user-images.githubusercontent.com/10940214/148401661-477aebcd-f2d0-4771-b107-4b37f94d0b1e.jpeg\" alt=\"drawing\" width=\"1000\"/>\n",
    "\n",
    "Final part of this notebook shows live inference results from a webcam. Additionally, you can also upload a video file.\n",
    "\n",
    "**NOTE**: To use a webcam, you must run this Jupyter notebook on a computer with a webcam. If you run on a server, the webcam will not work. However, you can still do inference on a video in the final step.\n",
    "\n",
    "---\n",
    "\n",
    "\\[1\\] seq2seq: Deep learning models that take a sequence of items to the input and output. In this case, input: video frames, output: actions sequence. This `\"seq2seq\"` is composed of an encoder and a decoder. The encoder captures `\"context\"` of the inputs to be analyzed by the decoder, and finally gets the human action and confidence.\n",
    "\n",
    "\\[2\\] [Video Transformer](https://en.wikipedia.org/wiki/Transformer_(machine_learning_model)) and [ResNet34](https://pytorch.org/vision/main/models/generated/torchvision.models.resnet34.html).\n",
    "\n",
    "\n",
    "\n",
    "#### Table of contents:\n",
    "\n",
    "- [Imports](#Imports)\n",
    "- [The models](#The-models)\n",
    "    - [Download the models](#Download-the-models)\n",
    "    - [Load your labels](#Load-your-labels)\n",
    "    - [Load the models](#Load-the-models)\n",
    "        - [Model Initialization function](#Model-Initialization-function)\n",
    "        - [Initialization for Encoder and Decoder](#Initialization-for-Encoder-and-Decoder)\n",
    "    - [Helper functions](#Helper-functions)\n",
    "    - [AI Functions](#AI-Functions)\n",
    "    - [Main Processing Function](#Main-Processing-Function)\n",
    "    - [Run Action Recognition](#Run-Action-Recognition)\n",
    "\n"
   ]
  },
  {
   "cell_type": "code",
   "execution_count": 1,
   "metadata": {},
   "outputs": [
    {
     "name": "stdout",
     "output_type": "stream",
     "text": [
      "Note: you may need to restart the kernel to use updated packages.\n"
     ]
    }
   ],
   "source": [
    "%pip install -q \"openvino>=2024.0.0\" \"opencv-python\" \"tqdm\" \"python-dotenv\" \"spacy\" \"nltk\" \"scikit-learn\" \"matplotlib\""
   ]
  },
  {
   "cell_type": "markdown",
   "metadata": {},
   "source": [
    "## Natural Language Processing"
   ]
  },
  {
   "cell_type": "code",
   "execution_count": 2,
   "metadata": {},
   "outputs": [
    {
     "name": "stderr",
     "output_type": "stream",
     "text": [
      "[nltk_data] Downloading package wordnet to\n",
      "[nltk_data]     C:\\Users\\shafa\\AppData\\Roaming\\nltk_data...\n",
      "[nltk_data]   Package wordnet is already up-to-date!\n"
     ]
    },
    {
     "data": {
      "text/plain": [
       "True"
      ]
     },
     "execution_count": 2,
     "metadata": {},
     "output_type": "execute_result"
    }
   ],
   "source": [
    "import nltk\n",
    "import spacy\n",
    "from nltk.corpus import wordnet\n",
    "spacy_nlp = spacy.load(\"en_core_web_lg\")\n",
    "nltk.download('wordnet')"
   ]
  },
  {
   "cell_type": "code",
   "execution_count": 3,
   "metadata": {},
   "outputs": [
    {
     "data": {
      "text/plain": [
       "[Synset('look.v.01')]"
      ]
     },
     "execution_count": 3,
     "metadata": {},
     "output_type": "execute_result"
    }
   ],
   "source": [
    "wordnet.synset('stare.v.02').hypernyms() "
   ]
  },
  {
   "cell_type": "code",
   "execution_count": 4,
   "metadata": {},
   "outputs": [
    {
     "data": {
      "text/plain": [
       "'judge or regard; look upon; judge'"
      ]
     },
     "execution_count": 4,
     "metadata": {},
     "output_type": "execute_result"
    }
   ],
   "source": [
    "wordnet.synset('think.v.01').definition()"
   ]
  },
  {
   "cell_type": "code",
   "execution_count": 5,
   "metadata": {},
   "outputs": [
    {
     "data": {
      "text/plain": [
       "'form a critical opinion of'"
      ]
     },
     "execution_count": 5,
     "metadata": {},
     "output_type": "execute_result"
    }
   ],
   "source": [
    "wordnet.synset('evaluate.v.02').definition()"
   ]
  },
  {
   "cell_type": "code",
   "execution_count": 6,
   "metadata": {},
   "outputs": [
    {
     "data": {
      "text/plain": [
       "\"use or exercise the mind or one's power of reason in order to make inferences, decisions, or arrive at a solution or judgments\""
      ]
     },
     "execution_count": 6,
     "metadata": {},
     "output_type": "execute_result"
    }
   ],
   "source": [
    "wordnet.synset('think.v.03').definition()"
   ]
  },
  {
   "cell_type": "code",
   "execution_count": 7,
   "metadata": {},
   "outputs": [
    {
     "data": {
      "text/plain": [
       "[Synset('think.v.03')]"
      ]
     },
     "execution_count": 7,
     "metadata": {},
     "output_type": "execute_result"
    }
   ],
   "source": [
    "wordnet.synset('evaluate.v.02').hypernyms() "
   ]
  },
  {
   "cell_type": "code",
   "execution_count": 8,
   "metadata": {},
   "outputs": [
    {
     "data": {
      "text/plain": [
       "[]"
      ]
     },
     "execution_count": 8,
     "metadata": {},
     "output_type": "execute_result"
    }
   ],
   "source": [
    "wordnet.synset('think.v.03').hypernyms() "
   ]
  },
  {
   "cell_type": "code",
   "execution_count": 9,
   "metadata": {},
   "outputs": [
    {
     "name": "stdout",
     "output_type": "stream",
     "text": [
      "Synset('get.v.11')\n"
     ]
    }
   ],
   "source": [
    "# Word Sense Disambiguation:\n",
    "from nltk.wsd import lesk \n",
    "caption = ['catching', 'or', 'throwing', 'frisbee'] \n",
    "print(lesk(caption, 'catching')) \n"
   ]
  },
  {
   "cell_type": "code",
   "execution_count": 10,
   "metadata": {},
   "outputs": [
    {
     "data": {
      "text/plain": [
       "'succeed in catching or seizing, especially after a chase'"
      ]
     },
     "execution_count": 10,
     "metadata": {},
     "output_type": "execute_result"
    }
   ],
   "source": [
    "wordnet.synset('get.v.11').definition()"
   ]
  },
  {
   "cell_type": "code",
   "execution_count": 11,
   "metadata": {},
   "outputs": [
    {
     "data": {
      "text/plain": [
       "[Synset('seize.v.01')]"
      ]
     },
     "execution_count": 11,
     "metadata": {},
     "output_type": "execute_result"
    }
   ],
   "source": [
    "wordnet.synset('get.v.11').hypernyms() "
   ]
  },
  {
   "cell_type": "code",
   "execution_count": 12,
   "metadata": {},
   "outputs": [
    {
     "data": {
      "text/plain": [
       "'take hold of; grab'"
      ]
     },
     "execution_count": 12,
     "metadata": {},
     "output_type": "execute_result"
    }
   ],
   "source": [
    "wordnet.synset('seize.v.01').definition()"
   ]
  },
  {
   "cell_type": "code",
   "execution_count": 13,
   "metadata": {},
   "outputs": [
    {
     "data": {
      "text/plain": [
       "[Synset('work.v.12')]"
      ]
     },
     "execution_count": 13,
     "metadata": {},
     "output_type": "execute_result"
    }
   ],
   "source": [
    "wordnet.synset('exercise.v.03').hypernyms() "
   ]
  },
  {
   "cell_type": "code",
   "execution_count": 14,
   "metadata": {},
   "outputs": [
    {
     "data": {
      "text/plain": [
       "'rise up'"
      ]
     },
     "execution_count": 14,
     "metadata": {},
     "output_type": "execute_result"
    }
   ],
   "source": [
    "wordnet.synset('rise.v.04').definition()"
   ]
  },
  {
   "cell_type": "code",
   "execution_count": 15,
   "metadata": {},
   "outputs": [
    {
     "data": {
      "text/plain": [
       "[Synset('look.v.02')]"
      ]
     },
     "execution_count": 15,
     "metadata": {},
     "output_type": "execute_result"
    }
   ],
   "source": [
    "wordnet.synset('rise.v.04').hypernyms() "
   ]
  },
  {
   "cell_type": "code",
   "execution_count": 16,
   "metadata": {},
   "outputs": [
    {
     "data": {
      "text/plain": [
       "[Synset('rise.v.01'),\n",
       " Synset('rise.v.02'),\n",
       " Synset('arise.v.03'),\n",
       " Synset('rise.v.04'),\n",
       " Synset('surface.v.01'),\n",
       " Synset('originate.v.01'),\n",
       " Synset('ascend.v.08'),\n",
       " Synset('wax.v.02'),\n",
       " Synset('heighten.v.01'),\n",
       " Synset('get_up.v.02'),\n",
       " Synset('rise.v.11'),\n",
       " Synset('rise.v.12'),\n",
       " Synset('rise.v.13'),\n",
       " Synset('rebel.v.01'),\n",
       " Synset('rise.v.15'),\n",
       " Synset('rise.v.16'),\n",
       " Synset('resurrect.v.03')]"
      ]
     },
     "execution_count": 16,
     "metadata": {},
     "output_type": "execute_result"
    }
   ],
   "source": [
    "wordnet.synsets('rise', pos=wordnet.VERB) \n"
   ]
  },
  {
   "cell_type": "code",
   "execution_count": 17,
   "metadata": {},
   "outputs": [
    {
     "name": "stdout",
     "output_type": "stream",
     "text": [
      "Natural natural ADJ JJ amod Xxxxx True False\n",
      "language language NOUN NN compound xxxx True False\n",
      "processing processing NOUN NN nsubj xxxx True False\n",
      ", , PUNCT , punct , False False\n",
      "or or CCONJ CC cc xx True True\n",
      "NLP NLP PROPN NNP conj XXX True False\n",
      ", , PUNCT , punct , False False\n",
      "combines combine VERB VBZ ROOT xxxx True False\n",
      "computational computational ADJ JJ amod xxxx True False\n",
      "linguistics linguistic NOUN NNS dobj xxxx True False\n",
      "— — PUNCT : punct — False False\n",
      "rule rule NOUN NN npadvmod xxxx True False\n",
      "- - PUNCT HYPH punct - False False\n",
      "based base VERB VBN amod xxxx True False\n",
      "modeling modeling NOUN NN appos xxxx True False\n",
      "of of ADP IN prep xx True True\n",
      "human human ADJ JJ amod xxxx True False\n",
      "language language NOUN NN pobj xxxx True False\n",
      "— — PUNCT : punct — False False\n",
      "with with ADP IN prep xxxx True True\n",
      "statistical statistical ADJ JJ amod xxxx True False\n",
      "and and CCONJ CC cc xxx True True\n",
      "machine machine NOUN NN conj xxxx True False\n",
      "learning learning NOUN NN conj xxxx True False\n",
      "models model NOUN NNS pobj xxxx True False\n",
      "to to PART TO aux xx True True\n",
      "enable enable VERB VB advcl xxxx True False\n",
      "computers computer NOUN NNS dobj xxxx True False\n",
      "and and CCONJ CC cc xxx True True\n",
      "digital digital ADJ JJ amod xxxx True False\n",
      "devices device NOUN NNS conj xxxx True False\n",
      "to to PART TO aux xx True True\n",
      "recognize recognize VERB VB xcomp xxxx True False\n",
      ", , PUNCT , punct , False False\n",
      "understand understand VERB VB conj xxxx True False\n",
      "and and CCONJ CC cc xxx True True\n",
      "generate generate VERB VB conj xxxx True False\n",
      "text text NOUN NN dobj xxxx True False\n",
      "and and CCONJ CC cc xxx True True\n",
      "speech speech NOUN NN conj xxxx True False\n",
      ". . PUNCT . punct . False False\n"
     ]
    }
   ],
   "source": [
    "doc = spacy_nlp(\"Natural language processing, or NLP, combines computational linguistics—rule-based modeling of human language—with statistical and machine learning models to enable computers and digital devices to recognize, understand and generate text and speech.\")\n",
    "\n",
    "for token in doc:\n",
    "    print(token.text, token.lemma_, token.pos_, token.tag_, token.dep_,\n",
    "            token.shape_, token.is_alpha, token.is_stop)"
   ]
  },
  {
   "attachments": {},
   "cell_type": "markdown",
   "metadata": {
    "pycharm": {
     "name": "#%% md\n"
    }
   },
   "source": [
    "## Imports\n",
    "[back to top ⬆️](#Table-of-contents:)\n"
   ]
  },
  {
   "cell_type": "code",
   "execution_count": 18,
   "metadata": {
    "pycharm": {
     "name": "#%%\n"
    }
   },
   "outputs": [],
   "source": [
    "import collections\n",
    "import os\n",
    "import time\n",
    "import json\n",
    "from typing import Tuple, List\n",
    "\n",
    "from pathlib import Path\n",
    "from dotenv import load_dotenv\n",
    "from sklearn.metrics import confusion_matrix, ConfusionMatrixDisplay\n",
    "\n",
    "import cv2\n",
    "import numpy as np\n",
    "from IPython import display\n",
    "import openvino as ov\n",
    "\n",
    "from openvino.runtime.ie_api import CompiledModel\n",
    "\n",
    "# Fetch `notebook_utils` module\n",
    "import requests\n",
    "\n",
    "r = requests.get(\n",
    "    url=\"https://raw.githubusercontent.com/openvinotoolkit/openvino_notebooks/latest/utils/notebook_utils.py\",\n",
    ")\n",
    "open(\"notebook_utils.py\", \"w\").write(r.text)\n",
    "import notebook_utils as utils"
   ]
  },
  {
   "cell_type": "code",
   "execution_count": 19,
   "metadata": {},
   "outputs": [
    {
     "name": "stdout",
     "output_type": "stream",
     "text": [
      "['03dk7mneDU0.mp4', '1MmjE51PeIE.mp4', '2PCKDO_cEds.mp4', '7Mtprt8_bqM.mp4', '9HoB1hqX1Zw.mp4', 'C5Z1sRArUR0.mp4', 'chMJGDu0g8w.mp4', 'DYpTE_n-Wvk.mp4', 'EWRO7cZ9w0E.mp4', 'Exd3SE5Zg0k.mp4', 'EzMqjDPLRhc.mp4', 'fBcw-xGGxZI.mp4', 'fiKJm0eavfw.mp4', 'hKMt8sgFrDg.mp4', 'i8d4Z-FxkrY.mp4', 'IGShO22ldOM.mp4', 'J-1gayS1jc8.mp4', 'JlVJ2vA9vmU.mp4', 'LYnwn3ufbDI.mp4', 'mE4-cdQxdgM.mp4', 'ml4v9_rYeu4.mp4', 'nJqTkVxoft8.mp4', 'o79s5eOAF-c.mp4', 'oMT-lPga9h8.mp4', 'qv32dEIKREg.mp4', 'RL16kQZcfTw.mp4', 'S47k3jJS4ew.mp4', 'TKWm13mAlW4.mp4', 'TRcWcUTFY0U.mp4', 'weBWP6td8ZU.mp4', 'wL4XUmnamIQ.mp4', 'Y-acp_jXG1Q.mp4', 'y5vsk8Mj-3w.mp4']\n"
     ]
    }
   ],
   "source": [
    "load_dotenv()\n",
    "VIDEOS_PATH = os.environ['VIDEOS_PATH']\n",
    "VIDEOS = os.listdir(VIDEOS_PATH)\n",
    "VIDEO_CAPTION = os.environ['CAPTIONS']\n",
    "print(VIDEOS)\n"
   ]
  },
  {
   "attachments": {},
   "cell_type": "markdown",
   "metadata": {},
   "source": [
    "## The models\n",
    "[back to top ⬆️](#Table-of-contents:)\n",
    "\n",
    "### Download the models\n",
    "[back to top ⬆️](#Table-of-contents:)\n",
    "\n",
    "Use the `download_ir_model`, a function from the `notebook_utils` file. It automatically creates a directory structure and downloads the selected model.\n",
    "\n",
    "In this case you can use `\"action-recognition-0001\"` as a model name, and the system automatically downloads the two models `\"action-recognition-0001-encoder\"` and `\"action-recognition-0001-decoder\"`\n",
    "\n",
    "> **NOTE**: If you want to download another model, such as `\"driver-action-recognition-adas-0002\"` (`\"driver-action-recognition-adas-0002-encoder\"` + `\"driver-action-recognition-adas-0002-decoder\"`), replace the name of the model in the code below. Using a model outside the list can require different pre- and post-processing. "
   ]
  },
  {
   "cell_type": "code",
   "execution_count": 20,
   "metadata": {
    "tags": []
   },
   "outputs": [],
   "source": [
    "#to store predictions of each frame\n",
    "all_predictions_dict={}\n",
    "logs_file_path=os.getcwd() + \"\\\\logs.txt\"\n",
    "open(logs_file_path, 'w').close()\n",
    "# A directory where the model will be downloaded.\n",
    "base_model_dir = \"model\"\n",
    "# The name of the model from Open Model Zoo.\n",
    "model_name = \"action-recognition-0001\"\n",
    "# Selected precision (FP32, FP16, FP16-INT8).\n",
    "precision = \"FP16\"\n",
    "model_path_decoder = f\"model/intel/{model_name}/{model_name}-decoder/{precision}/{model_name}-decoder.xml\"\n",
    "model_path_encoder = f\"model/intel/{model_name}/{model_name}-encoder/{precision}/{model_name}-encoder.xml\"\n",
    "encoder_url = f\"https://storage.openvinotoolkit.org/repositories/open_model_zoo/temp/{model_name}/{model_name}-encoder/{precision}/{model_name}-encoder.xml\"\n",
    "decoder_url = f\"https://storage.openvinotoolkit.org/repositories/open_model_zoo/temp/{model_name}/{model_name}-decoder/{precision}/{model_name}-decoder.xml\"\n",
    "\n",
    "if not os.path.exists(model_path_decoder):\n",
    "    utils.download_ir_model(decoder_url, Path(model_path_decoder).parent)\n",
    "if not os.path.exists(model_path_encoder):\n",
    "    utils.download_ir_model(encoder_url, Path(model_path_encoder).parent)"
   ]
  },
  {
   "cell_type": "code",
   "execution_count": null,
   "metadata": {},
   "outputs": [],
   "source": [
    "\n",
    "\n",
    "\n"
   ]
  },
  {
   "attachments": {},
   "cell_type": "markdown",
   "metadata": {},
   "source": [
    "### Load your labels\n",
    "[back to top ⬆️](#Table-of-contents:)\n",
    "\n",
    "This tutorial uses [Kinetics-400 dataset](https://deepmind.com/research/open-source/kinetics), and also provides the text file embedded into this notebook. \n",
    "\n",
    "> **NOTE**: If you want to run `\"driver-action-recognition-adas-0002\"` model, replace the `kinetics.txt` file to `driver_actions.txt`."
   ]
  },
  {
   "cell_type": "code",
   "execution_count": 21,
   "metadata": {},
   "outputs": [
    {
     "name": "stdout",
     "output_type": "stream",
     "text": [
      "'data\\kinetics.txt' already exists.\n",
      "['abseiling', 'air drumming', 'answering questions', 'applauding', 'applying cream', 'archery', 'arm wrestling', 'arranging flowers', 'assembling computer'] (400,)\n",
      "<class 'list'>\n"
     ]
    }
   ],
   "source": [
    "# Download the text from the openvino_notebooks storage\n",
    "vocab_file_path = utils.download_file(\n",
    "    \"https://storage.openvinotoolkit.org/repositories/openvino_notebooks/data/data/text/kinetics.txt\",\n",
    "    directory=\"data\",\n",
    ")\n",
    "\n",
    "with vocab_file_path.open(mode=\"r\") as f:\n",
    "    labels = [line.strip() for line in f]\n",
    "\n",
    "print(labels[0:9], np.shape(labels))\n",
    "print(type(labels))\n"
   ]
  },
  {
   "attachments": {},
   "cell_type": "markdown",
   "metadata": {
    "pycharm": {
     "name": "#%% md\n"
    }
   },
   "source": [
    "### Load the models\n",
    "[back to top ⬆️](#Table-of-contents:)\n",
    "\n",
    "Load the two models for this particular architecture, Encoder and Decoder. Downloaded models are located in a fixed structure, indicating a vendor, the name of the model, and a precision.\n",
    "\n",
    " 1. Initialize OpenVINO Runtime.\n",
    " 2. Read the network from `*.bin` and `*.xml` files (weights and architecture).\n",
    " 3. Compile the model for specified device.\n",
    " 4. Get input and output names of nodes.\n",
    "\n",
    "Only a few lines of code are required to run the model."
   ]
  },
  {
   "attachments": {},
   "cell_type": "markdown",
   "metadata": {},
   "source": [
    "Select device from dropdown list for running inference using OpenVINO"
   ]
  },
  {
   "cell_type": "code",
   "execution_count": 22,
   "metadata": {},
   "outputs": [
    {
     "data": {
      "application/vnd.jupyter.widget-view+json": {
       "model_id": "95220c8e97584a95844caa0a10404048",
       "version_major": 2,
       "version_minor": 0
      },
      "text/plain": [
       "Dropdown(description='Device:', index=2, options=('CPU', 'GPU', 'AUTO'), value='AUTO')"
      ]
     },
     "execution_count": 22,
     "metadata": {},
     "output_type": "execute_result"
    }
   ],
   "source": [
    "import ipywidgets as widgets\n",
    "\n",
    "core = ov.Core()\n",
    "device = widgets.Dropdown(\n",
    "    options=core.available_devices + [\"AUTO\"],\n",
    "    value=\"AUTO\",\n",
    "    description=\"Device:\",\n",
    "    disabled=False,\n",
    ")\n",
    "\n",
    "device"
   ]
  },
  {
   "attachments": {},
   "cell_type": "markdown",
   "metadata": {},
   "source": [
    "#### Model Initialization function\n",
    "[back to top ⬆️](#Table-of-contents:)\n"
   ]
  },
  {
   "cell_type": "code",
   "execution_count": 23,
   "metadata": {},
   "outputs": [],
   "source": [
    "# Initialize OpenVINO Runtime.\n",
    "core = ov.Core()\n",
    "\n",
    "\n",
    "def model_init(model_path: str, device: str) -> Tuple:\n",
    "    \"\"\"\n",
    "    Read the network and weights from a file, load the\n",
    "    model on CPU and get input and output names of nodes\n",
    "\n",
    "    :param:\n",
    "            model: model architecture path *.xml\n",
    "            device: inference device\n",
    "    :retuns:\n",
    "            compiled_model: Compiled model\n",
    "            input_key: Input node for model\n",
    "            output_key: Output node for model\n",
    "    \"\"\"\n",
    "\n",
    "    # Read the network and corresponding weights from a file.\n",
    "    model = core.read_model(model=model_path)\n",
    "    l_file = open(logs_file_path, \"a\")  # append mode\n",
    "    l_file.write(\"\\nmodel:\\n\" )\n",
    "    l_file.write(str(model ))\n",
    "    l_file.close()\n",
    "    # Compile the model for specified device.\n",
    "    compiled_model = core.compile_model(model=model, device_name=device)\n",
    "    # Get input and output names of nodes.\n",
    "    input_keys = compiled_model.input(0)\n",
    "    l_file = open(logs_file_path, \"a\")  # append mode\n",
    "    l_file.write(\"\\ninput keys:\\n\" )\n",
    "    l_file.write(str(input_keys ))\n",
    "    l_file.close()\n",
    "    output_keys = compiled_model.output(0)\n",
    "    return input_keys, output_keys, compiled_model"
   ]
  },
  {
   "attachments": {},
   "cell_type": "markdown",
   "metadata": {},
   "source": [
    "#### Initialization for Encoder and Decoder\n",
    "[back to top ⬆️](#Table-of-contents:)\n"
   ]
  },
  {
   "cell_type": "code",
   "execution_count": 24,
   "metadata": {},
   "outputs": [
    {
     "name": "stdout",
     "output_type": "stream",
     "text": [
      "16\n"
     ]
    }
   ],
   "source": [
    "l_file = open(logs_file_path, \"a\")  # append mode\n",
    "l_file.write(\"\\nmodel peth encoder:\\n\" )\n",
    "l_file.write(str(model_path_encoder ))\n",
    "l_file.write(\"\\nmodel peth decoder:\\n\" )\n",
    "l_file.write(str(model_path_decoder ))\n",
    "l_file.close()\n",
    "# Encoder initialization\n",
    "input_key_en, output_keys_en, compiled_model_en = model_init(model_path_encoder, device.value)\n",
    "# Decoder initialization\n",
    "input_key_de, output_keys_de, compiled_model_de = model_init(model_path_decoder, device.value)\n",
    "\n",
    "# Get input size - Encoder.\n",
    "height_en, width_en = list(input_key_en.shape)[2:]\n",
    "# Get input size - Decoder.\n",
    "frames2decode = list(input_key_de.shape)[0:][1]\n",
    "print(frames2decode)"
   ]
  },
  {
   "attachments": {},
   "cell_type": "markdown",
   "metadata": {},
   "source": [
    "### Helper functions\n",
    "[back to top ⬆️](#Table-of-contents:)\n",
    "\n",
    "Use the following helper functions for preprocessing and postprocessing frames:\n",
    "\n",
    "1. Preprocess the input image before running the Encoder model. (`center_crop` and `adaptative_resize`)\n",
    "2. Decode top-3 probabilities into label names. (`decode_output`)\n",
    "3. Draw the Region of Interest (ROI) over the video. (`rec_frame_display`)\n",
    "4. Prepare the frame for displaying label names over the video. (`display_text_fnc`)"
   ]
  },
  {
   "cell_type": "code",
   "execution_count": 25,
   "metadata": {},
   "outputs": [],
   "source": [
    "def center_crop(frame: np.ndarray) -> np.ndarray:\n",
    "    \"\"\"\n",
    "    Center crop squared the original frame to standardize the input image to the encoder model\n",
    "\n",
    "    :param frame: input frame\n",
    "    :returns: center-crop-squared frame\n",
    "    \"\"\"\n",
    "    img_h, img_w, _ = frame.shape\n",
    "    min_dim = min(img_h, img_w)\n",
    "    start_x = int((img_w - min_dim) / 2.0)\n",
    "    start_y = int((img_h - min_dim) / 2.0)\n",
    "    roi = [start_y, (start_y + min_dim), start_x, (start_x + min_dim)]\n",
    "    return frame[start_y : (start_y + min_dim), start_x : (start_x + min_dim), ...], roi\n",
    "\n",
    "\n",
    "def adaptive_resize(frame: np.ndarray, size: int) -> np.ndarray:\n",
    "    \"\"\"\n",
    "     The frame going to be resized to have a height of size or a width of size\n",
    "\n",
    "    :param frame: input frame\n",
    "    :param size: input size to encoder model\n",
    "    :returns: resized frame, np.array type\n",
    "    \"\"\"\n",
    "    h, w, _ = frame.shape\n",
    "    scale = size / min(h, w)\n",
    "    w_scaled, h_scaled = int(w * scale), int(h * scale)\n",
    "    if w_scaled == w and h_scaled == h:\n",
    "        return frame\n",
    "    return cv2.resize(frame, (w_scaled, h_scaled))\n",
    "\n",
    "\n",
    "def decode_output(probs: np.ndarray, labels: np.ndarray, top_k: int = 3) -> np.ndarray:\n",
    "    \"\"\"\n",
    "    Decodes top probabilities into corresponding label names\n",
    "\n",
    "    :param probs: confidence vector for 400 actions\n",
    "    :param labels: list of actions\n",
    "    :param top_k: The k most probable positions in the list of labels\n",
    "    :returns: decoded_labels: The k most probable actions from the labels list\n",
    "              decoded_top_probs: confidence for the k most probable actions\n",
    "    \"\"\"\n",
    "    top_ind = np.argsort(-1 * probs)[:top_k]\n",
    "    out_label = np.array(labels)[top_ind.astype(int)]\n",
    "    decoded_labels = [out_label[0][0], out_label[0][1], out_label[0][2]]\n",
    "    top_probs = np.array(probs)[0][top_ind.astype(int)]\n",
    "    decoded_top_probs = [top_probs[0][0], top_probs[0][1], top_probs[0][2]]\n",
    "    return decoded_labels, decoded_top_probs\n",
    "\n",
    "\n",
    "def rec_frame_display(frame: np.ndarray, roi) -> np.ndarray:\n",
    "    \"\"\"\n",
    "    Draw a rec frame over actual frame\n",
    "\n",
    "    :param frame: input frame\n",
    "    :param roi: Region of interest, image section processed by the Encoder\n",
    "    :returns: frame with drawed shape\n",
    "\n",
    "    \"\"\"\n",
    "\n",
    "    cv2.line(frame, (roi[2] + 3, roi[0] + 3), (roi[2] + 3, roi[0] + 100), (0, 200, 0), 2)\n",
    "    cv2.line(frame, (roi[2] + 3, roi[0] + 3), (roi[2] + 100, roi[0] + 3), (0, 200, 0), 2)\n",
    "    cv2.line(frame, (roi[3] - 3, roi[1] - 3), (roi[3] - 3, roi[1] - 100), (0, 200, 0), 2)\n",
    "    cv2.line(frame, (roi[3] - 3, roi[1] - 3), (roi[3] - 100, roi[1] - 3), (0, 200, 0), 2)\n",
    "    cv2.line(frame, (roi[3] - 3, roi[0] + 3), (roi[3] - 3, roi[0] + 100), (0, 200, 0), 2)\n",
    "    cv2.line(frame, (roi[3] - 3, roi[0] + 3), (roi[3] - 100, roi[0] + 3), (0, 200, 0), 2)\n",
    "    cv2.line(frame, (roi[2] + 3, roi[1] - 3), (roi[2] + 3, roi[1] - 100), (0, 200, 0), 2)\n",
    "    cv2.line(frame, (roi[2] + 3, roi[1] - 3), (roi[2] + 100, roi[1] - 3), (0, 200, 0), 2)\n",
    "    # Write ROI over actual frame\n",
    "    FONT_STYLE = cv2.FONT_HERSHEY_SIMPLEX\n",
    "    org = (roi[2] + 3, roi[1] - 3)\n",
    "    org2 = (roi[2] + 2, roi[1] - 2)\n",
    "    FONT_SIZE = 0.5\n",
    "    FONT_COLOR = (0, 200, 0)\n",
    "    FONT_COLOR2 = (0, 0, 0)\n",
    "    cv2.putText(frame, \"ROI\", org2, FONT_STYLE, FONT_SIZE, FONT_COLOR2)\n",
    "    cv2.putText(frame, \"ROI\", org, FONT_STYLE, FONT_SIZE, FONT_COLOR)\n",
    "    return frame\n",
    "\n",
    "\n",
    "def display_text_fnc(frame: np.ndarray, display_text: str, index: int):\n",
    "    \"\"\"\n",
    "    Include a text on the analyzed frame\n",
    "\n",
    "    :param frame: input frame\n",
    "    :param display_text: text to add on the frame\n",
    "    :param index: index line dor adding text\n",
    "\n",
    "    \"\"\"\n",
    "    # Configuration for displaying images with text.\n",
    "    FONT_COLOR = (255, 255, 255)\n",
    "    FONT_COLOR2 = (0, 0, 0)\n",
    "    FONT_STYLE = cv2.FONT_HERSHEY_DUPLEX\n",
    "    FONT_SIZE = 0.7\n",
    "    TEXT_VERTICAL_INTERVAL = 25\n",
    "    TEXT_LEFT_MARGIN = 15\n",
    "    # ROI over actual frame\n",
    "    (processed, roi) = center_crop(frame)\n",
    "    # Draw a ROI over actual frame.\n",
    "    frame = rec_frame_display(frame, roi)\n",
    "    # Put a text over actual frame.\n",
    "    text_loc = (TEXT_LEFT_MARGIN, TEXT_VERTICAL_INTERVAL * (index + 1))\n",
    "    text_loc2 = (TEXT_LEFT_MARGIN + 1, TEXT_VERTICAL_INTERVAL * (index + 1) + 1)\n",
    "    cv2.putText(frame, display_text, text_loc2, FONT_STYLE, FONT_SIZE, FONT_COLOR2)\n",
    "    cv2.putText(frame, display_text, text_loc, FONT_STYLE, FONT_SIZE, FONT_COLOR)"
   ]
  },
  {
   "attachments": {},
   "cell_type": "markdown",
   "metadata": {},
   "source": [
    "### AI Functions\n",
    "[back to top ⬆️](#Table-of-contents:)\n",
    "\n",
    "<img align='center' src=\"https://user-images.githubusercontent.com/10940214/148401661-477aebcd-f2d0-4771-b107-4b37f94d0b1e.jpeg\" alt=\"drawing\" width=\"1000\"/>\n",
    "\n",
    "Following the pipeline above, you will use the next functions to:\n",
    "\n",
    "1. Preprocess a frame before running the Encoder. (`preprocessing`)\n",
    "2. Encoder Inference per frame. (`encoder`)\n",
    "3. Decoder inference per set of frames. (`decoder`)\n",
    "4. Normalize the Decoder output to get confidence values per action recognition label. (`softmax`)"
   ]
  },
  {
   "cell_type": "code",
   "execution_count": 26,
   "metadata": {},
   "outputs": [],
   "source": [
    "def preprocessing(frame: np.ndarray, size: int) -> np.ndarray:\n",
    "    \"\"\"\n",
    "    Preparing frame before Encoder.\n",
    "    The image should be scaled to its shortest dimension at \"size\"\n",
    "    and cropped, centered, and squared so that both width and\n",
    "    height have lengths \"size\". The frame must be transposed from\n",
    "    Height-Width-Channels (HWC) to Channels-Height-Width (CHW).\n",
    "\n",
    "    :param frame: input frame\n",
    "    :param size: input size to encoder model\n",
    "    :returns: resized and cropped frame\n",
    "    \"\"\"\n",
    "    # Adaptative resize\n",
    "    preprocessed = adaptive_resize(frame, size)\n",
    "    # Center_crop\n",
    "    (preprocessed, roi) = center_crop(preprocessed)\n",
    "    # Transpose frame HWC -> CHW\n",
    "    preprocessed = preprocessed.transpose((2, 0, 1))[None,]  # HWC -> CHW\n",
    "    return preprocessed, roi\n",
    "\n",
    "\n",
    "def encoder(preprocessed: np.ndarray, compiled_model: CompiledModel) -> List:\n",
    "    \"\"\"\n",
    "    Encoder Inference per frame. This function calls the network previously\n",
    "    configured for the encoder model (compiled_model), extracts the data\n",
    "    from the output node, and appends it in an array to be used by the decoder.\n",
    "\n",
    "    :param: preprocessed: preprocessing frame\n",
    "    :param: compiled_model: Encoder model network\n",
    "    :returns: encoder_output: embedding layer that is appended with each arriving frame\n",
    "    \"\"\"\n",
    "    output_key_en = compiled_model.output(0)\n",
    "\n",
    "    # Get results on action-recognition-0001-encoder model\n",
    "    infer_result_encoder = compiled_model([preprocessed])[output_key_en]\n",
    "    return infer_result_encoder\n",
    "\n",
    "\n",
    "def decoder(encoder_output: List, compiled_model_de: CompiledModel) -> List:\n",
    "    \"\"\"\n",
    "    Decoder inference per set of frames. This function concatenates the embedding layer\n",
    "    froms the encoder output, transpose the array to match with the decoder input size.\n",
    "    Calls the network previously configured for the decoder model (compiled_model_de), extracts\n",
    "    the logits and normalize those to get confidence values along specified axis.\n",
    "    Decodes top probabilities into corresponding label names\n",
    "\n",
    "    :param: encoder_output: embedding layer for 16 frames\n",
    "    :param: compiled_model_de: Decoder model network\n",
    "    :returns: decoded_labels: The k most probable actions from the labels list\n",
    "              decoded_top_probs: confidence for the k most probable actions\n",
    "    \"\"\"\n",
    "    # Concatenate sample_duration frames in just one array\n",
    "    decoder_input = np.concatenate(encoder_output, axis=0)\n",
    "    # Organize input shape vector to the Decoder (shape: [1x16x512]]\n",
    "    decoder_input = decoder_input.transpose((2, 0, 1, 3))\n",
    "    decoder_input = np.squeeze(decoder_input, axis=3)\n",
    "    output_key_de = compiled_model_de.output(0)\n",
    "    # Get results on action-recognition-0001-decoder model\n",
    "    result_de = compiled_model_de([decoder_input])[output_key_de]\n",
    "    # Normalize logits to get confidence values along specified axis\n",
    "    probs = softmax(result_de - np.max(result_de))\n",
    "    # Decodes top probabilities into corresponding label names\n",
    "    decoded_labels, decoded_top_probs = decode_output(probs, labels, top_k=3)\n",
    "    return decoded_labels, decoded_top_probs\n",
    "\n",
    "\n",
    "def softmax(x: np.ndarray) -> np.ndarray:\n",
    "    \"\"\"\n",
    "    Normalizes logits to get confidence values along specified axis\n",
    "    x: np.array, axis=None\n",
    "    \"\"\"\n",
    "    exp = np.exp(x)\n",
    "    return exp / np.sum(exp, axis=None)"
   ]
  },
  {
   "attachments": {},
   "cell_type": "markdown",
   "metadata": {
    "pycharm": {
     "name": "#%% md\n"
    },
    "tags": []
   },
   "source": [
    "### Main Processing Function\n",
    "[back to top ⬆️](#Table-of-contents:)\n",
    "\n",
    "Running action recognition function will run in different operations, either a webcam or a video file. See the list of procedures below:\n",
    "\n",
    "1. Create a video player to play with target fps (`utils.VideoPlayer`).\n",
    "2. Prepare a set of frames to be encoded-decoded.\n",
    "3. Run AI functions\n",
    "4. Visualize the results."
   ]
  },
  {
   "cell_type": "code",
   "execution_count": 27,
   "metadata": {
    "tags": []
   },
   "outputs": [],
   "source": [
    "def run_action_recognition(\n",
    "    source: str = \"0\",\n",
    "    flip: bool = True,\n",
    "    use_popup: bool = False,\n",
    "    compiled_model_en: CompiledModel = compiled_model_en,\n",
    "    compiled_model_de: CompiledModel = compiled_model_de,\n",
    "    skip_first_frames: int = 0,\n",
    "    all_predictions_dict: dict = {},\n",
    "    video_name: str = \"\"\n",
    "):\n",
    "    \"\"\"\n",
    "    Use the \"source\" webcam or video file to run the complete pipeline for action-recognition problem\n",
    "    1. Create a video player to play with target fps\n",
    "    2. Prepare a set of frames to be encoded-decoded\n",
    "    3. Preprocess frame before Encoder\n",
    "    4. Encoder Inference per frame\n",
    "    5. Decoder inference per set of frames\n",
    "    6. Visualize the results\n",
    "\n",
    "    :param: source: webcam \"0\" or video path\n",
    "    :param: flip: to be used by VideoPlayer function for flipping capture image\n",
    "    :param: use_popup: False for showing encoded frames over this notebook, True for creating a popup window.\n",
    "    :param: skip_first_frames: Number of frames to skip at the beginning of the video.\n",
    "    :returns: display video over the notebook or in a popup window\n",
    "\n",
    "    \"\"\"\n",
    "    all_predictions_dict[video_name] = []\n",
    "    size = height_en  # Endoder input size - From Cell 5_9\n",
    "    sample_duration = frames2decode  # Decoder input size - From Cell 5_7\n",
    "    # Select frames per second of your source.\n",
    "    fps = 30\n",
    "    player = None\n",
    "    try:\n",
    "        # Create a video player.\n",
    "        player = utils.VideoPlayer(source, flip=flip, fps=fps, skip_first_frames=skip_first_frames)\n",
    "        # Start capturing.\n",
    "        player.start()\n",
    "        if use_popup:\n",
    "            title = \"Press ESC to Exit\"\n",
    "            cv2.namedWindow(title, cv2.WINDOW_GUI_NORMAL | cv2.WINDOW_AUTOSIZE)\n",
    "\n",
    "        processing_times = collections.deque()\n",
    "        processing_time = 0\n",
    "        encoder_output = []\n",
    "        decoded_labels = [0, 0, 0]\n",
    "        decoded_top_probs = [0, 0, 0]\n",
    "        counter = 0\n",
    "        # Create a text template to show inference results over video.\n",
    "        text_inference_template = \"Infer Time:{Time:.1f}ms,{fps:.1f}FPS\"\n",
    "        text_template = \"{label},{conf:.2f}%\"\n",
    "\n",
    "        while True:\n",
    "            counter = counter + 1\n",
    "\n",
    "            # Read a frame from the video stream.\n",
    "            frame = player.next()\n",
    "            if frame is None:\n",
    "                print(\"Source ended\")\n",
    "                break\n",
    "\n",
    "            scale = 1280 / max(frame.shape)\n",
    "\n",
    "            # Adaptative resize for visualization.\n",
    "            if scale < 1:\n",
    "                frame = cv2.resize(frame, None, fx=scale, fy=scale, interpolation=cv2.INTER_AREA)\n",
    "\n",
    "            # Select one frame every two for processing through the encoder.\n",
    "            # After 16 frames are processed, the decoder will find the action,\n",
    "            # and the label will be printed over the frames.\n",
    "\n",
    "            if counter % 2 == 0:\n",
    "                # Preprocess frame before Encoder.\n",
    "                (preprocessed, _) = preprocessing(frame, size)\n",
    "\n",
    "                # Measure processing time.\n",
    "                start_time = time.time()\n",
    "\n",
    "                # Encoder Inference per frame\n",
    "                encoder_output.append(encoder(preprocessed, compiled_model_en))\n",
    "                # l_file = open(logs_file_path, \"a\")  # append mode\n",
    "                # l_file.write(\"\\nbefore decoder\\n\" )\n",
    "                # l_file.close()\n",
    "                # Decoder inference per set of frames\n",
    "                # Wait for sample duration to work with decoder model.\n",
    "                if len(encoder_output) == sample_duration:\n",
    "                    decoded_labels, decoded_top_probs = decoder(encoder_output, compiled_model_de)\n",
    "                    for i in range(0, 3):\n",
    "                        if i == 0:\n",
    "                            all_predictions_dict[video_name].append([])\n",
    "                        all_predictions_dict[video_name][-1].append({'label': str(decoded_labels[i]), 'confidence': str(decoded_top_probs[i] * 100)})\n",
    "                    encoder_output = []\n",
    "\n",
    "                # Inference has finished. Display the results.\n",
    "                stop_time = time.time()\n",
    "\n",
    "                # Calculate processing time.\n",
    "                processing_times.append(stop_time - start_time)\n",
    "\n",
    "                # Use processing times from last 200 frames.\n",
    "                if len(processing_times) > 200:\n",
    "                    processing_times.popleft()\n",
    "\n",
    "                # Mean processing time [ms]\n",
    "                processing_time = np.mean(processing_times) * 1000\n",
    "                fps = 1000 / processing_time\n",
    "            # Visualize the results.\n",
    "            for i in range(0, 3):\n",
    "                display_text = text_template.format(\n",
    "                    label=decoded_labels[i],\n",
    "                    conf=decoded_top_probs[i] * 100,\n",
    "                )\n",
    "                display_text_fnc(frame, display_text, i)\n",
    "            display_text = text_inference_template.format(Time=processing_time, fps=fps)\n",
    "            display_text_fnc(frame, display_text, 3)\n",
    "\n",
    "            # Use this workaround if you experience flickering.\n",
    "            if use_popup:\n",
    "                cv2.imshow(title, frame)\n",
    "                key = cv2.waitKey(1)\n",
    "                # escape = 27\n",
    "                if key == 27:\n",
    "                    break\n",
    "            else:\n",
    "                # Encode numpy array to jpg.\n",
    "                _, encoded_img = cv2.imencode(\".jpg\", frame, params=[cv2.IMWRITE_JPEG_QUALITY, 90])\n",
    "                # Create an IPython image.\n",
    "                i = display.Image(data=encoded_img)\n",
    "                # Display the image in this notebook.\n",
    "                display.clear_output(wait=True)\n",
    "                display.display(i)\n",
    "    # ctrl-c\n",
    "    except KeyboardInterrupt:\n",
    "        print(\"Interrupted\")\n",
    "    # Any different error\n",
    "    except RuntimeError as e:\n",
    "        print(e)\n",
    "    finally:\n",
    "        if player is not None:\n",
    "            # Stop capturing.\n",
    "            player.stop()\n",
    "        if use_popup:\n",
    "            cv2.destroyAllWindows()"
   ]
  },
  {
   "attachments": {},
   "cell_type": "markdown",
   "metadata": {},
   "source": [
    "### Run Action Recognition\n",
    "[back to top ⬆️](#Table-of-contents:)\n",
    "\n",
    "Find out how the model works in a video file. [Any format supported](https://docs.opencv.org/4.5.1/dd/d43/tutorial_py_video_display.html) by OpenCV will work. You can press the stop button anytime while the video file is running, and it will activate the webcam for the next step.\n",
    "\n",
    "> **NOTE**: Sometimes, the video can be cut off if there are corrupted frames. In that case, you can convert it. If you experience any problems with your video, use the [HandBrake](https://handbrake.fr/) and select the MPEG format.\n",
    "\n",
    "if you want to use a web camera as an input source for the demo, please change the value of `USE_WEBCAM` variable to True and specify `cam_id` (the default value is 0, which can be different in multi-camera systems)."
   ]
  },
  {
   "cell_type": "code",
   "execution_count": 28,
   "metadata": {},
   "outputs": [],
   "source": [
    "# %pip install pafy"
   ]
  },
  {
   "cell_type": "code",
   "execution_count": 29,
   "metadata": {},
   "outputs": [],
   "source": [
    "# %pip install --upgrade youtube-dl"
   ]
  },
  {
   "cell_type": "code",
   "execution_count": 30,
   "metadata": {},
   "outputs": [],
   "source": [
    "l_file = open(logs_file_path, \"a\")  # append mode\n",
    "l_file.write(\"\\ntest var: \\n\" + json.dumps(all_predictions_dict, indent = 4) + \"\\n\" )\n",
    "l_file.close()\n"
   ]
  },
  {
   "cell_type": "code",
   "execution_count": 31,
   "metadata": {},
   "outputs": [
    {
     "name": "stdout",
     "output_type": "stream",
     "text": [
      "D:\\Downloads\\test_vids\\videos\n"
     ]
    }
   ],
   "source": [
    "print(os.environ.get('VIDEOS_PATH'))#os.environ['VIDEO_PATH']"
   ]
  },
  {
   "cell_type": "code",
   "execution_count": 32,
   "metadata": {},
   "outputs": [
    {
     "name": "stdout",
     "output_type": "stream",
     "text": [
      "<class 'list'>\n"
     ]
    }
   ],
   "source": [
    "print(type(VIDEOS))"
   ]
  },
  {
   "cell_type": "code",
   "execution_count": 33,
   "metadata": {
    "tags": [],
    "test_replace": {
     "{\"skip_first_frames\": 600, \"flip\": False} if not USE_WEBCAM else {\"flip\": True}\n": "{\"skip_first_frames\": 1800, \"flip\": False} if not USE_WEBCAM else {\"flip\": True}\n"
    }
   },
   "outputs": [
    {
     "data": {
      "image/png": "[encoded data removed]",
      "text/plain": [
       "<IPython.core.display.Image object>"
      ]
     },
     "metadata": {},
     "output_type": "display_data"
    },
    {
     "name": "stdout",
     "output_type": "stream",
     "text": [
      "Source ended\n"
     ]
    }
   ],
   "source": [
    "\n",
    "# import pafy\n",
    "\n",
    "USE_WEBCAM = False\n",
    "\n",
    "cam_id = 0\n",
    "#video_file = \"https://www.youtube.com/embed/0347ZoDXyP0?start=95&end=105&ref=autodidacts.io\" #not working\n",
    "#video_file = \"https://www.youtube.com/watch?v=0347ZoDXyP0\"  #not working\n",
    "#video = pafy.new(\"https://www.youtube.com/watch?v=0347ZoDXyP0\") #not working\n",
    "#video_file = video.getbest(preftype=\"mp4\") #not working\n",
    "# got VIDEO_PATH through environment variable\n",
    "for video in VIDEOS:\n",
    "    video_file = VIDEOS_PATH + \"\\\\\" + video\n",
    "    source = cam_id if USE_WEBCAM else video_file\n",
    "    additional_options = {\"skip_first_frames\": 0, \"flip\": False} if not USE_WEBCAM else {\"flip\": True}\n",
    "    run_action_recognition(source=source, use_popup=False, all_predictions_dict=all_predictions_dict, video_name=video, **additional_options)\n",
    "    "
   ]
  },
  {
   "cell_type": "code",
   "execution_count": 34,
   "metadata": {},
   "outputs": [],
   "source": [
    "with open(os.getcwd() + \"\\\\logs.json\", \"w\") as outfile:\n",
    "    outfile.write(json.dumps(all_predictions_dict,  indent=4))\n",
    "l_file = open(logs_file_path, \"a\")  # append mode\n",
    "l_file.write(\"output of predictions written into \" + os.getcwd() + \"\\\\logs.json\" )\n",
    "l_file.close()\n",
    "sorted_predictions = {}\n",
    "no_of_frames = 0\n",
    "\n",
    "for video in all_predictions_dict:\n",
    "    tmp_s_p = {}\n",
    "    for frame in all_predictions_dict[video]:\n",
    "        no_of_frames = no_of_frames + 1\n",
    "        for prediction in frame:\n",
    "            if prediction['label'] in tmp_s_p.keys():\n",
    "                tmp_s_p[prediction['label']] = float(tmp_s_p[prediction['label']]) + float(prediction['confidence'])\n",
    "            else:\n",
    "                tmp_s_p[prediction['label']] = float(prediction['confidence'])\n",
    "    for pred in tmp_s_p:\n",
    "        tmp_s_p[pred] = tmp_s_p[pred]/no_of_frames\n",
    "    no_of_frames = 0\n",
    "    while tmp_s_p:\n",
    "        key = max(zip(tmp_s_p.values(), tmp_s_p.keys()))[1]\n",
    "        value = max(zip(tmp_s_p.values(), tmp_s_p.keys()))[0]\n",
    "        if video not in  sorted_predictions:\n",
    "            sorted_predictions[video] = []\n",
    "        sorted_predictions[video].append({'name': key, 'value': value})\n",
    "        tmp_s_p.pop(key)"
   ]
  },
  {
   "cell_type": "code",
   "execution_count": null,
   "metadata": {},
   "outputs": [],
   "source": []
  },
  {
   "cell_type": "code",
   "execution_count": null,
   "metadata": {},
   "outputs": [],
   "source": []
  },
  {
   "cell_type": "code",
   "execution_count": 35,
   "metadata": {},
   "outputs": [
    {
     "data": {
      "text/plain": [
       "{'03dk7mneDU0.mp4': [{'name': 'presenting weather forecast',\n",
       "   'value': 99.90161657333374},\n",
       "  {'name': 'news anchoring', 'value': 0.08818914648145437},\n",
       "  {'name': 'archery', 'value': 0.0036852510675089434}],\n",
       " '1MmjE51PeIE.mp4': [{'name': 'diving cliff', 'value': 66.70404962367482},\n",
       "  {'name': 'contact juggling', 'value': 2.1238786478837333},\n",
       "  {'name': 'pushing wheelchair', 'value': 0.9908732440736558},\n",
       "  {'name': 'riding elephant', 'value': 0.9261903663476309},\n",
       "  {'name': 'climbing tree', 'value': 0.8023138675424788},\n",
       "  {'name': 'rock climbing', 'value': 0.7362445195515951},\n",
       "  {'name': 'swinging on something', 'value': 0.42559028499656254},\n",
       "  {'name': 'catching fish', 'value': 0.2643194411777788},\n",
       "  {'name': 'snorkeling', 'value': 0.21606675452656215},\n",
       "  {'name': 'kitesurfing', 'value': 0.15173544201792943},\n",
       "  {'name': 'jumping into pool', 'value': 0.05764998301553229},\n",
       "  {'name': 'feeding fish', 'value': 0.01880630799051788},\n",
       "  {'name': 'somersaulting', 'value': 0.004166730731311772}],\n",
       " '2PCKDO_cEds.mp4': [{'name': 'riding mechanical bull',\n",
       "   'value': 24.360503926873207},\n",
       "  {'name': 'celebrating', 'value': 3.4401110373437405},\n",
       "  {'name': 'tango dancing', 'value': 3.2931727659888566},\n",
       "  {'name': 'belly dancing', 'value': 1.3878630101680756},\n",
       "  {'name': 'giving or receiving award', 'value': 1.1022862046957016},\n",
       "  {'name': 'yoga', 'value': 1.0128117818385363},\n",
       "  {'name': 'changing oil', 'value': 0.8859064802527428},\n",
       "  {'name': 'playing poker', 'value': 0.877196341753006},\n",
       "  {'name': 'salsa dancing', 'value': 0.7479758560657501},\n",
       "  {'name': 'bending back', 'value': 0.5066880211234093},\n",
       "  {'name': 'washing feet', 'value': 0.40793124586343765},\n",
       "  {'name': 'tai chi', 'value': 0.3159552440047264},\n",
       "  {'name': 'texting', 'value': 0.30031122267246246},\n",
       "  {'name': 'canoeing or kayaking', 'value': 0.09224724024534225},\n",
       "  {'name': 'hugging', 'value': 0.017718919552862644}],\n",
       " '7Mtprt8_bqM.mp4': [{'name': 'tying tie', 'value': 99.29904282093048},\n",
       "  {'name': 'tying knot (not on a tie)', 'value': 0.3745098530271207},\n",
       "  {'name': 'tying bow tie', 'value': 0.324247078569897}],\n",
       " '9HoB1hqX1Zw.mp4': [{'name': 'riding mechanical bull',\n",
       "   'value': 89.59366570819508},\n",
       "  {'name': 'milking cow', 'value': 0.5353109858912252},\n",
       "  {'name': 'driving car', 'value': 0.45984411104158923},\n",
       "  {'name': 'riding elephant', 'value': 0.23099619239620753},\n",
       "  {'name': 'climbing ladder', 'value': 0.0015010883957570927},\n",
       "  {'name': 'riding camel', 'value': 0.0008512556880966506},\n",
       "  {'name': 'playing guitar', 'value': 2.6384598392972045e-05},\n",
       "  {'name': 'tapping guitar', 'value': 5.035588463380753e-06},\n",
       "  {'name': 'riding or walking with horse', 'value': 3.033716994787545e-07}],\n",
       " 'C5Z1sRArUR0.mp4': [{'name': 'presenting weather forecast',\n",
       "   'value': 99.79265093803406},\n",
       "  {'name': 'checking tires', 'value': 0.05136516486345499},\n",
       "  {'name': 'catching or throwing frisbee', 'value': 0.011247363727306947},\n",
       "  {'name': 'news anchoring', 'value': 0.006164435835671611},\n",
       "  {'name': 'throwing discus', 'value': 0.00022117586922831833},\n",
       "  {'name': 'stretching arm', 'value': 5.816747034259606e-05}],\n",
       " 'chMJGDu0g8w.mp4': [{'name': 'riding mechanical bull',\n",
       "   'value': 99.98124241828918},\n",
       "  {'name': 'riding or walking with horse', 'value': 0.0061990900296926554},\n",
       "  {'name': 'riding elephant', 'value': 0.004244673733162507},\n",
       "  {'name': 'riding camel', 'value': 0.0011720265881720593},\n",
       "  {'name': 'motorcycling', 'value': 0.0006653929449385032},\n",
       "  {'name': 'climbing ladder', 'value': 0.0006058098006178625}],\n",
       " 'DYpTE_n-Wvk.mp4': [{'name': 'passing American football (in game)',\n",
       "   'value': 96.42168283462524},\n",
       "  {'name': 'kicking field goal', 'value': 1.268214420512474},\n",
       "  {'name': 'tossing coin', 'value': 0.5350797466235235},\n",
       "  {'name': 'catching or throwing frisbee', 'value': 0.030209894369666774},\n",
       "  {'name': 'shaking hands', 'value': 0.02983278633716206}],\n",
       " 'EWRO7cZ9w0E.mp4': [{'name': 'riding mechanical bull',\n",
       "   'value': 85.18721081993796},\n",
       "  {'name': 'riding or walking with horse', 'value': 0.7545114976396277},\n",
       "  {'name': 'wrapping present', 'value': 0.4022394476289099},\n",
       "  {'name': 'playing guitar', 'value': 0.2857761626893824},\n",
       "  {'name': 'singing', 'value': 0.26951261203397403},\n",
       "  {'name': 'balloon blowing', 'value': 0.11494608426635916},\n",
       "  {'name': 'riding mule', 'value': 0.10067639126315374},\n",
       "  {'name': 'pumping fist', 'value': 0.06374099545858124},\n",
       "  {'name': 'belly dancing', 'value': 0.03741541877388954},\n",
       "  {'name': 'riding camel', 'value': 0.0037339357235892253},\n",
       "  {'name': 'riding elephant', 'value': 0.00020189580192725936}],\n",
       " 'Exd3SE5Zg0k.mp4': [{'name': 'playing squash or racquetball',\n",
       "   'value': 99.9978909889857},\n",
       "  {'name': 'throwing ball', 'value': 0.0007610686445502779},\n",
       "  {'name': 'playing badminton', 'value': 0.0005464217682475218},\n",
       "  {'name': 'dodgeball', 'value': 3.448612204692836e-05},\n",
       "  {'name': 'dancing charleston', 'value': 2.1577299473089322e-05}],\n",
       " 'EzMqjDPLRhc.mp4': [{'name': 'diving cliff', 'value': 97.80935049057007},\n",
       "  {'name': 'abseiling', 'value': 0.7097088054499843},\n",
       "  {'name': 'snorkeling', 'value': 0.17818587578155778},\n",
       "  {'name': 'somersaulting', 'value': 0.02861813250505789},\n",
       "  {'name': 'swinging on something', 'value': 0.024675850925797767},\n",
       "  {'name': 'catching fish', 'value': 0.021387088451195847},\n",
       "  {'name': 'slacklining', 'value': 0.016550591416572304},\n",
       "  {'name': 'climbing ladder', 'value': 0.015254838349805637},\n",
       "  {'name': 'jumping into pool', 'value': 0.0042203813791275024}],\n",
       " 'fBcw-xGGxZI.mp4': [{'name': 'pull ups', 'value': 96.33465905984242},\n",
       "  {'name': 'climbing ladder', 'value': 0.1779679342386468},\n",
       "  {'name': 'trapezing', 'value': 0.08245200539628665},\n",
       "  {'name': 'clean and jerk', 'value': 0.016912765568122268},\n",
       "  {'name': 'building shed', 'value': 0.016239265581437696},\n",
       "  {'name': 'push up', 'value': 0.015872001434521128},\n",
       "  {'name': 'dunking basketball', 'value': 0.0018860468117054552}],\n",
       " 'fiKJm0eavfw.mp4': [{'name': 'ice fishing', 'value': 73.76323752105236},\n",
       "  {'name': 'snowkiting', 'value': 22.190379053354263},\n",
       "  {'name': 'making snowman', 'value': 0.349621195346117},\n",
       "  {'name': 'kitesurfing', 'value': 0.3110247291624546},\n",
       "  {'name': 'tobogganing', 'value': 0.19548644311726093},\n",
       "  {'name': 'catching fish', 'value': 0.07703225826844573},\n",
       "  {'name': 'ice climbing', 'value': 0.05233315750956535},\n",
       "  {'name': 'ice skating', 'value': 0.0491593312472105}],\n",
       " 'hKMt8sgFrDg.mp4': [{'name': 'filling eyebrows', 'value': 58.37387537414377},\n",
       "  {'name': 'applying cream', 'value': 18.05247718849304},\n",
       "  {'name': 'waxing eyebrows', 'value': 4.966118017380888},\n",
       "  {'name': 'brush painting', 'value': 3.5614133177494463}],\n",
       " 'i8d4Z-FxkrY.mp4': [{'name': 'riding mechanical bull',\n",
       "   'value': 99.99707986911137},\n",
       "  {'name': 'riding elephant', 'value': 0.002489016253829727},\n",
       "  {'name': 'water sliding', 'value': 0.00014970159041283182},\n",
       "  {'name': 'driving tractor', 'value': 3.279327908482325e-05},\n",
       "  {'name': 'climbing ladder', 'value': 1.7086800522629158e-05},\n",
       "  {'name': 'riding camel', 'value': 4.105526822210474e-06},\n",
       "  {'name': 'bouncing on trampoline', 'value': 3.6724501957981676e-07}],\n",
       " 'IGShO22ldOM.mp4': [{'name': 'riding mechanical bull',\n",
       "   'value': 94.75706815719604},\n",
       "  {'name': 'skateboarding', 'value': 0.2609117633917115},\n",
       "  {'name': 'water sliding', 'value': 0.21253444931723856},\n",
       "  {'name': 'riding camel', 'value': 0.004332136704996639},\n",
       "  {'name': 'cleaning pool', 'value': 0.0038129520941187034},\n",
       "  {'name': 'riding elephant', 'value': 0.0030741185045454504},\n",
       "  {'name': 'climbing ladder', 'value': 0.0024908460380340166},\n",
       "  {'name': 'riding or walking with horse', 'value': 0.001835046870827957},\n",
       "  {'name': 'clay pottery making', 'value': 7.706146024330254e-08}],\n",
       " 'J-1gayS1jc8.mp4': [{'name': 'riding or walking with horse',\n",
       "   'value': 89.21284513040023},\n",
       "  {'name': 'riding mule', 'value': 6.231239188293165},\n",
       "  {'name': 'crossing river', 'value': 2.6192344873296944},\n",
       "  {'name': 'archery', 'value': 0.061203883325850424},\n",
       "  {'name': 'jogging', 'value': 0.003631559824994342}],\n",
       " 'JlVJ2vA9vmU.mp4': [{'name': 'riding mechanical bull',\n",
       "   'value': 78.00241907437642},\n",
       "  {'name': 'headbanging', 'value': 4.306692307970176},\n",
       "  {'name': 'surfing crowd', 'value': 3.9668487957290686},\n",
       "  {'name': 'beatboxing', 'value': 1.7312078426281612},\n",
       "  {'name': 'breakdancing', 'value': 0.1880462747067213},\n",
       "  {'name': 'krumping', 'value': 0.0823783144975702},\n",
       "  {'name': 'waxing back', 'value': 0.0322111533023417},\n",
       "  {'name': 'swing dancing', 'value': 0.026739206320295732},\n",
       "  {'name': 'riding elephant', 'value': 0.00382661407153743}],\n",
       " 'LYnwn3ufbDI.mp4': [{'name': 'presenting weather forecast',\n",
       "   'value': 91.33353572000156},\n",
       "  {'name': 'playing recorder', 'value': 0.2602961612865329},\n",
       "  {'name': 'flying kite', 'value': 0.1866536722941832},\n",
       "  {'name': 'using computer', 'value': 0.13391747224059972},\n",
       "  {'name': 'drumming fingers', 'value': 0.08368665691126477},\n",
       "  {'name': 'unboxing', 'value': 0.04098273136399009},\n",
       "  {'name': 'using remote controller (not gaming)',\n",
       "   'value': 0.03557186317431677},\n",
       "  {'name': 'folding clothes', 'value': 0.0052406068954786115},\n",
       "  {'name': 'playing ukulele', 'value': 0.0045219515661963005},\n",
       "  {'name': 'tapping pen', 'value': 0.0037674540759656916},\n",
       "  {'name': 'golf chipping', 'value': 0.0006577615336440927},\n",
       "  {'name': 'ice climbing', 'value': 0.00017133744139838117},\n",
       "  {'name': 'archery', 'value': 9.879123271358284e-05}],\n",
       " 'mE4-cdQxdgM.mp4': [{'name': 'bowling', 'value': 99.99278458681974},\n",
       "  {'name': 'throwing ball', 'value': 0.0031016466974423647},\n",
       "  {'name': 'hula hooping', 'value': 0.00033980059015448205},\n",
       "  {'name': 'dribbling basketball', 'value': 4.7390493953323376e-07}],\n",
       " 'ml4v9_rYeu4.mp4': [{'name': 'riding mechanical bull',\n",
       "   'value': 95.94265570243199},\n",
       "  {'name': 'making bed', 'value': 0.281573934868599},\n",
       "  {'name': 'cleaning windows', 'value': 0.13038942900796732},\n",
       "  {'name': 'playing saxophone', 'value': 0.12514962969968715},\n",
       "  {'name': 'massaging legs', 'value': 0.09368367803593476},\n",
       "  {'name': 'opening present', 'value': 0.05801411850067476},\n",
       "  {'name': 'wrapping present', 'value': 0.03584993073673104},\n",
       "  {'name': 'massaging back', 'value': 0.015563648336562133},\n",
       "  {'name': 'eating chips', 'value': 0.01159825527186816},\n",
       "  {'name': 'tapping guitar', 'value': 0.001741670803312445},\n",
       "  {'name': 'situp', 'value': 0.0007779675191462351},\n",
       "  {'name': 'riding elephant', 'value': 0.0003222587110940367}],\n",
       " 'nJqTkVxoft8.mp4': [{'name': 'trapezing', 'value': 93.53790640830994},\n",
       "  {'name': 'kitesurfing', 'value': 0.9720631141681224},\n",
       "  {'name': 'somersaulting', 'value': 0.7665189273211581},\n",
       "  {'name': 'snowkiting', 'value': 0.38146651477291016},\n",
       "  {'name': 'bungee jumping', 'value': 0.3801654620474437},\n",
       "  {'name': 'swinging on something', 'value': 0.20525148138403893},\n",
       "  {'name': 'parasailing', 'value': 0.1988290165172657},\n",
       "  {'name': 'pole vault', 'value': 0.00790048172348179},\n",
       "  {'name': 'abseiling', 'value': 0.001342614705208689}],\n",
       " 'o79s5eOAF-c.mp4': [{'name': 'playing tennis', 'value': 18.496321855733793},\n",
       "  {'name': 'tai chi', 'value': 8.238315644363562},\n",
       "  {'name': 'stretching arm', 'value': 3.372108874221643},\n",
       "  {'name': 'lunge', 'value': 2.1894284524023533},\n",
       "  {'name': 'stretching leg', 'value': 2.1068988367915154},\n",
       "  {'name': 'archery', 'value': 1.2725215405225754},\n",
       "  {'name': 'hurdling', 'value': 0.8870870030174652},\n",
       "  {'name': 'playing cricket', 'value': 0.8440934276829163},\n",
       "  {'name': 'high kick', 'value': 0.3541963795820872},\n",
       "  {'name': 'barbequing', 'value': 0.28008241206407547},\n",
       "  {'name': 'parkour', 'value': 0.2581253492583831}],\n",
       " 'oMT-lPga9h8.mp4': [{'name': 'shearing sheep', 'value': 93.30180784066518},\n",
       "  {'name': 'grooming dog', 'value': 1.898409541172441},\n",
       "  {'name': 'cutting nails', 'value': 1.7539747097544023}],\n",
       " 'qv32dEIKREg.mp4': [{'name': 'bench pressing', 'value': 62.469446659088135},\n",
       "  {'name': 'wrestling', 'value': 0.7828450451294581},\n",
       "  {'name': 'riding mechanical bull', 'value': 0.643950824936231},\n",
       "  {'name': 'milking cow', 'value': 0.5246058106422424},\n",
       "  {'name': 'squat', 'value': 0.36126086488366127},\n",
       "  {'name': 'playing trombone', 'value': 0.3274935918549697},\n",
       "  {'name': 'spraying', 'value': 0.2662504091858864},\n",
       "  {'name': 'running on treadmill', 'value': 0.2590687635044257},\n",
       "  {'name': 'situp', 'value': 0.03283043988631107},\n",
       "  {'name': 'exercising arm', 'value': 0.020533442148007452},\n",
       "  {'name': 'waxing legs', 'value': 0.00220497507446756}],\n",
       " 'RL16kQZcfTw.mp4': [{'name': 'riding mechanical bull',\n",
       "   'value': 19.476943090558052},\n",
       "  {'name': 'waxing back', 'value': 15.872467961162329},\n",
       "  {'name': 'pumping fist', 'value': 5.318952677771449},\n",
       "  {'name': 'surfing crowd', 'value': 4.047490283846855},\n",
       "  {'name': 'waxing chest', 'value': 1.4225400984287262},\n",
       "  {'name': 'massaging back', 'value': 1.3217862385014694},\n",
       "  {'name': 'waxing legs', 'value': 1.2006501046319802},\n",
       "  {'name': 'headbanging', 'value': 1.0211364055673282},\n",
       "  {'name': 'eating chips', 'value': 0.8866692582766215},\n",
       "  {'name': 'air drumming', 'value': 0.6002951413393021},\n",
       "  {'name': 'carving pumpkin', 'value': 0.5726087838411331},\n",
       "  {'name': 'drinking beer', 'value': 0.5587227021654447},\n",
       "  {'name': 'waxing eyebrows', 'value': 0.48691680034001666},\n",
       "  {'name': 'blowing glass', 'value': 0.47470930342872936},\n",
       "  {'name': 'yoga', 'value': 0.28610654796163243}],\n",
       " 'S47k3jJS4ew.mp4': [{'name': 'picking fruit', 'value': 99.82873135142856},\n",
       "  {'name': 'peeling apples', 'value': 0.026338806242741493},\n",
       "  {'name': 'riding elephant', 'value': 0.0208322424441576},\n",
       "  {'name': 'trimming trees', 'value': 6.300762750269023e-06},\n",
       "  {'name': 'sticking tongue out', 'value': 1.8189776328447376e-08},\n",
       "  {'name': 'eating watermelon', 'value': 1.571514306610782e-11}],\n",
       " 'TKWm13mAlW4.mp4': [{'name': 'writing', 'value': 2.5091509334743023},\n",
       "  {'name': 'doing nails', 'value': 2.0718566607683897},\n",
       "  {'name': 'tasting food', 'value': 1.6233064234256744},\n",
       "  {'name': 'eating doughnuts', 'value': 1.0939281433820724},\n",
       "  {'name': 'headbanging', 'value': 1.026892475783825},\n",
       "  {'name': 'playing monopoly', 'value': 0.7024064194411039},\n",
       "  {'name': 'building cabinet', 'value': 0.6982841761782765},\n",
       "  {'name': 'welding', 'value': 0.6449684733524919},\n",
       "  {'name': 'giving or receiving award', 'value': 0.5440942943096161},\n",
       "  {'name': 'baking cookies', 'value': 0.517154298722744},\n",
       "  {'name': 'grooming dog', 'value': 0.47376668080687523},\n",
       "  {'name': 'dining', 'value': 0.4431033506989479},\n",
       "  {'name': 'testifying', 'value': 0.41242032311856747},\n",
       "  {'name': 'weaving basket', 'value': 0.3987254574894905},\n",
       "  {'name': 'making pizza', 'value': 0.3276863833889365},\n",
       "  {'name': 'wrapping present', 'value': 0.303506338968873}],\n",
       " 'TRcWcUTFY0U.mp4': [{'name': 'cutting watermelon',\n",
       "   'value': 58.024250864982605},\n",
       "  {'name': 'shaking head', 'value': 5.095704793930054},\n",
       "  {'name': 'eating ice cream', 'value': 2.1000051125884056},\n",
       "  {'name': 'headbanging', 'value': 0.9630179032683372},\n",
       "  {'name': 'peeling apples', 'value': 0.9154038752240012},\n",
       "  {'name': 'playing harmonica', 'value': 0.7322780787944794},\n",
       "  {'name': 'baking cookies', 'value': 0.3735353797674179},\n",
       "  {'name': 'tasting food', 'value': 0.29433878138661385},\n",
       "  {'name': 'cutting pineapple', 'value': 0.17753613294189563},\n",
       "  {'name': 'cooking egg', 'value': 0.1715187169611454}],\n",
       " 'weBWP6td8ZU.mp4': [{'name': 'presenting weather forecast',\n",
       "   'value': 99.39023435115814},\n",
       "  {'name': 'giving or receiving award', 'value': 0.4346934223531207},\n",
       "  {'name': 'news anchoring', 'value': 0.08664175593366963},\n",
       "  {'name': 'celebrating', 'value': 0.002423866098979488},\n",
       "  {'name': 'planting trees', 'value': 0.00048107074690051377}],\n",
       " 'wL4XUmnamIQ.mp4': [{'name': 'riding mechanical bull',\n",
       "   'value': 99.99736309051514},\n",
       "  {'name': 'riding elephant', 'value': 0.0024851108547796485},\n",
       "  {'name': 'riding or walking with horse', 'value': 3.653465446618043e-05},\n",
       "  {'name': 'climbing ladder', 'value': 1.824748886769534e-05}],\n",
       " 'Y-acp_jXG1Q.mp4': [{'name': 'sled dog racing', 'value': 54.92697623040941},\n",
       "  {'name': 'snowboarding', 'value': 11.740714642736647},\n",
       "  {'name': 'skiing (not slalom or crosscountry)', 'value': 6.778040776650111},\n",
       "  {'name': 'tobogganing', 'value': 3.9996276354132636},\n",
       "  {'name': 'walking the dog', 'value': 0.12052817649848496},\n",
       "  {'name': 'grooming dog', 'value': 0.04957582698100143},\n",
       "  {'name': 'snowmobiling', 'value': 0.003933581562402348},\n",
       "  {'name': 'skiing crosscountry', 'value': 0.003708371744121703}],\n",
       " 'y5vsk8Mj-3w.mp4': [{'name': 'crawling baby', 'value': 56.823013201355934},\n",
       "  {'name': 'somersaulting', 'value': 8.83017186075449},\n",
       "  {'name': 'shaking head', 'value': 2.177821174263954},\n",
       "  {'name': 'ripping paper', 'value': 0.7841490209102631},\n",
       "  {'name': 'pushing cart', 'value': 0.7325015217065811},\n",
       "  {'name': 'opening present', 'value': 0.47664787620306015},\n",
       "  {'name': 'hugging', 'value': 0.4543725401163101},\n",
       "  {'name': 'laughing', 'value': 0.3415959235280752}]}"
      ]
     },
     "execution_count": 35,
     "metadata": {},
     "output_type": "execute_result"
    }
   ],
   "source": [
    "sorted_predictions"
   ]
  },
  {
   "cell_type": "code",
   "execution_count": 36,
   "metadata": {},
   "outputs": [
    {
     "name": "stdout",
     "output_type": "stream",
     "text": [
      "[{'vid_name': '03dk7mneDU0.mp4', 'vid_label': 'presenting weather forecast'}, {'vid_name': '1MmjE51PeIE.mp4', 'vid_label': 'diving cliff'}, {'vid_name': '2PCKDO_cEds.mp4', 'vid_label': 'riding mechanical bull'}, {'vid_name': '7Mtprt8_bqM.mp4', 'vid_label': 'tying tie'}, {'vid_name': '9HoB1hqX1Zw.mp4', 'vid_label': 'riding mechanical bull'}, {'vid_name': 'C5Z1sRArUR0.mp4', 'vid_label': 'presenting weather forecast'}, {'vid_name': 'DYpTE_n-Wvk.mp4', 'vid_label': 'passing American football (in game)'}, {'vid_name': 'EWRO7cZ9w0E.mp4', 'vid_label': 'riding mechanical bull'}, {'vid_name': 'Exd3SE5Zg0k.mp4', 'vid_label': 'playing squash or racquetball'}, {'vid_name': 'EzMqjDPLRhc.mp4', 'vid_label': 'diving cliff'}, {'vid_name': 'IGShO22ldOM.mp4', 'vid_label': 'riding mechanical bull'}, {'vid_name': 'J-1gayS1jc8.mp4', 'vid_label': 'riding or walking with horse'}, {'vid_name': 'JlVJ2vA9vmU.mp4', 'vid_label': 'riding mechanical bull'}, {'vid_name': 'LYnwn3ufbDI.mp4', 'vid_label': 'presenting weather forecast'}, {'vid_name': 'RL16kQZcfTw.mp4', 'vid_label': 'riding mechanical bull'}, {'vid_name': 'S47k3jJS4ew.mp4', 'vid_label': 'picking fruit'}, {'vid_name': 'TKWm13mAlW4.mp4', 'vid_label': 'weaving basket'}, {'vid_name': 'TRcWcUTFY0U.mp4', 'vid_label': 'cutting watermelon'}, {'vid_name': 'Y-acp_jXG1Q.mp4', 'vid_label': 'sled dog racing'}, {'vid_name': 'chMJGDu0g8w.mp4', 'vid_label': 'riding mechanical bull'}, {'vid_name': 'fBcw-xGGxZI.mp4', 'vid_label': 'pull ups'}, {'vid_name': 'fiKJm0eavfw.mp4', 'vid_label': 'snowkiting'}, {'vid_name': 'hKMt8sgFrDg.mp4', 'vid_label': 'filling eyebrows'}, {'vid_name': 'i8d4Z-FxkrY.mp4', 'vid_label': 'riding mechanical bull'}, {'vid_name': 'mE4-cdQxdgM.mp4', 'vid_label': 'bowling'}, {'vid_name': 'ml4v9_rYeu4.mp4', 'vid_label': 'riding mechanical bull'}, {'vid_name': 'nJqTkVxoft8.mp4', 'vid_label': 'trapezing'}, {'vid_name': 'o79s5eOAF-c.mp4', 'vid_label': 'playing tennis'}, {'vid_name': 'oMT-lPga9h8.mp4', 'vid_label': 'shearing sheep'}, {'vid_name': 'qv32dEIKREg.mp4', 'vid_label': 'bench pressing'}, {'vid_name': 'wL4XUmnamIQ.mp4', 'vid_label': 'riding mechanical bull'}, {'vid_name': 'weBWP6td8ZU.mp4', 'vid_label': 'presenting weather forecast'}, {'vid_name': 'y5vsk8Mj-3w.mp4', 'vid_label': 'crawling baby'}]\n"
     ]
    }
   ],
   "source": [
    "lines = []\n",
    "actual_labels = []\n",
    "with open(VIDEO_CAPTION) as captions_file:\n",
    "    lines= captions_file.readlines()\n",
    "for line in lines:\n",
    "    actual_labels.append({'vid_name': line.split()[0], 'vid_label': labels[int(line.split()[-1])]})\n",
    "actual_labels = sorted(actual_labels, key=lambda label: label['vid_name'])\n",
    "print(actual_labels)\n"
   ]
  },
  {
   "cell_type": "code",
   "execution_count": 37,
   "metadata": {},
   "outputs": [
    {
     "name": "stdout",
     "output_type": "stream",
     "text": [
      "[{'vid_name': '03dk7mneDU0.mp4', 'vid_label': 'presenting weather forecast'}, {'vid_name': '1MmjE51PeIE.mp4', 'vid_label': 'diving cliff'}, {'vid_name': '2PCKDO_cEds.mp4', 'vid_label': 'riding mechanical bull'}, {'vid_name': '7Mtprt8_bqM.mp4', 'vid_label': 'tying tie'}, {'vid_name': '9HoB1hqX1Zw.mp4', 'vid_label': 'riding mechanical bull'}, {'vid_name': 'C5Z1sRArUR0.mp4', 'vid_label': 'presenting weather forecast'}, {'vid_name': 'DYpTE_n-Wvk.mp4', 'vid_label': 'passing American football (in game)'}, {'vid_name': 'EWRO7cZ9w0E.mp4', 'vid_label': 'riding mechanical bull'}, {'vid_name': 'Exd3SE5Zg0k.mp4', 'vid_label': 'playing squash or racquetball'}, {'vid_name': 'EzMqjDPLRhc.mp4', 'vid_label': 'diving cliff'}, {'vid_name': 'IGShO22ldOM.mp4', 'vid_label': 'riding mechanical bull'}, {'vid_name': 'J-1gayS1jc8.mp4', 'vid_label': 'riding or walking with horse'}, {'vid_name': 'JlVJ2vA9vmU.mp4', 'vid_label': 'riding mechanical bull'}, {'vid_name': 'LYnwn3ufbDI.mp4', 'vid_label': 'presenting weather forecast'}, {'vid_name': 'RL16kQZcfTw.mp4', 'vid_label': 'riding mechanical bull'}, {'vid_name': 'S47k3jJS4ew.mp4', 'vid_label': 'picking fruit'}, {'vid_name': 'TKWm13mAlW4.mp4', 'vid_label': 'writing'}, {'vid_name': 'TRcWcUTFY0U.mp4', 'vid_label': 'cutting watermelon'}, {'vid_name': 'Y-acp_jXG1Q.mp4', 'vid_label': 'sled dog racing'}, {'vid_name': 'chMJGDu0g8w.mp4', 'vid_label': 'riding mechanical bull'}, {'vid_name': 'fBcw-xGGxZI.mp4', 'vid_label': 'pull ups'}, {'vid_name': 'fiKJm0eavfw.mp4', 'vid_label': 'ice fishing'}, {'vid_name': 'hKMt8sgFrDg.mp4', 'vid_label': 'filling eyebrows'}, {'vid_name': 'i8d4Z-FxkrY.mp4', 'vid_label': 'riding mechanical bull'}, {'vid_name': 'mE4-cdQxdgM.mp4', 'vid_label': 'bowling'}, {'vid_name': 'ml4v9_rYeu4.mp4', 'vid_label': 'riding mechanical bull'}, {'vid_name': 'nJqTkVxoft8.mp4', 'vid_label': 'trapezing'}, {'vid_name': 'o79s5eOAF-c.mp4', 'vid_label': 'playing tennis'}, {'vid_name': 'oMT-lPga9h8.mp4', 'vid_label': 'shearing sheep'}, {'vid_name': 'qv32dEIKREg.mp4', 'vid_label': 'bench pressing'}, {'vid_name': 'wL4XUmnamIQ.mp4', 'vid_label': 'riding mechanical bull'}, {'vid_name': 'weBWP6td8ZU.mp4', 'vid_label': 'presenting weather forecast'}, {'vid_name': 'y5vsk8Mj-3w.mp4', 'vid_label': 'crawling baby'}]\n"
     ]
    }
   ],
   "source": [
    "predicted_labels = []\n",
    "for pred in sorted_predictions:\n",
    "    predicted_labels.append({'vid_name': pred, 'vid_label': sorted_predictions[pred][0]['name']})\n",
    "predicted_labels = sorted(predicted_labels, key=lambda label: label['vid_name'])\n",
    "print(predicted_labels)"
   ]
  },
  {
   "cell_type": "code",
   "execution_count": 38,
   "metadata": {},
   "outputs": [],
   "source": [
    "c_m_actual_labels = []\n",
    "for label in actual_labels:\n",
    "    c_m_actual_labels.append(label['vid_label'])\n",
    "c_m_predicted_labels = []\n",
    "for label in predicted_labels:\n",
    "    c_m_predicted_labels.append(label['vid_label'])\n",
    "import sys\n",
    "np.set_printoptions(threshold=sys.maxsize)\n",
    "confusion_matrix(c_m_actual_labels, c_m_predicted_labels, labels=labels)\n",
    "l_file = open(logs_file_path, \"a\")  # append mode\n",
    "l_file.write( str(confusion_matrix(c_m_actual_labels, c_m_predicted_labels, labels=labels)) )\n",
    "l_file.close()"
   ]
  },
  {
   "cell_type": "code",
   "execution_count": 39,
   "metadata": {},
   "outputs": [
    {
     "name": "stdout",
     "output_type": "stream",
     "text": [
      "['presenting weather forecast', 'diving cliff', 'riding mechanical bull', 'tying tie', 'riding mechanical bull', 'presenting weather forecast', 'passing American football (in game)', 'riding mechanical bull', 'playing squash or racquetball', 'diving cliff', 'riding mechanical bull', 'riding or walking with horse', 'riding mechanical bull', 'presenting weather forecast', 'riding mechanical bull', 'picking fruit', 'weaving basket', 'cutting watermelon', 'sled dog racing', 'riding mechanical bull', 'pull ups', 'snowkiting', 'filling eyebrows', 'riding mechanical bull', 'bowling', 'riding mechanical bull', 'trapezing', 'playing tennis', 'shearing sheep', 'bench pressing', 'riding mechanical bull', 'presenting weather forecast', 'crawling baby']\n"
     ]
    }
   ],
   "source": [
    "print(c_m_actual_labels)"
   ]
  },
  {
   "cell_type": "code",
   "execution_count": 40,
   "metadata": {},
   "outputs": [
    {
     "name": "stdout",
     "output_type": "stream",
     "text": [
      "['presenting weather forecast', 'diving cliff', 'riding mechanical bull', 'tying tie', 'riding mechanical bull', 'presenting weather forecast', 'passing American football (in game)', 'riding mechanical bull', 'playing squash or racquetball', 'diving cliff', 'riding mechanical bull', 'riding or walking with horse', 'riding mechanical bull', 'presenting weather forecast', 'riding mechanical bull', 'picking fruit', 'writing', 'cutting watermelon', 'sled dog racing', 'riding mechanical bull', 'pull ups', 'ice fishing', 'filling eyebrows', 'riding mechanical bull', 'bowling', 'riding mechanical bull', 'trapezing', 'playing tennis', 'shearing sheep', 'bench pressing', 'riding mechanical bull', 'presenting weather forecast', 'crawling baby']\n"
     ]
    }
   ],
   "source": [
    "print(c_m_predicted_labels)"
   ]
  },
  {
   "cell_type": "code",
   "execution_count": 41,
   "metadata": {},
   "outputs": [],
   "source": [
    "%matplotlib inline\n",
    "import matplotlib.pyplot as plt"
   ]
  },
  {
   "cell_type": "code",
   "execution_count": 47,
   "metadata": {},
   "outputs": [
    {
     "data": {
      "text/plain": [
       "<sklearn.metrics._plot.confusion_matrix.ConfusionMatrixDisplay at 0x1fe431ba180>"
      ]
     },
     "execution_count": 47,
     "metadata": {},
     "output_type": "execute_result"
    },
    {
     "data": {
      "image/png": "[encoded data removed]",
      "text/plain": [
       "<Figure size 640x480 with 2 Axes>"
      ]
     },
     "metadata": {},
     "output_type": "display_data"
    }
   ],
   "source": [
    "#imgplot = plt.imshow(confusion_matrix(c_m_actual_labels, c_m_predicted_labels, labels=labels))\n",
    "# imgplot = plt.imshow(confusion_matrix(c_m_actual_labels, c_m_predicted_labels, labels=['riding mechanical bull', 'presenting weather forecast']))\n",
    "c_m_display_labels = ['riding mechanical bull', \n",
    "                      'presenting weather forecast', \n",
    "                      'sled dog racing', \n",
    "                      'playing squash or racquetball',\n",
    "                      'snowkiting',\n",
    "                      'diving cliff',\n",
    "                      'shearing sheep',\n",
    "                      'pull ups',\n",
    "                      'filling eyebrows',\n",
    "                      'bench pressing',\n",
    "                      'riding or walking with horse',\n",
    "                      'passing American football (in game)',\n",
    "                      'picking fruit',\n",
    "                      'weaving basket',\n",
    "                      'playing tennis',\n",
    "                      'crawling baby',\n",
    "                      'cutting watermelon',\n",
    "                      'tying tie',\n",
    "                      'trapezing',\n",
    "                      'bowling'\n",
    "                     ]\n",
    "disp =  ConfusionMatrixDisplay(confusion_matrix=confusion_matrix(c_m_actual_labels, c_m_predicted_labels, labels=c_m_display_labels),\n",
    "                              display_labels=c_m_display_labels)\n",
    "disp.plot(xticks_rotation = 'vertical')"
   ]
  },
  {
   "cell_type": "code",
   "execution_count": 43,
   "metadata": {},
   "outputs": [],
   "source": [
    "#plt.imsave('conf_matrix.png', confusion_matrix(c_m_actual_labels, c_m_predicted_labels, labels=labels))"
   ]
  },
  {
   "cell_type": "code",
   "execution_count": 48,
   "metadata": {},
   "outputs": [
    {
     "data": {
      "text/plain": [
       "array([[10,  0,  0,  0,  0,  0,  0,  0,  0,  0,  0,  0,  0,  0,  0,  0,\n",
       "         0,  0,  0,  0],\n",
       "       [ 0,  4,  0,  0,  0,  0,  0,  0,  0,  0,  0,  0,  0,  0,  0,  0,\n",
       "         0,  0,  0,  0],\n",
       "       [ 0,  0,  1,  0,  0,  0,  0,  0,  0,  0,  0,  0,  0,  0,  0,  0,\n",
       "         0,  0,  0,  0],\n",
       "       [ 0,  0,  0,  1,  0,  0,  0,  0,  0,  0,  0,  0,  0,  0,  0,  0,\n",
       "         0,  0,  0,  0],\n",
       "       [ 0,  0,  0,  0,  0,  0,  0,  0,  0,  0,  0,  0,  0,  0,  0,  0,\n",
       "         0,  0,  0,  0],\n",
       "       [ 0,  0,  0,  0,  0,  2,  0,  0,  0,  0,  0,  0,  0,  0,  0,  0,\n",
       "         0,  0,  0,  0],\n",
       "       [ 0,  0,  0,  0,  0,  0,  1,  0,  0,  0,  0,  0,  0,  0,  0,  0,\n",
       "         0,  0,  0,  0],\n",
       "       [ 0,  0,  0,  0,  0,  0,  0,  1,  0,  0,  0,  0,  0,  0,  0,  0,\n",
       "         0,  0,  0,  0],\n",
       "       [ 0,  0,  0,  0,  0,  0,  0,  0,  1,  0,  0,  0,  0,  0,  0,  0,\n",
       "         0,  0,  0,  0],\n",
       "       [ 0,  0,  0,  0,  0,  0,  0,  0,  0,  1,  0,  0,  0,  0,  0,  0,\n",
       "         0,  0,  0,  0],\n",
       "       [ 0,  0,  0,  0,  0,  0,  0,  0,  0,  0,  1,  0,  0,  0,  0,  0,\n",
       "         0,  0,  0,  0],\n",
       "       [ 0,  0,  0,  0,  0,  0,  0,  0,  0,  0,  0,  1,  0,  0,  0,  0,\n",
       "         0,  0,  0,  0],\n",
       "       [ 0,  0,  0,  0,  0,  0,  0,  0,  0,  0,  0,  0,  1,  0,  0,  0,\n",
       "         0,  0,  0,  0],\n",
       "       [ 0,  0,  0,  0,  0,  0,  0,  0,  0,  0,  0,  0,  0,  0,  0,  0,\n",
       "         0,  0,  0,  0],\n",
       "       [ 0,  0,  0,  0,  0,  0,  0,  0,  0,  0,  0,  0,  0,  0,  1,  0,\n",
       "         0,  0,  0,  0],\n",
       "       [ 0,  0,  0,  0,  0,  0,  0,  0,  0,  0,  0,  0,  0,  0,  0,  1,\n",
       "         0,  0,  0,  0],\n",
       "       [ 0,  0,  0,  0,  0,  0,  0,  0,  0,  0,  0,  0,  0,  0,  0,  0,\n",
       "         1,  0,  0,  0],\n",
       "       [ 0,  0,  0,  0,  0,  0,  0,  0,  0,  0,  0,  0,  0,  0,  0,  0,\n",
       "         0,  1,  0,  0],\n",
       "       [ 0,  0,  0,  0,  0,  0,  0,  0,  0,  0,  0,  0,  0,  0,  0,  0,\n",
       "         0,  0,  1,  0],\n",
       "       [ 0,  0,  0,  0,  0,  0,  0,  0,  0,  0,  0,  0,  0,  0,  0,  0,\n",
       "         0,  0,  0,  1]], dtype=int64)"
      ]
     },
     "execution_count": 48,
     "metadata": {},
     "output_type": "execute_result"
    }
   ],
   "source": [
    "confusion_matrix(c_m_actual_labels, c_m_predicted_labels, labels=c_m_display_labels)"
   ]
  },
  {
   "cell_type": "code",
   "execution_count": null,
   "metadata": {},
   "outputs": [],
   "source": []
  }
 ],
 "metadata": {
  "celltoolbar": "Edit Metadata",
  "kernelspec": {
   "display_name": "Python 3 (ipykernel)",
   "language": "python",
   "name": "python3"
  },
  "language_info": {
   "codemirror_mode": {
    "name": "ipython",
    "version": 3
   },
   "file_extension": ".py",
   "mimetype": "text/x-python",
   "name": "python",
   "nbconvert_exporter": "python",
   "pygments_lexer": "ipython3",
   "version": "3.12.3"
  },
  "openvino_notebooks": {
   "imageUrl": "https://user-images.githubusercontent.com/10940214/151552326-642d6e49-f5a0-4fc1-bf14-ae3f457e1fec.gif",
   "tags": {
    "categories": [
     "Live Demos"
    ],
    "libraries": [],
    "other": [],
    "tasks": [
     "Image Classification"
    ]
   }
  },
  "widgets": {
   "application/vnd.jupyter.widget-state+json": {
    "state": {},
    "version_major": 2,
    "version_minor": 0
   }
  }
 },
 "nbformat": 4,
 "nbformat_minor": 4
}
