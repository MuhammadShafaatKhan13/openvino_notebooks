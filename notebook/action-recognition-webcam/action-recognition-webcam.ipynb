{
 "cells": [
  {
   "attachments": {},
   "cell_type": "markdown",
   "metadata": {
    "pycharm": {
     "name": "#%% md\n"
    },
    "tags": []
   },
   "source": [
    "# Human Action Recognition with OpenVINO™\n",
    "\n",
    "This notebook demonstrates live human action recognition with OpenVINO, using the [Action Recognition Models](https://docs.openvino.ai/2020.2/usergroup13.html) from [Open Model Zoo](https://github.com/openvinotoolkit/open_model_zoo), specifically an [Encoder](https://docs.openvino.ai/2020.2/_models_intel_action_recognition_0001_encoder_description_action_recognition_0001_encoder.html) and a [Decoder](https://docs.openvino.ai/2020.2/_models_intel_action_recognition_0001_decoder_description_action_recognition_0001_decoder.html). Both models create a sequence to sequence (`\"seq2seq\"`) \\[1\\] system to identify the human activities for [Kinetics-400 dataset](https://deepmind.com/research/open-source/kinetics). The models use the Video Transformer approach with ResNet34 encoder \\[2\\]. The notebook shows how to create the following pipeline:\n",
    "\n",
    "<img align='center' src=\"https://user-images.githubusercontent.com/10940214/148401661-477aebcd-f2d0-4771-b107-4b37f94d0b1e.jpeg\" alt=\"drawing\" width=\"1000\"/>\n",
    "\n",
    "Final part of this notebook shows live inference results from a webcam. Additionally, you can also upload a video file.\n",
    "\n",
    "**NOTE**: To use a webcam, you must run this Jupyter notebook on a computer with a webcam. If you run on a server, the webcam will not work. However, you can still do inference on a video in the final step.\n",
    "\n",
    "---\n",
    "\n",
    "\\[1\\] seq2seq: Deep learning models that take a sequence of items to the input and output. In this case, input: video frames, output: actions sequence. This `\"seq2seq\"` is composed of an encoder and a decoder. The encoder captures `\"context\"` of the inputs to be analyzed by the decoder, and finally gets the human action and confidence.\n",
    "\n",
    "\\[2\\] [Video Transformer](https://en.wikipedia.org/wiki/Transformer_(machine_learning_model)) and [ResNet34](https://pytorch.org/vision/main/models/generated/torchvision.models.resnet34.html).\n",
    "\n",
    "\n",
    "\n",
    "#### Table of contents:\n",
    "\n",
    "- [Imports](#Imports)\n",
    "- [The models](#The-models)\n",
    "    - [Download the models](#Download-the-models)\n",
    "    - [Load your labels](#Load-your-labels)\n",
    "    - [Load the models](#Load-the-models)\n",
    "        - [Model Initialization function](#Model-Initialization-function)\n",
    "        - [Initialization for Encoder and Decoder](#Initialization-for-Encoder-and-Decoder)\n",
    "    - [Helper functions](#Helper-functions)\n",
    "    - [AI Functions](#AI-Functions)\n",
    "    - [Main Processing Function](#Main-Processing-Function)\n",
    "    - [Run Action Recognition](#Run-Action-Recognition)\n",
    "\n"
   ]
  },
  {
   "cell_type": "code",
   "execution_count": 1,
   "metadata": {},
   "outputs": [
    {
     "name": "stdout",
     "output_type": "stream",
     "text": [
      "Note: you may need to restart the kernel to use updated packages.\n"
     ]
    }
   ],
   "source": [
    "%pip install -q \"openvino>=2024.0.0\" \"opencv-python\" \"tqdm\" \"python-dotenv\" \"spacy\" \"nltk\" \"scikit-learn\" \"matplotlib\""
   ]
  },
  {
   "cell_type": "markdown",
   "metadata": {},
   "source": [
    "## Natural Language Processing"
   ]
  },
  {
   "cell_type": "code",
   "execution_count": 69,
   "metadata": {},
   "outputs": [
    {
     "name": "stderr",
     "output_type": "stream",
     "text": [
      "[nltk_data] Downloading package wordnet to\n",
      "[nltk_data]     C:\\Users\\shafa\\AppData\\Roaming\\nltk_data...\n",
      "[nltk_data]   Package wordnet is already up-to-date!\n",
      "[nltk_data] Downloading package punkt to\n",
      "[nltk_data]     C:\\Users\\shafa\\AppData\\Roaming\\nltk_data...\n",
      "[nltk_data]   Package punkt is already up-to-date!\n",
      "[nltk_data] Downloading package averaged_perceptron_tagger to\n",
      "[nltk_data]     C:\\Users\\shafa\\AppData\\Roaming\\nltk_data...\n",
      "[nltk_data]   Package averaged_perceptron_tagger is already up-to-\n",
      "[nltk_data]       date!\n",
      "[nltk_data] Downloading package universal_tagset to\n",
      "[nltk_data]     C:\\Users\\shafa\\AppData\\Roaming\\nltk_data...\n",
      "[nltk_data]   Unzipping taggers\\universal_tagset.zip.\n"
     ]
    },
    {
     "data": {
      "text/plain": [
       "True"
      ]
     },
     "execution_count": 69,
     "metadata": {},
     "output_type": "execute_result"
    }
   ],
   "source": [
    "import nltk\n",
    "import spacy\n",
    "from nltk.corpus import wordnet\n",
    "#spacy_nlp = spacy.load(\"en_core_web_lg\")\n",
    "spacy_nlp = spacy.load(\"en_core_web_trf\")\n",
    "nltk.download('wordnet')\n",
    "nltk.download('punkt')\n",
    "nltk.download('averaged_perceptron_tagger')\n",
    "nltk.download('universal_tagset')"
   ]
  },
  {
   "cell_type": "code",
   "execution_count": 3,
   "metadata": {},
   "outputs": [
    {
     "data": {
      "text/plain": [
       "[Synset('look.v.01')]"
      ]
     },
     "execution_count": 3,
     "metadata": {},
     "output_type": "execute_result"
    }
   ],
   "source": [
    "wordnet.synset('stare.v.02').hypernyms() "
   ]
  },
  {
   "cell_type": "code",
   "execution_count": 4,
   "metadata": {},
   "outputs": [
    {
     "data": {
      "text/plain": [
       "'judge or regard; look upon; judge'"
      ]
     },
     "execution_count": 4,
     "metadata": {},
     "output_type": "execute_result"
    }
   ],
   "source": [
    "wordnet.synset('think.v.01').definition()"
   ]
  },
  {
   "cell_type": "code",
   "execution_count": 5,
   "metadata": {},
   "outputs": [
    {
     "data": {
      "text/plain": [
       "'form a critical opinion of'"
      ]
     },
     "execution_count": 5,
     "metadata": {},
     "output_type": "execute_result"
    }
   ],
   "source": [
    "wordnet.synset('evaluate.v.02').definition()"
   ]
  },
  {
   "cell_type": "code",
   "execution_count": 6,
   "metadata": {},
   "outputs": [
    {
     "data": {
      "text/plain": [
       "\"use or exercise the mind or one's power of reason in order to make inferences, decisions, or arrive at a solution or judgments\""
      ]
     },
     "execution_count": 6,
     "metadata": {},
     "output_type": "execute_result"
    }
   ],
   "source": [
    "wordnet.synset('think.v.03').definition()"
   ]
  },
  {
   "cell_type": "code",
   "execution_count": 7,
   "metadata": {},
   "outputs": [
    {
     "data": {
      "text/plain": [
       "[Synset('think.v.03')]"
      ]
     },
     "execution_count": 7,
     "metadata": {},
     "output_type": "execute_result"
    }
   ],
   "source": [
    "wordnet.synset('evaluate.v.02').hypernyms() "
   ]
  },
  {
   "cell_type": "code",
   "execution_count": 8,
   "metadata": {},
   "outputs": [
    {
     "data": {
      "text/plain": [
       "[]"
      ]
     },
     "execution_count": 8,
     "metadata": {},
     "output_type": "execute_result"
    }
   ],
   "source": [
    "wordnet.synset('think.v.03').hypernyms() "
   ]
  },
  {
   "cell_type": "code",
   "execution_count": 9,
   "metadata": {},
   "outputs": [
    {
     "name": "stdout",
     "output_type": "stream",
     "text": [
      "Synset('get.v.11')\n"
     ]
    }
   ],
   "source": [
    "# Word Sense Disambiguation:\n",
    "from nltk.wsd import lesk \n",
    "caption = ['catching', 'or', 'throwing', 'frisbee'] \n",
    "print(lesk(caption, 'catching')) \n"
   ]
  },
  {
   "cell_type": "code",
   "execution_count": 10,
   "metadata": {},
   "outputs": [
    {
     "data": {
      "text/plain": [
       "'succeed in catching or seizing, especially after a chase'"
      ]
     },
     "execution_count": 10,
     "metadata": {},
     "output_type": "execute_result"
    }
   ],
   "source": [
    "wordnet.synset('get.v.11').definition()"
   ]
  },
  {
   "cell_type": "code",
   "execution_count": 11,
   "metadata": {},
   "outputs": [
    {
     "data": {
      "text/plain": [
       "[Synset('seize.v.01')]"
      ]
     },
     "execution_count": 11,
     "metadata": {},
     "output_type": "execute_result"
    }
   ],
   "source": [
    "wordnet.synset('get.v.11').hypernyms() "
   ]
  },
  {
   "cell_type": "code",
   "execution_count": 12,
   "metadata": {},
   "outputs": [
    {
     "data": {
      "text/plain": [
       "'take hold of; grab'"
      ]
     },
     "execution_count": 12,
     "metadata": {},
     "output_type": "execute_result"
    }
   ],
   "source": [
    "wordnet.synset('seize.v.01').definition()"
   ]
  },
  {
   "cell_type": "code",
   "execution_count": 13,
   "metadata": {},
   "outputs": [
    {
     "data": {
      "text/plain": [
       "[Synset('work.v.12')]"
      ]
     },
     "execution_count": 13,
     "metadata": {},
     "output_type": "execute_result"
    }
   ],
   "source": [
    "wordnet.synset('exercise.v.03').hypernyms() "
   ]
  },
  {
   "cell_type": "code",
   "execution_count": 14,
   "metadata": {},
   "outputs": [
    {
     "data": {
      "text/plain": [
       "'rise up'"
      ]
     },
     "execution_count": 14,
     "metadata": {},
     "output_type": "execute_result"
    }
   ],
   "source": [
    "wordnet.synset('rise.v.04').definition()"
   ]
  },
  {
   "cell_type": "code",
   "execution_count": 15,
   "metadata": {},
   "outputs": [
    {
     "data": {
      "text/plain": [
       "[Synset('look.v.02')]"
      ]
     },
     "execution_count": 15,
     "metadata": {},
     "output_type": "execute_result"
    }
   ],
   "source": [
    "wordnet.synset('rise.v.04').hypernyms() "
   ]
  },
  {
   "cell_type": "code",
   "execution_count": 16,
   "metadata": {},
   "outputs": [
    {
     "data": {
      "text/plain": [
       "[Synset('rise.v.01'),\n",
       " Synset('rise.v.02'),\n",
       " Synset('arise.v.03'),\n",
       " Synset('rise.v.04'),\n",
       " Synset('surface.v.01'),\n",
       " Synset('originate.v.01'),\n",
       " Synset('ascend.v.08'),\n",
       " Synset('wax.v.02'),\n",
       " Synset('heighten.v.01'),\n",
       " Synset('get_up.v.02'),\n",
       " Synset('rise.v.11'),\n",
       " Synset('rise.v.12'),\n",
       " Synset('rise.v.13'),\n",
       " Synset('rebel.v.01'),\n",
       " Synset('rise.v.15'),\n",
       " Synset('rise.v.16'),\n",
       " Synset('resurrect.v.03')]"
      ]
     },
     "execution_count": 16,
     "metadata": {},
     "output_type": "execute_result"
    }
   ],
   "source": [
    "wordnet.synsets('rise', pos=wordnet.VERB) \n"
   ]
  },
  {
   "cell_type": "code",
   "execution_count": 17,
   "metadata": {},
   "outputs": [
    {
     "name": "stdout",
     "output_type": "stream",
     "text": [
      "Natural natural ADJ JJ amod Xxxxx True False\n",
      "language language NOUN NN compound xxxx True False\n",
      "processing processing NOUN NN nsubj xxxx True False\n",
      ", , PUNCT , punct , False False\n",
      "or or CCONJ CC cc xx True True\n",
      "NLP NLP PROPN NNP conj XXX True False\n",
      ", , PUNCT , punct , False False\n",
      "combines combine VERB VBZ ROOT xxxx True False\n",
      "computational computational ADJ JJ amod xxxx True False\n",
      "linguistics linguistic NOUN NNS dobj xxxx True False\n",
      "— — PUNCT : punct — False False\n",
      "rule rule NOUN NN npadvmod xxxx True False\n",
      "- - PUNCT HYPH punct - False False\n",
      "based base VERB VBN amod xxxx True False\n",
      "modeling modeling NOUN NN appos xxxx True False\n",
      "of of ADP IN prep xx True True\n",
      "human human ADJ JJ amod xxxx True False\n",
      "language language NOUN NN pobj xxxx True False\n",
      "— — PUNCT : punct — False False\n",
      "with with ADP IN prep xxxx True True\n",
      "statistical statistical ADJ JJ amod xxxx True False\n",
      "and and CCONJ CC cc xxx True True\n",
      "machine machine NOUN NN compound xxxx True False\n",
      "learning learning NOUN NN conj xxxx True False\n",
      "models model NOUN NNS pobj xxxx True False\n",
      "to to PART TO aux xx True True\n",
      "enable enable VERB VB advcl xxxx True False\n",
      "computers computer NOUN NNS dobj xxxx True False\n",
      "and and CCONJ CC cc xxx True True\n",
      "digital digital ADJ JJ amod xxxx True False\n",
      "devices device NOUN NNS conj xxxx True False\n",
      "to to PART TO aux xx True True\n",
      "recognize recognize VERB VB xcomp xxxx True False\n",
      ", , PUNCT , punct , False False\n",
      "understand understand VERB VB conj xxxx True False\n",
      "and and CCONJ CC cc xxx True True\n",
      "generate generate VERB VB conj xxxx True False\n",
      "text text NOUN NN dobj xxxx True False\n",
      "and and CCONJ CC cc xxx True True\n",
      "speech speech NOUN NN conj xxxx True False\n",
      ". . PUNCT . punct . False False\n"
     ]
    }
   ],
   "source": [
    "doc = spacy_nlp(\"Natural language processing, or NLP, combines computational linguistics—rule-based modeling of human language—with statistical and machine learning models to enable computers and digital devices to recognize, understand and generate text and speech.\")\n",
    "\n",
    "for token in doc:\n",
    "    print(token.text, token.lemma_, token.pos_, token.tag_, token.dep_,\n",
    "            token.shape_, token.is_alpha, token.is_stop)"
   ]
  },
  {
   "attachments": {},
   "cell_type": "markdown",
   "metadata": {
    "pycharm": {
     "name": "#%% md\n"
    }
   },
   "source": [
    "## Imports\n",
    "[back to top ⬆️](#Table-of-contents:)\n"
   ]
  },
  {
   "cell_type": "code",
   "execution_count": 18,
   "metadata": {
    "pycharm": {
     "name": "#%%\n"
    }
   },
   "outputs": [],
   "source": [
    "import collections\n",
    "import os\n",
    "import time\n",
    "import json\n",
    "from typing import Tuple, List\n",
    "\n",
    "from pathlib import Path\n",
    "from dotenv import load_dotenv\n",
    "from sklearn.metrics import confusion_matrix, ConfusionMatrixDisplay, precision_score\n",
    "\n",
    "import cv2\n",
    "import numpy as np\n",
    "from IPython import display\n",
    "import openvino as ov\n",
    "\n",
    "from openvino.runtime.ie_api import CompiledModel\n",
    "\n",
    "# Fetch `notebook_utils` module\n",
    "import requests\n",
    "\n",
    "r = requests.get(\n",
    "    url=\"https://raw.githubusercontent.com/openvinotoolkit/openvino_notebooks/latest/utils/notebook_utils.py\",\n",
    ")\n",
    "open(\"notebook_utils.py\", \"w\").write(r.text)\n",
    "import notebook_utils as utils"
   ]
  },
  {
   "cell_type": "code",
   "execution_count": 19,
   "metadata": {},
   "outputs": [
    {
     "name": "stdout",
     "output_type": "stream",
     "text": [
      "['v_CliffDiving_g01_c01.avi', 'v_CliffDiving_g01_c02.avi', 'v_CliffDiving_g01_c03.avi', 'v_CliffDiving_g01_c04.avi', 'v_CliffDiving_g01_c05.avi', 'v_CliffDiving_g01_c06.avi', 'v_CliffDiving_g02_c01.avi', 'v_CliffDiving_g02_c02.avi', 'v_CliffDiving_g02_c03.avi', 'v_CliffDiving_g02_c04.avi', 'v_CliffDiving_g03_c01.avi', 'v_CliffDiving_g03_c02.avi']\n"
     ]
    }
   ],
   "source": [
    "load_dotenv()\n",
    "VIDEOS_PATH = os.environ['VIDEOS_PATH']\n",
    "VIDEOS = os.listdir(VIDEOS_PATH)\n",
    "# VIDEO_CAPTION = os.environ['CAPTIONS']\n",
    "print(VIDEOS)\n"
   ]
  },
  {
   "attachments": {},
   "cell_type": "markdown",
   "metadata": {},
   "source": [
    "## The models\n",
    "[back to top ⬆️](#Table-of-contents:)\n",
    "\n",
    "### Download the models\n",
    "[back to top ⬆️](#Table-of-contents:)\n",
    "\n",
    "Use the `download_ir_model`, a function from the `notebook_utils` file. It automatically creates a directory structure and downloads the selected model.\n",
    "\n",
    "In this case you can use `\"action-recognition-0001\"` as a model name, and the system automatically downloads the two models `\"action-recognition-0001-encoder\"` and `\"action-recognition-0001-decoder\"`\n",
    "\n",
    "> **NOTE**: If you want to download another model, such as `\"driver-action-recognition-adas-0002\"` (`\"driver-action-recognition-adas-0002-encoder\"` + `\"driver-action-recognition-adas-0002-decoder\"`), replace the name of the model in the code below. Using a model outside the list can require different pre- and post-processing. "
   ]
  },
  {
   "cell_type": "code",
   "execution_count": 20,
   "metadata": {
    "tags": []
   },
   "outputs": [],
   "source": [
    "#to store predictions of each frame\n",
    "all_predictions_dict={}\n",
    "logs_file_path=os.getcwd() + \"\\\\logs.txt\"\n",
    "open(logs_file_path, 'w').close()\n",
    "# A directory where the model will be downloaded.\n",
    "base_model_dir = \"model\"\n",
    "# The name of the model from Open Model Zoo.\n",
    "model_name = \"action-recognition-0001\"\n",
    "# Selected precision (FP32, FP16, FP16-INT8).\n",
    "precision = \"FP16\"\n",
    "model_path_decoder = f\"model/intel/{model_name}/{model_name}-decoder/{precision}/{model_name}-decoder.xml\"\n",
    "model_path_encoder = f\"model/intel/{model_name}/{model_name}-encoder/{precision}/{model_name}-encoder.xml\"\n",
    "encoder_url = f\"https://storage.openvinotoolkit.org/repositories/open_model_zoo/temp/{model_name}/{model_name}-encoder/{precision}/{model_name}-encoder.xml\"\n",
    "decoder_url = f\"https://storage.openvinotoolkit.org/repositories/open_model_zoo/temp/{model_name}/{model_name}-decoder/{precision}/{model_name}-decoder.xml\"\n",
    "\n",
    "if not os.path.exists(model_path_decoder):\n",
    "    utils.download_ir_model(decoder_url, Path(model_path_decoder).parent)\n",
    "if not os.path.exists(model_path_encoder):\n",
    "    utils.download_ir_model(encoder_url, Path(model_path_encoder).parent)"
   ]
  },
  {
   "cell_type": "code",
   "execution_count": null,
   "metadata": {},
   "outputs": [],
   "source": [
    "\n",
    "\n",
    "\n"
   ]
  },
  {
   "attachments": {},
   "cell_type": "markdown",
   "metadata": {},
   "source": [
    "### Load your labels\n",
    "[back to top ⬆️](#Table-of-contents:)\n",
    "\n",
    "This tutorial uses [Kinetics-400 dataset](https://deepmind.com/research/open-source/kinetics), and also provides the text file embedded into this notebook. \n",
    "\n",
    "> **NOTE**: If you want to run `\"driver-action-recognition-adas-0002\"` model, replace the `kinetics.txt` file to `driver_actions.txt`."
   ]
  },
  {
   "cell_type": "code",
   "execution_count": 21,
   "metadata": {},
   "outputs": [
    {
     "name": "stdout",
     "output_type": "stream",
     "text": [
      "'data\\kinetics.txt' already exists.\n",
      "['abseiling', 'air drumming', 'answering questions', 'applauding', 'applying cream', 'archery', 'arm wrestling', 'arranging flowers', 'assembling computer'] (400,)\n",
      "<class 'list'>\n"
     ]
    }
   ],
   "source": [
    "# Download the text from the openvino_notebooks storage\n",
    "vocab_file_path = utils.download_file(\n",
    "    \"https://storage.openvinotoolkit.org/repositories/openvino_notebooks/data/data/text/kinetics.txt\",\n",
    "    directory=\"data\",\n",
    ")\n",
    "\n",
    "with vocab_file_path.open(mode=\"r\") as f:\n",
    "    labels = [line.strip() for line in f]\n",
    "\n",
    "print(labels[0:9], np.shape(labels))\n",
    "print(type(labels))\n"
   ]
  },
  {
   "attachments": {},
   "cell_type": "markdown",
   "metadata": {
    "pycharm": {
     "name": "#%% md\n"
    }
   },
   "source": [
    "### Load the models\n",
    "[back to top ⬆️](#Table-of-contents:)\n",
    "\n",
    "Load the two models for this particular architecture, Encoder and Decoder. Downloaded models are located in a fixed structure, indicating a vendor, the name of the model, and a precision.\n",
    "\n",
    " 1. Initialize OpenVINO Runtime.\n",
    " 2. Read the network from `*.bin` and `*.xml` files (weights and architecture).\n",
    " 3. Compile the model for specified device.\n",
    " 4. Get input and output names of nodes.\n",
    "\n",
    "Only a few lines of code are required to run the model."
   ]
  },
  {
   "attachments": {},
   "cell_type": "markdown",
   "metadata": {},
   "source": [
    "Select device from dropdown list for running inference using OpenVINO"
   ]
  },
  {
   "cell_type": "code",
   "execution_count": 22,
   "metadata": {},
   "outputs": [
    {
     "data": {
      "application/vnd.jupyter.widget-view+json": {
       "model_id": "bdaaefef911f485b986ca49bbf421dfc",
       "version_major": 2,
       "version_minor": 0
      },
      "text/plain": [
       "Dropdown(description='Device:', index=2, options=('CPU', 'GPU', 'AUTO'), value='AUTO')"
      ]
     },
     "execution_count": 22,
     "metadata": {},
     "output_type": "execute_result"
    }
   ],
   "source": [
    "import ipywidgets as widgets\n",
    "\n",
    "core = ov.Core()\n",
    "device = widgets.Dropdown(\n",
    "    options=core.available_devices + [\"AUTO\"],\n",
    "    value=\"AUTO\",\n",
    "    description=\"Device:\",\n",
    "    disabled=False,\n",
    ")\n",
    "\n",
    "device"
   ]
  },
  {
   "attachments": {},
   "cell_type": "markdown",
   "metadata": {},
   "source": [
    "#### Model Initialization function\n",
    "[back to top ⬆️](#Table-of-contents:)\n"
   ]
  },
  {
   "cell_type": "code",
   "execution_count": 23,
   "metadata": {},
   "outputs": [],
   "source": [
    "# Initialize OpenVINO Runtime.\n",
    "core = ov.Core()\n",
    "\n",
    "\n",
    "def model_init(model_path: str, device: str) -> Tuple:\n",
    "    \"\"\"\n",
    "    Read the network and weights from a file, load the\n",
    "    model on CPU and get input and output names of nodes\n",
    "\n",
    "    :param:\n",
    "            model: model architecture path *.xml\n",
    "            device: inference device\n",
    "    :retuns:\n",
    "            compiled_model: Compiled model\n",
    "            input_key: Input node for model\n",
    "            output_key: Output node for model\n",
    "    \"\"\"\n",
    "\n",
    "    # Read the network and corresponding weights from a file.\n",
    "    model = core.read_model(model=model_path)\n",
    "    l_file = open(logs_file_path, \"a\")  # append mode\n",
    "    l_file.write(\"\\nmodel:\\n\" )\n",
    "    l_file.write(str(model ))\n",
    "    l_file.close()\n",
    "    # Compile the model for specified device.\n",
    "    compiled_model = core.compile_model(model=model, device_name=device)\n",
    "    # Get input and output names of nodes.\n",
    "    input_keys = compiled_model.input(0)\n",
    "    l_file = open(logs_file_path, \"a\")  # append mode\n",
    "    l_file.write(\"\\ninput keys:\\n\" )\n",
    "    l_file.write(str(input_keys ))\n",
    "    l_file.close()\n",
    "    output_keys = compiled_model.output(0)\n",
    "    return input_keys, output_keys, compiled_model"
   ]
  },
  {
   "attachments": {},
   "cell_type": "markdown",
   "metadata": {},
   "source": [
    "#### Initialization for Encoder and Decoder\n",
    "[back to top ⬆️](#Table-of-contents:)\n"
   ]
  },
  {
   "cell_type": "code",
   "execution_count": 24,
   "metadata": {},
   "outputs": [
    {
     "name": "stdout",
     "output_type": "stream",
     "text": [
      "16\n"
     ]
    }
   ],
   "source": [
    "l_file = open(logs_file_path, \"a\")  # append mode\n",
    "l_file.write(\"\\nmodel peth encoder:\\n\" )\n",
    "l_file.write(str(model_path_encoder ))\n",
    "l_file.write(\"\\nmodel peth decoder:\\n\" )\n",
    "l_file.write(str(model_path_decoder ))\n",
    "l_file.close()\n",
    "# Encoder initialization\n",
    "input_key_en, output_keys_en, compiled_model_en = model_init(model_path_encoder, device.value)\n",
    "# Decoder initialization\n",
    "input_key_de, output_keys_de, compiled_model_de = model_init(model_path_decoder, device.value)\n",
    "\n",
    "# Get input size - Encoder.\n",
    "height_en, width_en = list(input_key_en.shape)[2:]\n",
    "# Get input size - Decoder.\n",
    "frames2decode = list(input_key_de.shape)[0:][1]\n",
    "print(frames2decode)"
   ]
  },
  {
   "attachments": {},
   "cell_type": "markdown",
   "metadata": {},
   "source": [
    "### Helper functions\n",
    "[back to top ⬆️](#Table-of-contents:)\n",
    "\n",
    "Use the following helper functions for preprocessing and postprocessing frames:\n",
    "\n",
    "1. Preprocess the input image before running the Encoder model. (`center_crop` and `adaptative_resize`)\n",
    "2. Decode top-3 probabilities into label names. (`decode_output`)\n",
    "3. Draw the Region of Interest (ROI) over the video. (`rec_frame_display`)\n",
    "4. Prepare the frame for displaying label names over the video. (`display_text_fnc`)"
   ]
  },
  {
   "cell_type": "code",
   "execution_count": 25,
   "metadata": {},
   "outputs": [],
   "source": [
    "def center_crop(frame: np.ndarray) -> np.ndarray:\n",
    "    \"\"\"\n",
    "    Center crop squared the original frame to standardize the input image to the encoder model\n",
    "\n",
    "    :param frame: input frame\n",
    "    :returns: center-crop-squared frame\n",
    "    \"\"\"\n",
    "    img_h, img_w, _ = frame.shape\n",
    "    min_dim = min(img_h, img_w)\n",
    "    start_x = int((img_w - min_dim) / 2.0)\n",
    "    start_y = int((img_h - min_dim) / 2.0)\n",
    "    roi = [start_y, (start_y + min_dim), start_x, (start_x + min_dim)]\n",
    "    return frame[start_y : (start_y + min_dim), start_x : (start_x + min_dim), ...], roi\n",
    "\n",
    "\n",
    "def adaptive_resize(frame: np.ndarray, size: int) -> np.ndarray:\n",
    "    \"\"\"\n",
    "     The frame going to be resized to have a height of size or a width of size\n",
    "\n",
    "    :param frame: input frame\n",
    "    :param size: input size to encoder model\n",
    "    :returns: resized frame, np.array type\n",
    "    \"\"\"\n",
    "    h, w, _ = frame.shape\n",
    "    scale = size / min(h, w)\n",
    "    w_scaled, h_scaled = int(w * scale), int(h * scale)\n",
    "    if w_scaled == w and h_scaled == h:\n",
    "        return frame\n",
    "    return cv2.resize(frame, (w_scaled, h_scaled))\n",
    "\n",
    "\n",
    "def decode_output(probs: np.ndarray, labels: np.ndarray, top_k: int = 3) -> np.ndarray:\n",
    "    \"\"\"\n",
    "    Decodes top probabilities into corresponding label names\n",
    "\n",
    "    :param probs: confidence vector for 400 actions\n",
    "    :param labels: list of actions\n",
    "    :param top_k: The k most probable positions in the list of labels\n",
    "    :returns: decoded_labels: The k most probable actions from the labels list\n",
    "              decoded_top_probs: confidence for the k most probable actions\n",
    "    \"\"\"\n",
    "    top_ind = np.argsort(-1 * probs)[:top_k]\n",
    "    out_label = np.array(labels)[top_ind.astype(int)]\n",
    "    decoded_labels = [out_label[0][0], out_label[0][1], out_label[0][2]]\n",
    "    top_probs = np.array(probs)[0][top_ind.astype(int)]\n",
    "    decoded_top_probs = [top_probs[0][0], top_probs[0][1], top_probs[0][2]]\n",
    "    return decoded_labels, decoded_top_probs\n",
    "\n",
    "\n",
    "def rec_frame_display(frame: np.ndarray, roi) -> np.ndarray:\n",
    "    \"\"\"\n",
    "    Draw a rec frame over actual frame\n",
    "\n",
    "    :param frame: input frame\n",
    "    :param roi: Region of interest, image section processed by the Encoder\n",
    "    :returns: frame with drawed shape\n",
    "\n",
    "    \"\"\"\n",
    "\n",
    "    cv2.line(frame, (roi[2] + 3, roi[0] + 3), (roi[2] + 3, roi[0] + 100), (0, 200, 0), 2)\n",
    "    cv2.line(frame, (roi[2] + 3, roi[0] + 3), (roi[2] + 100, roi[0] + 3), (0, 200, 0), 2)\n",
    "    cv2.line(frame, (roi[3] - 3, roi[1] - 3), (roi[3] - 3, roi[1] - 100), (0, 200, 0), 2)\n",
    "    cv2.line(frame, (roi[3] - 3, roi[1] - 3), (roi[3] - 100, roi[1] - 3), (0, 200, 0), 2)\n",
    "    cv2.line(frame, (roi[3] - 3, roi[0] + 3), (roi[3] - 3, roi[0] + 100), (0, 200, 0), 2)\n",
    "    cv2.line(frame, (roi[3] - 3, roi[0] + 3), (roi[3] - 100, roi[0] + 3), (0, 200, 0), 2)\n",
    "    cv2.line(frame, (roi[2] + 3, roi[1] - 3), (roi[2] + 3, roi[1] - 100), (0, 200, 0), 2)\n",
    "    cv2.line(frame, (roi[2] + 3, roi[1] - 3), (roi[2] + 100, roi[1] - 3), (0, 200, 0), 2)\n",
    "    # Write ROI over actual frame\n",
    "    FONT_STYLE = cv2.FONT_HERSHEY_SIMPLEX\n",
    "    org = (roi[2] + 3, roi[1] - 3)\n",
    "    org2 = (roi[2] + 2, roi[1] - 2)\n",
    "    FONT_SIZE = 0.5\n",
    "    FONT_COLOR = (0, 200, 0)\n",
    "    FONT_COLOR2 = (0, 0, 0)\n",
    "    cv2.putText(frame, \"ROI\", org2, FONT_STYLE, FONT_SIZE, FONT_COLOR2)\n",
    "    cv2.putText(frame, \"ROI\", org, FONT_STYLE, FONT_SIZE, FONT_COLOR)\n",
    "    return frame\n",
    "\n",
    "\n",
    "def display_text_fnc(frame: np.ndarray, display_text: str, index: int):\n",
    "    \"\"\"\n",
    "    Include a text on the analyzed frame\n",
    "\n",
    "    :param frame: input frame\n",
    "    :param display_text: text to add on the frame\n",
    "    :param index: index line dor adding text\n",
    "\n",
    "    \"\"\"\n",
    "    # Configuration for displaying images with text.\n",
    "    FONT_COLOR = (255, 255, 255)\n",
    "    FONT_COLOR2 = (0, 0, 0)\n",
    "    FONT_STYLE = cv2.FONT_HERSHEY_DUPLEX\n",
    "    FONT_SIZE = 0.7\n",
    "    TEXT_VERTICAL_INTERVAL = 25\n",
    "    TEXT_LEFT_MARGIN = 15\n",
    "    # ROI over actual frame\n",
    "    (processed, roi) = center_crop(frame)\n",
    "    # Draw a ROI over actual frame.\n",
    "    frame = rec_frame_display(frame, roi)\n",
    "    # Put a text over actual frame.\n",
    "    text_loc = (TEXT_LEFT_MARGIN, TEXT_VERTICAL_INTERVAL * (index + 1))\n",
    "    text_loc2 = (TEXT_LEFT_MARGIN + 1, TEXT_VERTICAL_INTERVAL * (index + 1) + 1)\n",
    "    cv2.putText(frame, display_text, text_loc2, FONT_STYLE, FONT_SIZE, FONT_COLOR2)\n",
    "    cv2.putText(frame, display_text, text_loc, FONT_STYLE, FONT_SIZE, FONT_COLOR)"
   ]
  },
  {
   "attachments": {},
   "cell_type": "markdown",
   "metadata": {},
   "source": [
    "### AI Functions\n",
    "[back to top ⬆️](#Table-of-contents:)\n",
    "\n",
    "<img align='center' src=\"https://user-images.githubusercontent.com/10940214/148401661-477aebcd-f2d0-4771-b107-4b37f94d0b1e.jpeg\" alt=\"drawing\" width=\"1000\"/>\n",
    "\n",
    "Following the pipeline above, you will use the next functions to:\n",
    "\n",
    "1. Preprocess a frame before running the Encoder. (`preprocessing`)\n",
    "2. Encoder Inference per frame. (`encoder`)\n",
    "3. Decoder inference per set of frames. (`decoder`)\n",
    "4. Normalize the Decoder output to get confidence values per action recognition label. (`softmax`)"
   ]
  },
  {
   "cell_type": "code",
   "execution_count": 26,
   "metadata": {},
   "outputs": [],
   "source": [
    "def preprocessing(frame: np.ndarray, size: int) -> np.ndarray:\n",
    "    \"\"\"\n",
    "    Preparing frame before Encoder.\n",
    "    The image should be scaled to its shortest dimension at \"size\"\n",
    "    and cropped, centered, and squared so that both width and\n",
    "    height have lengths \"size\". The frame must be transposed from\n",
    "    Height-Width-Channels (HWC) to Channels-Height-Width (CHW).\n",
    "\n",
    "    :param frame: input frame\n",
    "    :param size: input size to encoder model\n",
    "    :returns: resized and cropped frame\n",
    "    \"\"\"\n",
    "    # Adaptative resize\n",
    "    preprocessed = adaptive_resize(frame, size)\n",
    "    # Center_crop\n",
    "    (preprocessed, roi) = center_crop(preprocessed)\n",
    "    # Transpose frame HWC -> CHW\n",
    "    preprocessed = preprocessed.transpose((2, 0, 1))[None,]  # HWC -> CHW\n",
    "    return preprocessed, roi\n",
    "\n",
    "\n",
    "def encoder(preprocessed: np.ndarray, compiled_model: CompiledModel) -> List:\n",
    "    \"\"\"\n",
    "    Encoder Inference per frame. This function calls the network previously\n",
    "    configured for the encoder model (compiled_model), extracts the data\n",
    "    from the output node, and appends it in an array to be used by the decoder.\n",
    "\n",
    "    :param: preprocessed: preprocessing frame\n",
    "    :param: compiled_model: Encoder model network\n",
    "    :returns: encoder_output: embedding layer that is appended with each arriving frame\n",
    "    \"\"\"\n",
    "    output_key_en = compiled_model.output(0)\n",
    "\n",
    "    # Get results on action-recognition-0001-encoder model\n",
    "    infer_result_encoder = compiled_model([preprocessed])[output_key_en]\n",
    "    return infer_result_encoder\n",
    "\n",
    "\n",
    "def decoder(encoder_output: List, compiled_model_de: CompiledModel) -> List:\n",
    "    \"\"\"\n",
    "    Decoder inference per set of frames. This function concatenates the embedding layer\n",
    "    froms the encoder output, transpose the array to match with the decoder input size.\n",
    "    Calls the network previously configured for the decoder model (compiled_model_de), extracts\n",
    "    the logits and normalize those to get confidence values along specified axis.\n",
    "    Decodes top probabilities into corresponding label names\n",
    "\n",
    "    :param: encoder_output: embedding layer for 16 frames\n",
    "    :param: compiled_model_de: Decoder model network\n",
    "    :returns: decoded_labels: The k most probable actions from the labels list\n",
    "              decoded_top_probs: confidence for the k most probable actions\n",
    "    \"\"\"\n",
    "    # Concatenate sample_duration frames in just one array\n",
    "    decoder_input = np.concatenate(encoder_output, axis=0)\n",
    "    # Organize input shape vector to the Decoder (shape: [1x16x512]]\n",
    "    decoder_input = decoder_input.transpose((2, 0, 1, 3))\n",
    "    decoder_input = np.squeeze(decoder_input, axis=3)\n",
    "    output_key_de = compiled_model_de.output(0)\n",
    "    # Get results on action-recognition-0001-decoder model\n",
    "    result_de = compiled_model_de([decoder_input])[output_key_de]\n",
    "    # Normalize logits to get confidence values along specified axis\n",
    "    probs = softmax(result_de - np.max(result_de))\n",
    "    # Decodes top probabilities into corresponding label names\n",
    "    decoded_labels, decoded_top_probs = decode_output(probs, labels, top_k=3)\n",
    "    return decoded_labels, decoded_top_probs\n",
    "\n",
    "\n",
    "def softmax(x: np.ndarray) -> np.ndarray:\n",
    "    \"\"\"\n",
    "    Normalizes logits to get confidence values along specified axis\n",
    "    x: np.array, axis=None\n",
    "    \"\"\"\n",
    "    exp = np.exp(x)\n",
    "    return exp / np.sum(exp, axis=None)"
   ]
  },
  {
   "attachments": {},
   "cell_type": "markdown",
   "metadata": {
    "pycharm": {
     "name": "#%% md\n"
    },
    "tags": []
   },
   "source": [
    "### Main Processing Function\n",
    "[back to top ⬆️](#Table-of-contents:)\n",
    "\n",
    "Running action recognition function will run in different operations, either a webcam or a video file. See the list of procedures below:\n",
    "\n",
    "1. Create a video player to play with target fps (`utils.VideoPlayer`).\n",
    "2. Prepare a set of frames to be encoded-decoded.\n",
    "3. Run AI functions\n",
    "4. Visualize the results."
   ]
  },
  {
   "cell_type": "code",
   "execution_count": 27,
   "metadata": {
    "tags": []
   },
   "outputs": [],
   "source": [
    "def run_action_recognition(\n",
    "    source: str = \"0\",\n",
    "    flip: bool = True,\n",
    "    use_popup: bool = False,\n",
    "    compiled_model_en: CompiledModel = compiled_model_en,\n",
    "    compiled_model_de: CompiledModel = compiled_model_de,\n",
    "    skip_first_frames: int = 0,\n",
    "    all_predictions_dict: dict = {},\n",
    "    video_name: str = \"\"\n",
    "):\n",
    "    \"\"\"\n",
    "    Use the \"source\" webcam or video file to run the complete pipeline for action-recognition problem\n",
    "    1. Create a video player to play with target fps\n",
    "    2. Prepare a set of frames to be encoded-decoded\n",
    "    3. Preprocess frame before Encoder\n",
    "    4. Encoder Inference per frame\n",
    "    5. Decoder inference per set of frames\n",
    "    6. Visualize the results\n",
    "\n",
    "    :param: source: webcam \"0\" or video path\n",
    "    :param: flip: to be used by VideoPlayer function for flipping capture image\n",
    "    :param: use_popup: False for showing encoded frames over this notebook, True for creating a popup window.\n",
    "    :param: skip_first_frames: Number of frames to skip at the beginning of the video.\n",
    "    :returns: display video over the notebook or in a popup window\n",
    "\n",
    "    \"\"\"\n",
    "    all_predictions_dict[video_name] = []\n",
    "    size = height_en  # Endoder input size - From Cell 5_9\n",
    "    sample_duration = frames2decode  # Decoder input size - From Cell 5_7\n",
    "    # Select frames per second of your source.\n",
    "    fps = 30\n",
    "    player = None\n",
    "    try:\n",
    "        # Create a video player.\n",
    "        player = utils.VideoPlayer(source, flip=flip, fps=fps, skip_first_frames=skip_first_frames)\n",
    "        # Start capturing.\n",
    "        player.start()\n",
    "        if use_popup:\n",
    "            title = \"Press ESC to Exit\"\n",
    "            cv2.namedWindow(title, cv2.WINDOW_GUI_NORMAL | cv2.WINDOW_AUTOSIZE)\n",
    "\n",
    "        processing_times = collections.deque()\n",
    "        processing_time = 0\n",
    "        encoder_output = []\n",
    "        decoded_labels = [0, 0, 0]\n",
    "        decoded_top_probs = [0, 0, 0]\n",
    "        counter = 0\n",
    "        # Create a text template to show inference results over video.\n",
    "        text_inference_template = \"Infer Time:{Time:.1f}ms,{fps:.1f}FPS\"\n",
    "        text_template = \"{label},{conf:.2f}%\"\n",
    "\n",
    "        while True:\n",
    "            counter = counter + 1\n",
    "\n",
    "            # Read a frame from the video stream.\n",
    "            frame = player.next()\n",
    "            if frame is None:\n",
    "                print(\"Source ended\")\n",
    "                break\n",
    "\n",
    "            scale = 1280 / max(frame.shape)\n",
    "\n",
    "            # Adaptative resize for visualization.\n",
    "            if scale < 1:\n",
    "                frame = cv2.resize(frame, None, fx=scale, fy=scale, interpolation=cv2.INTER_AREA)\n",
    "\n",
    "            # Select one frame every two for processing through the encoder.\n",
    "            # After 16 frames are processed, the decoder will find the action,\n",
    "            # and the label will be printed over the frames.\n",
    "\n",
    "            if counter % 2 == 0:\n",
    "                # Preprocess frame before Encoder.\n",
    "                (preprocessed, _) = preprocessing(frame, size)\n",
    "\n",
    "                # Measure processing time.\n",
    "                start_time = time.time()\n",
    "\n",
    "                # Encoder Inference per frame\n",
    "                encoder_output.append(encoder(preprocessed, compiled_model_en))\n",
    "                # l_file = open(logs_file_path, \"a\")  # append mode\n",
    "                # l_file.write(\"\\nbefore decoder\\n\" )\n",
    "                # l_file.close()\n",
    "                # Decoder inference per set of frames\n",
    "                # Wait for sample duration to work with decoder model.\n",
    "                if len(encoder_output) == sample_duration:\n",
    "                    decoded_labels, decoded_top_probs = decoder(encoder_output, compiled_model_de)\n",
    "                    for i in range(0, 3):\n",
    "                        if i == 0:\n",
    "                            all_predictions_dict[video_name].append([])\n",
    "                        all_predictions_dict[video_name][-1].append({'label': str(decoded_labels[i]), 'confidence': str(decoded_top_probs[i] * 100)})\n",
    "                    encoder_output = []\n",
    "\n",
    "                # Inference has finished. Display the results.\n",
    "                stop_time = time.time()\n",
    "\n",
    "                # Calculate processing time.\n",
    "                processing_times.append(stop_time - start_time)\n",
    "\n",
    "                # Use processing times from last 200 frames.\n",
    "                if len(processing_times) > 200:\n",
    "                    processing_times.popleft()\n",
    "\n",
    "                # Mean processing time [ms]\n",
    "                processing_time = np.mean(processing_times) * 1000\n",
    "                fps = 1000 / processing_time\n",
    "            # Visualize the results.\n",
    "            for i in range(0, 3):\n",
    "                display_text = text_template.format(\n",
    "                    label=decoded_labels[i],\n",
    "                    conf=decoded_top_probs[i] * 100,\n",
    "                )\n",
    "                display_text_fnc(frame, display_text, i)\n",
    "            display_text = text_inference_template.format(Time=processing_time, fps=fps)\n",
    "            display_text_fnc(frame, display_text, 3)\n",
    "\n",
    "            # Use this workaround if you experience flickering.\n",
    "            if use_popup:\n",
    "                cv2.imshow(title, frame)\n",
    "                key = cv2.waitKey(1)\n",
    "                # escape = 27\n",
    "                if key == 27:\n",
    "                    break\n",
    "            else:\n",
    "                # Encode numpy array to jpg.\n",
    "                _, encoded_img = cv2.imencode(\".jpg\", frame, params=[cv2.IMWRITE_JPEG_QUALITY, 90])\n",
    "                # Create an IPython image.\n",
    "                i = display.Image(data=encoded_img)\n",
    "                # Display the image in this notebook.\n",
    "                display.clear_output(wait=True)\n",
    "                display.display(i)\n",
    "    # ctrl-c\n",
    "    except KeyboardInterrupt:\n",
    "        print(\"Interrupted\")\n",
    "    # Any different error\n",
    "    except RuntimeError as e:\n",
    "        print(e)\n",
    "    finally:\n",
    "        if player is not None:\n",
    "            # Stop capturing.\n",
    "            player.stop()\n",
    "        if use_popup:\n",
    "            cv2.destroyAllWindows()"
   ]
  },
  {
   "attachments": {},
   "cell_type": "markdown",
   "metadata": {},
   "source": [
    "### Run Action Recognition\n",
    "[back to top ⬆️](#Table-of-contents:)\n",
    "\n",
    "Find out how the model works in a video file. [Any format supported](https://docs.opencv.org/4.5.1/dd/d43/tutorial_py_video_display.html) by OpenCV will work. You can press the stop button anytime while the video file is running, and it will activate the webcam for the next step.\n",
    "\n",
    "> **NOTE**: Sometimes, the video can be cut off if there are corrupted frames. In that case, you can convert it. If you experience any problems with your video, use the [HandBrake](https://handbrake.fr/) and select the MPEG format.\n",
    "\n",
    "if you want to use a web camera as an input source for the demo, please change the value of `USE_WEBCAM` variable to True and specify `cam_id` (the default value is 0, which can be different in multi-camera systems)."
   ]
  },
  {
   "cell_type": "code",
   "execution_count": 28,
   "metadata": {},
   "outputs": [],
   "source": [
    "# %pip install pafy"
   ]
  },
  {
   "cell_type": "code",
   "execution_count": 29,
   "metadata": {},
   "outputs": [],
   "source": [
    "# %pip install --upgrade youtube-dl"
   ]
  },
  {
   "cell_type": "code",
   "execution_count": 30,
   "metadata": {},
   "outputs": [],
   "source": [
    "l_file = open(logs_file_path, \"a\")  # append mode\n",
    "l_file.write(\"\\ntest var: \\n\" + json.dumps(all_predictions_dict, indent = 4) + \"\\n\" )\n",
    "l_file.close()\n"
   ]
  },
  {
   "cell_type": "code",
   "execution_count": 31,
   "metadata": {},
   "outputs": [
    {
     "name": "stdout",
     "output_type": "stream",
     "text": [
      "D:\\Downloads\\ucf_two_classes\\Cliff diving\n"
     ]
    }
   ],
   "source": [
    "print(os.environ.get('VIDEOS_PATH'))#os.environ['VIDEO_PATH']"
   ]
  },
  {
   "cell_type": "code",
   "execution_count": 32,
   "metadata": {},
   "outputs": [
    {
     "name": "stdout",
     "output_type": "stream",
     "text": [
      "<class 'list'>\n"
     ]
    }
   ],
   "source": [
    "print(type(VIDEOS))"
   ]
  },
  {
   "cell_type": "code",
   "execution_count": 33,
   "metadata": {
    "tags": [],
    "test_replace": {
     "{\"skip_first_frames\": 600, \"flip\": False} if not USE_WEBCAM else {\"flip\": True}\n": "{\"skip_first_frames\": 1800, \"flip\": False} if not USE_WEBCAM else {\"flip\": True}\n"
    }
   },
   "outputs": [
    {
     "data": {
      "image/png": "[encoded data removed]",
      "text/plain": [
       "<IPython.core.display.Image object>"
      ]
     },
     "metadata": {},
     "output_type": "display_data"
    },
    {
     "name": "stdout",
     "output_type": "stream",
     "text": [
      "Source ended\n"
     ]
    }
   ],
   "source": [
    "\n",
    "# import pafy\n",
    "\n",
    "USE_WEBCAM = False\n",
    "\n",
    "cam_id = 0\n",
    "#video_file = \"https://www.youtube.com/embed/0347ZoDXyP0?start=95&end=105&ref=autodidacts.io\" #not working\n",
    "#video_file = \"https://www.youtube.com/watch?v=0347ZoDXyP0\"  #not working\n",
    "#video = pafy.new(\"https://www.youtube.com/watch?v=0347ZoDXyP0\") #not working\n",
    "#video_file = video.getbest(preftype=\"mp4\") #not working\n",
    "# got VIDEO_PATH through environment variable\n",
    "for video in VIDEOS:\n",
    "    video_file = VIDEOS_PATH + \"\\\\\" + video\n",
    "    source = cam_id if USE_WEBCAM else video_file\n",
    "    additional_options = {\"skip_first_frames\": 0, \"flip\": False} if not USE_WEBCAM else {\"flip\": True}\n",
    "    run_action_recognition(source=source, use_popup=False, all_predictions_dict=all_predictions_dict, video_name=video, **additional_options)\n",
    "    "
   ]
  },
  {
   "cell_type": "code",
   "execution_count": 34,
   "metadata": {},
   "outputs": [],
   "source": [
    "with open(os.getcwd() + \"\\\\logs.json\", \"w\") as outfile:\n",
    "    outfile.write(json.dumps(all_predictions_dict,  indent=4))\n",
    "l_file = open(logs_file_path, \"a\")  # append mode\n",
    "l_file.write(\"output of predictions written into \" + os.getcwd() + \"\\\\logs.json\" )\n",
    "l_file.close()\n",
    "sorted_predictions = {}\n",
    "no_of_frames = 0\n",
    "\n",
    "for video in all_predictions_dict:\n",
    "    tmp_s_p = {}\n",
    "    for frame in all_predictions_dict[video]:\n",
    "        no_of_frames = no_of_frames + 1\n",
    "        for prediction in frame:\n",
    "            if prediction['label'] in tmp_s_p.keys():\n",
    "                tmp_s_p[prediction['label']] = float(tmp_s_p[prediction['label']]) + float(prediction['confidence'])\n",
    "            else:\n",
    "                tmp_s_p[prediction['label']] = float(prediction['confidence'])\n",
    "    for pred in tmp_s_p:\n",
    "        tmp_s_p[pred] = tmp_s_p[pred]/no_of_frames\n",
    "    no_of_frames = 0\n",
    "    while tmp_s_p:\n",
    "        key = max(zip(tmp_s_p.values(), tmp_s_p.keys()))[1]\n",
    "        value = max(zip(tmp_s_p.values(), tmp_s_p.keys()))[0]\n",
    "        if video not in  sorted_predictions:\n",
    "            sorted_predictions[video] = []\n",
    "        sorted_predictions[video].append({'name': key, 'value': value})\n",
    "        tmp_s_p.pop(key)"
   ]
  },
  {
   "cell_type": "code",
   "execution_count": null,
   "metadata": {},
   "outputs": [],
   "source": []
  },
  {
   "cell_type": "code",
   "execution_count": null,
   "metadata": {},
   "outputs": [],
   "source": []
  },
  {
   "cell_type": "code",
   "execution_count": 35,
   "metadata": {},
   "outputs": [
    {
     "data": {
      "text/plain": [
       "{'v_CliffDiving_g01_c01.avi': [{'name': 'diving cliff',\n",
       "   'value': 95.80597281455994},\n",
       "  {'name': 'springboard diving', 'value': 1.4927428215742111},\n",
       "  {'name': 'bungee jumping', 'value': 0.4585025366395712}],\n",
       " 'v_CliffDiving_g01_c02.avi': [{'name': 'diving cliff',\n",
       "   'value': 28.911710157990456},\n",
       "  {'name': 'rock climbing', 'value': 4.792781732976437},\n",
       "  {'name': 'ice climbing', 'value': 2.9767535626888275},\n",
       "  {'name': 'bungee jumping', 'value': 2.403191477060318},\n",
       "  {'name': 'springboard diving', 'value': 2.3848043754696846},\n",
       "  {'name': 'slacklining', 'value': 2.0379148423671722},\n",
       "  {'name': 'jumping into pool', 'value': 1.0459214448928833},\n",
       "  {'name': 'snowboarding', 'value': 0.6159456912428141}],\n",
       " 'v_CliffDiving_g01_c03.avi': [{'name': 'diving cliff',\n",
       "   'value': 36.179452016949654},\n",
       "  {'name': 'jumping into pool', 'value': 3.1372521072626114},\n",
       "  {'name': 'bungee jumping', 'value': 2.939069736748934},\n",
       "  {'name': 'parkour', 'value': 2.391752228140831},\n",
       "  {'name': 'springboard diving', 'value': 2.3681219667196274},\n",
       "  {'name': 'skateboarding', 'value': 1.593250222504139},\n",
       "  {'name': 'slacklining', 'value': 0.9404607117176056},\n",
       "  {'name': 'swinging on something', 'value': 0.85948770865798}],\n",
       " 'v_CliffDiving_g01_c04.avi': [{'name': 'diving cliff',\n",
       "   'value': 39.15124945342541},\n",
       "  {'name': 'ski jumping', 'value': 4.717369703575969},\n",
       "  {'name': 'snowboarding', 'value': 1.6371846199035645},\n",
       "  {'name': 'springboard diving', 'value': 1.436402602121234},\n",
       "  {'name': 'bungee jumping', 'value': 0.7697757333517075},\n",
       "  {'name': 'somersaulting', 'value': 0.7609403692185879},\n",
       "  {'name': 'jumping into pool', 'value': 0.23435994517058134}],\n",
       " 'v_CliffDiving_g01_c05.avi': [{'name': 'diving cliff',\n",
       "   'value': 42.18785420060158},\n",
       "  {'name': 'jumping into pool', 'value': 10.524644888937473},\n",
       "  {'name': 'springboard diving', 'value': 5.076710134744644},\n",
       "  {'name': 'bungee jumping', 'value': 1.4941861480474472},\n",
       "  {'name': 'swinging on something', 'value': 1.4823922514915466},\n",
       "  {'name': 'parkour', 'value': 0.5846454575657845}],\n",
       " 'v_CliffDiving_g01_c06.avi': [{'name': 'diving cliff',\n",
       "   'value': 35.33388242125511},\n",
       "  {'name': 'jumping into pool', 'value': 5.06551206111908},\n",
       "  {'name': 'swinging on something', 'value': 1.8535586446523666},\n",
       "  {'name': 'springboard diving', 'value': 1.703278124332428},\n",
       "  {'name': 'parkour', 'value': 1.4605776220560074},\n",
       "  {'name': 'kitesurfing', 'value': 1.1373493820428848},\n",
       "  {'name': 'rock climbing', 'value': 0.8222046494483948},\n",
       "  {'name': 'slacklining', 'value': 0.7863307744264603}],\n",
       " 'v_CliffDiving_g02_c01.avi': [{'name': 'diving cliff',\n",
       "   'value': 14.371873587369919},\n",
       "  {'name': 'springboard diving', 'value': 9.683807492256165},\n",
       "  {'name': 'jumping into pool', 'value': 2.072530835866928},\n",
       "  {'name': 'parkour', 'value': 1.823505312204361},\n",
       "  {'name': 'archery', 'value': 0.9398091584444046},\n",
       "  {'name': 'bungee jumping', 'value': 0.8967721462249756},\n",
       "  {'name': 'swimming backstroke', 'value': 0.794110894203186},\n",
       "  {'name': 'skateboarding', 'value': 0.5511234328150749}],\n",
       " 'v_CliffDiving_g02_c02.avi': [{'name': 'diving cliff',\n",
       "   'value': 24.598316972454388},\n",
       "  {'name': 'springboard diving', 'value': 10.039803882439932},\n",
       "  {'name': 'jumping into pool', 'value': 3.8782515873511634},\n",
       "  {'name': 'parkour', 'value': 2.0999821523825326},\n",
       "  {'name': 'vault', 'value': 1.6509727264444034},\n",
       "  {'name': 'swinging on something', 'value': 1.099986086289088}],\n",
       " 'v_CliffDiving_g02_c03.avi': [{'name': 'diving cliff',\n",
       "   'value': 31.569726206362247},\n",
       "  {'name': 'springboard diving', 'value': 2.194941292206446},\n",
       "  {'name': 'jumping into pool', 'value': 2.118342121442159},\n",
       "  {'name': 'dancing ballet', 'value': 1.7292492091655731},\n",
       "  {'name': 'trapezing', 'value': 1.2820469836393993},\n",
       "  {'name': 'bungee jumping', 'value': 1.002582348883152},\n",
       "  {'name': 'skateboarding', 'value': 0.5884948497017225},\n",
       "  {'name': 'parkour', 'value': 0.5884948497017225},\n",
       "  {'name': 'playing paintball', 'value': 0.4589526914060116},\n",
       "  {'name': 'swinging on something', 'value': 0.3164180554449558},\n",
       "  {'name': 'slacklining', 'value': 0.27490875994165737}],\n",
       " 'v_CliffDiving_g02_c04.avi': [{'name': 'diving cliff',\n",
       "   'value': 24.13448140025139},\n",
       "  {'name': 'springboard diving', 'value': 13.722557574510574},\n",
       "  {'name': 'trapezing', 'value': 2.6804950833320618},\n",
       "  {'name': 'parkour', 'value': 1.717308759689331},\n",
       "  {'name': 'jumping into pool', 'value': 1.3693714141845703},\n",
       "  {'name': 'skateboarding', 'value': 0.8909280598163605},\n",
       "  {'name': 'slacklining', 'value': 0.7624704390764236},\n",
       "  {'name': 'somersaulting', 'value': 0.6037880107760429}],\n",
       " 'v_CliffDiving_g03_c01.avi': [{'name': 'diving cliff',\n",
       "   'value': 96.82726164658864},\n",
       "  {'name': 'abseiling', 'value': 1.1828552931547165},\n",
       "  {'name': 'rock climbing', 'value': 0.5668450025647568},\n",
       "  {'name': 'jetskiing', 'value': 0.07646821904927492},\n",
       "  {'name': 'canoeing or kayaking', 'value': 0.050542406582583986},\n",
       "  {'name': 'kitesurfing', 'value': 0.03456263414894541}],\n",
       " 'v_CliffDiving_g03_c02.avi': [{'name': 'diving cliff',\n",
       "   'value': 70.346304277579},\n",
       "  {'name': 'rock climbing', 'value': 11.050228588283062},\n",
       "  {'name': 'abseiling', 'value': 2.9854173034739993},\n",
       "  {'name': 'bungee jumping', 'value': 1.358146220445633},\n",
       "  {'name': 'water sliding', 'value': 0.6811811278263727},\n",
       "  {'name': 'playing poker', 'value': 0.3875983878970146},\n",
       "  {'name': 'swinging on something', 'value': 0.038753236488749586}]}"
      ]
     },
     "execution_count": 35,
     "metadata": {},
     "output_type": "execute_result"
    }
   ],
   "source": [
    "sorted_predictions"
   ]
  },
  {
   "cell_type": "code",
   "execution_count": 36,
   "metadata": {},
   "outputs": [],
   "source": [
    "lines = []\n",
    "actual_labels = []\n",
    "\n",
    "# with open(VIDEO_CAPTION) as captions_file:\n",
    "#     lines= captions_file.readlines()\n",
    "# for line in lines:\n",
    "#     actual_labels.append({'vid_name': line.split()[0], 'vid_label': labels[int(line.split()[-1])]})\n",
    "# actual_labels = sorted(actual_labels, key=lambda label: label['vid_name'])\n",
    "\n",
    "# TODO: Pass labels dynamically and pass ucf labels\n",
    "actual_labels = [\n",
    "    {'vid_name': 'v_CliffDiving_g01_c01.avi', 'vid_label': 'diving cliff'}, \n",
    "    {'vid_name': 'v_CliffDiving_g01_c02.avi', 'vid_label': 'diving cliff'}, \n",
    "    {'vid_name': 'v_CliffDiving_g01_c03.avi', 'vid_label': 'diving cliff'}, \n",
    "    {'vid_name': 'v_CliffDiving_g01_c04.avi', 'vid_label': 'diving cliff'}, \n",
    "    {'vid_name': 'v_CliffDiving_g01_c05.avi', 'vid_label': 'diving cliff'}, \n",
    "    {'vid_name': 'v_CliffDiving_g01_c06.avi', 'vid_label': 'diving cliff'}, \n",
    "    {'vid_name': 'v_CliffDiving_g02_c01.avi', 'vid_label': 'diving cliff'}, \n",
    "    {'vid_name': 'v_CliffDiving_g02_c02.avi', 'vid_label': 'diving cliff'}, \n",
    "    {'vid_name': 'v_CliffDiving_g02_c03.avi', 'vid_label': 'diving cliff'}, \n",
    "    {'vid_name': 'v_CliffDiving_g02_c04.avi', 'vid_label': 'diving cliff'}, \n",
    "    {'vid_name': 'v_CliffDiving_g03_c01.avi', 'vid_label': 'diving cliff'}, \n",
    "    {'vid_name': 'v_CliffDiving_g03_c02.avi', 'vid_label': 'diving cliff'}, \n",
    "]\n"
   ]
  },
  {
   "cell_type": "code",
   "execution_count": 37,
   "metadata": {},
   "outputs": [
    {
     "name": "stdout",
     "output_type": "stream",
     "text": [
      "[{'vid_name': 'v_CliffDiving_g01_c01.avi', 'vid_label': 'diving cliff'}, {'vid_name': 'v_CliffDiving_g01_c02.avi', 'vid_label': 'diving cliff'}, {'vid_name': 'v_CliffDiving_g01_c03.avi', 'vid_label': 'diving cliff'}, {'vid_name': 'v_CliffDiving_g01_c04.avi', 'vid_label': 'diving cliff'}, {'vid_name': 'v_CliffDiving_g01_c05.avi', 'vid_label': 'diving cliff'}, {'vid_name': 'v_CliffDiving_g01_c06.avi', 'vid_label': 'diving cliff'}, {'vid_name': 'v_CliffDiving_g02_c01.avi', 'vid_label': 'diving cliff'}, {'vid_name': 'v_CliffDiving_g02_c02.avi', 'vid_label': 'diving cliff'}, {'vid_name': 'v_CliffDiving_g02_c03.avi', 'vid_label': 'diving cliff'}, {'vid_name': 'v_CliffDiving_g02_c04.avi', 'vid_label': 'diving cliff'}, {'vid_name': 'v_CliffDiving_g03_c01.avi', 'vid_label': 'diving cliff'}, {'vid_name': 'v_CliffDiving_g03_c02.avi', 'vid_label': 'diving cliff'}]\n"
     ]
    }
   ],
   "source": [
    "predicted_labels = []\n",
    "for pred in sorted_predictions:\n",
    "    predicted_labels.append({'vid_name': pred, 'vid_label': sorted_predictions[pred][0]['name']})\n",
    "predicted_labels = sorted(predicted_labels, key=lambda label: label['vid_name'])\n",
    "print(predicted_labels)"
   ]
  },
  {
   "cell_type": "code",
   "execution_count": 38,
   "metadata": {},
   "outputs": [],
   "source": [
    "c_m_actual_labels = []\n",
    "for label in actual_labels:\n",
    "    c_m_actual_labels.append(label['vid_label'])\n",
    "c_m_predicted_labels = []\n",
    "for label in predicted_labels:\n",
    "    c_m_predicted_labels.append(label['vid_label'])\n",
    "import sys\n",
    "np.set_printoptions(threshold=sys.maxsize)\n",
    "confusion_matrix(c_m_actual_labels, c_m_predicted_labels, labels=labels)\n",
    "l_file = open(logs_file_path, \"a\")  # append mode\n",
    "l_file.write( str(confusion_matrix(c_m_actual_labels, c_m_predicted_labels, labels=labels)) )\n",
    "l_file.close()"
   ]
  },
  {
   "cell_type": "code",
   "execution_count": 39,
   "metadata": {},
   "outputs": [
    {
     "name": "stdout",
     "output_type": "stream",
     "text": [
      "['diving cliff', 'diving cliff', 'diving cliff', 'diving cliff', 'diving cliff', 'diving cliff', 'diving cliff', 'diving cliff', 'diving cliff', 'diving cliff', 'diving cliff', 'diving cliff']\n"
     ]
    }
   ],
   "source": [
    "print(c_m_actual_labels)"
   ]
  },
  {
   "cell_type": "code",
   "execution_count": 40,
   "metadata": {},
   "outputs": [
    {
     "name": "stdout",
     "output_type": "stream",
     "text": [
      "['diving cliff', 'diving cliff', 'diving cliff', 'diving cliff', 'diving cliff', 'diving cliff', 'diving cliff', 'diving cliff', 'diving cliff', 'diving cliff', 'diving cliff', 'diving cliff']\n"
     ]
    }
   ],
   "source": [
    "print(c_m_predicted_labels)"
   ]
  },
  {
   "cell_type": "code",
   "execution_count": 41,
   "metadata": {},
   "outputs": [
    {
     "name": "stdout",
     "output_type": "stream",
     "text": [
      "['diving cliff', 'diving cliff', 'diving cliff', 'diving cliff', 'diving cliff', 'diving cliff', 'diving cliff', 'diving cliff', 'diving cliff', 'diving cliff', 'diving cliff', 'diving cliff']\n"
     ]
    }
   ],
   "source": [
    "# for labels which are not present in actual 20 classes, replace 'other classes' with them\n",
    "for i, label in enumerate(c_m_predicted_labels):\n",
    "    if label not in c_m_actual_labels:\n",
    "        c_m_predicted_labels[i] = 'other classes'\n",
    "print(c_m_predicted_labels)"
   ]
  },
  {
   "cell_type": "code",
   "execution_count": 42,
   "metadata": {},
   "outputs": [],
   "source": [
    "%matplotlib inline\n",
    "import matplotlib.pyplot as plt"
   ]
  },
  {
   "cell_type": "code",
   "execution_count": 43,
   "metadata": {},
   "outputs": [
    {
     "data": {
      "text/plain": [
       "<sklearn.metrics._plot.confusion_matrix.ConfusionMatrixDisplay at 0x28b6af9b8f0>"
      ]
     },
     "execution_count": 43,
     "metadata": {},
     "output_type": "execute_result"
    },
    {
     "data": {
      "image/png": "[encoded data removed]",
      "text/plain": [
       "<Figure size 640x480 with 2 Axes>"
      ]
     },
     "metadata": {},
     "output_type": "display_data"
    }
   ],
   "source": [
    "#imgplot = plt.imshow(confusion_matrix(c_m_actual_labels, c_m_predicted_labels, labels=labels))\n",
    "# imgplot = plt.imshow(confusion_matrix(c_m_actual_labels, c_m_predicted_labels, labels=['riding mechanical bull', 'presenting weather forecast']))\n",
    "c_m_display_labels = ['riding mechanical bull', \n",
    "                      'presenting weather forecast', \n",
    "                      'sled dog racing', \n",
    "                      'playing squash or racquetball',\n",
    "                      'snowkiting',\n",
    "                      'diving cliff',\n",
    "                      'shearing sheep',\n",
    "                      'pull ups',\n",
    "                      'filling eyebrows',\n",
    "                      'bench pressing',\n",
    "                      'riding or walking with horse',\n",
    "                      'passing American football (in game)',\n",
    "                      'picking fruit',\n",
    "                      'weaving basket',\n",
    "                      'playing tennis',\n",
    "                      'crawling baby',\n",
    "                      'cutting watermelon',\n",
    "                      'tying tie',\n",
    "                      'trapezing',\n",
    "                      'bowling',\n",
    "                      'other classes'\n",
    "                     ]\n",
    "disp =  ConfusionMatrixDisplay(confusion_matrix=confusion_matrix(c_m_actual_labels, c_m_predicted_labels, labels=c_m_display_labels),\n",
    "                              display_labels=c_m_display_labels)\n",
    "disp.plot(xticks_rotation = 'vertical')"
   ]
  },
  {
   "cell_type": "code",
   "execution_count": 44,
   "metadata": {},
   "outputs": [],
   "source": [
    "#plt.imsave('conf_matrix.png', confusion_matrix(c_m_actual_labels, c_m_predicted_labels, labels=labels))"
   ]
  },
  {
   "cell_type": "code",
   "execution_count": 45,
   "metadata": {},
   "outputs": [
    {
     "data": {
      "text/plain": [
       "array([[ 0,  0,  0,  0,  0,  0,  0,  0,  0,  0,  0,  0,  0,  0,  0,  0,\n",
       "         0,  0,  0,  0,  0],\n",
       "       [ 0,  0,  0,  0,  0,  0,  0,  0,  0,  0,  0,  0,  0,  0,  0,  0,\n",
       "         0,  0,  0,  0,  0],\n",
       "       [ 0,  0,  0,  0,  0,  0,  0,  0,  0,  0,  0,  0,  0,  0,  0,  0,\n",
       "         0,  0,  0,  0,  0],\n",
       "       [ 0,  0,  0,  0,  0,  0,  0,  0,  0,  0,  0,  0,  0,  0,  0,  0,\n",
       "         0,  0,  0,  0,  0],\n",
       "       [ 0,  0,  0,  0,  0,  0,  0,  0,  0,  0,  0,  0,  0,  0,  0,  0,\n",
       "         0,  0,  0,  0,  0],\n",
       "       [ 0,  0,  0,  0,  0, 12,  0,  0,  0,  0,  0,  0,  0,  0,  0,  0,\n",
       "         0,  0,  0,  0,  0],\n",
       "       [ 0,  0,  0,  0,  0,  0,  0,  0,  0,  0,  0,  0,  0,  0,  0,  0,\n",
       "         0,  0,  0,  0,  0],\n",
       "       [ 0,  0,  0,  0,  0,  0,  0,  0,  0,  0,  0,  0,  0,  0,  0,  0,\n",
       "         0,  0,  0,  0,  0],\n",
       "       [ 0,  0,  0,  0,  0,  0,  0,  0,  0,  0,  0,  0,  0,  0,  0,  0,\n",
       "         0,  0,  0,  0,  0],\n",
       "       [ 0,  0,  0,  0,  0,  0,  0,  0,  0,  0,  0,  0,  0,  0,  0,  0,\n",
       "         0,  0,  0,  0,  0],\n",
       "       [ 0,  0,  0,  0,  0,  0,  0,  0,  0,  0,  0,  0,  0,  0,  0,  0,\n",
       "         0,  0,  0,  0,  0],\n",
       "       [ 0,  0,  0,  0,  0,  0,  0,  0,  0,  0,  0,  0,  0,  0,  0,  0,\n",
       "         0,  0,  0,  0,  0],\n",
       "       [ 0,  0,  0,  0,  0,  0,  0,  0,  0,  0,  0,  0,  0,  0,  0,  0,\n",
       "         0,  0,  0,  0,  0],\n",
       "       [ 0,  0,  0,  0,  0,  0,  0,  0,  0,  0,  0,  0,  0,  0,  0,  0,\n",
       "         0,  0,  0,  0,  0],\n",
       "       [ 0,  0,  0,  0,  0,  0,  0,  0,  0,  0,  0,  0,  0,  0,  0,  0,\n",
       "         0,  0,  0,  0,  0],\n",
       "       [ 0,  0,  0,  0,  0,  0,  0,  0,  0,  0,  0,  0,  0,  0,  0,  0,\n",
       "         0,  0,  0,  0,  0],\n",
       "       [ 0,  0,  0,  0,  0,  0,  0,  0,  0,  0,  0,  0,  0,  0,  0,  0,\n",
       "         0,  0,  0,  0,  0],\n",
       "       [ 0,  0,  0,  0,  0,  0,  0,  0,  0,  0,  0,  0,  0,  0,  0,  0,\n",
       "         0,  0,  0,  0,  0],\n",
       "       [ 0,  0,  0,  0,  0,  0,  0,  0,  0,  0,  0,  0,  0,  0,  0,  0,\n",
       "         0,  0,  0,  0,  0],\n",
       "       [ 0,  0,  0,  0,  0,  0,  0,  0,  0,  0,  0,  0,  0,  0,  0,  0,\n",
       "         0,  0,  0,  0,  0],\n",
       "       [ 0,  0,  0,  0,  0,  0,  0,  0,  0,  0,  0,  0,  0,  0,  0,  0,\n",
       "         0,  0,  0,  0,  0]], dtype=int64)"
      ]
     },
     "execution_count": 45,
     "metadata": {},
     "output_type": "execute_result"
    }
   ],
   "source": [
    "confusion_matrix(c_m_actual_labels, c_m_predicted_labels, labels=c_m_display_labels)"
   ]
  },
  {
   "cell_type": "code",
   "execution_count": 46,
   "metadata": {},
   "outputs": [
    {
     "data": {
      "text/plain": [
       "1.0"
      ]
     },
     "execution_count": 46,
     "metadata": {},
     "output_type": "execute_result"
    }
   ],
   "source": [
    "precision_sc = precision_score(c_m_actual_labels, c_m_predicted_labels, average='micro')\n",
    "precision_sc"
   ]
  },
  {
   "cell_type": "code",
   "execution_count": 47,
   "metadata": {},
   "outputs": [
    {
     "data": {
      "text/plain": [
       "1.0"
      ]
     },
     "execution_count": 47,
     "metadata": {},
     "output_type": "execute_result"
    }
   ],
   "source": [
    "from sklearn.metrics import recall_score\n",
    "recall_sc = recall_score(c_m_actual_labels, c_m_predicted_labels,  average='micro')\n",
    "recall_sc"
   ]
  },
  {
   "cell_type": "code",
   "execution_count": 48,
   "metadata": {},
   "outputs": [
    {
     "data": {
      "text/plain": [
       "1.0"
      ]
     },
     "execution_count": 48,
     "metadata": {},
     "output_type": "execute_result"
    }
   ],
   "source": [
    "f1_score = (2 * precision_sc * recall_sc)/(precision_sc + recall_sc)\n",
    "f1_score"
   ]
  },
  {
   "cell_type": "markdown",
   "metadata": {},
   "source": [
    "## running algorithm for correcting verb:"
   ]
  },
  {
   "cell_type": "code",
   "execution_count": 102,
   "metadata": {
    "scrolled": true
   },
   "outputs": [],
   "source": [
    "# using 1 video only currently\n",
    "sorted_predictions['v_CliffDiving_g03_c02.avi']\n",
    "video_caption = 'diving cliff'"
   ]
  },
  {
   "cell_type": "code",
   "execution_count": 103,
   "metadata": {},
   "outputs": [
    {
     "data": {
      "text/plain": [
       "22.100457176566124"
      ]
     },
     "execution_count": 103,
     "metadata": {},
     "output_type": "execute_result"
    }
   ],
   "source": [
    "top_prediction = {\n",
    "    'name': sorted_predictions['v_CliffDiving_g03_c02.avi'][0]['name'],\n",
    "    'value': sorted_predictions['v_CliffDiving_g03_c02.avi'][0]['value']\n",
    "}\n",
    "second_prediction = {\n",
    "    'name': sorted_predictions['v_CliffDiving_g03_c02.avi'][1]['name'],\n",
    "    'value': sorted_predictions['v_CliffDiving_g03_c02.avi'][1]['value']\n",
    "}\n",
    "second_prediction\n",
    "\n",
    "\n",
    "(2 * second_prediction['value'])"
   ]
  },
  {
   "cell_type": "code",
   "execution_count": 104,
   "metadata": {},
   "outputs": [
    {
     "name": "stdout",
     "output_type": "stream",
     "text": [
      "proceed\n",
      "verb in prediction: diving\n",
      "verb in caption: playing\n"
     ]
    }
   ],
   "source": [
    "if top_prediction['value'] > (2 * second_prediction['value']):\n",
    "    print('proceed')\n",
    "    # verb in prediction\n",
    "    verb_in_prediction = []\n",
    "    prediction_nlp = nltk.word_tokenize(top_prediction['name'])\n",
    "    pos_tagged = nltk.pos_tag(prediction_nlp, tagset='universal')\n",
    "    # print(pos_tagged)\n",
    "    for word in pos_tagged:\n",
    "        # print(word)\n",
    "        # print(word[1])\n",
    "        if word[1] == 'VERB':\n",
    "            verb_in_prediction.append(word[0])\n",
    "    if len(verb_in_prediction) < 1:\n",
    "        print('prediction should have a verb for this correction task to proceed')\n",
    "    elif len(verb_in_prediction) > 1:\n",
    "        print('prediction should have only single verb for this correction task to proceed')\n",
    "    else:\n",
    "        print('verb in prediction: ' + verb_in_prediction[0])\n",
    "        verb_in_caption = []\n",
    "        caption_nlp = nltk.word_tokenize(video_caption)\n",
    "        pos_tagged = nltk.pos_tag(caption_nlp, tagset='universal')\n",
    "        # print(pos_tagged)\n",
    "        for word in pos_tagged:\n",
    "            # print(word)\n",
    "            # print(word[1])\n",
    "            if word[1] == 'VERB':\n",
    "                verb_in_caption.append(word[0])\n",
    "        if len(verb_in_caption) < 1:\n",
    "            print('caption should have a verb for this correction task to proceed')\n",
    "        elif len(verb_in_caption) > 1:\n",
    "            print('caption should have only single verb for this correction task to proceed')\n",
    "        else:\n",
    "            print('verb in caption: ' + verb_in_caption[0])\n",
    "        \n",
    "\n",
    "else:\n",
    "    print('action recognition is not confident enough')"
   ]
  },
  {
   "cell_type": "code",
   "execution_count": null,
   "metadata": {},
   "outputs": [],
   "source": [
    "\n"
   ]
  },
  {
   "cell_type": "code",
   "execution_count": 100,
   "metadata": {},
   "outputs": [],
   "source": [
    "test_nlp = nltk.word_tokenize('playing cliff')\n",
    "pos_tagged = nltk.pos_tag(test_nlp, tagset='universal')"
   ]
  },
  {
   "cell_type": "code",
   "execution_count": 101,
   "metadata": {},
   "outputs": [
    {
     "data": {
      "text/plain": [
       "[('playing', 'VERB'), ('cliff', 'NOUN')]"
      ]
     },
     "execution_count": 101,
     "metadata": {},
     "output_type": "execute_result"
    }
   ],
   "source": [
    "pos_tagged"
   ]
  },
  {
   "cell_type": "code",
   "execution_count": null,
   "metadata": {},
   "outputs": [],
   "source": []
  }
 ],
 "metadata": {
  "celltoolbar": "Edit Metadata",
  "kernelspec": {
   "display_name": "Python 3 (ipykernel)",
   "language": "python",
   "name": "python3"
  },
  "language_info": {
   "codemirror_mode": {
    "name": "ipython",
    "version": 3
   },
   "file_extension": ".py",
   "mimetype": "text/x-python",
   "name": "python",
   "nbconvert_exporter": "python",
   "pygments_lexer": "ipython3",
   "version": "3.12.3"
  },
  "openvino_notebooks": {
   "imageUrl": "https://user-images.githubusercontent.com/10940214/151552326-642d6e49-f5a0-4fc1-bf14-ae3f457e1fec.gif",
   "tags": {
    "categories": [
     "Live Demos"
    ],
    "libraries": [],
    "other": [],
    "tasks": [
     "Image Classification"
    ]
   }
  },
  "widgets": {
   "application/vnd.jupyter.widget-state+json": {
    "state": {},
    "version_major": 2,
    "version_minor": 0
   }
  }
 },
 "nbformat": 4,
 "nbformat_minor": 4
}
