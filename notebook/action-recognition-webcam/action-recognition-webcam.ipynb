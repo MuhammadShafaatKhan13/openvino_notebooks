{
 "cells": [
  {
   "attachments": {},
   "cell_type": "markdown",
   "metadata": {
    "pycharm": {
     "name": "#%% md\n"
    },
    "tags": []
   },
   "source": [
    "# Human Action Recognition with OpenVINO™\n",
    "\n",
    "This notebook demonstrates live human action recognition with OpenVINO, using the [Action Recognition Models](https://docs.openvino.ai/2020.2/usergroup13.html) from [Open Model Zoo](https://github.com/openvinotoolkit/open_model_zoo), specifically an [Encoder](https://docs.openvino.ai/2020.2/_models_intel_action_recognition_0001_encoder_description_action_recognition_0001_encoder.html) and a [Decoder](https://docs.openvino.ai/2020.2/_models_intel_action_recognition_0001_decoder_description_action_recognition_0001_decoder.html). Both models create a sequence to sequence (`\"seq2seq\"`) \\[1\\] system to identify the human activities for [Kinetics-400 dataset](https://deepmind.com/research/open-source/kinetics). The models use the Video Transformer approach with ResNet34 encoder \\[2\\]. The notebook shows how to create the following pipeline:\n",
    "\n",
    "<img align='center' src=\"https://user-images.githubusercontent.com/10940214/148401661-477aebcd-f2d0-4771-b107-4b37f94d0b1e.jpeg\" alt=\"drawing\" width=\"1000\"/>\n",
    "\n",
    "Final part of this notebook shows live inference results from a webcam. Additionally, you can also upload a video file.\n",
    "\n",
    "**NOTE**: To use a webcam, you must run this Jupyter notebook on a computer with a webcam. If you run on a server, the webcam will not work. However, you can still do inference on a video in the final step.\n",
    "\n",
    "---\n",
    "\n",
    "\\[1\\] seq2seq: Deep learning models that take a sequence of items to the input and output. In this case, input: video frames, output: actions sequence. This `\"seq2seq\"` is composed of an encoder and a decoder. The encoder captures `\"context\"` of the inputs to be analyzed by the decoder, and finally gets the human action and confidence.\n",
    "\n",
    "\\[2\\] [Video Transformer](https://en.wikipedia.org/wiki/Transformer_(machine_learning_model)) and [ResNet34](https://pytorch.org/vision/main/models/generated/torchvision.models.resnet34.html).\n",
    "\n",
    "\n",
    "\n",
    "#### Table of contents:\n",
    "\n",
    "- [Imports](#Imports)\n",
    "- [The models](#The-models)\n",
    "    - [Download the models](#Download-the-models)\n",
    "    - [Load your labels](#Load-your-labels)\n",
    "    - [Load the models](#Load-the-models)\n",
    "        - [Model Initialization function](#Model-Initialization-function)\n",
    "        - [Initialization for Encoder and Decoder](#Initialization-for-Encoder-and-Decoder)\n",
    "    - [Helper functions](#Helper-functions)\n",
    "    - [AI Functions](#AI-Functions)\n",
    "    - [Main Processing Function](#Main-Processing-Function)\n",
    "    - [Run Action Recognition](#Run-Action-Recognition)\n",
    "\n"
   ]
  },
  {
   "cell_type": "code",
   "execution_count": 1,
   "metadata": {},
   "outputs": [
    {
     "name": "stdout",
     "output_type": "stream",
     "text": [
      "Note: you may need to restart the kernel to use updated packages.\n"
     ]
    }
   ],
   "source": [
    "%pip install -q \"openvino>=2024.0.0\" \"opencv-python\" \"tqdm\" \"python-dotenv\" \"spacy\" \"nltk\""
   ]
  },
  {
   "cell_type": "code",
   "execution_count": 2,
   "metadata": {},
   "outputs": [
    {
     "name": "stderr",
     "output_type": "stream",
     "text": [
      "[nltk_data] Downloading package wordnet to\n",
      "[nltk_data]     C:\\Users\\shafa\\AppData\\Roaming\\nltk_data...\n",
      "[nltk_data]   Package wordnet is already up-to-date!\n"
     ]
    },
    {
     "data": {
      "text/plain": [
       "[Synset('stare.n.01'), Synset('gaze.v.01'), Synset('stare.v.02')]"
      ]
     },
     "execution_count": 2,
     "metadata": {},
     "output_type": "execute_result"
    }
   ],
   "source": [
    "import nltk\n",
    "nltk.download('wordnet')\n",
    "from nltk.corpus import wordnet\n",
    "wordnet.synsets('stare')"
   ]
  },
  {
   "cell_type": "code",
   "execution_count": 3,
   "metadata": {},
   "outputs": [
    {
     "data": {
      "text/plain": [
       "[Synset('look.v.01')]"
      ]
     },
     "execution_count": 3,
     "metadata": {},
     "output_type": "execute_result"
    }
   ],
   "source": [
    "wordnet.synset('stare.v.02').hypernyms() "
   ]
  },
  {
   "cell_type": "code",
   "execution_count": 4,
   "metadata": {},
   "outputs": [
    {
     "data": {
      "text/plain": [
       "'judge or regard; look upon; judge'"
      ]
     },
     "execution_count": 4,
     "metadata": {},
     "output_type": "execute_result"
    }
   ],
   "source": [
    "wordnet.synset('think.v.01').definition()"
   ]
  },
  {
   "cell_type": "code",
   "execution_count": 5,
   "metadata": {},
   "outputs": [
    {
     "data": {
      "text/plain": [
       "'form a critical opinion of'"
      ]
     },
     "execution_count": 5,
     "metadata": {},
     "output_type": "execute_result"
    }
   ],
   "source": [
    "wordnet.synset('evaluate.v.02').definition()"
   ]
  },
  {
   "cell_type": "code",
   "execution_count": 6,
   "metadata": {},
   "outputs": [
    {
     "data": {
      "text/plain": [
       "\"use or exercise the mind or one's power of reason in order to make inferences, decisions, or arrive at a solution or judgments\""
      ]
     },
     "execution_count": 6,
     "metadata": {},
     "output_type": "execute_result"
    }
   ],
   "source": [
    "wordnet.synset('think.v.03').definition()"
   ]
  },
  {
   "cell_type": "code",
   "execution_count": 7,
   "metadata": {},
   "outputs": [
    {
     "data": {
      "text/plain": [
       "[Synset('think.v.03')]"
      ]
     },
     "execution_count": 7,
     "metadata": {},
     "output_type": "execute_result"
    }
   ],
   "source": [
    "wordnet.synset('evaluate.v.02').hypernyms() "
   ]
  },
  {
   "cell_type": "code",
   "execution_count": 8,
   "metadata": {},
   "outputs": [
    {
     "data": {
      "text/plain": [
       "[]"
      ]
     },
     "execution_count": 8,
     "metadata": {},
     "output_type": "execute_result"
    }
   ],
   "source": [
    "wordnet.synset('think.v.03').hypernyms() "
   ]
  },
  {
   "cell_type": "code",
   "execution_count": 9,
   "metadata": {},
   "outputs": [
    {
     "name": "stdout",
     "output_type": "stream",
     "text": [
      "Synset('get.v.11')\n"
     ]
    }
   ],
   "source": [
    "from nltk.wsd import lesk \n",
    "caption = ['catching', 'or', 'throwing', 'frisbee'] \n",
    "print(lesk(caption, 'catching')) \n"
   ]
  },
  {
   "cell_type": "code",
   "execution_count": 10,
   "metadata": {},
   "outputs": [
    {
     "data": {
      "text/plain": [
       "'succeed in catching or seizing, especially after a chase'"
      ]
     },
     "execution_count": 10,
     "metadata": {},
     "output_type": "execute_result"
    }
   ],
   "source": [
    "wordnet.synset('get.v.11').definition()"
   ]
  },
  {
   "cell_type": "code",
   "execution_count": 11,
   "metadata": {},
   "outputs": [
    {
     "data": {
      "text/plain": [
       "[Synset('seize.v.01')]"
      ]
     },
     "execution_count": 11,
     "metadata": {},
     "output_type": "execute_result"
    }
   ],
   "source": [
    "wordnet.synset('get.v.11').hypernyms() "
   ]
  },
  {
   "cell_type": "code",
   "execution_count": 12,
   "metadata": {},
   "outputs": [
    {
     "data": {
      "text/plain": [
       "'take hold of; grab'"
      ]
     },
     "execution_count": 12,
     "metadata": {},
     "output_type": "execute_result"
    }
   ],
   "source": [
    "wordnet.synset('seize.v.01').definition()"
   ]
  },
  {
   "cell_type": "code",
   "execution_count": 13,
   "metadata": {},
   "outputs": [
    {
     "data": {
      "text/plain": [
       "[Synset('work.v.12')]"
      ]
     },
     "execution_count": 13,
     "metadata": {},
     "output_type": "execute_result"
    }
   ],
   "source": [
    "wordnet.synset('exercise.v.03').hypernyms() "
   ]
  },
  {
   "cell_type": "code",
   "execution_count": 14,
   "metadata": {},
   "outputs": [
    {
     "data": {
      "text/plain": [
       "'rise up'"
      ]
     },
     "execution_count": 14,
     "metadata": {},
     "output_type": "execute_result"
    }
   ],
   "source": [
    "wordnet.synset('rise.v.04').definition()"
   ]
  },
  {
   "cell_type": "code",
   "execution_count": 15,
   "metadata": {},
   "outputs": [
    {
     "data": {
      "text/plain": [
       "[Synset('look.v.02')]"
      ]
     },
     "execution_count": 15,
     "metadata": {},
     "output_type": "execute_result"
    }
   ],
   "source": [
    "wordnet.synset('rise.v.04').hypernyms() "
   ]
  },
  {
   "cell_type": "code",
   "execution_count": 16,
   "metadata": {},
   "outputs": [
    {
     "data": {
      "text/plain": [
       "[Synset('rise.v.01'),\n",
       " Synset('rise.v.02'),\n",
       " Synset('arise.v.03'),\n",
       " Synset('rise.v.04'),\n",
       " Synset('surface.v.01'),\n",
       " Synset('originate.v.01'),\n",
       " Synset('ascend.v.08'),\n",
       " Synset('wax.v.02'),\n",
       " Synset('heighten.v.01'),\n",
       " Synset('get_up.v.02'),\n",
       " Synset('rise.v.11'),\n",
       " Synset('rise.v.12'),\n",
       " Synset('rise.v.13'),\n",
       " Synset('rebel.v.01'),\n",
       " Synset('rise.v.15'),\n",
       " Synset('rise.v.16'),\n",
       " Synset('resurrect.v.03')]"
      ]
     },
     "execution_count": 16,
     "metadata": {},
     "output_type": "execute_result"
    }
   ],
   "source": [
    "wordnet.synsets('rise', pos=wordnet.VERB) \n"
   ]
  },
  {
   "cell_type": "code",
   "execution_count": 17,
   "metadata": {},
   "outputs": [
    {
     "name": "stdout",
     "output_type": "stream",
     "text": [
      "Natural natural ADJ JJ amod Xxxxx True False\n",
      "language language NOUN NN compound xxxx True False\n",
      "processing processing NOUN NN nsubj xxxx True False\n",
      ", , PUNCT , punct , False False\n",
      "or or CCONJ CC cc xx True True\n",
      "NLP NLP PROPN NNP conj XXX True False\n",
      ", , PUNCT , punct , False False\n",
      "combines combine VERB VBZ ROOT xxxx True False\n",
      "computational computational ADJ JJ amod xxxx True False\n",
      "linguistics linguistic NOUN NNS dobj xxxx True False\n",
      "— — PUNCT : punct — False False\n",
      "rule rule NOUN NN npadvmod xxxx True False\n",
      "- - PUNCT HYPH punct - False False\n",
      "based base VERB VBN amod xxxx True False\n",
      "modeling modeling NOUN NN appos xxxx True False\n",
      "of of ADP IN prep xx True True\n",
      "human human ADJ JJ amod xxxx True False\n",
      "language language NOUN NN pobj xxxx True False\n",
      "— — PUNCT : punct — False False\n",
      "with with ADP IN prep xxxx True True\n",
      "statistical statistical ADJ JJ amod xxxx True False\n",
      "and and CCONJ CC cc xxx True True\n",
      "machine machine NOUN NN conj xxxx True False\n",
      "learning learning NOUN NN conj xxxx True False\n",
      "models model NOUN NNS pobj xxxx True False\n",
      "to to PART TO aux xx True True\n",
      "enable enable VERB VB advcl xxxx True False\n",
      "computers computer NOUN NNS dobj xxxx True False\n",
      "and and CCONJ CC cc xxx True True\n",
      "digital digital ADJ JJ amod xxxx True False\n",
      "devices device NOUN NNS conj xxxx True False\n",
      "to to PART TO aux xx True True\n",
      "recognize recognize VERB VB xcomp xxxx True False\n",
      ", , PUNCT , punct , False False\n",
      "understand understand VERB VB conj xxxx True False\n",
      "and and CCONJ CC cc xxx True True\n",
      "generate generate VERB VB conj xxxx True False\n",
      "text text NOUN NN dobj xxxx True False\n",
      "and and CCONJ CC cc xxx True True\n",
      "speech speech NOUN NN conj xxxx True False\n",
      ". . PUNCT . punct . False False\n"
     ]
    }
   ],
   "source": [
    "import spacy\n",
    "nlp = spacy.load(\"en_core_web_lg\")\n",
    "doc = nlp(\"Natural language processing, or NLP, combines computational linguistics—rule-based modeling of human language—with statistical and machine learning models to enable computers and digital devices to recognize, understand and generate text and speech.\")\n",
    "\n",
    "for token in doc:\n",
    "    print(token.text, token.lemma_, token.pos_, token.tag_, token.dep_,\n",
    "            token.shape_, token.is_alpha, token.is_stop)"
   ]
  },
  {
   "attachments": {},
   "cell_type": "markdown",
   "metadata": {
    "pycharm": {
     "name": "#%% md\n"
    }
   },
   "source": [
    "## Imports\n",
    "[back to top ⬆️](#Table-of-contents:)\n"
   ]
  },
  {
   "cell_type": "code",
   "execution_count": 18,
   "metadata": {
    "pycharm": {
     "name": "#%%\n"
    }
   },
   "outputs": [],
   "source": [
    "import collections\n",
    "import os\n",
    "import time\n",
    "import json\n",
    "from typing import Tuple, List\n",
    "\n",
    "from pathlib import Path\n",
    "from dotenv import load_dotenv\n",
    "\n",
    "import cv2\n",
    "import numpy as np\n",
    "from IPython import display\n",
    "import openvino as ov\n",
    "\n",
    "from openvino.runtime.ie_api import CompiledModel\n",
    "\n",
    "# Fetch `notebook_utils` module\n",
    "import requests\n",
    "\n",
    "r = requests.get(\n",
    "    url=\"https://raw.githubusercontent.com/openvinotoolkit/openvino_notebooks/latest/utils/notebook_utils.py\",\n",
    ")\n",
    "open(\"notebook_utils.py\", \"w\").write(r.text)\n",
    "import notebook_utils as utils"
   ]
  },
  {
   "cell_type": "code",
   "execution_count": 19,
   "metadata": {},
   "outputs": [
    {
     "name": "stdout",
     "output_type": "stream",
     "text": [
      "['-5wLopwbGX0.mp4', '03dk7mneDU0.mp4', '1Hi5GMotrjs.mp4', '5l1ajLjqaPo.mp4', '8UxlDNur-Z0.mp4', '9GFfKVeoGm0.mp4', 'a58tBGuDIg0.mp4', 'A8TIWMvJVDU.mp4', 'AuqIu3x_lhY.mp4', 'c8ln_nWYMyM.mp4', 'czhL0iDbNT8.mp4', 'DYpTE_n-Wvk.mp4', 'F5Y_gGsg4x8.mp4', 'GI7nIyMEQi4.mp4', 'jf7RDuUTrsQ.mp4', 'jqkyelS4GJk.mp4', 'JTlatknwOrY.mp4', 'KPP2qRzMdos.mp4', 'NUG7kwJ-614.mp4', 'PmgfU9ocx5A.mp4', 'R-xmgefs-M4.mp4', 'ustVqWMM56c.mp4', 'wHUvw_R2iv8.mp4', 'y9r115bgfNk.mp4', 'ZnIDviwA8CE.mp4']\n"
     ]
    }
   ],
   "source": [
    "load_dotenv()\n",
    "VIDEOS_PATH = os.environ['VIDEOS_PATH']\n",
    "VIDEOS = os.listdir(VIDEOS_PATH)\n",
    "VIDEO_CAPTION = os.environ['CAPTIONS']\n",
    "print(VIDEOS)"
   ]
  },
  {
   "attachments": {},
   "cell_type": "markdown",
   "metadata": {},
   "source": [
    "## The models\n",
    "[back to top ⬆️](#Table-of-contents:)\n",
    "\n",
    "### Download the models\n",
    "[back to top ⬆️](#Table-of-contents:)\n",
    "\n",
    "Use the `download_ir_model`, a function from the `notebook_utils` file. It automatically creates a directory structure and downloads the selected model.\n",
    "\n",
    "In this case you can use `\"action-recognition-0001\"` as a model name, and the system automatically downloads the two models `\"action-recognition-0001-encoder\"` and `\"action-recognition-0001-decoder\"`\n",
    "\n",
    "> **NOTE**: If you want to download another model, such as `\"driver-action-recognition-adas-0002\"` (`\"driver-action-recognition-adas-0002-encoder\"` + `\"driver-action-recognition-adas-0002-decoder\"`), replace the name of the model in the code below. Using a model outside the list can require different pre- and post-processing. "
   ]
  },
  {
   "cell_type": "code",
   "execution_count": 20,
   "metadata": {
    "tags": []
   },
   "outputs": [],
   "source": [
    "#to store predictions of each frame\n",
    "all_predictions_dict={}\n",
    "logs_file_path=os.getcwd() + \"\\\\logs.txt\"\n",
    "open(logs_file_path, 'w').close()\n",
    "# A directory where the model will be downloaded.\n",
    "base_model_dir = \"model\"\n",
    "# The name of the model from Open Model Zoo.\n",
    "model_name = \"action-recognition-0001\"\n",
    "# Selected precision (FP32, FP16, FP16-INT8).\n",
    "precision = \"FP16\"\n",
    "model_path_decoder = f\"model/intel/{model_name}/{model_name}-decoder/{precision}/{model_name}-decoder.xml\"\n",
    "model_path_encoder = f\"model/intel/{model_name}/{model_name}-encoder/{precision}/{model_name}-encoder.xml\"\n",
    "encoder_url = f\"https://storage.openvinotoolkit.org/repositories/open_model_zoo/temp/{model_name}/{model_name}-encoder/{precision}/{model_name}-encoder.xml\"\n",
    "decoder_url = f\"https://storage.openvinotoolkit.org/repositories/open_model_zoo/temp/{model_name}/{model_name}-decoder/{precision}/{model_name}-decoder.xml\"\n",
    "\n",
    "if not os.path.exists(model_path_decoder):\n",
    "    utils.download_ir_model(decoder_url, Path(model_path_decoder).parent)\n",
    "if not os.path.exists(model_path_encoder):\n",
    "    utils.download_ir_model(encoder_url, Path(model_path_encoder).parent)"
   ]
  },
  {
   "cell_type": "code",
   "execution_count": null,
   "metadata": {},
   "outputs": [],
   "source": [
    "\n",
    "\n",
    "\n"
   ]
  },
  {
   "attachments": {},
   "cell_type": "markdown",
   "metadata": {},
   "source": [
    "### Load your labels\n",
    "[back to top ⬆️](#Table-of-contents:)\n",
    "\n",
    "This tutorial uses [Kinetics-400 dataset](https://deepmind.com/research/open-source/kinetics), and also provides the text file embedded into this notebook. \n",
    "\n",
    "> **NOTE**: If you want to run `\"driver-action-recognition-adas-0002\"` model, replace the `kinetics.txt` file to `driver_actions.txt`."
   ]
  },
  {
   "cell_type": "code",
   "execution_count": 21,
   "metadata": {},
   "outputs": [
    {
     "name": "stdout",
     "output_type": "stream",
     "text": [
      "'data\\kinetics.txt' already exists.\n",
      "['abseiling', 'air drumming', 'answering questions', 'applauding', 'applying cream', 'archery', 'arm wrestling', 'arranging flowers', 'assembling computer'] (400,)\n"
     ]
    }
   ],
   "source": [
    "# Download the text from the openvino_notebooks storage\n",
    "vocab_file_path = utils.download_file(\n",
    "    \"https://storage.openvinotoolkit.org/repositories/openvino_notebooks/data/data/text/kinetics.txt\",\n",
    "    directory=\"data\",\n",
    ")\n",
    "\n",
    "with vocab_file_path.open(mode=\"r\") as f:\n",
    "    labels = [line.strip() for line in f]\n",
    "\n",
    "print(labels[0:9], np.shape(labels))\n"
   ]
  },
  {
   "attachments": {},
   "cell_type": "markdown",
   "metadata": {
    "pycharm": {
     "name": "#%% md\n"
    }
   },
   "source": [
    "### Load the models\n",
    "[back to top ⬆️](#Table-of-contents:)\n",
    "\n",
    "Load the two models for this particular architecture, Encoder and Decoder. Downloaded models are located in a fixed structure, indicating a vendor, the name of the model, and a precision.\n",
    "\n",
    " 1. Initialize OpenVINO Runtime.\n",
    " 2. Read the network from `*.bin` and `*.xml` files (weights and architecture).\n",
    " 3. Compile the model for specified device.\n",
    " 4. Get input and output names of nodes.\n",
    "\n",
    "Only a few lines of code are required to run the model."
   ]
  },
  {
   "attachments": {},
   "cell_type": "markdown",
   "metadata": {},
   "source": [
    "Select device from dropdown list for running inference using OpenVINO"
   ]
  },
  {
   "cell_type": "code",
   "execution_count": 22,
   "metadata": {},
   "outputs": [
    {
     "data": {
      "application/vnd.jupyter.widget-view+json": {
       "model_id": "c798cb1c7d47477086dfcae5f7a30d37",
       "version_major": 2,
       "version_minor": 0
      },
      "text/plain": [
       "Dropdown(description='Device:', index=2, options=('CPU', 'GPU', 'AUTO'), value='AUTO')"
      ]
     },
     "execution_count": 22,
     "metadata": {},
     "output_type": "execute_result"
    }
   ],
   "source": [
    "import ipywidgets as widgets\n",
    "\n",
    "core = ov.Core()\n",
    "device = widgets.Dropdown(\n",
    "    options=core.available_devices + [\"AUTO\"],\n",
    "    value=\"AUTO\",\n",
    "    description=\"Device:\",\n",
    "    disabled=False,\n",
    ")\n",
    "\n",
    "device"
   ]
  },
  {
   "attachments": {},
   "cell_type": "markdown",
   "metadata": {},
   "source": [
    "#### Model Initialization function\n",
    "[back to top ⬆️](#Table-of-contents:)\n"
   ]
  },
  {
   "cell_type": "code",
   "execution_count": 23,
   "metadata": {},
   "outputs": [],
   "source": [
    "# Initialize OpenVINO Runtime.\n",
    "core = ov.Core()\n",
    "\n",
    "\n",
    "def model_init(model_path: str, device: str) -> Tuple:\n",
    "    \"\"\"\n",
    "    Read the network and weights from a file, load the\n",
    "    model on CPU and get input and output names of nodes\n",
    "\n",
    "    :param:\n",
    "            model: model architecture path *.xml\n",
    "            device: inference device\n",
    "    :retuns:\n",
    "            compiled_model: Compiled model\n",
    "            input_key: Input node for model\n",
    "            output_key: Output node for model\n",
    "    \"\"\"\n",
    "\n",
    "    # Read the network and corresponding weights from a file.\n",
    "    model = core.read_model(model=model_path)\n",
    "    l_file = open(logs_file_path, \"a\")  # append mode\n",
    "    l_file.write(\"\\nmodel:\\n\" )\n",
    "    l_file.write(str(model ))\n",
    "    l_file.close()\n",
    "    # Compile the model for specified device.\n",
    "    compiled_model = core.compile_model(model=model, device_name=device)\n",
    "    # Get input and output names of nodes.\n",
    "    input_keys = compiled_model.input(0)\n",
    "    l_file = open(logs_file_path, \"a\")  # append mode\n",
    "    l_file.write(\"\\ninput keys:\\n\" )\n",
    "    l_file.write(str(input_keys ))\n",
    "    l_file.close()\n",
    "    output_keys = compiled_model.output(0)\n",
    "    return input_keys, output_keys, compiled_model"
   ]
  },
  {
   "attachments": {},
   "cell_type": "markdown",
   "metadata": {},
   "source": [
    "#### Initialization for Encoder and Decoder\n",
    "[back to top ⬆️](#Table-of-contents:)\n"
   ]
  },
  {
   "cell_type": "code",
   "execution_count": 24,
   "metadata": {},
   "outputs": [
    {
     "name": "stdout",
     "output_type": "stream",
     "text": [
      "16\n"
     ]
    }
   ],
   "source": [
    "l_file = open(logs_file_path, \"a\")  # append mode\n",
    "l_file.write(\"\\nmodel peth encoder:\\n\" )\n",
    "l_file.write(str(model_path_encoder ))\n",
    "l_file.write(\"\\nmodel peth decoder:\\n\" )\n",
    "l_file.write(str(model_path_decoder ))\n",
    "l_file.close()\n",
    "# Encoder initialization\n",
    "input_key_en, output_keys_en, compiled_model_en = model_init(model_path_encoder, device.value)\n",
    "# Decoder initialization\n",
    "input_key_de, output_keys_de, compiled_model_de = model_init(model_path_decoder, device.value)\n",
    "\n",
    "# Get input size - Encoder.\n",
    "height_en, width_en = list(input_key_en.shape)[2:]\n",
    "# Get input size - Decoder.\n",
    "frames2decode = list(input_key_de.shape)[0:][1]\n",
    "print(frames2decode)"
   ]
  },
  {
   "attachments": {},
   "cell_type": "markdown",
   "metadata": {},
   "source": [
    "### Helper functions\n",
    "[back to top ⬆️](#Table-of-contents:)\n",
    "\n",
    "Use the following helper functions for preprocessing and postprocessing frames:\n",
    "\n",
    "1. Preprocess the input image before running the Encoder model. (`center_crop` and `adaptative_resize`)\n",
    "2. Decode top-3 probabilities into label names. (`decode_output`)\n",
    "3. Draw the Region of Interest (ROI) over the video. (`rec_frame_display`)\n",
    "4. Prepare the frame for displaying label names over the video. (`display_text_fnc`)"
   ]
  },
  {
   "cell_type": "code",
   "execution_count": 25,
   "metadata": {},
   "outputs": [],
   "source": [
    "def center_crop(frame: np.ndarray) -> np.ndarray:\n",
    "    \"\"\"\n",
    "    Center crop squared the original frame to standardize the input image to the encoder model\n",
    "\n",
    "    :param frame: input frame\n",
    "    :returns: center-crop-squared frame\n",
    "    \"\"\"\n",
    "    img_h, img_w, _ = frame.shape\n",
    "    min_dim = min(img_h, img_w)\n",
    "    start_x = int((img_w - min_dim) / 2.0)\n",
    "    start_y = int((img_h - min_dim) / 2.0)\n",
    "    roi = [start_y, (start_y + min_dim), start_x, (start_x + min_dim)]\n",
    "    return frame[start_y : (start_y + min_dim), start_x : (start_x + min_dim), ...], roi\n",
    "\n",
    "\n",
    "def adaptive_resize(frame: np.ndarray, size: int) -> np.ndarray:\n",
    "    \"\"\"\n",
    "     The frame going to be resized to have a height of size or a width of size\n",
    "\n",
    "    :param frame: input frame\n",
    "    :param size: input size to encoder model\n",
    "    :returns: resized frame, np.array type\n",
    "    \"\"\"\n",
    "    h, w, _ = frame.shape\n",
    "    scale = size / min(h, w)\n",
    "    w_scaled, h_scaled = int(w * scale), int(h * scale)\n",
    "    if w_scaled == w and h_scaled == h:\n",
    "        return frame\n",
    "    return cv2.resize(frame, (w_scaled, h_scaled))\n",
    "\n",
    "\n",
    "def decode_output(probs: np.ndarray, labels: np.ndarray, top_k: int = 3) -> np.ndarray:\n",
    "    \"\"\"\n",
    "    Decodes top probabilities into corresponding label names\n",
    "\n",
    "    :param probs: confidence vector for 400 actions\n",
    "    :param labels: list of actions\n",
    "    :param top_k: The k most probable positions in the list of labels\n",
    "    :returns: decoded_labels: The k most probable actions from the labels list\n",
    "              decoded_top_probs: confidence for the k most probable actions\n",
    "    \"\"\"\n",
    "    top_ind = np.argsort(-1 * probs)[:top_k]\n",
    "    out_label = np.array(labels)[top_ind.astype(int)]\n",
    "    decoded_labels = [out_label[0][0], out_label[0][1], out_label[0][2]]\n",
    "    top_probs = np.array(probs)[0][top_ind.astype(int)]\n",
    "    decoded_top_probs = [top_probs[0][0], top_probs[0][1], top_probs[0][2]]\n",
    "    return decoded_labels, decoded_top_probs\n",
    "\n",
    "\n",
    "def rec_frame_display(frame: np.ndarray, roi) -> np.ndarray:\n",
    "    \"\"\"\n",
    "    Draw a rec frame over actual frame\n",
    "\n",
    "    :param frame: input frame\n",
    "    :param roi: Region of interest, image section processed by the Encoder\n",
    "    :returns: frame with drawed shape\n",
    "\n",
    "    \"\"\"\n",
    "\n",
    "    cv2.line(frame, (roi[2] + 3, roi[0] + 3), (roi[2] + 3, roi[0] + 100), (0, 200, 0), 2)\n",
    "    cv2.line(frame, (roi[2] + 3, roi[0] + 3), (roi[2] + 100, roi[0] + 3), (0, 200, 0), 2)\n",
    "    cv2.line(frame, (roi[3] - 3, roi[1] - 3), (roi[3] - 3, roi[1] - 100), (0, 200, 0), 2)\n",
    "    cv2.line(frame, (roi[3] - 3, roi[1] - 3), (roi[3] - 100, roi[1] - 3), (0, 200, 0), 2)\n",
    "    cv2.line(frame, (roi[3] - 3, roi[0] + 3), (roi[3] - 3, roi[0] + 100), (0, 200, 0), 2)\n",
    "    cv2.line(frame, (roi[3] - 3, roi[0] + 3), (roi[3] - 100, roi[0] + 3), (0, 200, 0), 2)\n",
    "    cv2.line(frame, (roi[2] + 3, roi[1] - 3), (roi[2] + 3, roi[1] - 100), (0, 200, 0), 2)\n",
    "    cv2.line(frame, (roi[2] + 3, roi[1] - 3), (roi[2] + 100, roi[1] - 3), (0, 200, 0), 2)\n",
    "    # Write ROI over actual frame\n",
    "    FONT_STYLE = cv2.FONT_HERSHEY_SIMPLEX\n",
    "    org = (roi[2] + 3, roi[1] - 3)\n",
    "    org2 = (roi[2] + 2, roi[1] - 2)\n",
    "    FONT_SIZE = 0.5\n",
    "    FONT_COLOR = (0, 200, 0)\n",
    "    FONT_COLOR2 = (0, 0, 0)\n",
    "    cv2.putText(frame, \"ROI\", org2, FONT_STYLE, FONT_SIZE, FONT_COLOR2)\n",
    "    cv2.putText(frame, \"ROI\", org, FONT_STYLE, FONT_SIZE, FONT_COLOR)\n",
    "    return frame\n",
    "\n",
    "\n",
    "def display_text_fnc(frame: np.ndarray, display_text: str, index: int):\n",
    "    \"\"\"\n",
    "    Include a text on the analyzed frame\n",
    "\n",
    "    :param frame: input frame\n",
    "    :param display_text: text to add on the frame\n",
    "    :param index: index line dor adding text\n",
    "\n",
    "    \"\"\"\n",
    "    # Configuration for displaying images with text.\n",
    "    FONT_COLOR = (255, 255, 255)\n",
    "    FONT_COLOR2 = (0, 0, 0)\n",
    "    FONT_STYLE = cv2.FONT_HERSHEY_DUPLEX\n",
    "    FONT_SIZE = 0.7\n",
    "    TEXT_VERTICAL_INTERVAL = 25\n",
    "    TEXT_LEFT_MARGIN = 15\n",
    "    # ROI over actual frame\n",
    "    (processed, roi) = center_crop(frame)\n",
    "    # Draw a ROI over actual frame.\n",
    "    frame = rec_frame_display(frame, roi)\n",
    "    # Put a text over actual frame.\n",
    "    text_loc = (TEXT_LEFT_MARGIN, TEXT_VERTICAL_INTERVAL * (index + 1))\n",
    "    text_loc2 = (TEXT_LEFT_MARGIN + 1, TEXT_VERTICAL_INTERVAL * (index + 1) + 1)\n",
    "    cv2.putText(frame, display_text, text_loc2, FONT_STYLE, FONT_SIZE, FONT_COLOR2)\n",
    "    cv2.putText(frame, display_text, text_loc, FONT_STYLE, FONT_SIZE, FONT_COLOR)"
   ]
  },
  {
   "attachments": {},
   "cell_type": "markdown",
   "metadata": {},
   "source": [
    "### AI Functions\n",
    "[back to top ⬆️](#Table-of-contents:)\n",
    "\n",
    "<img align='center' src=\"https://user-images.githubusercontent.com/10940214/148401661-477aebcd-f2d0-4771-b107-4b37f94d0b1e.jpeg\" alt=\"drawing\" width=\"1000\"/>\n",
    "\n",
    "Following the pipeline above, you will use the next functions to:\n",
    "\n",
    "1. Preprocess a frame before running the Encoder. (`preprocessing`)\n",
    "2. Encoder Inference per frame. (`encoder`)\n",
    "3. Decoder inference per set of frames. (`decoder`)\n",
    "4. Normalize the Decoder output to get confidence values per action recognition label. (`softmax`)"
   ]
  },
  {
   "cell_type": "code",
   "execution_count": 26,
   "metadata": {},
   "outputs": [],
   "source": [
    "def preprocessing(frame: np.ndarray, size: int) -> np.ndarray:\n",
    "    \"\"\"\n",
    "    Preparing frame before Encoder.\n",
    "    The image should be scaled to its shortest dimension at \"size\"\n",
    "    and cropped, centered, and squared so that both width and\n",
    "    height have lengths \"size\". The frame must be transposed from\n",
    "    Height-Width-Channels (HWC) to Channels-Height-Width (CHW).\n",
    "\n",
    "    :param frame: input frame\n",
    "    :param size: input size to encoder model\n",
    "    :returns: resized and cropped frame\n",
    "    \"\"\"\n",
    "    # Adaptative resize\n",
    "    preprocessed = adaptive_resize(frame, size)\n",
    "    # Center_crop\n",
    "    (preprocessed, roi) = center_crop(preprocessed)\n",
    "    # Transpose frame HWC -> CHW\n",
    "    preprocessed = preprocessed.transpose((2, 0, 1))[None,]  # HWC -> CHW\n",
    "    return preprocessed, roi\n",
    "\n",
    "\n",
    "def encoder(preprocessed: np.ndarray, compiled_model: CompiledModel) -> List:\n",
    "    \"\"\"\n",
    "    Encoder Inference per frame. This function calls the network previously\n",
    "    configured for the encoder model (compiled_model), extracts the data\n",
    "    from the output node, and appends it in an array to be used by the decoder.\n",
    "\n",
    "    :param: preprocessed: preprocessing frame\n",
    "    :param: compiled_model: Encoder model network\n",
    "    :returns: encoder_output: embedding layer that is appended with each arriving frame\n",
    "    \"\"\"\n",
    "    output_key_en = compiled_model.output(0)\n",
    "\n",
    "    # Get results on action-recognition-0001-encoder model\n",
    "    infer_result_encoder = compiled_model([preprocessed])[output_key_en]\n",
    "    return infer_result_encoder\n",
    "\n",
    "\n",
    "def decoder(encoder_output: List, compiled_model_de: CompiledModel) -> List:\n",
    "    \"\"\"\n",
    "    Decoder inference per set of frames. This function concatenates the embedding layer\n",
    "    froms the encoder output, transpose the array to match with the decoder input size.\n",
    "    Calls the network previously configured for the decoder model (compiled_model_de), extracts\n",
    "    the logits and normalize those to get confidence values along specified axis.\n",
    "    Decodes top probabilities into corresponding label names\n",
    "\n",
    "    :param: encoder_output: embedding layer for 16 frames\n",
    "    :param: compiled_model_de: Decoder model network\n",
    "    :returns: decoded_labels: The k most probable actions from the labels list\n",
    "              decoded_top_probs: confidence for the k most probable actions\n",
    "    \"\"\"\n",
    "    # Concatenate sample_duration frames in just one array\n",
    "    decoder_input = np.concatenate(encoder_output, axis=0)\n",
    "    # Organize input shape vector to the Decoder (shape: [1x16x512]]\n",
    "    decoder_input = decoder_input.transpose((2, 0, 1, 3))\n",
    "    decoder_input = np.squeeze(decoder_input, axis=3)\n",
    "    output_key_de = compiled_model_de.output(0)\n",
    "    # Get results on action-recognition-0001-decoder model\n",
    "    result_de = compiled_model_de([decoder_input])[output_key_de]\n",
    "    # Normalize logits to get confidence values along specified axis\n",
    "    probs = softmax(result_de - np.max(result_de))\n",
    "    # Decodes top probabilities into corresponding label names\n",
    "    decoded_labels, decoded_top_probs = decode_output(probs, labels, top_k=3)\n",
    "    return decoded_labels, decoded_top_probs\n",
    "\n",
    "\n",
    "def softmax(x: np.ndarray) -> np.ndarray:\n",
    "    \"\"\"\n",
    "    Normalizes logits to get confidence values along specified axis\n",
    "    x: np.array, axis=None\n",
    "    \"\"\"\n",
    "    exp = np.exp(x)\n",
    "    return exp / np.sum(exp, axis=None)"
   ]
  },
  {
   "attachments": {},
   "cell_type": "markdown",
   "metadata": {
    "pycharm": {
     "name": "#%% md\n"
    },
    "tags": []
   },
   "source": [
    "### Main Processing Function\n",
    "[back to top ⬆️](#Table-of-contents:)\n",
    "\n",
    "Running action recognition function will run in different operations, either a webcam or a video file. See the list of procedures below:\n",
    "\n",
    "1. Create a video player to play with target fps (`utils.VideoPlayer`).\n",
    "2. Prepare a set of frames to be encoded-decoded.\n",
    "3. Run AI functions\n",
    "4. Visualize the results."
   ]
  },
  {
   "cell_type": "code",
   "execution_count": 27,
   "metadata": {
    "tags": []
   },
   "outputs": [],
   "source": [
    "def run_action_recognition(\n",
    "    source: str = \"0\",\n",
    "    flip: bool = True,\n",
    "    use_popup: bool = False,\n",
    "    compiled_model_en: CompiledModel = compiled_model_en,\n",
    "    compiled_model_de: CompiledModel = compiled_model_de,\n",
    "    skip_first_frames: int = 0,\n",
    "    all_predictions_dict: dict = {},\n",
    "    video_name: str = \"\"\n",
    "):\n",
    "    \"\"\"\n",
    "    Use the \"source\" webcam or video file to run the complete pipeline for action-recognition problem\n",
    "    1. Create a video player to play with target fps\n",
    "    2. Prepare a set of frames to be encoded-decoded\n",
    "    3. Preprocess frame before Encoder\n",
    "    4. Encoder Inference per frame\n",
    "    5. Decoder inference per set of frames\n",
    "    6. Visualize the results\n",
    "\n",
    "    :param: source: webcam \"0\" or video path\n",
    "    :param: flip: to be used by VideoPlayer function for flipping capture image\n",
    "    :param: use_popup: False for showing encoded frames over this notebook, True for creating a popup window.\n",
    "    :param: skip_first_frames: Number of frames to skip at the beginning of the video.\n",
    "    :returns: display video over the notebook or in a popup window\n",
    "\n",
    "    \"\"\"\n",
    "    all_predictions_dict[video_name] = []\n",
    "    size = height_en  # Endoder input size - From Cell 5_9\n",
    "    sample_duration = frames2decode  # Decoder input size - From Cell 5_7\n",
    "    # Select frames per second of your source.\n",
    "    fps = 30\n",
    "    player = None\n",
    "    try:\n",
    "        # Create a video player.\n",
    "        player = utils.VideoPlayer(source, flip=flip, fps=fps, skip_first_frames=skip_first_frames)\n",
    "        # Start capturing.\n",
    "        player.start()\n",
    "        if use_popup:\n",
    "            title = \"Press ESC to Exit\"\n",
    "            cv2.namedWindow(title, cv2.WINDOW_GUI_NORMAL | cv2.WINDOW_AUTOSIZE)\n",
    "\n",
    "        processing_times = collections.deque()\n",
    "        processing_time = 0\n",
    "        encoder_output = []\n",
    "        decoded_labels = [0, 0, 0]\n",
    "        decoded_top_probs = [0, 0, 0]\n",
    "        counter = 0\n",
    "        # Create a text template to show inference results over video.\n",
    "        text_inference_template = \"Infer Time:{Time:.1f}ms,{fps:.1f}FPS\"\n",
    "        text_template = \"{label},{conf:.2f}%\"\n",
    "\n",
    "        while True:\n",
    "            counter = counter + 1\n",
    "\n",
    "            # Read a frame from the video stream.\n",
    "            frame = player.next()\n",
    "            if frame is None:\n",
    "                print(\"Source ended\")\n",
    "                break\n",
    "\n",
    "            scale = 1280 / max(frame.shape)\n",
    "\n",
    "            # Adaptative resize for visualization.\n",
    "            if scale < 1:\n",
    "                frame = cv2.resize(frame, None, fx=scale, fy=scale, interpolation=cv2.INTER_AREA)\n",
    "\n",
    "            # Select one frame every two for processing through the encoder.\n",
    "            # After 16 frames are processed, the decoder will find the action,\n",
    "            # and the label will be printed over the frames.\n",
    "\n",
    "            if counter % 2 == 0:\n",
    "                # Preprocess frame before Encoder.\n",
    "                (preprocessed, _) = preprocessing(frame, size)\n",
    "\n",
    "                # Measure processing time.\n",
    "                start_time = time.time()\n",
    "\n",
    "                # Encoder Inference per frame\n",
    "                encoder_output.append(encoder(preprocessed, compiled_model_en))\n",
    "                l_file = open(logs_file_path, \"a\")  # append mode\n",
    "                l_file.write(\"\\nbefore decoder\\n\" )\n",
    "                l_file.close()\n",
    "                # Decoder inference per set of frames\n",
    "                # Wait for sample duration to work with decoder model.\n",
    "                if len(encoder_output) == sample_duration:\n",
    "                    decoded_labels, decoded_top_probs = decoder(encoder_output, compiled_model_de)\n",
    "                    for i in range(0, 3):\n",
    "                        if i == 0:\n",
    "                            all_predictions_dict[video_name].append([])\n",
    "                        all_predictions_dict[video_name][-1].append({'label': str(decoded_labels[i]), 'confidence': str(decoded_top_probs[i] * 100)})\n",
    "                    encoder_output = []\n",
    "\n",
    "                # Inference has finished. Display the results.\n",
    "                stop_time = time.time()\n",
    "\n",
    "                # Calculate processing time.\n",
    "                processing_times.append(stop_time - start_time)\n",
    "\n",
    "                # Use processing times from last 200 frames.\n",
    "                if len(processing_times) > 200:\n",
    "                    processing_times.popleft()\n",
    "\n",
    "                # Mean processing time [ms]\n",
    "                processing_time = np.mean(processing_times) * 1000\n",
    "                fps = 1000 / processing_time\n",
    "            # Visualize the results.\n",
    "            for i in range(0, 3):\n",
    "                display_text = text_template.format(\n",
    "                    label=decoded_labels[i],\n",
    "                    conf=decoded_top_probs[i] * 100,\n",
    "                )\n",
    "                display_text_fnc(frame, display_text, i)\n",
    "            display_text = text_inference_template.format(Time=processing_time, fps=fps)\n",
    "            display_text_fnc(frame, display_text, 3)\n",
    "\n",
    "            # Use this workaround if you experience flickering.\n",
    "            if use_popup:\n",
    "                cv2.imshow(title, frame)\n",
    "                key = cv2.waitKey(1)\n",
    "                # escape = 27\n",
    "                if key == 27:\n",
    "                    break\n",
    "            else:\n",
    "                # Encode numpy array to jpg.\n",
    "                _, encoded_img = cv2.imencode(\".jpg\", frame, params=[cv2.IMWRITE_JPEG_QUALITY, 90])\n",
    "                # Create an IPython image.\n",
    "                i = display.Image(data=encoded_img)\n",
    "                # Display the image in this notebook.\n",
    "                display.clear_output(wait=True)\n",
    "                display.display(i)\n",
    "    # ctrl-c\n",
    "    except KeyboardInterrupt:\n",
    "        print(\"Interrupted\")\n",
    "    # Any different error\n",
    "    except RuntimeError as e:\n",
    "        print(e)\n",
    "    finally:\n",
    "        if player is not None:\n",
    "            # Stop capturing.\n",
    "            player.stop()\n",
    "        if use_popup:\n",
    "            cv2.destroyAllWindows()"
   ]
  },
  {
   "attachments": {},
   "cell_type": "markdown",
   "metadata": {},
   "source": [
    "### Run Action Recognition\n",
    "[back to top ⬆️](#Table-of-contents:)\n",
    "\n",
    "Find out how the model works in a video file. [Any format supported](https://docs.opencv.org/4.5.1/dd/d43/tutorial_py_video_display.html) by OpenCV will work. You can press the stop button anytime while the video file is running, and it will activate the webcam for the next step.\n",
    "\n",
    "> **NOTE**: Sometimes, the video can be cut off if there are corrupted frames. In that case, you can convert it. If you experience any problems with your video, use the [HandBrake](https://handbrake.fr/) and select the MPEG format.\n",
    "\n",
    "if you want to use a web camera as an input source for the demo, please change the value of `USE_WEBCAM` variable to True and specify `cam_id` (the default value is 0, which can be different in multi-camera systems)."
   ]
  },
  {
   "cell_type": "code",
   "execution_count": 28,
   "metadata": {},
   "outputs": [],
   "source": [
    "# %pip install pafy"
   ]
  },
  {
   "cell_type": "code",
   "execution_count": 29,
   "metadata": {},
   "outputs": [],
   "source": [
    "# %pip install --upgrade youtube-dl"
   ]
  },
  {
   "cell_type": "code",
   "execution_count": 30,
   "metadata": {},
   "outputs": [],
   "source": [
    "l_file = open(logs_file_path, \"a\")  # append mode\n",
    "l_file.write(\"\\ntest var: \\n\" + json.dumps(all_predictions_dict, indent = 4) + \"\\n\" )\n",
    "l_file.close()\n"
   ]
  },
  {
   "cell_type": "code",
   "execution_count": 31,
   "metadata": {},
   "outputs": [
    {
     "name": "stdout",
     "output_type": "stream",
     "text": [
      "D:\\Downloads\\test_conf_metrix\\videos\n"
     ]
    }
   ],
   "source": [
    "print(os.environ.get('VIDEOS_PATH'))#os.environ['VIDEO_PATH']"
   ]
  },
  {
   "cell_type": "code",
   "execution_count": 32,
   "metadata": {},
   "outputs": [
    {
     "name": "stdout",
     "output_type": "stream",
     "text": [
      "<class 'list'>\n"
     ]
    }
   ],
   "source": [
    "print(type(VIDEOS))"
   ]
  },
  {
   "cell_type": "code",
   "execution_count": 33,
   "metadata": {
    "tags": [],
    "test_replace": {
     "{\"skip_first_frames\": 600, \"flip\": False} if not USE_WEBCAM else {\"flip\": True}\n": "{\"skip_first_frames\": 1800, \"flip\": False} if not USE_WEBCAM else {\"flip\": True}\n"
    }
   },
   "outputs": [
    {
     "data": {
      "image/png": "[encoded data removed]",
      "text/plain": [
       "<IPython.core.display.Image object>"
      ]
     },
     "metadata": {},
     "output_type": "display_data"
    },
    {
     "name": "stdout",
     "output_type": "stream",
     "text": [
      "Source ended\n"
     ]
    }
   ],
   "source": [
    "\n",
    "# import pafy\n",
    "\n",
    "USE_WEBCAM = False\n",
    "\n",
    "cam_id = 0\n",
    "#video_file = \"https://www.youtube.com/embed/0347ZoDXyP0?start=95&end=105&ref=autodidacts.io\" #not working\n",
    "#video_file = \"https://www.youtube.com/watch?v=0347ZoDXyP0\"  #not working\n",
    "#video = pafy.new(\"https://www.youtube.com/watch?v=0347ZoDXyP0\") #not working\n",
    "#video_file = video.getbest(preftype=\"mp4\") #not working\n",
    "# got VIDEO_PATH through environment variable\n",
    "for video in VIDEOS:\n",
    "    video_file = VIDEOS_PATH + \"\\\\\" + video\n",
    "    source = cam_id if USE_WEBCAM else video_file\n",
    "    additional_options = {\"skip_first_frames\": 0, \"flip\": False} if not USE_WEBCAM else {\"flip\": True}\n",
    "    run_action_recognition(source=source, use_popup=False, all_predictions_dict=all_predictions_dict, video_name=video, **additional_options)\n",
    "    "
   ]
  },
  {
   "cell_type": "code",
   "execution_count": 34,
   "metadata": {},
   "outputs": [],
   "source": [
    "with open(os.getcwd() + \"\\\\logs.json\", \"w\") as outfile:\n",
    "    outfile.write(json.dumps(all_predictions_dict,  indent=4))\n",
    "l_file = open(logs_file_path, \"a\")  # append mode\n",
    "l_file.write(\"output of predictions written into \" + os.getcwd() + \"\\\\logs.json\" )\n",
    "l_file.close()\n",
    "sorted_predictions = {}\n",
    "no_of_frames = 0\n",
    "\n",
    "for video in all_predictions_dict:\n",
    "    tmp_s_p = {}\n",
    "    for frame in all_predictions_dict[video]:\n",
    "        no_of_frames = no_of_frames + 1\n",
    "        for prediction in frame:\n",
    "            if prediction['label'] in tmp_s_p.keys():\n",
    "                tmp_s_p[prediction['label']] = float(tmp_s_p[prediction['label']]) + float(prediction['confidence'])\n",
    "            else:\n",
    "                tmp_s_p[prediction['label']] = float(prediction['confidence'])\n",
    "    for pred in tmp_s_p:\n",
    "        tmp_s_p[pred] = tmp_s_p[pred]/no_of_frames\n",
    "    no_of_frames = 0\n",
    "    while tmp_s_p:\n",
    "        key = max(zip(tmp_s_p.values(), tmp_s_p.keys()))[1]\n",
    "        value = max(zip(tmp_s_p.values(), tmp_s_p.keys()))[0]\n",
    "        if video not in  sorted_predictions:\n",
    "            sorted_predictions[video] = []\n",
    "        sorted_predictions[video].append({'name': key, 'value': value})\n",
    "        tmp_s_p.pop(key)"
   ]
  },
  {
   "cell_type": "code",
   "execution_count": null,
   "metadata": {},
   "outputs": [],
   "source": []
  },
  {
   "cell_type": "code",
   "execution_count": null,
   "metadata": {},
   "outputs": [],
   "source": []
  },
  {
   "cell_type": "code",
   "execution_count": 35,
   "metadata": {},
   "outputs": [
    {
     "data": {
      "text/plain": [
       "{'-5wLopwbGX0.mp4': [{'name': 'folding napkins', 'value': 42.13476532604545},\n",
       "  {'name': 'wrapping present', 'value': 4.8190137022174895},\n",
       "  {'name': 'setting table', 'value': 3.206328471424058},\n",
       "  {'name': 'folding paper', 'value': 2.1442655968712643},\n",
       "  {'name': 'dancing ballet', 'value': 0.7751576486043632},\n",
       "  {'name': 'answering questions', 'value': 0.5673049949109554},\n",
       "  {'name': 'making tea', 'value': 0.3576350165531039},\n",
       "  {'name': 'bungee jumping', 'value': 0.19889544928446412},\n",
       "  {'name': 'bandaging', 'value': 0.13229510514065623},\n",
       "  {'name': 'singing', 'value': 0.12456696713343263},\n",
       "  {'name': 'beatboxing', 'value': 0.10769977234303951},\n",
       "  {'name': 'tying tie', 'value': 0.10761163430288434},\n",
       "  {'name': 'trapezing', 'value': 0.10471016867086291},\n",
       "  {'name': 'spinning poi', 'value': 0.08516485104337335}],\n",
       " '03dk7mneDU0.mp4': [{'name': 'presenting weather forecast',\n",
       "   'value': 99.72158670425415},\n",
       "  {'name': 'news anchoring', 'value': 0.26419273098933144},\n",
       "  {'name': 'archery', 'value': 0.0034342191588621063},\n",
       "  {'name': 'planting trees', 'value': 0.00035914041897437227},\n",
       "  {'name': 'climbing tree', 'value': 1.586568150931574e-05},\n",
       "  {'name': 'paragliding', 'value': 3.2858626279145633e-06}],\n",
       " '1Hi5GMotrjs.mp4': [{'name': 'ripping paper', 'value': 7.364358147606254},\n",
       "  {'name': 'blowing nose', 'value': 6.0379133792594075},\n",
       "  {'name': 'beatboxing', 'value': 5.366980005055666},\n",
       "  {'name': 'tying tie', 'value': 1.7655774019658566},\n",
       "  {'name': 'answering questions', 'value': 1.7362907878123224},\n",
       "  {'name': 'playing harmonica', 'value': 1.4005452394485474},\n",
       "  {'name': 'folding paper', 'value': 1.1130249593406916},\n",
       "  {'name': 'tying bow tie', 'value': 0.6444094702601433},\n",
       "  {'name': 'playing chess', 'value': 0.3397974418476224},\n",
       "  {'name': 'finger snapping', 'value': 0.2764862962067127},\n",
       "  {'name': 'singing', 'value': 0.2643742598593235},\n",
       "  {'name': 'applying cream', 'value': 0.2557403175160289},\n",
       "  {'name': 'contact juggling', 'value': 0.23401069920510054},\n",
       "  {'name': 'tasting food', 'value': 0.2070339396595955}],\n",
       " '5l1ajLjqaPo.mp4': [{'name': 'playing controller',\n",
       "   'value': 43.739686119887565},\n",
       "  {'name': 'bowling', 'value': 3.673820042361816},\n",
       "  {'name': 'using remote controller (not gaming)',\n",
       "   'value': 2.1882297160724797},\n",
       "  {'name': 'brush painting', 'value': 1.3897811476555135},\n",
       "  {'name': 'driving car', 'value': 0.8109062392678525},\n",
       "  {'name': 'getting a tattoo', 'value': 0.571921571261353},\n",
       "  {'name': 'spray painting', 'value': 0.5447783196965853},\n",
       "  {'name': 'bobsledding', 'value': 0.5338162390722169},\n",
       "  {'name': 'unboxing', 'value': 0.25351836035648984},\n",
       "  {'name': 'changing oil', 'value': 0.21308488729927275},\n",
       "  {'name': 'snowmobiling', 'value': 0.1824862841102812},\n",
       "  {'name': 'blowing glass', 'value': 0.1803781526784102},\n",
       "  {'name': 'washing hands', 'value': 0.1324872589773602},\n",
       "  {'name': 'playing ice hockey', 'value': 0.11738202431135708},\n",
       "  {'name': 'using computer', 'value': 0.08698495932751232},\n",
       "  {'name': 'making pizza', 'value': 0.0865485312210189},\n",
       "  {'name': 'hoverboarding', 'value': 0.07566984535919295},\n",
       "  {'name': 'barbequing', 'value': 0.0725157041516569},\n",
       "  {'name': 'texting', 'value': 0.07014748536878163}],\n",
       " '8UxlDNur-Z0.mp4': [{'name': 'pushing cart', 'value': 15.778954202930132},\n",
       "  {'name': 'riding scooter', 'value': 13.840924286180073},\n",
       "  {'name': 'walking the dog', 'value': 8.426987441877523},\n",
       "  {'name': 'riding a bike', 'value': 3.3159885141584606},\n",
       "  {'name': 'pushing car', 'value': 2.143052158256372},\n",
       "  {'name': 'pushing wheelchair', 'value': 1.8158347242408328},\n",
       "  {'name': 'riding unicycle', 'value': 1.8011141982343462},\n",
       "  {'name': 'playing paintball', 'value': 1.0585220116708014},\n",
       "  {'name': 'sweeping floor', 'value': 0.8443047396010823},\n",
       "  {'name': 'milking cow', 'value': 0.47900258666939205},\n",
       "  {'name': 'rock climbing', 'value': 0.478931681977378},\n",
       "  {'name': 'moving furniture', 'value': 0.45191622856590485},\n",
       "  {'name': 'mopping floor', 'value': 0.41989849673377144},\n",
       "  {'name': 'cleaning floor', 'value': 0.38365402983294594},\n",
       "  {'name': 'hoverboarding', 'value': 0.24144018275870216}],\n",
       " '9GFfKVeoGm0.mp4': [{'name': 'drawing', 'value': 91.59131821464089},\n",
       "  {'name': 'writing', 'value': 5.110057563904454},\n",
       "  {'name': 'brush painting', 'value': 1.6366850002668798}],\n",
       " 'a58tBGuDIg0.mp4': [{'name': 'shredding paper', 'value': 27.272757568529673},\n",
       "  {'name': 'washing hands', 'value': 6.5939193059291155},\n",
       "  {'name': 'unboxing', 'value': 5.223413184285164},\n",
       "  {'name': 'drumming fingers', 'value': 2.16525276856763},\n",
       "  {'name': 'changing oil', 'value': 1.6927483890737807},\n",
       "  {'name': 'doing laundry', 'value': 1.5446689778140612},\n",
       "  {'name': 'grinding meat', 'value': 1.4229400748653072},\n",
       "  {'name': 'checking tires', 'value': 0.9554347821644374},\n",
       "  {'name': 'playing keyboard', 'value': 0.6646329004849706},\n",
       "  {'name': 'pumping gas', 'value': 0.5417342164686748},\n",
       "  {'name': 'cleaning toilet', 'value': 0.46813200627054485},\n",
       "  {'name': 'cooking sausages', 'value': 0.3350333443709782},\n",
       "  {'name': 'counting money', 'value': 0.3051680379680225},\n",
       "  {'name': 'bookbinding', 'value': 0.10451735662562507}],\n",
       " 'A8TIWMvJVDU.mp4': [{'name': 'cooking on campfire',\n",
       "   'value': 43.96889414638281},\n",
       "  {'name': 'feeding fish', 'value': 5.8097909786738455},\n",
       "  {'name': 'barbequing', 'value': 2.0087055338080972},\n",
       "  {'name': 'planting trees', 'value': 1.899217360187322},\n",
       "  {'name': 'stomping grapes', 'value': 1.8717309460043907},\n",
       "  {'name': 'cooking sausages', 'value': 1.7693298403173685},\n",
       "  {'name': 'weaving basket', 'value': 1.6973554156720638},\n",
       "  {'name': 'cutting pineapple', 'value': 1.5596449375152588},\n",
       "  {'name': 'laying bricks', 'value': 0.732739525847137},\n",
       "  {'name': 'digging', 'value': 0.5247488268651068},\n",
       "  {'name': 'arranging flowers', 'value': 0.4965490195900202},\n",
       "  {'name': 'shearing sheep', 'value': 0.3704416798427701},\n",
       "  {'name': 'riding elephant', 'value': 0.3654623171314597},\n",
       "  {'name': 'feeding birds', 'value': 0.20283842459321022},\n",
       "  {'name': 'chopping wood', 'value': 0.09005307219922543},\n",
       "  {'name': 'welding', 'value': 0.03634477034211159}],\n",
       " 'AuqIu3x_lhY.mp4': [{'name': 'brushing hair', 'value': 22.214442491531372},\n",
       "  {'name': 'dying hair', 'value': 7.934757927432656},\n",
       "  {'name': 'curling hair', 'value': 2.934371028095484},\n",
       "  {'name': 'brushing teeth', 'value': 2.4952684063464403},\n",
       "  {'name': 'fixing hair', 'value': 2.4868217762559652},\n",
       "  {'name': 'getting a haircut', 'value': 1.5307649038732052},\n",
       "  {'name': 'grooming horse', 'value': 1.4032729901373386},\n",
       "  {'name': 'braiding hair', 'value': 1.215924764983356},\n",
       "  {'name': 'cleaning shoes', 'value': 0.9233778342604637},\n",
       "  {'name': 'milking cow', 'value': 0.8875031489878893},\n",
       "  {'name': 'trimming or shaving beard', 'value': 0.7649660343304276},\n",
       "  {'name': 'filling eyebrows', 'value': 0.4028376657515764},\n",
       "  {'name': 'reading book', 'value': 0.23286850191652775}],\n",
       " 'c8ln_nWYMyM.mp4': [{'name': 'stretching arm', 'value': 57.38527062866423},\n",
       "  {'name': 'exercising arm', 'value': 22.09053213397662},\n",
       "  {'name': 'front raises', 'value': 9.553130260772175},\n",
       "  {'name': 'stretching leg', 'value': 0.4677377227279875}],\n",
       " 'czhL0iDbNT8.mp4': [{'name': 'carving pumpkin', 'value': 93.68101730942726},\n",
       "  {'name': 'stomping grapes', 'value': 0.2957496093586087},\n",
       "  {'name': 'hopscotch', 'value': 0.1984488142625196},\n",
       "  {'name': 'blowing out candles', 'value': 0.10950089781545103},\n",
       "  {'name': 'cutting watermelon', 'value': 0.051167999481549487},\n",
       "  {'name': 'egg hunting', 'value': 0.03898246795870364},\n",
       "  {'name': 'playing cello', 'value': 0.035829578700941056},\n",
       "  {'name': 'weaving basket', 'value': 0.03280249093222665},\n",
       "  {'name': 'making snowman', 'value': 0.027874558145413175},\n",
       "  {'name': 'crawling baby', 'value': 0.005423955735750496}],\n",
       " 'DYpTE_n-Wvk.mp4': [{'name': 'passing American football (in game)',\n",
       "   'value': 93.0432743496365},\n",
       "  {'name': 'kicking field goal', 'value': 1.9802960289073073},\n",
       "  {'name': 'tossing coin', 'value': 1.8205790198408067},\n",
       "  {'name': 'dunking basketball', 'value': 0.19176236043373743},\n",
       "  {'name': 'shaking hands', 'value': 0.18032027615441215},\n",
       "  {'name': 'catching or throwing frisbee', 'value': 0.061951055087976985},\n",
       "  {'name': 'passing American football (not in game)',\n",
       "   'value': 0.011220220605739288}],\n",
       " 'F5Y_gGsg4x8.mp4': [{'name': 'massaging back', 'value': 57.61111045584959},\n",
       "  {'name': 'massaging legs', 'value': 34.897524182794285},\n",
       "  {'name': 'stretching leg', 'value': 2.5609093279961277},\n",
       "  {'name': \"massaging person's head\", 'value': 0.3233034525799346}],\n",
       " 'GI7nIyMEQi4.mp4': [{'name': 'tap dancing', 'value': 28.109716582629417},\n",
       "  {'name': 'jumpstyle dancing', 'value': 18.02433128986094},\n",
       "  {'name': 'dancing charleston', 'value': 1.4345318803356752},\n",
       "  {'name': 'skateboarding', 'value': 0.9137961910002761},\n",
       "  {'name': 'throwing discus', 'value': 0.6728150778346591},\n",
       "  {'name': 'side kick', 'value': 0.6189238693979051},\n",
       "  {'name': 'presenting weather forecast', 'value': 0.5826324431432618},\n",
       "  {'name': 'headbanging', 'value': 0.401031660536925},\n",
       "  {'name': 'diving cliff', 'value': 0.311108347442415},\n",
       "  {'name': 'jogging', 'value': 0.29047663427061504},\n",
       "  {'name': 'tai chi', 'value': 0.2743309570683373},\n",
       "  {'name': 'contact juggling', 'value': 0.2640342132912742},\n",
       "  {'name': 'texting', 'value': 0.2565831359889772},\n",
       "  {'name': 'krumping', 'value': 0.22505022999313143},\n",
       "  {'name': 'playing basketball', 'value': 0.20337075822883183},\n",
       "  {'name': 'kissing', 'value': 0.17952399535311592},\n",
       "  {'name': 'shot put', 'value': 0.17320921437607872},\n",
       "  {'name': 'robot dancing', 'value': 0.17219645281632742},\n",
       "  {'name': 'shaking hands', 'value': 0.17094090580940247},\n",
       "  {'name': 'skydiving', 'value': 0.11388974057303534}],\n",
       " 'jf7RDuUTrsQ.mp4': [{'name': 'ripping paper', 'value': 6.6717597929870385},\n",
       "  {'name': 'carrying baby', 'value': 5.174804215922075},\n",
       "  {'name': 'massaging back', 'value': 2.4075130110277847},\n",
       "  {'name': 'folding clothes', 'value': 2.2544035140205834},\n",
       "  {'name': \"massaging person's head\", 'value': 2.050697343314395},\n",
       "  {'name': 'tickling', 'value': 1.2860799208283424},\n",
       "  {'name': 'cutting nails', 'value': 1.0132643887225319},\n",
       "  {'name': 'shaking head', 'value': 0.9067440515055376},\n",
       "  {'name': 'crying', 'value': 0.8514286018908024},\n",
       "  {'name': 'blowing nose', 'value': 0.6417105741360608},\n",
       "  {'name': 'petting cat', 'value': 0.6233373547301573},\n",
       "  {'name': 'air drumming', 'value': 0.5834109862061108},\n",
       "  {'name': 'waxing legs', 'value': 0.5828678607940674},\n",
       "  {'name': 'baby waking up', 'value': 0.5475303706000832},\n",
       "  {'name': 'hugging', 'value': 0.34494340858038736},\n",
       "  {'name': 'brushing hair', 'value': 0.3089311149190454},\n",
       "  {'name': 'headbanging', 'value': 0.2896476536989212},\n",
       "  {'name': 'waxing eyebrows', 'value': 0.2776138484477997},\n",
       "  {'name': 'laughing', 'value': 0.26382797342889447},\n",
       "  {'name': 'shaving head', 'value': 0.25675086414112763},\n",
       "  {'name': 'opening present', 'value': 0.17417129129171371}],\n",
       " 'jqkyelS4GJk.mp4': [{'name': 'ice skating', 'value': 1.1364657048355131},\n",
       "  {'name': 'texting', 'value': 1.0921097415335037},\n",
       "  {'name': 'slapping', 'value': 1.0858907309525154},\n",
       "  {'name': 'rock scissors paper', 'value': 0.7765811922795632},\n",
       "  {'name': 'jogging', 'value': 0.7164410260670325},\n",
       "  {'name': 'tai chi', 'value': 0.6288509651580277},\n",
       "  {'name': 'smoking', 'value': 0.5917760817443624},\n",
       "  {'name': 'jumpstyle dancing', 'value': 0.5796667407540714},\n",
       "  {'name': 'busking', 'value': 0.5741460906232104},\n",
       "  {'name': 'headbutting', 'value': 0.49395324552760406},\n",
       "  {'name': 'pumping fist', 'value': 0.4374029005275053},\n",
       "  {'name': 'beatboxing', 'value': 0.21762985955266392},\n",
       "  {'name': 'playing chess', 'value': 0.20990108742433436},\n",
       "  {'name': 'flying kite', 'value': 0.19753838286680334},\n",
       "  {'name': 'drinking beer', 'value': 0.19092899473274455},\n",
       "  {'name': 'sailing', 'value': 0.1881246400230071},\n",
       "  {'name': 'side kick', 'value': 0.17095461268635356},\n",
       "  {'name': 'barbequing', 'value': 0.16287458950982375},\n",
       "  {'name': 'breakdancing', 'value': 0.1628077424624387},\n",
       "  {'name': 'shaking hands', 'value': 0.13608680490185232},\n",
       "  {'name': 'skateboarding', 'value': 0.13238294597934275},\n",
       "  {'name': \"massaging person's head\", 'value': 0.12657414464389577},\n",
       "  {'name': 'singing', 'value': 0.08311469984405181},\n",
       "  {'name': 'ice fishing', 'value': 0.075247062041479},\n",
       "  {'name': 'answering questions', 'value': 0.07192978416295613},\n",
       "  {'name': 'hockey stop', 'value': 0.07173115497126299},\n",
       "  {'name': 'contact juggling', 'value': 0.06966274779509096},\n",
       "  {'name': 'air drumming', 'value': 0.06278134225045934}],\n",
       " 'JTlatknwOrY.mp4': [{'name': 'smoking', 'value': 13.827823102474213},\n",
       "  {'name': 'playing recorder', 'value': 11.23182653552956},\n",
       "  {'name': 'playing harmonica', 'value': 4.499956282476584},\n",
       "  {'name': 'eating burger', 'value': 1.9016386734114752},\n",
       "  {'name': 'smoking hookah', 'value': 0.7808927446603775},\n",
       "  {'name': 'playing flute', 'value': 0.5129072815179825},\n",
       "  {'name': 'playing ukulele', 'value': 0.5084116839700275},\n",
       "  {'name': 'tapping guitar', 'value': 0.2975910074181027},\n",
       "  {'name': 'cracking neck', 'value': 0.2815246168110106},\n",
       "  {'name': 'beatboxing', 'value': 0.20788214686844084}],\n",
       " 'KPP2qRzMdos.mp4': [{'name': 'opening present', 'value': 25.20348852609887},\n",
       "  {'name': 'wrapping present', 'value': 5.986953811610446},\n",
       "  {'name': 'waxing legs', 'value': 3.876284509897232},\n",
       "  {'name': 'waxing chest', 'value': 2.591253970475758},\n",
       "  {'name': 'ripping paper', 'value': 2.0926250035271927},\n",
       "  {'name': 'headbanging', 'value': 1.6619391081964268},\n",
       "  {'name': 'bandaging', 'value': 1.2104256188168245},\n",
       "  {'name': 'drinking shots', 'value': 0.6424208774286158},\n",
       "  {'name': 'playing keyboard', 'value': 0.6298245314289542},\n",
       "  {'name': 'tickling', 'value': 0.5763455787125755},\n",
       "  {'name': 'playing poker', 'value': 0.5493770189145032},\n",
       "  {'name': 'blowing out candles', 'value': 0.4930625943576588},\n",
       "  {'name': 'folding paper', 'value': 0.3097100731204538},\n",
       "  {'name': 'folding clothes', 'value': 0.29073182274313536}],\n",
       " 'NUG7kwJ-614.mp4': [{'name': 'motorcycling', 'value': 26.327397115528584},\n",
       "  {'name': 'driving car', 'value': 22.23472399637103},\n",
       "  {'name': 'pushing car', 'value': 1.5564744011498988},\n",
       "  {'name': 'texting', 'value': 1.2803550227545202},\n",
       "  {'name': 'pumping gas', 'value': 0.8119153091683984},\n",
       "  {'name': 'pushing cart', 'value': 0.1821886864490807}],\n",
       " 'PmgfU9ocx5A.mp4': [{'name': 'massaging back', 'value': 44.53717099968344},\n",
       "  {'name': 'stretching arm', 'value': 8.782954723574221},\n",
       "  {'name': 'waxing back', 'value': 2.5145136285573244},\n",
       "  {'name': 'waxing chest', 'value': 1.753902854397893},\n",
       "  {'name': 'rock scissors paper', 'value': 1.2387192342430353},\n",
       "  {'name': 'massaging feet', 'value': 1.0025080991908908},\n",
       "  {'name': 'punching person (boxing)', 'value': 0.6272233673371375},\n",
       "  {'name': 'stretching leg', 'value': 0.4196471069008112},\n",
       "  {'name': 'arm wrestling', 'value': 0.401551416143775},\n",
       "  {'name': 'exercising with an exercise ball', 'value': 0.27693496085703373},\n",
       "  {'name': 'tickling', 'value': 0.26597436517477036},\n",
       "  {'name': 'massaging legs', 'value': 0.16016155714169145}],\n",
       " 'R-xmgefs-M4.mp4': [{'name': 'crying', 'value': 7.734128964297912},\n",
       "  {'name': 'tasting beer', 'value': 7.107533930855639},\n",
       "  {'name': 'dining', 'value': 5.8316894313868355},\n",
       "  {'name': 'playing poker', 'value': 5.727036910898545},\n",
       "  {'name': 'tango dancing', 'value': 2.514153390246279},\n",
       "  {'name': 'drinking beer', 'value': 2.193840899888207},\n",
       "  {'name': 'kissing', 'value': 1.9939982715774984},\n",
       "  {'name': 'laughing', 'value': 0.7541689364349141},\n",
       "  {'name': 'contact juggling', 'value': 0.3093876602018581},\n",
       "  {'name': 'dancing ballet', 'value': 0.26901714942034555},\n",
       "  {'name': 'drinking', 'value': 0.2677207922234255},\n",
       "  {'name': 'washing feet', 'value': 0.18948952064794652}],\n",
       " 'ustVqWMM56c.mp4': [{'name': 'pushing cart', 'value': 24.066030803848715},\n",
       "  {'name': 'playing xylophone', 'value': 15.632891085217981},\n",
       "  {'name': 'crawling baby', 'value': 11.944224992219139},\n",
       "  {'name': 'pushing car', 'value': 5.6947744067977455},\n",
       "  {'name': 'sweeping floor', 'value': 0.28985513045507316}],\n",
       " 'wHUvw_R2iv8.mp4': [{'name': 'doing nails', 'value': 74.52774696490344},\n",
       "  {'name': 'cutting nails', 'value': 3.202697163557305},\n",
       "  {'name': 'folding napkins', 'value': 0.8607485057676539},\n",
       "  {'name': 'filling eyebrows', 'value': 0.5702504860785078},\n",
       "  {'name': 'applying cream', 'value': 0.31063111005898786},\n",
       "  {'name': 'folding paper', 'value': 0.1533487592549885},\n",
       "  {'name': 'welding', 'value': 0.13328067520085504},\n",
       "  {'name': 'brush painting', 'value': 0.09252006900222863}],\n",
       " 'y9r115bgfNk.mp4': [{'name': 'presenting weather forecast',\n",
       "   'value': 14.030523225665092},\n",
       "  {'name': 'picking fruit', 'value': 8.735533244907856},\n",
       "  {'name': 'feeding birds', 'value': 7.3064816650003195},\n",
       "  {'name': 'planting trees', 'value': 5.697565246373415},\n",
       "  {'name': 'playing paintball', 'value': 3.5089475801214576},\n",
       "  {'name': 'watering plants', 'value': 2.0478473976254463},\n",
       "  {'name': 'feeding fish', 'value': 1.863472256809473},\n",
       "  {'name': 'scuba diving', 'value': 1.5156885507167317},\n",
       "  {'name': 'archery', 'value': 1.3964299578219652},\n",
       "  {'name': 'diving cliff', 'value': 0.5539081990718842},\n",
       "  {'name': 'snorkeling', 'value': 0.3254253650084138},\n",
       "  {'name': 'news anchoring', 'value': 0.1320767871220596},\n",
       "  {'name': 'barbequing', 'value': 0.125210196711123}],\n",
       " 'ZnIDviwA8CE.mp4': [{'name': 'playing saxophone', 'value': 25.42505801162299},\n",
       "  {'name': 'tango dancing', 'value': 6.141639982952791},\n",
       "  {'name': 'playing clarinet', 'value': 2.1046506131396576},\n",
       "  {'name': 'headbutting', 'value': 1.2306984075728584},\n",
       "  {'name': 'busking', 'value': 1.2098801431848722},\n",
       "  {'name': 'playing trumpet', 'value': 1.09991514507462},\n",
       "  {'name': 'side kick', 'value': 0.8662455441320643},\n",
       "  {'name': 'eating doughnuts', 'value': 0.8408390314263456},\n",
       "  {'name': 'pull ups', 'value': 0.7283645079416388},\n",
       "  {'name': 'high kick', 'value': 0.7013954331769663},\n",
       "  {'name': 'salsa dancing', 'value': 0.4204704481012681},\n",
       "  {'name': 'playing accordion', 'value': 0.3868121872929966},\n",
       "  {'name': 'playing trombone', 'value': 0.37392693407395305},\n",
       "  {'name': 'shaving head', 'value': 0.3561807467656977},\n",
       "  {'name': 'punching bag', 'value': 0.3408457864733303},\n",
       "  {'name': 'squat', 'value': 0.33360106103560505},\n",
       "  {'name': 'hugging', 'value': 0.23117181571090922},\n",
       "  {'name': 'spray painting', 'value': 0.19327018629102147},\n",
       "  {'name': 'slapping', 'value': 0.17205494291642132},\n",
       "  {'name': 'playing chess', 'value': 0.17071419998126872},\n",
       "  {'name': 'kissing', 'value': 0.14579823131070418}]}"
      ]
     },
     "execution_count": 35,
     "metadata": {},
     "output_type": "execute_result"
    }
   ],
   "source": [
    "sorted_predictions"
   ]
  },
  {
   "cell_type": "code",
   "execution_count": null,
   "metadata": {},
   "outputs": [],
   "source": []
  }
 ],
 "metadata": {
  "celltoolbar": "Edit Metadata",
  "kernelspec": {
   "display_name": "Python 3 (ipykernel)",
   "language": "python",
   "name": "python3"
  },
  "language_info": {
   "codemirror_mode": {
    "name": "ipython",
    "version": 3
   },
   "file_extension": ".py",
   "mimetype": "text/x-python",
   "name": "python",
   "nbconvert_exporter": "python",
   "pygments_lexer": "ipython3",
   "version": "3.12.3"
  },
  "openvino_notebooks": {
   "imageUrl": "https://user-images.githubusercontent.com/10940214/151552326-642d6e49-f5a0-4fc1-bf14-ae3f457e1fec.gif",
   "tags": {
    "categories": [
     "Live Demos"
    ],
    "libraries": [],
    "other": [],
    "tasks": [
     "Image Classification"
    ]
   }
  },
  "widgets": {
   "application/vnd.jupyter.widget-state+json": {
    "state": {},
    "version_major": 2,
    "version_minor": 0
   }
  }
 },
 "nbformat": 4,
 "nbformat_minor": 4
}
