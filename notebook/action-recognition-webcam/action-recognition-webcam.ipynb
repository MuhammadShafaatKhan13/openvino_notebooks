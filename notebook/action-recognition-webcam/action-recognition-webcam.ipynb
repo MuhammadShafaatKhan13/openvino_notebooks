{
 "cells": [
  {
   "attachments": {},
   "cell_type": "markdown",
   "metadata": {
    "pycharm": {
     "name": "#%% md\n"
    },
    "tags": []
   },
   "source": [
    "# Human Action Recognition with OpenVINO™\n",
    "\n",
    "This notebook demonstrates live human action recognition with OpenVINO, using the [Action Recognition Models](https://docs.openvino.ai/2020.2/usergroup13.html) from [Open Model Zoo](https://github.com/openvinotoolkit/open_model_zoo), specifically an [Encoder](https://docs.openvino.ai/2020.2/_models_intel_action_recognition_0001_encoder_description_action_recognition_0001_encoder.html) and a [Decoder](https://docs.openvino.ai/2020.2/_models_intel_action_recognition_0001_decoder_description_action_recognition_0001_decoder.html). Both models create a sequence to sequence (`\"seq2seq\"`) \\[1\\] system to identify the human activities for [Kinetics-400 dataset](https://deepmind.com/research/open-source/kinetics). The models use the Video Transformer approach with ResNet34 encoder \\[2\\]. The notebook shows how to create the following pipeline:\n",
    "\n",
    "<img align='center' src=\"https://user-images.githubusercontent.com/10940214/148401661-477aebcd-f2d0-4771-b107-4b37f94d0b1e.jpeg\" alt=\"drawing\" width=\"1000\"/>\n",
    "\n",
    "Final part of this notebook shows live inference results from a webcam. Additionally, you can also upload a video file.\n",
    "\n",
    "**NOTE**: To use a webcam, you must run this Jupyter notebook on a computer with a webcam. If you run on a server, the webcam will not work. However, you can still do inference on a video in the final step.\n",
    "\n",
    "---\n",
    "\n",
    "\\[1\\] seq2seq: Deep learning models that take a sequence of items to the input and output. In this case, input: video frames, output: actions sequence. This `\"seq2seq\"` is composed of an encoder and a decoder. The encoder captures `\"context\"` of the inputs to be analyzed by the decoder, and finally gets the human action and confidence.\n",
    "\n",
    "\\[2\\] [Video Transformer](https://en.wikipedia.org/wiki/Transformer_(machine_learning_model)) and [ResNet34](https://pytorch.org/vision/main/models/generated/torchvision.models.resnet34.html).\n",
    "\n",
    "\n",
    "\n",
    "#### Table of contents:\n",
    "\n",
    "- [Imports](#Imports)\n",
    "- [The models](#The-models)\n",
    "    - [Download the models](#Download-the-models)\n",
    "    - [Load your labels](#Load-your-labels)\n",
    "    - [Load the models](#Load-the-models)\n",
    "        - [Model Initialization function](#Model-Initialization-function)\n",
    "        - [Initialization for Encoder and Decoder](#Initialization-for-Encoder-and-Decoder)\n",
    "    - [Helper functions](#Helper-functions)\n",
    "    - [AI Functions](#AI-Functions)\n",
    "    - [Main Processing Function](#Main-Processing-Function)\n",
    "    - [Run Action Recognition](#Run-Action-Recognition)\n",
    "\n"
   ]
  },
  {
   "cell_type": "code",
   "execution_count": 1,
   "metadata": {},
   "outputs": [
    {
     "name": "stdout",
     "output_type": "stream",
     "text": [
      "Note: you may need to restart the kernel to use updated packages.\n"
     ]
    }
   ],
   "source": [
    "%pip install -q \"openvino>=2024.0.0\" \"opencv-python\" \"tqdm\" \"python-dotenv\" \"spacy\" \"nltk\" \"scikit-learn\" \"matplotlib\" \"textblob\" \"stanza\""
   ]
  },
  {
   "attachments": {},
   "cell_type": "markdown",
   "metadata": {
    "pycharm": {
     "name": "#%% md\n"
    }
   },
   "source": [
    "## Imports\n",
    "[back to top ⬆️](#Table-of-contents:)\n"
   ]
  },
  {
   "cell_type": "code",
   "execution_count": 2,
   "metadata": {
    "pycharm": {
     "name": "#%%\n"
    }
   },
   "outputs": [
    {
     "name": "stderr",
     "output_type": "stream",
     "text": [
      "[nltk_data] Downloading package punkt to\n",
      "[nltk_data]     C:\\Users\\shafa\\AppData\\Roaming\\nltk_data...\n",
      "[nltk_data]   Package punkt is already up-to-date!\n",
      "[nltk_data] Downloading package averaged_perceptron_tagger to\n",
      "[nltk_data]     C:\\Users\\shafa\\AppData\\Roaming\\nltk_data...\n",
      "[nltk_data]   Package averaged_perceptron_tagger is already up-to-\n",
      "[nltk_data]       date!\n",
      "[nltk_data] Downloading package universal_tagset to\n",
      "[nltk_data]     C:\\Users\\shafa\\AppData\\Roaming\\nltk_data...\n",
      "[nltk_data]   Package universal_tagset is already up-to-date!\n",
      "[nltk_data] Downloading package wordnet to\n",
      "[nltk_data]     C:\\Users\\shafa\\AppData\\Roaming\\nltk_data...\n",
      "[nltk_data]   Package wordnet is already up-to-date!\n"
     ]
    }
   ],
   "source": [
    "import collections\n",
    "import os\n",
    "import time\n",
    "import json\n",
    "from typing import Tuple, List\n",
    "\n",
    "from pathlib import Path\n",
    "from dotenv import load_dotenv\n",
    "from sklearn.metrics import confusion_matrix, ConfusionMatrixDisplay, precision_score\n",
    "\n",
    "import cv2\n",
    "import numpy as np\n",
    "from IPython import display\n",
    "import openvino as ov\n",
    "%matplotlib inline\n",
    "import matplotlib.pyplot as plt\n",
    "\n",
    "import nltk\n",
    "nltk.download('punkt')\n",
    "nltk.download('averaged_perceptron_tagger')\n",
    "nltk.download('universal_tagset')\n",
    "import spacy\n",
    "\n",
    "from openvino.runtime.ie_api import CompiledModel\n",
    "\n",
    "# Fetch `notebook_utils` module\n",
    "import requests\n",
    "\n",
    "r = requests.get(\n",
    "    url=\"https://raw.githubusercontent.com/openvinotoolkit/openvino_notebooks/latest/utils/notebook_utils.py\",\n",
    ")\n",
    "open(\"notebook_utils.py\", \"w\").write(r.text)\n",
    "import notebook_utils as utils\n",
    "import functions"
   ]
  },
  {
   "cell_type": "code",
   "execution_count": 3,
   "metadata": {},
   "outputs": [
    {
     "name": "stdout",
     "output_type": "stream",
     "text": [
      "['v_BabyCrawling_g01_c01.avi', 'v_BabyCrawling_g01_c02.avi', 'v_BabyCrawling_g01_c03.avi', 'v_BabyCrawling_g01_c04.avi', 'v_BabyCrawling_g02_c01.avi']\n"
     ]
    }
   ],
   "source": [
    "load_dotenv()\n",
    "VIDEOS_PATH = os.environ['VIDEOS_PATH']\n",
    "VIDEOS = os.listdir(VIDEOS_PATH)\n",
    "# VIDEO_CAPTION = os.environ['CAPTIONS']\n",
    "print(VIDEOS)\n"
   ]
  },
  {
   "attachments": {},
   "cell_type": "markdown",
   "metadata": {},
   "source": [
    "## The models\n",
    "[back to top ⬆️](#Table-of-contents:)\n",
    "\n",
    "### Download the models\n",
    "[back to top ⬆️](#Table-of-contents:)\n",
    "\n",
    "Use the `download_ir_model`, a function from the `notebook_utils` file. It automatically creates a directory structure and downloads the selected model.\n",
    "\n",
    "In this case you can use `\"action-recognition-0001\"` as a model name, and the system automatically downloads the two models `\"action-recognition-0001-encoder\"` and `\"action-recognition-0001-decoder\"`\n",
    "\n",
    "> **NOTE**: If you want to download another model, such as `\"driver-action-recognition-adas-0002\"` (`\"driver-action-recognition-adas-0002-encoder\"` + `\"driver-action-recognition-adas-0002-decoder\"`), replace the name of the model in the code below. Using a model outside the list can require different pre- and post-processing. "
   ]
  },
  {
   "cell_type": "code",
   "execution_count": 4,
   "metadata": {
    "tags": []
   },
   "outputs": [],
   "source": [
    "#to store predictions of each frame\n",
    "all_predictions_dict={}\n",
    "logs_file_path=os.getcwd() + \"\\\\logs.txt\"\n",
    "open(logs_file_path, 'w').close()\n",
    "# A directory where the model will be downloaded.\n",
    "base_model_dir = \"model\"\n",
    "# The name of the model from Open Model Zoo.\n",
    "model_name = \"action-recognition-0001\"\n",
    "# Selected precision (FP32, FP16, FP16-INT8).\n",
    "precision = \"FP16\"\n",
    "model_path_decoder = f\"model/intel/{model_name}/{model_name}-decoder/{precision}/{model_name}-decoder.xml\"\n",
    "model_path_encoder = f\"model/intel/{model_name}/{model_name}-encoder/{precision}/{model_name}-encoder.xml\"\n",
    "encoder_url = f\"https://storage.openvinotoolkit.org/repositories/open_model_zoo/temp/{model_name}/{model_name}-encoder/{precision}/{model_name}-encoder.xml\"\n",
    "decoder_url = f\"https://storage.openvinotoolkit.org/repositories/open_model_zoo/temp/{model_name}/{model_name}-decoder/{precision}/{model_name}-decoder.xml\"\n",
    "\n",
    "if not os.path.exists(model_path_decoder):\n",
    "    utils.download_ir_model(decoder_url, Path(model_path_decoder).parent)\n",
    "if not os.path.exists(model_path_encoder):\n",
    "    utils.download_ir_model(encoder_url, Path(model_path_encoder).parent)"
   ]
  },
  {
   "cell_type": "code",
   "execution_count": null,
   "metadata": {},
   "outputs": [],
   "source": [
    "\n",
    "\n",
    "\n"
   ]
  },
  {
   "attachments": {},
   "cell_type": "markdown",
   "metadata": {},
   "source": [
    "### Load your labels\n",
    "[back to top ⬆️](#Table-of-contents:)\n",
    "\n",
    "This tutorial uses [Kinetics-400 dataset](https://deepmind.com/research/open-source/kinetics), and also provides the text file embedded into this notebook. \n",
    "\n",
    "> **NOTE**: If you want to run `\"driver-action-recognition-adas-0002\"` model, replace the `kinetics.txt` file to `driver_actions.txt`."
   ]
  },
  {
   "cell_type": "code",
   "execution_count": 5,
   "metadata": {},
   "outputs": [
    {
     "name": "stdout",
     "output_type": "stream",
     "text": [
      "'data\\kinetics.txt' already exists.\n",
      "['abseiling', 'air drumming', 'answering questions', 'applauding', 'applying cream', 'archery', 'arm wrestling', 'arranging flowers', 'assembling computer'] (400,)\n",
      "<class 'list'>\n"
     ]
    }
   ],
   "source": [
    "# Download the text from the openvino_notebooks storage\n",
    "vocab_file_path = utils.download_file(\n",
    "    \"https://storage.openvinotoolkit.org/repositories/openvino_notebooks/data/data/text/kinetics.txt\",\n",
    "    directory=\"data\",\n",
    ")\n",
    "\n",
    "with vocab_file_path.open(mode=\"r\") as f:\n",
    "    labels = [line.strip() for line in f]\n",
    "\n",
    "print(labels[0:9], np.shape(labels))\n",
    "print(type(labels))\n"
   ]
  },
  {
   "attachments": {},
   "cell_type": "markdown",
   "metadata": {
    "pycharm": {
     "name": "#%% md\n"
    }
   },
   "source": [
    "### Load the models\n",
    "[back to top ⬆️](#Table-of-contents:)\n",
    "\n",
    "Load the two models for this particular architecture, Encoder and Decoder. Downloaded models are located in a fixed structure, indicating a vendor, the name of the model, and a precision.\n",
    "\n",
    " 1. Initialize OpenVINO Runtime.\n",
    " 2. Read the network from `*.bin` and `*.xml` files (weights and architecture).\n",
    " 3. Compile the model for specified device.\n",
    " 4. Get input and output names of nodes.\n",
    "\n",
    "Only a few lines of code are required to run the model."
   ]
  },
  {
   "attachments": {},
   "cell_type": "markdown",
   "metadata": {},
   "source": [
    "Select device from dropdown list for running inference using OpenVINO"
   ]
  },
  {
   "cell_type": "code",
   "execution_count": 6,
   "metadata": {},
   "outputs": [
    {
     "data": {
      "application/vnd.jupyter.widget-view+json": {
       "model_id": "fc02f6d6063f4874aa9a4d31f0f06f35",
       "version_major": 2,
       "version_minor": 0
      },
      "text/plain": [
       "Dropdown(description='Device:', index=2, options=('CPU', 'GPU', 'AUTO'), value='AUTO')"
      ]
     },
     "execution_count": 6,
     "metadata": {},
     "output_type": "execute_result"
    }
   ],
   "source": [
    "import ipywidgets as widgets\n",
    "\n",
    "core = ov.Core()\n",
    "device = widgets.Dropdown(\n",
    "    options=core.available_devices + [\"AUTO\"],\n",
    "    value=\"AUTO\",\n",
    "    description=\"Device:\",\n",
    "    disabled=False,\n",
    ")\n",
    "\n",
    "device"
   ]
  },
  {
   "attachments": {},
   "cell_type": "markdown",
   "metadata": {},
   "source": [
    "#### Model Initialization function\n",
    "[back to top ⬆️](#Table-of-contents:)\n"
   ]
  },
  {
   "cell_type": "code",
   "execution_count": 7,
   "metadata": {},
   "outputs": [],
   "source": [
    "# Initialize OpenVINO Runtime.\n",
    "core = ov.Core()\n",
    "\n",
    "\n",
    "def model_init(model_path: str, device: str) -> Tuple:\n",
    "    \"\"\"\n",
    "    Read the network and weights from a file, load the\n",
    "    model on CPU and get input and output names of nodes\n",
    "\n",
    "    :param:\n",
    "            model: model architecture path *.xml\n",
    "            device: inference device\n",
    "    :retuns:\n",
    "            compiled_model: Compiled model\n",
    "            input_key: Input node for model\n",
    "            output_key: Output node for model\n",
    "    \"\"\"\n",
    "\n",
    "    # Read the network and corresponding weights from a file.\n",
    "    model = core.read_model(model=model_path)\n",
    "    l_file = open(logs_file_path, \"a\")  # append mode\n",
    "    l_file.write(\"\\nmodel:\\n\" )\n",
    "    l_file.write(str(model ))\n",
    "    l_file.close()\n",
    "    # Compile the model for specified device.\n",
    "    compiled_model = core.compile_model(model=model, device_name=device)\n",
    "    # Get input and output names of nodes.\n",
    "    input_keys = compiled_model.input(0)\n",
    "    l_file = open(logs_file_path, \"a\")  # append mode\n",
    "    l_file.write(\"\\ninput keys:\\n\" )\n",
    "    l_file.write(str(input_keys ))\n",
    "    l_file.close()\n",
    "    output_keys = compiled_model.output(0)\n",
    "    return input_keys, output_keys, compiled_model"
   ]
  },
  {
   "attachments": {},
   "cell_type": "markdown",
   "metadata": {},
   "source": [
    "#### Initialization for Encoder and Decoder\n",
    "[back to top ⬆️](#Table-of-contents:)\n"
   ]
  },
  {
   "cell_type": "code",
   "execution_count": 8,
   "metadata": {},
   "outputs": [
    {
     "name": "stdout",
     "output_type": "stream",
     "text": [
      "16\n"
     ]
    }
   ],
   "source": [
    "l_file = open(logs_file_path, \"a\")  # append mode\n",
    "l_file.write(\"\\nmodel peth encoder:\\n\" )\n",
    "l_file.write(str(model_path_encoder ))\n",
    "l_file.write(\"\\nmodel peth decoder:\\n\" )\n",
    "l_file.write(str(model_path_decoder ))\n",
    "l_file.close()\n",
    "# Encoder initialization\n",
    "input_key_en, output_keys_en, compiled_model_en = model_init(model_path_encoder, device.value)\n",
    "# Decoder initialization\n",
    "input_key_de, output_keys_de, compiled_model_de = model_init(model_path_decoder, device.value)\n",
    "\n",
    "# Get input size - Encoder.\n",
    "height_en, width_en = list(input_key_en.shape)[2:]\n",
    "# Get input size - Decoder.\n",
    "frames2decode = list(input_key_de.shape)[0:][1]\n",
    "print(frames2decode)"
   ]
  },
  {
   "attachments": {},
   "cell_type": "markdown",
   "metadata": {},
   "source": [
    "### Helper functions\n",
    "[back to top ⬆️](#Table-of-contents:)\n",
    "\n",
    "Use the following helper functions for preprocessing and postprocessing frames:\n",
    "\n",
    "1. Preprocess the input image before running the Encoder model. (`center_crop` and `adaptative_resize`)\n",
    "2. Decode top-3 probabilities into label names. (`decode_output`)\n",
    "3. Draw the Region of Interest (ROI) over the video. (`rec_frame_display`)\n",
    "4. Prepare the frame for displaying label names over the video. (`display_text_fnc`)"
   ]
  },
  {
   "cell_type": "code",
   "execution_count": 9,
   "metadata": {},
   "outputs": [],
   "source": [
    "def center_crop(frame: np.ndarray) -> np.ndarray:\n",
    "    \"\"\"\n",
    "    Center crop squared the original frame to standardize the input image to the encoder model\n",
    "\n",
    "    :param frame: input frame\n",
    "    :returns: center-crop-squared frame\n",
    "    \"\"\"\n",
    "    img_h, img_w, _ = frame.shape\n",
    "    min_dim = min(img_h, img_w)\n",
    "    start_x = int((img_w - min_dim) / 2.0)\n",
    "    start_y = int((img_h - min_dim) / 2.0)\n",
    "    roi = [start_y, (start_y + min_dim), start_x, (start_x + min_dim)]\n",
    "    return frame[start_y : (start_y + min_dim), start_x : (start_x + min_dim), ...], roi\n",
    "\n",
    "\n",
    "def adaptive_resize(frame: np.ndarray, size: int) -> np.ndarray:\n",
    "    \"\"\"\n",
    "     The frame going to be resized to have a height of size or a width of size\n",
    "\n",
    "    :param frame: input frame\n",
    "    :param size: input size to encoder model\n",
    "    :returns: resized frame, np.array type\n",
    "    \"\"\"\n",
    "    h, w, _ = frame.shape\n",
    "    scale = size / min(h, w)\n",
    "    w_scaled, h_scaled = int(w * scale), int(h * scale)\n",
    "    if w_scaled == w and h_scaled == h:\n",
    "        return frame\n",
    "    return cv2.resize(frame, (w_scaled, h_scaled))\n",
    "\n",
    "\n",
    "def decode_output(probs: np.ndarray, labels: np.ndarray, top_k: int = 3) -> np.ndarray:\n",
    "    \"\"\"\n",
    "    Decodes top probabilities into corresponding label names\n",
    "\n",
    "    :param probs: confidence vector for 400 actions\n",
    "    :param labels: list of actions\n",
    "    :param top_k: The k most probable positions in the list of labels\n",
    "    :returns: decoded_labels: The k most probable actions from the labels list\n",
    "              decoded_top_probs: confidence for the k most probable actions\n",
    "    \"\"\"\n",
    "    top_ind = np.argsort(-1 * probs)[:top_k]\n",
    "    out_label = np.array(labels)[top_ind.astype(int)]\n",
    "    decoded_labels = [out_label[0][0], out_label[0][1], out_label[0][2]]\n",
    "    top_probs = np.array(probs)[0][top_ind.astype(int)]\n",
    "    decoded_top_probs = [top_probs[0][0], top_probs[0][1], top_probs[0][2]]\n",
    "    return decoded_labels, decoded_top_probs\n",
    "\n",
    "\n",
    "def rec_frame_display(frame: np.ndarray, roi) -> np.ndarray:\n",
    "    \"\"\"\n",
    "    Draw a rec frame over actual frame\n",
    "\n",
    "    :param frame: input frame\n",
    "    :param roi: Region of interest, image section processed by the Encoder\n",
    "    :returns: frame with drawed shape\n",
    "\n",
    "    \"\"\"\n",
    "\n",
    "    cv2.line(frame, (roi[2] + 3, roi[0] + 3), (roi[2] + 3, roi[0] + 100), (0, 200, 0), 2)\n",
    "    cv2.line(frame, (roi[2] + 3, roi[0] + 3), (roi[2] + 100, roi[0] + 3), (0, 200, 0), 2)\n",
    "    cv2.line(frame, (roi[3] - 3, roi[1] - 3), (roi[3] - 3, roi[1] - 100), (0, 200, 0), 2)\n",
    "    cv2.line(frame, (roi[3] - 3, roi[1] - 3), (roi[3] - 100, roi[1] - 3), (0, 200, 0), 2)\n",
    "    cv2.line(frame, (roi[3] - 3, roi[0] + 3), (roi[3] - 3, roi[0] + 100), (0, 200, 0), 2)\n",
    "    cv2.line(frame, (roi[3] - 3, roi[0] + 3), (roi[3] - 100, roi[0] + 3), (0, 200, 0), 2)\n",
    "    cv2.line(frame, (roi[2] + 3, roi[1] - 3), (roi[2] + 3, roi[1] - 100), (0, 200, 0), 2)\n",
    "    cv2.line(frame, (roi[2] + 3, roi[1] - 3), (roi[2] + 100, roi[1] - 3), (0, 200, 0), 2)\n",
    "    # Write ROI over actual frame\n",
    "    FONT_STYLE = cv2.FONT_HERSHEY_SIMPLEX\n",
    "    org = (roi[2] + 3, roi[1] - 3)\n",
    "    org2 = (roi[2] + 2, roi[1] - 2)\n",
    "    FONT_SIZE = 0.5\n",
    "    FONT_COLOR = (0, 200, 0)\n",
    "    FONT_COLOR2 = (0, 0, 0)\n",
    "    cv2.putText(frame, \"ROI\", org2, FONT_STYLE, FONT_SIZE, FONT_COLOR2)\n",
    "    cv2.putText(frame, \"ROI\", org, FONT_STYLE, FONT_SIZE, FONT_COLOR)\n",
    "    return frame\n",
    "\n",
    "\n",
    "def display_text_fnc(frame: np.ndarray, display_text: str, index: int):\n",
    "    \"\"\"\n",
    "    Include a text on the analyzed frame\n",
    "\n",
    "    :param frame: input frame\n",
    "    :param display_text: text to add on the frame\n",
    "    :param index: index line dor adding text\n",
    "\n",
    "    \"\"\"\n",
    "    # Configuration for displaying images with text.\n",
    "    FONT_COLOR = (255, 255, 255)\n",
    "    FONT_COLOR2 = (0, 0, 0)\n",
    "    FONT_STYLE = cv2.FONT_HERSHEY_DUPLEX\n",
    "    FONT_SIZE = 0.7\n",
    "    TEXT_VERTICAL_INTERVAL = 25\n",
    "    TEXT_LEFT_MARGIN = 15\n",
    "    # ROI over actual frame\n",
    "    (processed, roi) = center_crop(frame)\n",
    "    # Draw a ROI over actual frame.\n",
    "    frame = rec_frame_display(frame, roi)\n",
    "    # Put a text over actual frame.\n",
    "    text_loc = (TEXT_LEFT_MARGIN, TEXT_VERTICAL_INTERVAL * (index + 1))\n",
    "    text_loc2 = (TEXT_LEFT_MARGIN + 1, TEXT_VERTICAL_INTERVAL * (index + 1) + 1)\n",
    "    cv2.putText(frame, display_text, text_loc2, FONT_STYLE, FONT_SIZE, FONT_COLOR2)\n",
    "    cv2.putText(frame, display_text, text_loc, FONT_STYLE, FONT_SIZE, FONT_COLOR)"
   ]
  },
  {
   "attachments": {},
   "cell_type": "markdown",
   "metadata": {},
   "source": [
    "### AI Functions\n",
    "[back to top ⬆️](#Table-of-contents:)\n",
    "\n",
    "<img align='center' src=\"https://user-images.githubusercontent.com/10940214/148401661-477aebcd-f2d0-4771-b107-4b37f94d0b1e.jpeg\" alt=\"drawing\" width=\"1000\"/>\n",
    "\n",
    "Following the pipeline above, you will use the next functions to:\n",
    "\n",
    "1. Preprocess a frame before running the Encoder. (`preprocessing`)\n",
    "2. Encoder Inference per frame. (`encoder`)\n",
    "3. Decoder inference per set of frames. (`decoder`)\n",
    "4. Normalize the Decoder output to get confidence values per action recognition label. (`softmax`)"
   ]
  },
  {
   "cell_type": "code",
   "execution_count": 10,
   "metadata": {},
   "outputs": [],
   "source": [
    "def preprocessing(frame: np.ndarray, size: int) -> np.ndarray:\n",
    "    \"\"\"\n",
    "    Preparing frame before Encoder.\n",
    "    The image should be scaled to its shortest dimension at \"size\"\n",
    "    and cropped, centered, and squared so that both width and\n",
    "    height have lengths \"size\". The frame must be transposed from\n",
    "    Height-Width-Channels (HWC) to Channels-Height-Width (CHW).\n",
    "\n",
    "    :param frame: input frame\n",
    "    :param size: input size to encoder model\n",
    "    :returns: resized and cropped frame\n",
    "    \"\"\"\n",
    "    # Adaptative resize\n",
    "    preprocessed = adaptive_resize(frame, size)\n",
    "    # Center_crop\n",
    "    (preprocessed, roi) = center_crop(preprocessed)\n",
    "    # Transpose frame HWC -> CHW\n",
    "    preprocessed = preprocessed.transpose((2, 0, 1))[None,]  # HWC -> CHW\n",
    "    return preprocessed, roi\n",
    "\n",
    "\n",
    "def encoder(preprocessed: np.ndarray, compiled_model: CompiledModel) -> List:\n",
    "    \"\"\"\n",
    "    Encoder Inference per frame. This function calls the network previously\n",
    "    configured for the encoder model (compiled_model), extracts the data\n",
    "    from the output node, and appends it in an array to be used by the decoder.\n",
    "\n",
    "    :param: preprocessed: preprocessing frame\n",
    "    :param: compiled_model: Encoder model network\n",
    "    :returns: encoder_output: embedding layer that is appended with each arriving frame\n",
    "    \"\"\"\n",
    "    output_key_en = compiled_model.output(0)\n",
    "\n",
    "    # Get results on action-recognition-0001-encoder model\n",
    "    infer_result_encoder = compiled_model([preprocessed])[output_key_en]\n",
    "    return infer_result_encoder\n",
    "\n",
    "\n",
    "def decoder(encoder_output: List, compiled_model_de: CompiledModel) -> List:\n",
    "    \"\"\"\n",
    "    Decoder inference per set of frames. This function concatenates the embedding layer\n",
    "    froms the encoder output, transpose the array to match with the decoder input size.\n",
    "    Calls the network previously configured for the decoder model (compiled_model_de), extracts\n",
    "    the logits and normalize those to get confidence values along specified axis.\n",
    "    Decodes top probabilities into corresponding label names\n",
    "\n",
    "    :param: encoder_output: embedding layer for 16 frames\n",
    "    :param: compiled_model_de: Decoder model network\n",
    "    :returns: decoded_labels: The k most probable actions from the labels list\n",
    "              decoded_top_probs: confidence for the k most probable actions\n",
    "    \"\"\"\n",
    "    # Concatenate sample_duration frames in just one array\n",
    "    decoder_input = np.concatenate(encoder_output, axis=0)\n",
    "    # Organize input shape vector to the Decoder (shape: [1x16x512]]\n",
    "    decoder_input = decoder_input.transpose((2, 0, 1, 3))\n",
    "    decoder_input = np.squeeze(decoder_input, axis=3)\n",
    "    output_key_de = compiled_model_de.output(0)\n",
    "    # Get results on action-recognition-0001-decoder model\n",
    "    result_de = compiled_model_de([decoder_input])[output_key_de]\n",
    "    # Normalize logits to get confidence values along specified axis\n",
    "    probs = softmax(result_de - np.max(result_de))\n",
    "    # Decodes top probabilities into corresponding label names\n",
    "    decoded_labels, decoded_top_probs = decode_output(probs, labels, top_k=3)\n",
    "    return decoded_labels, decoded_top_probs\n",
    "\n",
    "\n",
    "def softmax(x: np.ndarray) -> np.ndarray:\n",
    "    \"\"\"\n",
    "    Normalizes logits to get confidence values along specified axis\n",
    "    x: np.array, axis=None\n",
    "    \"\"\"\n",
    "    exp = np.exp(x)\n",
    "    return exp / np.sum(exp, axis=None)"
   ]
  },
  {
   "attachments": {},
   "cell_type": "markdown",
   "metadata": {
    "pycharm": {
     "name": "#%% md\n"
    },
    "tags": []
   },
   "source": [
    "### Main Processing Function\n",
    "[back to top ⬆️](#Table-of-contents:)\n",
    "\n",
    "Running action recognition function will run in different operations, either a webcam or a video file. See the list of procedures below:\n",
    "\n",
    "1. Create a video player to play with target fps (`utils.VideoPlayer`).\n",
    "2. Prepare a set of frames to be encoded-decoded.\n",
    "3. Run AI functions\n",
    "4. Visualize the results."
   ]
  },
  {
   "cell_type": "code",
   "execution_count": 11,
   "metadata": {
    "tags": []
   },
   "outputs": [],
   "source": [
    "def run_action_recognition(\n",
    "    source: str = \"0\",\n",
    "    flip: bool = True,\n",
    "    use_popup: bool = False,\n",
    "    compiled_model_en: CompiledModel = compiled_model_en,\n",
    "    compiled_model_de: CompiledModel = compiled_model_de,\n",
    "    skip_first_frames: int = 0,\n",
    "    all_predictions_dict: dict = {},\n",
    "    video_name: str = \"\"\n",
    "):\n",
    "    \"\"\"\n",
    "    Use the \"source\" webcam or video file to run the complete pipeline for action-recognition problem\n",
    "    1. Create a video player to play with target fps\n",
    "    2. Prepare a set of frames to be encoded-decoded\n",
    "    3. Preprocess frame before Encoder\n",
    "    4. Encoder Inference per frame\n",
    "    5. Decoder inference per set of frames\n",
    "    6. Visualize the results\n",
    "\n",
    "    :param: source: webcam \"0\" or video path\n",
    "    :param: flip: to be used by VideoPlayer function for flipping capture image\n",
    "    :param: use_popup: False for showing encoded frames over this notebook, True for creating a popup window.\n",
    "    :param: skip_first_frames: Number of frames to skip at the beginning of the video.\n",
    "    :returns: display video over the notebook or in a popup window\n",
    "\n",
    "    \"\"\"\n",
    "    all_predictions_dict[video_name] = []\n",
    "    size = height_en  # Endoder input size - From Cell 5_9\n",
    "    sample_duration = frames2decode  # Decoder input size - From Cell 5_7\n",
    "    # Select frames per second of your source.\n",
    "    fps = 30\n",
    "    player = None\n",
    "    try:\n",
    "        # Create a video player.\n",
    "        player = utils.VideoPlayer(source, flip=flip, fps=fps, skip_first_frames=skip_first_frames)\n",
    "        # Start capturing.\n",
    "        player.start()\n",
    "        if use_popup:\n",
    "            title = \"Press ESC to Exit\"\n",
    "            cv2.namedWindow(title, cv2.WINDOW_GUI_NORMAL | cv2.WINDOW_AUTOSIZE)\n",
    "\n",
    "        processing_times = collections.deque()\n",
    "        processing_time = 0\n",
    "        encoder_output = []\n",
    "        decoded_labels = [0, 0, 0]\n",
    "        decoded_top_probs = [0, 0, 0]\n",
    "        counter = 0\n",
    "        # Create a text template to show inference results over video.\n",
    "        text_inference_template = \"Infer Time:{Time:.1f}ms,{fps:.1f}FPS\"\n",
    "        text_template = \"{label},{conf:.2f}%\"\n",
    "\n",
    "        while True:\n",
    "            counter = counter + 1\n",
    "\n",
    "            # Read a frame from the video stream.\n",
    "            frame = player.next()\n",
    "            if frame is None:\n",
    "                print(\"Source ended\")\n",
    "                break\n",
    "\n",
    "            scale = 1280 / max(frame.shape)\n",
    "\n",
    "            # Adaptative resize for visualization.\n",
    "            if scale < 1:\n",
    "                frame = cv2.resize(frame, None, fx=scale, fy=scale, interpolation=cv2.INTER_AREA)\n",
    "\n",
    "            # Select one frame every two for processing through the encoder.\n",
    "            # After 16 frames are processed, the decoder will find the action,\n",
    "            # and the label will be printed over the frames.\n",
    "\n",
    "            if counter % 2 == 0:\n",
    "                # Preprocess frame before Encoder.\n",
    "                (preprocessed, _) = preprocessing(frame, size)\n",
    "\n",
    "                # Measure processing time.\n",
    "                start_time = time.time()\n",
    "\n",
    "                # Encoder Inference per frame\n",
    "                encoder_output.append(encoder(preprocessed, compiled_model_en))\n",
    "                # l_file = open(logs_file_path, \"a\")  # append mode\n",
    "                # l_file.write(\"\\nbefore decoder\\n\" )\n",
    "                # l_file.close()\n",
    "                # Decoder inference per set of frames\n",
    "                # Wait for sample duration to work with decoder model.\n",
    "                if len(encoder_output) == sample_duration:\n",
    "                    decoded_labels, decoded_top_probs = decoder(encoder_output, compiled_model_de)\n",
    "                    for i in range(0, 3):\n",
    "                        if i == 0:\n",
    "                            all_predictions_dict[video_name].append([])\n",
    "                        all_predictions_dict[video_name][-1].append({'label': str(decoded_labels[i]), 'confidence': str(decoded_top_probs[i] * 100)})\n",
    "                    encoder_output = []\n",
    "\n",
    "                # Inference has finished. Display the results.\n",
    "                stop_time = time.time()\n",
    "\n",
    "                # Calculate processing time.\n",
    "                processing_times.append(stop_time - start_time)\n",
    "\n",
    "                # Use processing times from last 200 frames.\n",
    "                if len(processing_times) > 200:\n",
    "                    processing_times.popleft()\n",
    "\n",
    "                # Mean processing time [ms]\n",
    "                processing_time = np.mean(processing_times) * 1000\n",
    "                fps = 1000 / processing_time\n",
    "            # Visualize the results.\n",
    "            for i in range(0, 3):\n",
    "                display_text = text_template.format(\n",
    "                    label=decoded_labels[i],\n",
    "                    conf=decoded_top_probs[i] * 100,\n",
    "                )\n",
    "                display_text_fnc(frame, display_text, i)\n",
    "            display_text = text_inference_template.format(Time=processing_time, fps=fps)\n",
    "            display_text_fnc(frame, display_text, 3)\n",
    "\n",
    "            # Use this workaround if you experience flickering.\n",
    "            if use_popup:\n",
    "                cv2.imshow(title, frame)\n",
    "                key = cv2.waitKey(1)\n",
    "                # escape = 27\n",
    "                if key == 27:\n",
    "                    break\n",
    "            else:\n",
    "                # Encode numpy array to jpg.\n",
    "                _, encoded_img = cv2.imencode(\".jpg\", frame, params=[cv2.IMWRITE_JPEG_QUALITY, 90])\n",
    "                # Create an IPython image.\n",
    "                i = display.Image(data=encoded_img)\n",
    "                # Display the image in this notebook.\n",
    "                display.clear_output(wait=True)\n",
    "                display.display(i)\n",
    "    # ctrl-c\n",
    "    except KeyboardInterrupt:\n",
    "        print(\"Interrupted\")\n",
    "    # Any different error\n",
    "    except RuntimeError as e:\n",
    "        print(e)\n",
    "    finally:\n",
    "        if player is not None:\n",
    "            # Stop capturing.\n",
    "            player.stop()\n",
    "        if use_popup:\n",
    "            cv2.destroyAllWindows()"
   ]
  },
  {
   "attachments": {},
   "cell_type": "markdown",
   "metadata": {},
   "source": [
    "### Run Action Recognition\n",
    "[back to top ⬆️](#Table-of-contents:)\n",
    "\n",
    "Find out how the model works in a video file. [Any format supported](https://docs.opencv.org/4.5.1/dd/d43/tutorial_py_video_display.html) by OpenCV will work. You can press the stop button anytime while the video file is running, and it will activate the webcam for the next step.\n",
    "\n",
    "> **NOTE**: Sometimes, the video can be cut off if there are corrupted frames. In that case, you can convert it. If you experience any problems with your video, use the [HandBrake](https://handbrake.fr/) and select the MPEG format.\n",
    "\n",
    "if you want to use a web camera as an input source for the demo, please change the value of `USE_WEBCAM` variable to True and specify `cam_id` (the default value is 0, which can be different in multi-camera systems)."
   ]
  },
  {
   "cell_type": "code",
   "execution_count": 12,
   "metadata": {},
   "outputs": [],
   "source": [
    "# %pip install pafy"
   ]
  },
  {
   "cell_type": "code",
   "execution_count": 13,
   "metadata": {},
   "outputs": [],
   "source": [
    "# %pip install --upgrade youtube-dl"
   ]
  },
  {
   "cell_type": "code",
   "execution_count": 14,
   "metadata": {},
   "outputs": [],
   "source": [
    "l_file = open(logs_file_path, \"a\")  # append mode\n",
    "l_file.write(\"\\ntest var: \\n\" + json.dumps(all_predictions_dict, indent = 4) + \"\\n\" )\n",
    "l_file.close()\n"
   ]
  },
  {
   "cell_type": "code",
   "execution_count": 15,
   "metadata": {},
   "outputs": [
    {
     "name": "stdout",
     "output_type": "stream",
     "text": [
      "D:\\Downloads\\ucf_five_classes\\baby crawling\n"
     ]
    }
   ],
   "source": [
    "print(os.environ.get('VIDEOS_PATH'))#os.environ['VIDEO_PATH']"
   ]
  },
  {
   "cell_type": "code",
   "execution_count": 16,
   "metadata": {},
   "outputs": [
    {
     "name": "stdout",
     "output_type": "stream",
     "text": [
      "<class 'list'>\n"
     ]
    }
   ],
   "source": [
    "print(type(VIDEOS))"
   ]
  },
  {
   "cell_type": "code",
   "execution_count": 17,
   "metadata": {
    "tags": [],
    "test_replace": {
     "{\"skip_first_frames\": 600, \"flip\": False} if not USE_WEBCAM else {\"flip\": True}\n": "{\"skip_first_frames\": 1800, \"flip\": False} if not USE_WEBCAM else {\"flip\": True}\n"
    }
   },
   "outputs": [
    {
     "data": {
      "image/png": "[encoded data removed]",
      "text/plain": [
       "<IPython.core.display.Image object>"
      ]
     },
     "metadata": {},
     "output_type": "display_data"
    },
    {
     "name": "stdout",
     "output_type": "stream",
     "text": [
      "Source ended\n"
     ]
    }
   ],
   "source": [
    "\n",
    "# import pafy\n",
    "\n",
    "USE_WEBCAM = False\n",
    "\n",
    "cam_id = 0\n",
    "#video_file = \"https://www.youtube.com/embed/0347ZoDXyP0?start=95&end=105&ref=autodidacts.io\" #not working\n",
    "#video_file = \"https://www.youtube.com/watch?v=0347ZoDXyP0\"  #not working\n",
    "#video = pafy.new(\"https://www.youtube.com/watch?v=0347ZoDXyP0\") #not working\n",
    "#video_file = video.getbest(preftype=\"mp4\") #not working\n",
    "# got VIDEO_PATH through environment variable\n",
    "for video in VIDEOS:\n",
    "    video_file = VIDEOS_PATH + \"\\\\\" + video\n",
    "    source = cam_id if USE_WEBCAM else video_file\n",
    "    additional_options = {\"skip_first_frames\": 0, \"flip\": False} if not USE_WEBCAM else {\"flip\": True}\n",
    "    run_action_recognition(source=source, use_popup=False, all_predictions_dict=all_predictions_dict, video_name=video, **additional_options)\n",
    "    "
   ]
  },
  {
   "cell_type": "code",
   "execution_count": 18,
   "metadata": {},
   "outputs": [],
   "source": [
    "with open(os.getcwd() + \"\\\\logs.json\", \"w\") as outfile:\n",
    "    outfile.write(json.dumps(all_predictions_dict,  indent=4))\n",
    "l_file = open(logs_file_path, \"a\")  # append mode\n",
    "l_file.write(\"output of predictions written into \" + os.getcwd() + \"\\\\logs.json\" )\n",
    "l_file.close()\n",
    "sorted_predictions = {}\n",
    "no_of_frames = 0\n",
    "\n",
    "for video in all_predictions_dict:\n",
    "    tmp_s_p = {}\n",
    "    for frame in all_predictions_dict[video]:\n",
    "        no_of_frames = no_of_frames + 1\n",
    "        for prediction in frame:\n",
    "            if prediction['label'] in tmp_s_p.keys():\n",
    "                tmp_s_p[prediction['label']] = float(tmp_s_p[prediction['label']]) + float(prediction['confidence'])\n",
    "            else:\n",
    "                tmp_s_p[prediction['label']] = float(prediction['confidence'])\n",
    "    for pred in tmp_s_p:\n",
    "        tmp_s_p[pred] = tmp_s_p[pred]/no_of_frames\n",
    "    no_of_frames = 0\n",
    "    while tmp_s_p:\n",
    "        key = max(zip(tmp_s_p.values(), tmp_s_p.keys()))[1]\n",
    "        value = max(zip(tmp_s_p.values(), tmp_s_p.keys()))[0]\n",
    "        if video not in  sorted_predictions:\n",
    "            sorted_predictions[video] = []\n",
    "        sorted_predictions[video].append({'name': key, 'value': value})\n",
    "        tmp_s_p.pop(key)"
   ]
  },
  {
   "cell_type": "code",
   "execution_count": null,
   "metadata": {},
   "outputs": [],
   "source": []
  },
  {
   "cell_type": "code",
   "execution_count": null,
   "metadata": {},
   "outputs": [],
   "source": []
  },
  {
   "cell_type": "code",
   "execution_count": 19,
   "metadata": {},
   "outputs": [
    {
     "data": {
      "text/plain": [
       "{'v_BabyCrawling_g01_c01.avi': [{'name': 'crawling baby',\n",
       "   'value': 95.01768574118614},\n",
       "  {'name': 'laughing', 'value': 1.0928595351288095},\n",
       "  {'name': 'shaking head', 'value': 0.25383752217749134},\n",
       "  {'name': 'baby waking up', 'value': 0.1990783552173525}],\n",
       " 'v_BabyCrawling_g01_c02.avi': [{'name': 'crawling baby',\n",
       "   'value': 92.88247972726822},\n",
       "  {'name': 'laughing', 'value': 1.6871517077864457},\n",
       "  {'name': 'baby waking up', 'value': 0.5252695991657674},\n",
       "  {'name': 'shaking head', 'value': 0.17599195319538316},\n",
       "  {'name': 'crying', 'value': 0.018801179733903457},\n",
       "  {'name': 'cleaning floor', 'value': 0.014108184647435943}],\n",
       " 'v_BabyCrawling_g01_c03.avi': [{'name': 'crawling baby',\n",
       "   'value': 85.41764183477922},\n",
       "  {'name': 'laughing', 'value': 2.405282682527534},\n",
       "  {'name': 'cleaning floor', 'value': 0.5493894769725475},\n",
       "  {'name': 'brushing hair', 'value': 0.46009033579717984},\n",
       "  {'name': 'shaking head', 'value': 0.20159182657318359},\n",
       "  {'name': 'crying', 'value': 0.024356292984025044},\n",
       "  {'name': 'sneezing', 'value': 0.023699323223395782}],\n",
       " 'v_BabyCrawling_g01_c04.avi': [{'name': 'crawling baby',\n",
       "   'value': 86.83224134147167},\n",
       "  {'name': 'laughing', 'value': 1.7090588316023059},\n",
       "  {'name': 'cleaning floor', 'value': 1.2257457463419996},\n",
       "  {'name': 'shaking head', 'value': 0.45365172845777124},\n",
       "  {'name': 'sticking tongue out', 'value': 0.05795516399302869}],\n",
       " 'v_BabyCrawling_g02_c01.avi': [{'name': 'crawling baby',\n",
       "   'value': 46.26295045018196},\n",
       "  {'name': 'somersaulting', 'value': 7.573666842654347},\n",
       "  {'name': 'drop kicking', 'value': 3.5797685384750366},\n",
       "  {'name': 'cleaning floor', 'value': 3.533034957945347},\n",
       "  {'name': 'throwing ball', 'value': 1.4538169372826815},\n",
       "  {'name': 'sanding floor', 'value': 0.9191824123263359},\n",
       "  {'name': 'breakdancing', 'value': 0.7456614170223475},\n",
       "  {'name': 'shaking head', 'value': 0.05551710491999984}]}"
      ]
     },
     "execution_count": 19,
     "metadata": {},
     "output_type": "execute_result"
    }
   ],
   "source": [
    "sorted_predictions"
   ]
  },
  {
   "cell_type": "code",
   "execution_count": 20,
   "metadata": {},
   "outputs": [],
   "source": [
    "# lines = []\n",
    "# actual_labels = []\n",
    "\n",
    "# with open(VIDEO_CAPTION) as captions_file:\n",
    "#     lines= captions_file.readlines()\n",
    "# for line in lines:\n",
    "#     actual_labels.append({'vid_name': line.split()[0], 'vid_label': labels[int(line.split()[-1])]})\n",
    "# actual_labels = sorted(actual_labels, key=lambda label: label['vid_name'])\n",
    "\n",
    "# TODO: Pass labels dynamically and pass ucf labels\n",
    "# actual_labels = [\n",
    "#     {'vid_name': 'v_BabyCrawling_g01_c01.avi', 'vid_label': 'crawling baby'}, \n",
    "#     {'vid_name': 'v_BabyCrawling_g01_c02.avi', 'vid_label': 'crawling baby'}, \n",
    "#     {'vid_name': 'v_BabyCrawling_g01_c03.avi', 'vid_label': 'crawling baby'}, \n",
    "#     {'vid_name': 'v_BabyCrawling_g01_c04.avi', 'vid_label': 'crawling baby'}, \n",
    "#     {'vid_name': 'v_BabyCrawling_g02_c01.avi', 'vid_label': 'crawling baby'}, \n",
    "# ]\n"
   ]
  },
  {
   "cell_type": "code",
   "execution_count": 21,
   "metadata": {},
   "outputs": [],
   "source": [
    "# predicted_labels = []\n",
    "# for pred in sorted_predictions:\n",
    "#     predicted_labels.append({'vid_name': pred, 'vid_label': sorted_predictions[pred][0]['name']})\n",
    "# predicted_labels = sorted(predicted_labels, key=lambda label: label['vid_name'])\n",
    "# print(predicted_labels)"
   ]
  },
  {
   "cell_type": "code",
   "execution_count": 22,
   "metadata": {},
   "outputs": [],
   "source": [
    "# c_m_actual_labels = []\n",
    "# for label in actual_labels:\n",
    "#     c_m_actual_labels.append(label['vid_label'])\n",
    "# c_m_predicted_labels = []\n",
    "# for label in predicted_labels:\n",
    "#     c_m_predicted_labels.append(label['vid_label'])\n",
    "# import sys\n",
    "# np.set_printoptions(threshold=sys.maxsize)\n",
    "# confusion_matrix(c_m_actual_labels, c_m_predicted_labels, labels=labels)\n",
    "# l_file = open(logs_file_path, \"a\")  # append mode\n",
    "# l_file.write( str(confusion_matrix(c_m_actual_labels, c_m_predicted_labels, labels=labels)) )\n",
    "# l_file.close()"
   ]
  },
  {
   "cell_type": "code",
   "execution_count": 23,
   "metadata": {},
   "outputs": [],
   "source": [
    "# print(c_m_actual_labels)"
   ]
  },
  {
   "cell_type": "code",
   "execution_count": 24,
   "metadata": {},
   "outputs": [],
   "source": [
    "# print(c_m_predicted_labels)"
   ]
  },
  {
   "cell_type": "code",
   "execution_count": 25,
   "metadata": {},
   "outputs": [],
   "source": [
    "# for labels which are not present in actual 20 classes, replace 'other classes' with them\n",
    "# for i, label in enumerate(c_m_predicted_labels):\n",
    "#     if label not in c_m_actual_labels:\n",
    "#         c_m_predicted_labels[i] = 'other classes'\n",
    "# print(c_m_predicted_labels)"
   ]
  },
  {
   "cell_type": "code",
   "execution_count": null,
   "metadata": {},
   "outputs": [],
   "source": []
  },
  {
   "cell_type": "code",
   "execution_count": 26,
   "metadata": {},
   "outputs": [
    {
     "data": {
      "text/plain": [
       "\"\\nc_m_display_labels = ['riding mechanical bull', \\n                      'presenting weather forecast', \\n                      'sled dog racing', \\n                      'playing squash or racquetball',\\n                      'snowkiting',\\n                      'diving cliff',\\n                      'shearing sheep',\\n                      'pull ups',\\n                      'filling eyebrows',\\n                      'bench pressing',\\n                      'riding or walking with horse',\\n                      'passing American football (in game)',\\n                      'picking fruit',\\n                      'weaving basket',\\n                      'playing tennis',\\n                      'crawling baby',\\n                      'cutting watermelon',\\n                      'tying tie',\\n                      'trapezing',\\n                      'bowling',\\n                      'other classes'\\n                     ]\\ndisp =  ConfusionMatrixDisplay(confusion_matrix=confusion_matrix(c_m_actual_labels, c_m_predicted_labels, labels=c_m_display_labels),\\n                              display_labels=c_m_display_labels)\\ndisp.plot(xticks_rotation = 'vertical')\\n\""
      ]
     },
     "execution_count": 26,
     "metadata": {},
     "output_type": "execute_result"
    }
   ],
   "source": [
    "#imgplot = plt.imshow(confusion_matrix(c_m_actual_labels, c_m_predicted_labels, labels=labels))\n",
    "# imgplot = plt.imshow(confusion_matrix(c_m_actual_labels, c_m_predicted_labels, labels=['riding mechanical bull', 'presenting weather forecast']))\n",
    "'''\n",
    "c_m_display_labels = ['riding mechanical bull', \n",
    "                      'presenting weather forecast', \n",
    "                      'sled dog racing', \n",
    "                      'playing squash or racquetball',\n",
    "                      'snowkiting',\n",
    "                      'diving cliff',\n",
    "                      'shearing sheep',\n",
    "                      'pull ups',\n",
    "                      'filling eyebrows',\n",
    "                      'bench pressing',\n",
    "                      'riding or walking with horse',\n",
    "                      'passing American football (in game)',\n",
    "                      'picking fruit',\n",
    "                      'weaving basket',\n",
    "                      'playing tennis',\n",
    "                      'crawling baby',\n",
    "                      'cutting watermelon',\n",
    "                      'tying tie',\n",
    "                      'trapezing',\n",
    "                      'bowling',\n",
    "                      'other classes'\n",
    "                     ]\n",
    "disp =  ConfusionMatrixDisplay(confusion_matrix=confusion_matrix(c_m_actual_labels, c_m_predicted_labels, labels=c_m_display_labels),\n",
    "                              display_labels=c_m_display_labels)\n",
    "disp.plot(xticks_rotation = 'vertical')\n",
    "'''"
   ]
  },
  {
   "cell_type": "code",
   "execution_count": 27,
   "metadata": {},
   "outputs": [],
   "source": [
    "#plt.imsave('conf_matrix.png', confusion_matrix(c_m_actual_labels, c_m_predicted_labels, labels=labels))"
   ]
  },
  {
   "cell_type": "code",
   "execution_count": 28,
   "metadata": {},
   "outputs": [],
   "source": [
    "# confusion_matrix(c_m_actual_labels, c_m_predicted_labels, labels=c_m_display_labels)"
   ]
  },
  {
   "cell_type": "code",
   "execution_count": 29,
   "metadata": {},
   "outputs": [],
   "source": [
    "# precision_sc = precision_score(c_m_actual_labels, c_m_predicted_labels, average='micro')\n",
    "# precision_sc"
   ]
  },
  {
   "cell_type": "code",
   "execution_count": 30,
   "metadata": {},
   "outputs": [],
   "source": [
    "# c_m_actual_labels"
   ]
  },
  {
   "cell_type": "code",
   "execution_count": 31,
   "metadata": {},
   "outputs": [],
   "source": [
    "# from sklearn.metrics import recall_score\n",
    "# recall_sc = recall_score(c_m_actual_labels, c_m_predicted_labels,  average='micro')\n",
    "# recall_sc"
   ]
  },
  {
   "cell_type": "code",
   "execution_count": 32,
   "metadata": {},
   "outputs": [],
   "source": [
    "# f1_score = (2 * precision_sc * recall_sc)/(precision_sc + recall_sc)\n",
    "# f1_score"
   ]
  },
  {
   "cell_type": "markdown",
   "metadata": {},
   "source": [
    "## running algorithm for correcting verb:"
   ]
  },
  {
   "cell_type": "code",
   "execution_count": 33,
   "metadata": {},
   "outputs": [],
   "source": [
    "spacy_nlp_lg_method = spacy.load(\"en_core_web_lg\")"
   ]
  },
  {
   "cell_type": "code",
   "execution_count": 34,
   "metadata": {
    "scrolled": true
   },
   "outputs": [],
   "source": [
    "# using single video class only currently\n",
    "sorted_predictions['v_BabyCrawling_g01_c01.avi']\n",
    "video_captions = {\n",
    "    'v_BabyCrawling_g01_c01.avi':'baby is singing',\n",
    "    'v_BabyCrawling_g01_c02.avi': 'baby is crawling',\n",
    "    'v_BabyCrawling_g01_c03.avi': 'crawling baby',\n",
    "    'v_BabyCrawling_g01_c04.avi': 'baby is jogging',\n",
    "    'v_BabyCrawling_g02_c01.avi': 'baby'\n",
    "}\n"
   ]
  },
  {
   "cell_type": "code",
   "execution_count": 35,
   "metadata": {},
   "outputs": [
    {
     "data": {
      "text/plain": [
       "['apply',\n",
       " 'biking',\n",
       " 'blow',\n",
       " 'blowing',\n",
       " 'bowling',\n",
       " 'brushing',\n",
       " 'catch',\n",
       " 'chucks',\n",
       " 'crawling',\n",
       " 'cutting',\n",
       " 'fencing',\n",
       " 'hammering',\n",
       " 'juggling',\n",
       " 'jump',\n",
       " 'jumping',\n",
       " 'kayaking',\n",
       " 'knitting',\n",
       " 'mixing',\n",
       " 'mopping',\n",
       " 'playing',\n",
       " 'pull',\n",
       " 'punch',\n",
       " 'push',\n",
       " 'rafting',\n",
       " 'riding',\n",
       " 'rowing',\n",
       " 'shaving',\n",
       " 'shot',\n",
       " 'skiing',\n",
       " 'surfing',\n",
       " 'swing',\n",
       " 'throw',\n",
       " 'tossing',\n",
       " 'typing',\n",
       " 'walking',\n",
       " 'writing']"
      ]
     },
     "execution_count": 35,
     "metadata": {},
     "output_type": "execute_result"
    }
   ],
   "source": [
    "# TERMS will be the verb terms from UCF 101 dataset to get generelised verb from prediction\n",
    "TERMS = []\n",
    "with open('terms.txt') as file:\n",
    "    TERMS = [line.rstrip() for line in file]\n",
    "TERMS"
   ]
  },
  {
   "cell_type": "code",
   "execution_count": 36,
   "metadata": {},
   "outputs": [
    {
     "name": "stdout",
     "output_type": "stream",
     "text": [
      "top pred:  {'name': 'crawling baby', 'value': 95.01768574118614} second pred:  {'name': 'laughing', 'value': 1.0928595351288095}\n",
      "proceed\n",
      "verbs in prediction: [crawling]\n",
      "verb in prediction: crawling\n",
      "verbs in caption: [singing]\n",
      "verb in caption: singing\n",
      "Word Sense Disambiguation of word: \n",
      "Synset('crawl.v.02')\n",
      "wsd_prediction_verb:  {'synset': 'crawl.v.02', 'word': 'crawl'}\n",
      "Hypernyms: feel\n",
      "word hypernyms:  ['feel']\n",
      "prediction_verb_hypernyms:  ['feel']\n",
      "Word Sense Disambiguation of word: \n",
      "Synset('singing.n.01')\n",
      "wsd_caption_verb:  {'synset': 'singing.n.01', 'word': 'singing'}\n",
      "Hypernyms: musical_performance, vocal_music\n",
      "word hypernyms:  ['musical_performance', 'vocal_music']\n",
      "caption_verb_hypernyms:  ['musical_performance', 'vocal_music']\n",
      "generelised pred: ['crawling']\n",
      "generelised caption: []\n",
      "most_similar_prediction_verb  \n",
      "getting most similar verb for:  singing\n",
      "most_similar_caption_verb  playing\n",
      "correct caption of video  v_BabyCrawling_g01_c01.avi  is: baby is crawling\n",
      "//////////////////////\n",
      "top pred:  {'name': 'crawling baby', 'value': 92.88247972726822} second pred:  {'name': 'laughing', 'value': 1.6871517077864457}\n",
      "proceed\n",
      "verbs in prediction: [crawling]\n",
      "verb in prediction: crawling\n",
      "verbs in caption: [crawling]\n",
      "verb in caption: crawling\n",
      "caption of video  v_BabyCrawling_g01_c02.avi  is correct\n",
      "//////////////////////\n",
      "top pred:  {'name': 'crawling baby', 'value': 85.41764183477922} second pred:  {'name': 'laughing', 'value': 2.405282682527534}\n",
      "proceed\n",
      "verbs in prediction: [crawling]\n",
      "verb in prediction: crawling\n",
      "verbs in caption: [crawling]\n",
      "verb in caption: crawling\n",
      "caption of video  v_BabyCrawling_g01_c03.avi  is correct\n",
      "//////////////////////\n",
      "top pred:  {'name': 'crawling baby', 'value': 86.83224134147167} second pred:  {'name': 'laughing', 'value': 1.7090588316023059}\n",
      "proceed\n",
      "verbs in prediction: [crawling]\n",
      "verb in prediction: crawling\n",
      "verbs in caption: [jogging]\n",
      "verb in caption: jogging\n",
      "Word Sense Disambiguation of word: \n",
      "Synset('crawl.v.02')\n",
      "wsd_prediction_verb:  {'synset': 'crawl.v.02', 'word': 'crawl'}\n",
      "Hypernyms: feel\n",
      "word hypernyms:  ['feel']\n",
      "prediction_verb_hypernyms:  ['feel']\n",
      "Word Sense Disambiguation of word: \n",
      "Synset('trot.v.01')\n",
      "wsd_caption_verb:  {'synset': 'trot.v.01', 'word': 'trot'}\n",
      "Hypernyms: run\n",
      "word hypernyms:  ['run']\n",
      "caption_verb_hypernyms:  ['run']\n",
      "generelised pred: ['crawling']\n",
      "generelised caption: []\n",
      "most_similar_prediction_verb  \n",
      "getting most similar verb for:  jogging\n",
      "most_similar_caption_verb  biking\n",
      "correct caption of video  v_BabyCrawling_g01_c04.avi  is: baby is crawling\n",
      "//////////////////////\n",
      "top pred:  {'name': 'crawling baby', 'value': 46.26295045018196} second pred:  {'name': 'somersaulting', 'value': 7.573666842654347}\n",
      "proceed\n",
      "verbs in prediction: [crawling]\n",
      "verb in prediction: crawling\n",
      "verbs in caption: []\n",
      "caption of  v_BabyCrawling_g02_c01.avi  should have a verb for this correction task to proceed\n",
      "//////////////////////\n"
     ]
    }
   ],
   "source": [
    "for clip_name in sorted_predictions: \n",
    "    top_prediction = {\n",
    "    'name': sorted_predictions[clip_name][0]['name'],\n",
    "    'value': sorted_predictions[clip_name][0]['value']\n",
    "    }\n",
    "\n",
    "    second_prediction = {\n",
    "        'name': sorted_predictions[clip_name][1]['name'],\n",
    "        'value': sorted_predictions[clip_name][1]['value']\n",
    "    }\n",
    "    print('top pred: ',top_prediction,'second pred: ', second_prediction)\n",
    "    if top_prediction['value'] > (2 * second_prediction['value']):\n",
    "        print('proceed')\n",
    "        prediction_nlp = spacy_nlp_lg_method(top_prediction['name'])\n",
    "        # verb in prediction\n",
    "        verb_in_prediction = []\n",
    "        for token in prediction_nlp:\n",
    "            if token.pos_ == 'VERB':\n",
    "                verb_in_prediction.append(token)\n",
    "        print('verbs in prediction:', verb_in_prediction)\n",
    "        if len(verb_in_prediction) < 1:\n",
    "            print('prediction of ', clip_name, ' should have a verb for this correction task to proceed')\n",
    "        elif len(verb_in_prediction) > 1:\n",
    "            print('prediction of ', clip_name, ' should have only single verb for this correction task to proceed')\n",
    "        else:\n",
    "            print('verb in prediction: ' + str(verb_in_prediction[0]))\n",
    "            caption_nlp = spacy_nlp_lg_method(video_captions[clip_name])\n",
    "            # verb in caption\n",
    "            verb_in_caption = []\n",
    "            for token in caption_nlp:\n",
    "                if token.pos_ == 'VERB':\n",
    "                    verb_in_caption.append(token)\n",
    "            print('verbs in caption:', verb_in_caption)\n",
    "            if len(verb_in_caption) < 1:\n",
    "                print('caption of ', clip_name, ' should have a verb for this correction task to proceed')\n",
    "            elif len(verb_in_caption) > 1:\n",
    "                print('caption of ', clip_name, ' should have only single verb for this correction task to proceed')\n",
    "            else:\n",
    "                print('verb in caption: ' + str(verb_in_caption[0]))\n",
    "                if str(verb_in_caption[0]) == str(verb_in_prediction[0]):\n",
    "                    print(\"caption of video \",clip_name, \" is correct\")\n",
    "                else:\n",
    "                    # get generelised form of verbs by first checking:\n",
    "                    # if verb is in terms array then that verb is generelised verb \n",
    "                    # else check if any verb's hypernym is in terms array then that hypernym is generelised verb \n",
    "                    # else loop through terms array and check\n",
    "                        # which verb has highest similarity and use that as a generelised verb\n",
    "                    \n",
    "                    correct_caption_verb = \"\"\n",
    "                    \n",
    "                    generelised_prediction_verbs = []\n",
    "                    generelised_caption_verbs = []\n",
    "                    prediction_verb_hypernyms = []\n",
    "                    caption_verb_hypernyms = []\n",
    "                    most_similar_prediction_verb = \"\"\n",
    "                    most_similar_caption_verb = \"\"\n",
    "\n",
    "                    wsd_prediction_verb = functions.get_word_sense_disambiguation(top_prediction['name'], verb_in_prediction[0])\n",
    "                    print(\"wsd_prediction_verb: \",wsd_prediction_verb)\n",
    "\n",
    "                    prediction_verb_hypernyms = functions.get_word_hypernyms(\n",
    "                                                                wsd_prediction_verb['synset'], \n",
    "                                                                wsd_prediction_verb['word']\n",
    "                                                        )\n",
    "                    print(\"prediction_verb_hypernyms: \", prediction_verb_hypernyms )\n",
    "                    wsd_caption_verb = functions.get_word_sense_disambiguation(video_captions[clip_name], verb_in_caption[0])\n",
    "                    print(\"wsd_caption_verb: \",wsd_caption_verb)\n",
    "\n",
    "                    caption_verb_hypernyms = functions.get_word_hypernyms(\n",
    "                                                                wsd_caption_verb['synset'], \n",
    "                                                                wsd_caption_verb['word']\n",
    "                                                        )\n",
    "                    print(\"caption_verb_hypernyms: \", caption_verb_hypernyms )\n",
    "                    generelised_prediction_verbs = functions.get_generelised_words(verb_in_prediction[0], prediction_verb_hypernyms, TERMS)\n",
    "                    print('generelised pred:', generelised_prediction_verbs)\n",
    "    \n",
    "                    generelised_caption_verbs = functions.get_generelised_words(verb_in_caption[0], caption_verb_hypernyms, TERMS)\n",
    "                    print('generelised caption:', generelised_caption_verbs)\n",
    "\n",
    "                    if len(generelised_prediction_verbs) == 0:\n",
    "                        most_similar_prediction_verb = functions.get_most_similar_verb(\n",
    "                                                                str(verb_in_prediction[0]),\n",
    "                                                                TERMS,\n",
    "                                                                spacy_nlp_lg_method\n",
    "                                                            )\n",
    "                    print(\"most_similar_prediction_verb \", most_similar_prediction_verb )\n",
    "                    if len(generelised_caption_verbs) == 0:\n",
    "                        most_similar_caption_verb = functions.get_most_similar_verb(\n",
    "                                                                    str(verb_in_caption[0]),\n",
    "                                                                    TERMS,\n",
    "                                                                    spacy_nlp_lg_method\n",
    "                                                                )\n",
    "                    print(\"most_similar_caption_verb \", most_similar_caption_verb )\n",
    "\n",
    "                    # as a verb can have multiple hypernyms, so there can be multiple generalised verbs, \n",
    "                    # hence it will be checked that if any generelised prediction verb or most_similar_prediction_verb \n",
    "                    # is present in the generelised caption verbs list or equals to most_similar_caption_verb  then that \n",
    "                    # caption will be the correct else replace verb in caption with generalised prediction verb,\n",
    "                    # or with most_similar_prediction_verb.     \n",
    "\n",
    "                    if len(generelised_prediction_verbs) != 0:\n",
    "                        if len(generelised_caption_verbs) != 0:\n",
    "                            for i in range(len(generelised_prediction_verbs)):   #verb in generelised_prediction_verbs:\n",
    "                                if generelised_prediction_verbs[i] in generelised_caption_verbs:\n",
    "                                    print(\"caption of video \",clip_name, \" is correct\")\n",
    "                                    break\n",
    "                                if i == (len(generelised_prediction_verbs) -1):\n",
    "                                    print('correct caption of video ',clip_name, ' is:', video_captions[clip_name].replace(str(verb_in_caption[0]), generelised_prediction_verbs[0]))\n",
    "                        else:\n",
    "                            for i in range(len(generelised_prediction_verbs)):#verb in generelised_prediction_verbs:\n",
    "                                if generelised_prediction_verbs[i] == most_similar_caption_verb:\n",
    "                                    print(\"caption of video \",clip_name, \" is correct\")\n",
    "                                    break\n",
    "                                if i == (len(generelised_prediction_verbs) -1):\n",
    "                                    print('correct caption of video ',clip_name, ' is:', video_captions[clip_name].replace(str(verb_in_caption[0]), generelised_prediction_verbs[0]))\n",
    "                    else:\n",
    "                        if len(generelised_caption_verbs) != 0:\n",
    "                            if most_similar_prediction_verb in generelised_caption_verbs:\n",
    "                                print(\"caption of video \",clip_name, \" is correct\")\n",
    "                            else:\n",
    "                                print('correct caption of video ',clip_name, ' is::', video_captions[clip_name].replace(str(verb_in_caption[0]), most_similar_prediction_verb))\n",
    "                        else:\n",
    "                            if most_similar_prediction_verb == most_similar_caption_verb:\n",
    "                                print(\"caption of video \",clip_name, \" is correct\")\n",
    "                            else:\n",
    "                                print('correct caption of video ',clip_name, ' is:', video_captions[clip_name].replace(str(verb_in_caption[0]), most_similar_prediction_verb))\n",
    "                        \n",
    " \n",
    "        print('//////////////////////')\n",
    "    \n",
    "    else:\n",
    "        print('action recognition for video ', clip_name, ' is not confident enough')"
   ]
  },
  {
   "cell_type": "code",
   "execution_count": null,
   "metadata": {},
   "outputs": [],
   "source": []
  },
  {
   "cell_type": "code",
   "execution_count": 37,
   "metadata": {},
   "outputs": [],
   "source": [
    "# begin = wordnet.synset('begin.v.01')\n",
    "# print(begin)\n",
    "# start = wordnet.synset('start.v.01')\n",
    "# print(begin.path_similarity(start))\n"
   ]
  },
  {
   "cell_type": "code",
   "execution_count": 38,
   "metadata": {},
   "outputs": [],
   "source": [
    "# wordnet.synset('filling.n.06').definition()"
   ]
  },
  {
   "cell_type": "code",
   "execution_count": 39,
   "metadata": {},
   "outputs": [],
   "source": [
    "# wordnet.synsets('rise', pos=wordnet.VERB) "
   ]
  },
  {
   "cell_type": "code",
   "execution_count": 40,
   "metadata": {},
   "outputs": [],
   "source": [
    "# wordnet.synset('swing.v.13').path_similarity(wordnet.synset('playing.n.01'))"
   ]
  },
  {
   "cell_type": "code",
   "execution_count": 41,
   "metadata": {},
   "outputs": [],
   "source": [
    "# testing which method's pos tagging works better in my use case as the captions are not gramatical sentences"
   ]
  },
  {
   "cell_type": "code",
   "execution_count": 42,
   "metadata": {},
   "outputs": [],
   "source": [
    "test_nlp = nltk.word_tokenize('apply eye makeup')\n",
    "pos_tagged = nltk.pos_tag(test_nlp, tagset='universal')"
   ]
  },
  {
   "cell_type": "code",
   "execution_count": 43,
   "metadata": {},
   "outputs": [
    {
     "data": {
      "text/plain": [
       "[('apply', 'ADV'), ('eye', 'NOUN'), ('makeup', 'NOUN')]"
      ]
     },
     "execution_count": 43,
     "metadata": {},
     "output_type": "execute_result"
    }
   ],
   "source": [
    "pos_tagged"
   ]
  },
  {
   "cell_type": "code",
   "execution_count": 44,
   "metadata": {},
   "outputs": [],
   "source": [
    "spacy_nlp = spacy.load(\"en_core_web_trf\")\n"
   ]
  },
  {
   "cell_type": "code",
   "execution_count": 45,
   "metadata": {},
   "outputs": [
    {
     "name": "stdout",
     "output_type": "stream",
     "text": [
      "apply apply VERB VB ROOT xxxx True False\n",
      "eye eye NOUN NN compound xxx True False\n",
      "makeup makeup NOUN NN dobj xxxx True False\n"
     ]
    }
   ],
   "source": [
    "doc = spacy_nlp(\"apply eye makeup\")\n",
    "\n",
    "for token in doc:\n",
    "    print(token.text, token.lemma_, token.pos_, token.tag_, token.dep_,\n",
    "            token.shape_, token.is_alpha, token.is_stop)"
   ]
  },
  {
   "cell_type": "code",
   "execution_count": 46,
   "metadata": {},
   "outputs": [],
   "source": [
    "spacy_nlp = spacy.load(\"en_core_web_lg\")\n"
   ]
  },
  {
   "cell_type": "code",
   "execution_count": 47,
   "metadata": {},
   "outputs": [
    {
     "name": "stdout",
     "output_type": "stream",
     "text": [
      "apply apply VERB VB ROOT xxxx True False\n",
      "eye eye NOUN NN compound xxx True False\n",
      "makeup makeup NOUN NN dobj xxxx True False\n"
     ]
    }
   ],
   "source": [
    "doc = spacy_nlp(\"apply eye makeup\")\n",
    "\n",
    "for token in doc:\n",
    "    print(token.text, token.lemma_, token.pos_, token.tag_, token.dep_,\n",
    "            token.shape_, token.is_alpha, token.is_stop)"
   ]
  },
  {
   "cell_type": "code",
   "execution_count": null,
   "metadata": {},
   "outputs": [],
   "source": []
  },
  {
   "cell_type": "code",
   "execution_count": 48,
   "metadata": {},
   "outputs": [],
   "source": [
    "# checking which nlp gives good predictions in these captions"
   ]
  },
  {
   "cell_type": "code",
   "execution_count": 49,
   "metadata": {},
   "outputs": [],
   "source": [
    "#  spacy lg model"
   ]
  },
  {
   "cell_type": "code",
   "execution_count": 50,
   "metadata": {},
   "outputs": [],
   "source": [
    "spacy_nlp_lg_method = spacy.load(\"en_core_web_lg\")\n"
   ]
  },
  {
   "cell_type": "code",
   "execution_count": 51,
   "metadata": {},
   "outputs": [
    {
     "name": "stdout",
     "output_type": "stream",
     "text": [
      "abseiling NOUN\n",
      "\n",
      "\n",
      "air NOUN\n",
      "drumming NOUN\n",
      "\n",
      "\n",
      "answering VERB\n",
      "questions NOUN\n",
      "\n",
      "\n",
      "applauding VERB\n",
      "\n",
      "\n",
      "applying VERB\n",
      "cream NOUN\n",
      "\n",
      "\n",
      "archery NOUN\n",
      "\n",
      "\n",
      "arm NOUN\n",
      "wrestling NOUN\n",
      "\n",
      "\n",
      "arranging VERB\n",
      "flowers NOUN\n",
      "\n",
      "\n",
      "assembling VERB\n",
      "computer NOUN\n",
      "\n",
      "\n",
      "auctioning VERB\n",
      "\n",
      "\n",
      "baby NOUN\n",
      "waking VERB\n",
      "up ADP\n",
      "\n",
      "\n",
      "baking VERB\n",
      "cookies NOUN\n",
      "\n",
      "\n",
      "balloon NOUN\n",
      "blowing VERB\n",
      "\n",
      "\n",
      "bandaging VERB\n",
      "\n",
      "\n",
      "barbequing VERB\n",
      "\n",
      "\n",
      "bartending VERB\n",
      "\n",
      "\n",
      "beatboxing NOUN\n",
      "\n",
      "\n",
      "bee NOUN\n",
      "keeping VERB\n",
      "\n",
      "\n",
      "belly NOUN\n",
      "dancing VERB\n",
      "\n",
      "\n",
      "bench NOUN\n",
      "pressing VERB\n",
      "\n",
      "\n",
      "precision: , recall: \n"
     ]
    },
    {
     "data": {
      "text/plain": [
       "['not verb',\n",
       " 'not verb',\n",
       " 'not verb',\n",
       " 'verb',\n",
       " 'not verb',\n",
       " 'verb',\n",
       " 'verb',\n",
       " 'not verb',\n",
       " 'not verb',\n",
       " 'not verb',\n",
       " 'not verb',\n",
       " 'verb',\n",
       " 'not verb',\n",
       " 'verb',\n",
       " 'not verb',\n",
       " 'verb',\n",
       " 'not verb',\n",
       " 'verb',\n",
       " 'not verb',\n",
       " 'verb',\n",
       " 'not verb',\n",
       " 'not verb',\n",
       " 'verb',\n",
       " 'verb',\n",
       " 'verb',\n",
       " 'verb',\n",
       " 'not verb',\n",
       " 'not verb',\n",
       " 'verb',\n",
       " 'not verb',\n",
       " 'verb',\n",
       " 'not verb',\n",
       " 'verb']"
      ]
     },
     "execution_count": 51,
     "metadata": {},
     "output_type": "execute_result"
    }
   ],
   "source": [
    "cm2_actual_labels = [\n",
    "    \"not verb\", # abseiling\n",
    "    \"not verb\", # air\n",
    "    \"verb\", # drumming\n",
    "    \"verb\", # answering\n",
    "    \"not verb\", # questions\n",
    "    \"verb\", # applauding\n",
    "    \"verb\",  # applying \n",
    "    \"not verb\", # cream\n",
    "    \"not verb\", # archery\n",
    "    \"not verb\", # arm\n",
    "    \"verb\",  # wrestling\n",
    "    \"verb\",  # arranging\n",
    "    \"not verb\", # flowers\n",
    "    \"verb\",  # assembling\n",
    "    \"not verb\", # computer\n",
    "    \"verb\",  # auctioning    \n",
    "    \"not verb\", # baby\n",
    "    \"verb\",  # waking\n",
    "    \"not verb\", # up\n",
    "    \"verb\",  # baking\n",
    "    \"not verb\", # cookies\n",
    "    \"not verb\", # balloon\n",
    "    \"verb\",  # blowing\n",
    "    \"verb\",  # bandaging\n",
    "    \"verb\",  # barbequing\n",
    "    \"verb\",  # bartending\n",
    "    \"not verb\", # beatboxing\n",
    "    \"not verb\", # bee\n",
    "    \"not verb\", # keeping\n",
    "    \"not verb\", # belly\n",
    "    \"verb\", # dancing\n",
    "    \"not verb\", # bench\n",
    "    \"verb\", # pressing\n",
    "]\n",
    "cm2_predicted_labels= []\n",
    "# kinetics labels: labels\n",
    "for label in labels[0:20]:\n",
    "    # print (label)\n",
    "    doc = spacy_nlp_lg_method(label)\n",
    "\n",
    "    for token in doc:\n",
    "        if token.pos_ == \"VERB\":\n",
    "            cm2_predicted_labels.append(\"verb\")\n",
    "        else:\n",
    "            cm2_predicted_labels.append(\"not verb\")\n",
    "        print(token.text, token.pos_)\n",
    "    print(\"\\n\")\n",
    "\n",
    "print(\"precision: , recall: \")\n",
    "cm2_predicted_labels"
   ]
  },
  {
   "cell_type": "code",
   "execution_count": 52,
   "metadata": {},
   "outputs": [
    {
     "data": {
      "text/plain": [
       "<sklearn.metrics._plot.confusion_matrix.ConfusionMatrixDisplay at 0x1b9d037fe90>"
      ]
     },
     "execution_count": 52,
     "metadata": {},
     "output_type": "execute_result"
    },
    {
     "data": {
      "image/png": "[encoded data removed]",
      "text/plain": [
       "<Figure size 640x480 with 2 Axes>"
      ]
     },
     "metadata": {},
     "output_type": "display_data"
    }
   ],
   "source": [
    "disp =  ConfusionMatrixDisplay(confusion_matrix=confusion_matrix(cm2_actual_labels, cm2_predicted_labels, labels=['verb', 'not verb']),\n",
    "                              display_labels=['verb', 'not verb'])\n",
    "disp.plot(xticks_rotation = 'vertical') "
   ]
  },
  {
   "cell_type": "code",
   "execution_count": 53,
   "metadata": {},
   "outputs": [
    {
     "data": {
      "text/plain": [
       "0.9333333333333333"
      ]
     },
     "execution_count": 53,
     "metadata": {},
     "output_type": "execute_result"
    }
   ],
   "source": [
    "precision_sc = precision_score(cm2_actual_labels, cm2_predicted_labels, pos_label='verb')\n",
    "precision_sc"
   ]
  },
  {
   "cell_type": "code",
   "execution_count": 54,
   "metadata": {},
   "outputs": [
    {
     "data": {
      "text/plain": [
       "0.9333333333333333"
      ]
     },
     "execution_count": 54,
     "metadata": {},
     "output_type": "execute_result"
    }
   ],
   "source": [
    "manual_precision = 14/(14+1)\n",
    "manual_precision"
   ]
  },
  {
   "cell_type": "code",
   "execution_count": 55,
   "metadata": {},
   "outputs": [
    {
     "data": {
      "text/plain": [
       "0.875"
      ]
     },
     "execution_count": 55,
     "metadata": {},
     "output_type": "execute_result"
    }
   ],
   "source": [
    "from sklearn.metrics import recall_score\n",
    "recall_sc = recall_score(cm2_actual_labels, cm2_predicted_labels, pos_label='verb')\n",
    "recall_sc"
   ]
  },
  {
   "cell_type": "code",
   "execution_count": 56,
   "metadata": {},
   "outputs": [
    {
     "data": {
      "text/plain": [
       "0.875"
      ]
     },
     "execution_count": 56,
     "metadata": {},
     "output_type": "execute_result"
    }
   ],
   "source": [
    "manual_recall = 14/(14+2)\n",
    "manual_recall"
   ]
  },
  {
   "cell_type": "code",
   "execution_count": 57,
   "metadata": {},
   "outputs": [
    {
     "data": {
      "text/plain": [
       "0.9032258064516129"
      ]
     },
     "execution_count": 57,
     "metadata": {},
     "output_type": "execute_result"
    }
   ],
   "source": [
    "from sklearn.metrics import f1_score\n",
    "f1_sc = f1_score(cm2_actual_labels, cm2_predicted_labels, pos_label='verb')\n",
    "f1_sc"
   ]
  },
  {
   "cell_type": "code",
   "execution_count": 58,
   "metadata": {},
   "outputs": [
    {
     "data": {
      "text/plain": [
       "0.9032258064516129"
      ]
     },
     "execution_count": 58,
     "metadata": {},
     "output_type": "execute_result"
    }
   ],
   "source": [
    "manual_f1 = 2*manual_precision*manual_recall/(manual_precision+manual_recall)\n",
    "manual_f1"
   ]
  },
  {
   "cell_type": "code",
   "execution_count": 59,
   "metadata": {},
   "outputs": [
    {
     "name": "stdout",
     "output_type": "stream",
     "text": [
      "abseiling PROPN\n",
      "\n",
      "\n",
      "air NOUN\n",
      "drumming NOUN\n",
      "\n",
      "\n",
      "answering VERB\n",
      "questions NOUN\n",
      "\n",
      "\n",
      "applauding VERB\n",
      "\n",
      "\n",
      "applying VERB\n",
      "cream NOUN\n",
      "\n",
      "\n",
      "archery NOUN\n",
      "\n",
      "\n",
      "arm NOUN\n",
      "wrestling NOUN\n",
      "\n",
      "\n",
      "arranging VERB\n",
      "flowers NOUN\n",
      "\n",
      "\n",
      "assembling VERB\n",
      "computer NOUN\n",
      "\n",
      "\n",
      "auctioning NOUN\n",
      "\n",
      "\n",
      "baby NOUN\n",
      "waking VERB\n",
      "up ADP\n",
      "\n",
      "\n",
      "baking VERB\n",
      "cookies NOUN\n",
      "\n",
      "\n",
      "balloon NOUN\n",
      "blowing VERB\n",
      "\n",
      "\n",
      "bandaging NOUN\n",
      "\n",
      "\n",
      "barbequing PROPN\n",
      "\n",
      "\n",
      "bartending PROPN\n",
      "\n",
      "\n",
      "beatboxing NOUN\n",
      "\n",
      "\n",
      "bee PROPN\n",
      "keeping NOUN\n",
      "\n",
      "\n",
      "belly NOUN\n",
      "dancing NOUN\n",
      "\n",
      "\n",
      "bench NOUN\n",
      "pressing NOUN\n",
      "\n",
      "\n",
      "precision: , recall: \n"
     ]
    },
    {
     "data": {
      "text/plain": [
       "['not verb',\n",
       " 'not verb',\n",
       " 'not verb',\n",
       " 'verb',\n",
       " 'not verb',\n",
       " 'verb',\n",
       " 'verb',\n",
       " 'not verb',\n",
       " 'not verb',\n",
       " 'not verb',\n",
       " 'not verb',\n",
       " 'verb',\n",
       " 'not verb',\n",
       " 'verb',\n",
       " 'not verb',\n",
       " 'not verb',\n",
       " 'not verb',\n",
       " 'verb',\n",
       " 'not verb',\n",
       " 'verb',\n",
       " 'not verb',\n",
       " 'not verb',\n",
       " 'verb',\n",
       " 'not verb',\n",
       " 'not verb',\n",
       " 'not verb',\n",
       " 'not verb',\n",
       " 'not verb',\n",
       " 'not verb',\n",
       " 'not verb',\n",
       " 'not verb',\n",
       " 'not verb',\n",
       " 'not verb']"
      ]
     },
     "execution_count": 59,
     "metadata": {},
     "output_type": "execute_result"
    }
   ],
   "source": [
    "spacy_nlp = spacy.load(\"en_core_web_trf\")\n",
    "\n",
    "cm2_predicted_labels= []\n",
    "# kinetics labels: labels\n",
    "for label in labels[0:20]:\n",
    "    # print (label)\n",
    "    doc = spacy_nlp(label)\n",
    "\n",
    "    for token in doc:\n",
    "        if token.pos_ == \"VERB\":\n",
    "            cm2_predicted_labels.append(\"verb\")\n",
    "        else:\n",
    "            cm2_predicted_labels.append(\"not verb\")\n",
    "        print(token.text, token.pos_)\n",
    "    print(\"\\n\")\n",
    "\n",
    "print(\"precision: , recall: \")\n",
    "cm2_predicted_labels"
   ]
  },
  {
   "cell_type": "code",
   "execution_count": 60,
   "metadata": {},
   "outputs": [
    {
     "data": {
      "text/plain": [
       "<sklearn.metrics._plot.confusion_matrix.ConfusionMatrixDisplay at 0x1b9d93b0cb0>"
      ]
     },
     "execution_count": 60,
     "metadata": {},
     "output_type": "execute_result"
    },
    {
     "data": {
      "image/png": "[encoded data removed]",
      "text/plain": [
       "<Figure size 640x480 with 2 Axes>"
      ]
     },
     "metadata": {},
     "output_type": "display_data"
    }
   ],
   "source": [
    "disp =  ConfusionMatrixDisplay(confusion_matrix=confusion_matrix(cm2_actual_labels, cm2_predicted_labels, labels=['verb', 'not verb']),\n",
    "                              display_labels=['verb', 'not verb'])\n",
    "disp.plot(xticks_rotation = 'vertical') "
   ]
  },
  {
   "cell_type": "code",
   "execution_count": 61,
   "metadata": {},
   "outputs": [
    {
     "data": {
      "text/plain": [
       "1.0"
      ]
     },
     "execution_count": 61,
     "metadata": {},
     "output_type": "execute_result"
    }
   ],
   "source": [
    "precision_sc = precision_score(cm2_actual_labels, cm2_predicted_labels, pos_label='verb')\n",
    "precision_sc"
   ]
  },
  {
   "cell_type": "code",
   "execution_count": 62,
   "metadata": {},
   "outputs": [
    {
     "data": {
      "text/plain": [
       "1.0"
      ]
     },
     "execution_count": 62,
     "metadata": {},
     "output_type": "execute_result"
    }
   ],
   "source": [
    "manual_precision = 8/(8)\n",
    "manual_precision"
   ]
  },
  {
   "cell_type": "code",
   "execution_count": 63,
   "metadata": {},
   "outputs": [
    {
     "data": {
      "text/plain": [
       "0.5"
      ]
     },
     "execution_count": 63,
     "metadata": {},
     "output_type": "execute_result"
    }
   ],
   "source": [
    "from sklearn.metrics import recall_score\n",
    "recall_sc = recall_score(cm2_actual_labels, cm2_predicted_labels, pos_label='verb')\n",
    "recall_sc"
   ]
  },
  {
   "cell_type": "code",
   "execution_count": 64,
   "metadata": {},
   "outputs": [
    {
     "data": {
      "text/plain": [
       "0.5"
      ]
     },
     "execution_count": 64,
     "metadata": {},
     "output_type": "execute_result"
    }
   ],
   "source": [
    "manual_recall = 8/(8+8)\n",
    "manual_recall"
   ]
  },
  {
   "cell_type": "code",
   "execution_count": 65,
   "metadata": {},
   "outputs": [
    {
     "data": {
      "text/plain": [
       "0.6666666666666666"
      ]
     },
     "execution_count": 65,
     "metadata": {},
     "output_type": "execute_result"
    }
   ],
   "source": [
    "from sklearn.metrics import f1_score\n",
    "f1_sc = f1_score(cm2_actual_labels, cm2_predicted_labels, pos_label='verb')\n",
    "f1_sc"
   ]
  },
  {
   "cell_type": "code",
   "execution_count": 66,
   "metadata": {},
   "outputs": [
    {
     "data": {
      "text/plain": [
       "0.6666666666666666"
      ]
     },
     "execution_count": 66,
     "metadata": {},
     "output_type": "execute_result"
    }
   ],
   "source": [
    "manual_f1 = 2*manual_precision*manual_recall/(manual_precision+manual_recall)\n",
    "manual_f1"
   ]
  },
  {
   "cell_type": "code",
   "execution_count": 67,
   "metadata": {},
   "outputs": [
    {
     "name": "stdout",
     "output_type": "stream",
     "text": [
      "[('abseiling', 'VERB')]\n",
      "\n",
      "\n",
      "('abseiling', 'VERB')\n",
      "\n",
      "\n",
      "[('air', 'NOUN'), ('drumming', 'VERB')]\n",
      "\n",
      "\n",
      "('air', 'NOUN')\n",
      "('drumming', 'VERB')\n",
      "\n",
      "\n",
      "[('answering', 'VERB'), ('questions', 'NOUN')]\n",
      "\n",
      "\n",
      "('answering', 'VERB')\n",
      "('questions', 'NOUN')\n",
      "\n",
      "\n",
      "[('applauding', 'VERB')]\n",
      "\n",
      "\n",
      "('applauding', 'VERB')\n",
      "\n",
      "\n",
      "[('applying', 'VERB'), ('cream', 'NOUN')]\n",
      "\n",
      "\n",
      "('applying', 'VERB')\n",
      "('cream', 'NOUN')\n",
      "\n",
      "\n",
      "[('archery', 'NOUN')]\n",
      "\n",
      "\n",
      "('archery', 'NOUN')\n",
      "\n",
      "\n",
      "[('arm', 'NOUN'), ('wrestling', 'NOUN')]\n",
      "\n",
      "\n",
      "('arm', 'NOUN')\n",
      "('wrestling', 'NOUN')\n",
      "\n",
      "\n",
      "[('arranging', 'VERB'), ('flowers', 'NOUN')]\n",
      "\n",
      "\n",
      "('arranging', 'VERB')\n",
      "('flowers', 'NOUN')\n",
      "\n",
      "\n",
      "[('assembling', 'VERB'), ('computer', 'NOUN')]\n",
      "\n",
      "\n",
      "('assembling', 'VERB')\n",
      "('computer', 'NOUN')\n",
      "\n",
      "\n",
      "[('auctioning', 'VERB')]\n",
      "\n",
      "\n",
      "('auctioning', 'VERB')\n",
      "\n",
      "\n",
      "[('baby', 'NOUN'), ('waking', 'VERB'), ('up', 'PRT')]\n",
      "\n",
      "\n",
      "('baby', 'NOUN')\n",
      "('waking', 'VERB')\n",
      "('up', 'PRT')\n",
      "\n",
      "\n",
      "[('baking', 'VERB'), ('cookies', 'NOUN')]\n",
      "\n",
      "\n",
      "('baking', 'VERB')\n",
      "('cookies', 'NOUN')\n",
      "\n",
      "\n",
      "[('balloon', 'NOUN'), ('blowing', 'NOUN')]\n",
      "\n",
      "\n",
      "('balloon', 'NOUN')\n",
      "('blowing', 'NOUN')\n",
      "\n",
      "\n",
      "[('bandaging', 'NOUN')]\n",
      "\n",
      "\n",
      "('bandaging', 'NOUN')\n",
      "\n",
      "\n",
      "[('barbequing', 'NOUN')]\n",
      "\n",
      "\n",
      "('barbequing', 'NOUN')\n",
      "\n",
      "\n",
      "[('bartending', 'NOUN')]\n",
      "\n",
      "\n",
      "('bartending', 'NOUN')\n",
      "\n",
      "\n",
      "[('beatboxing', 'NOUN')]\n",
      "\n",
      "\n",
      "('beatboxing', 'NOUN')\n",
      "\n",
      "\n",
      "[('bee', 'NOUN'), ('keeping', 'VERB')]\n",
      "\n",
      "\n",
      "('bee', 'NOUN')\n",
      "('keeping', 'VERB')\n",
      "\n",
      "\n",
      "[('belly', 'ADV'), ('dancing', 'VERB')]\n",
      "\n",
      "\n",
      "('belly', 'ADV')\n",
      "('dancing', 'VERB')\n",
      "\n",
      "\n",
      "[('bench', 'NOUN'), ('pressing', 'VERB')]\n",
      "\n",
      "\n",
      "('bench', 'NOUN')\n",
      "('pressing', 'VERB')\n",
      "\n",
      "\n",
      "precision: , recall: \n"
     ]
    },
    {
     "data": {
      "text/plain": [
       "['verb',\n",
       " 'not verb',\n",
       " 'verb',\n",
       " 'verb',\n",
       " 'not verb',\n",
       " 'verb',\n",
       " 'verb',\n",
       " 'not verb',\n",
       " 'not verb',\n",
       " 'not verb',\n",
       " 'not verb',\n",
       " 'verb',\n",
       " 'not verb',\n",
       " 'verb',\n",
       " 'not verb',\n",
       " 'verb',\n",
       " 'not verb',\n",
       " 'verb',\n",
       " 'not verb',\n",
       " 'verb',\n",
       " 'not verb',\n",
       " 'not verb',\n",
       " 'not verb',\n",
       " 'not verb',\n",
       " 'not verb',\n",
       " 'not verb',\n",
       " 'not verb',\n",
       " 'not verb',\n",
       " 'verb',\n",
       " 'not verb',\n",
       " 'verb',\n",
       " 'not verb',\n",
       " 'verb']"
      ]
     },
     "execution_count": 67,
     "metadata": {},
     "output_type": "execute_result"
    }
   ],
   "source": [
    "# nltk\n",
    "cm2_predicted_labels= []\n",
    "# kinetics labels: labels\n",
    "for label in labels[0:20]:\n",
    "    # print (label)\n",
    "    sentence = label\n",
    "    tokens = nltk.word_tokenize(sentence)  \n",
    "    pos_tags = nltk.pos_tag(tokens, tagset='universal')\n",
    "    print(pos_tags) \n",
    "    print(\"\\n\")\n",
    "    for tag in pos_tags:\n",
    "        if tag[1] == \"VERB\":\n",
    "            cm2_predicted_labels.append(\"verb\")\n",
    "        else:\n",
    "            cm2_predicted_labels.append(\"not verb\")\n",
    "        print(tag)\n",
    "    print(\"\\n\")\n",
    "        \n",
    "print(\"precision: , recall: \")\n",
    "cm2_predicted_labels"
   ]
  },
  {
   "cell_type": "code",
   "execution_count": 68,
   "metadata": {},
   "outputs": [
    {
     "data": {
      "text/plain": [
       "<sklearn.metrics._plot.confusion_matrix.ConfusionMatrixDisplay at 0x1b910f65070>"
      ]
     },
     "execution_count": 68,
     "metadata": {},
     "output_type": "execute_result"
    },
    {
     "data": {
      "image/png": "[encoded data removed]",
      "text/plain": [
       "<Figure size 640x480 with 2 Axes>"
      ]
     },
     "metadata": {},
     "output_type": "display_data"
    }
   ],
   "source": [
    "disp =  ConfusionMatrixDisplay(confusion_matrix=confusion_matrix(cm2_actual_labels, cm2_predicted_labels, labels=['verb', 'not verb']),\n",
    "                              display_labels=['verb', 'not verb'])\n",
    "disp.plot(xticks_rotation = 'vertical') "
   ]
  },
  {
   "cell_type": "code",
   "execution_count": 69,
   "metadata": {},
   "outputs": [
    {
     "data": {
      "text/plain": [
       "0.8461538461538461"
      ]
     },
     "execution_count": 69,
     "metadata": {},
     "output_type": "execute_result"
    }
   ],
   "source": [
    "precision_sc = precision_score(cm2_actual_labels, cm2_predicted_labels, pos_label='verb')\n",
    "precision_sc"
   ]
  },
  {
   "cell_type": "code",
   "execution_count": 70,
   "metadata": {},
   "outputs": [
    {
     "data": {
      "text/plain": [
       "0.8461538461538461"
      ]
     },
     "execution_count": 70,
     "metadata": {},
     "output_type": "execute_result"
    }
   ],
   "source": [
    "manual_precision = 11/(11+2)\n",
    "manual_precision"
   ]
  },
  {
   "cell_type": "code",
   "execution_count": 71,
   "metadata": {},
   "outputs": [
    {
     "data": {
      "text/plain": [
       "0.6875"
      ]
     },
     "execution_count": 71,
     "metadata": {},
     "output_type": "execute_result"
    }
   ],
   "source": [
    "from sklearn.metrics import recall_score\n",
    "recall_sc = recall_score(cm2_actual_labels, cm2_predicted_labels, pos_label='verb')\n",
    "recall_sc"
   ]
  },
  {
   "cell_type": "code",
   "execution_count": 72,
   "metadata": {},
   "outputs": [
    {
     "data": {
      "text/plain": [
       "0.6875"
      ]
     },
     "execution_count": 72,
     "metadata": {},
     "output_type": "execute_result"
    }
   ],
   "source": [
    "manual_recall = 11/(11+5)\n",
    "manual_recall"
   ]
  },
  {
   "cell_type": "code",
   "execution_count": 73,
   "metadata": {},
   "outputs": [
    {
     "data": {
      "text/plain": [
       "0.7586206896551724"
      ]
     },
     "execution_count": 73,
     "metadata": {},
     "output_type": "execute_result"
    }
   ],
   "source": [
    "from sklearn.metrics import f1_score\n",
    "f1_sc = f1_score(cm2_actual_labels, cm2_predicted_labels, pos_label='verb')\n",
    "f1_sc"
   ]
  },
  {
   "cell_type": "code",
   "execution_count": 74,
   "metadata": {},
   "outputs": [
    {
     "data": {
      "text/plain": [
       "0.7586206896551724"
      ]
     },
     "execution_count": 74,
     "metadata": {},
     "output_type": "execute_result"
    }
   ],
   "source": [
    "manual_f1 = 2*manual_precision*manual_recall/(manual_precision+manual_recall)\n",
    "manual_f1"
   ]
  },
  {
   "cell_type": "code",
   "execution_count": 75,
   "metadata": {},
   "outputs": [
    {
     "name": "stdout",
     "output_type": "stream",
     "text": [
      "\n",
      "\n",
      "('abseiling', 'VBG')\n",
      "\n",
      "\n",
      "\n",
      "\n",
      "('air', 'NN')\n",
      "('drumming', 'VBG')\n",
      "\n",
      "\n",
      "\n",
      "\n",
      "('answering', 'VBG')\n",
      "('questions', 'NNS')\n",
      "\n",
      "\n",
      "\n",
      "\n",
      "('applauding', 'VBG')\n",
      "\n",
      "\n",
      "\n",
      "\n",
      "('applying', 'VBG')\n",
      "('cream', 'NN')\n",
      "\n",
      "\n",
      "\n",
      "\n",
      "('archery', 'NN')\n",
      "\n",
      "\n",
      "\n",
      "\n",
      "('arm', 'NN')\n",
      "('wrestling', 'NN')\n",
      "\n",
      "\n",
      "\n",
      "\n",
      "('arranging', 'VBG')\n",
      "('flowers', 'NNS')\n",
      "\n",
      "\n",
      "\n",
      "\n",
      "('assembling', 'VBG')\n",
      "('computer', 'NN')\n",
      "\n",
      "\n",
      "\n",
      "\n",
      "('auctioning', 'VBG')\n",
      "\n",
      "\n",
      "\n",
      "\n",
      "('baby', 'NN')\n",
      "('waking', 'VBG')\n",
      "('up', 'RP')\n",
      "\n",
      "\n",
      "\n",
      "\n",
      "('baking', 'VBG')\n",
      "('cookies', 'NNS')\n",
      "\n",
      "\n",
      "\n",
      "\n",
      "('balloon', 'NN')\n",
      "('blowing', 'NN')\n",
      "\n",
      "\n",
      "\n",
      "\n",
      "('bandaging', 'NN')\n",
      "\n",
      "\n",
      "\n",
      "\n",
      "('barbequing', 'NN')\n",
      "\n",
      "\n",
      "\n",
      "\n",
      "('bartending', 'NN')\n",
      "\n",
      "\n",
      "\n",
      "\n",
      "('beatboxing', 'NN')\n",
      "\n",
      "\n",
      "\n",
      "\n",
      "('bee', 'NN')\n",
      "('keeping', 'VBG')\n",
      "\n",
      "\n",
      "\n",
      "\n",
      "('belly', 'RB')\n",
      "('dancing', 'VBG')\n",
      "\n",
      "\n",
      "\n",
      "\n",
      "('bench', 'NN')\n",
      "('pressing', 'VBG')\n",
      "\n",
      "\n",
      "precision: , recall: \n"
     ]
    },
    {
     "data": {
      "text/plain": [
       "['verb',\n",
       " 'not verb',\n",
       " 'verb',\n",
       " 'verb',\n",
       " 'not verb',\n",
       " 'verb',\n",
       " 'verb',\n",
       " 'not verb',\n",
       " 'not verb',\n",
       " 'not verb',\n",
       " 'not verb',\n",
       " 'verb',\n",
       " 'not verb',\n",
       " 'verb',\n",
       " 'not verb',\n",
       " 'verb',\n",
       " 'not verb',\n",
       " 'verb',\n",
       " 'not verb',\n",
       " 'verb',\n",
       " 'not verb',\n",
       " 'not verb',\n",
       " 'not verb',\n",
       " 'not verb',\n",
       " 'not verb',\n",
       " 'not verb',\n",
       " 'not verb',\n",
       " 'not verb',\n",
       " 'verb',\n",
       " 'not verb',\n",
       " 'verb',\n",
       " 'not verb',\n",
       " 'verb']"
      ]
     },
     "execution_count": 75,
     "metadata": {},
     "output_type": "execute_result"
    }
   ],
   "source": [
    "from textblob import TextBlob\n",
    "cm2_predicted_labels= []\n",
    "# kinetics labels: labels\n",
    "for label in labels[0:20]:\n",
    "    # print (label)\n",
    "    sentence = label\n",
    "\n",
    "    text_blob = TextBlob(sentence)  \n",
    "    # Use the 'tags' property to get the POS tags  \n",
    "\n",
    "    pos_tags = text_blob.tags \n",
    "    # print(pos_tags) \n",
    "    print(\"\\n\")\n",
    "    \n",
    "    for tag in pos_tags:\n",
    "        if tag[1].startswith(\"V\"):\n",
    "            cm2_predicted_labels.append(\"verb\")\n",
    "        else:\n",
    "            cm2_predicted_labels.append(\"not verb\")\n",
    "        print(tag)\n",
    "    print(\"\\n\")\n",
    "        \n",
    "print(\"precision: , recall: \")\n",
    "cm2_predicted_labels\n"
   ]
  },
  {
   "cell_type": "code",
   "execution_count": 76,
   "metadata": {},
   "outputs": [
    {
     "data": {
      "text/plain": [
       "<sklearn.metrics._plot.confusion_matrix.ConfusionMatrixDisplay at 0x1b9da611190>"
      ]
     },
     "execution_count": 76,
     "metadata": {},
     "output_type": "execute_result"
    },
    {
     "data": {
      "image/png": "[encoded data removed]",
      "text/plain": [
       "<Figure size 640x480 with 2 Axes>"
      ]
     },
     "metadata": {},
     "output_type": "display_data"
    }
   ],
   "source": [
    "disp =  ConfusionMatrixDisplay(confusion_matrix=confusion_matrix(cm2_actual_labels, cm2_predicted_labels, labels=['verb', 'not verb']),\n",
    "                              display_labels=['verb', 'not verb'])\n",
    "disp.plot(xticks_rotation = 'vertical') "
   ]
  },
  {
   "cell_type": "code",
   "execution_count": 77,
   "metadata": {},
   "outputs": [],
   "source": [
    "import stanza"
   ]
  },
  {
   "cell_type": "code",
   "execution_count": 78,
   "metadata": {},
   "outputs": [
    {
     "name": "stderr",
     "output_type": "stream",
     "text": [
      "2024-09-30 22:30:29 INFO: Checking for updates to resources.json in case models have been updated.  Note: this behavior can be turned off with download_method=None or download_method=DownloadMethod.REUSE_RESOURCES\n"
     ]
    },
    {
     "data": {
      "application/vnd.jupyter.widget-view+json": {
       "model_id": "3da9f653d78d43428b81d8c62c04a135",
       "version_major": 2,
       "version_minor": 0
      },
      "text/plain": [
       "Downloading https://raw.githubusercontent.com/stanfordnlp/stanza-resources/main/resources_1.8.0.json:   0%|   …"
      ]
     },
     "metadata": {},
     "output_type": "display_data"
    },
    {
     "name": "stderr",
     "output_type": "stream",
     "text": [
      "2024-09-30 22:30:30 INFO: Downloaded file to C:\\Users\\shafa\\stanza_resources\\resources.json\n",
      "2024-09-30 22:30:31 INFO: Loading these models for language: en (English):\n",
      "===============================\n",
      "| Processor | Package         |\n",
      "-------------------------------\n",
      "| tokenize  | combined        |\n",
      "| mwt       | combined        |\n",
      "| pos       | combined_charlm |\n",
      "===============================\n",
      "\n",
      "2024-09-30 22:30:31 INFO: Using device: cpu\n",
      "2024-09-30 22:30:31 INFO: Loading: tokenize\n",
      "2024-09-30 22:30:37 INFO: Loading: mwt\n",
      "2024-09-30 22:30:37 INFO: Loading: pos\n",
      "2024-09-30 22:30:38 INFO: Done loading processors!\n"
     ]
    },
    {
     "name": "stdout",
     "output_type": "stream",
     "text": [
      "\n",
      "\n",
      "{\n",
      "  \"id\": 1,\n",
      "  \"text\": \"abseiling\",\n",
      "  \"upos\": \"NOUN\",\n",
      "  \"xpos\": \"NN\",\n",
      "  \"feats\": \"Number=Sing\",\n",
      "  \"start_char\": 0,\n",
      "  \"end_char\": 9\n",
      "}\n",
      "\n",
      "\n",
      "{\n",
      "  \"id\": 1,\n",
      "  \"text\": \"air\",\n",
      "  \"upos\": \"NOUN\",\n",
      "  \"xpos\": \"NN\",\n",
      "  \"feats\": \"Number=Sing\",\n",
      "  \"start_char\": 0,\n",
      "  \"end_char\": 3\n",
      "}\n",
      "{\n",
      "  \"id\": 2,\n",
      "  \"text\": \"drumming\",\n",
      "  \"upos\": \"NOUN\",\n",
      "  \"xpos\": \"NN\",\n",
      "  \"feats\": \"Number=Sing\",\n",
      "  \"start_char\": 4,\n",
      "  \"end_char\": 12\n",
      "}\n",
      "\n",
      "\n",
      "{\n",
      "  \"id\": 1,\n",
      "  \"text\": \"answering\",\n",
      "  \"upos\": \"VERB\",\n",
      "  \"xpos\": \"VBG\",\n",
      "  \"feats\": \"VerbForm=Ger\",\n",
      "  \"start_char\": 0,\n",
      "  \"end_char\": 9\n",
      "}\n",
      "{\n",
      "  \"id\": 2,\n",
      "  \"text\": \"questions\",\n",
      "  \"upos\": \"NOUN\",\n",
      "  \"xpos\": \"NNS\",\n",
      "  \"feats\": \"Number=Plur\",\n",
      "  \"start_char\": 10,\n",
      "  \"end_char\": 19\n",
      "}\n",
      "\n",
      "\n",
      "{\n",
      "  \"id\": 1,\n",
      "  \"text\": \"applauding\",\n",
      "  \"upos\": \"NOUN\",\n",
      "  \"xpos\": \"NN\",\n",
      "  \"feats\": \"Number=Sing\",\n",
      "  \"start_char\": 0,\n",
      "  \"end_char\": 10\n",
      "}\n",
      "\n",
      "\n",
      "{\n",
      "  \"id\": 1,\n",
      "  \"text\": \"applying\",\n",
      "  \"upos\": \"VERB\",\n",
      "  \"xpos\": \"VBG\",\n",
      "  \"feats\": \"VerbForm=Ger\",\n",
      "  \"start_char\": 0,\n",
      "  \"end_char\": 8\n",
      "}\n",
      "{\n",
      "  \"id\": 2,\n",
      "  \"text\": \"cream\",\n",
      "  \"upos\": \"NOUN\",\n",
      "  \"xpos\": \"NN\",\n",
      "  \"feats\": \"Number=Sing\",\n",
      "  \"start_char\": 9,\n",
      "  \"end_char\": 14\n",
      "}\n",
      "\n",
      "\n",
      "{\n",
      "  \"id\": 1,\n",
      "  \"text\": \"archery\",\n",
      "  \"upos\": \"NOUN\",\n",
      "  \"xpos\": \"NN\",\n",
      "  \"feats\": \"Number=Sing\",\n",
      "  \"start_char\": 0,\n",
      "  \"end_char\": 7\n",
      "}\n",
      "\n",
      "\n",
      "{\n",
      "  \"id\": 1,\n",
      "  \"text\": \"arm\",\n",
      "  \"upos\": \"NOUN\",\n",
      "  \"xpos\": \"NN\",\n",
      "  \"feats\": \"Number=Sing\",\n",
      "  \"start_char\": 0,\n",
      "  \"end_char\": 3\n",
      "}\n",
      "{\n",
      "  \"id\": 2,\n",
      "  \"text\": \"wrestling\",\n",
      "  \"upos\": \"NOUN\",\n",
      "  \"xpos\": \"NN\",\n",
      "  \"feats\": \"Number=Sing\",\n",
      "  \"start_char\": 4,\n",
      "  \"end_char\": 13\n",
      "}\n",
      "\n",
      "\n",
      "{\n",
      "  \"id\": 1,\n",
      "  \"text\": \"arranging\",\n",
      "  \"upos\": \"VERB\",\n",
      "  \"xpos\": \"VBG\",\n",
      "  \"feats\": \"VerbForm=Ger\",\n",
      "  \"start_char\": 0,\n",
      "  \"end_char\": 9\n",
      "}\n",
      "{\n",
      "  \"id\": 2,\n",
      "  \"text\": \"flowers\",\n",
      "  \"upos\": \"NOUN\",\n",
      "  \"xpos\": \"NNS\",\n",
      "  \"feats\": \"Number=Plur\",\n",
      "  \"start_char\": 10,\n",
      "  \"end_char\": 17\n",
      "}\n",
      "\n",
      "\n",
      "{\n",
      "  \"id\": 1,\n",
      "  \"text\": \"assembling\",\n",
      "  \"upos\": \"VERB\",\n",
      "  \"xpos\": \"VBG\",\n",
      "  \"feats\": \"VerbForm=Ger\",\n",
      "  \"start_char\": 0,\n",
      "  \"end_char\": 10\n",
      "}\n",
      "{\n",
      "  \"id\": 2,\n",
      "  \"text\": \"computer\",\n",
      "  \"upos\": \"NOUN\",\n",
      "  \"xpos\": \"NN\",\n",
      "  \"feats\": \"Number=Sing\",\n",
      "  \"start_char\": 11,\n",
      "  \"end_char\": 19\n",
      "}\n",
      "\n",
      "\n",
      "{\n",
      "  \"id\": 1,\n",
      "  \"text\": \"auctioning\",\n",
      "  \"upos\": \"NOUN\",\n",
      "  \"xpos\": \"NN\",\n",
      "  \"feats\": \"Number=Sing\",\n",
      "  \"start_char\": 0,\n",
      "  \"end_char\": 10\n",
      "}\n",
      "\n",
      "\n",
      "{\n",
      "  \"id\": 1,\n",
      "  \"text\": \"baby\",\n",
      "  \"upos\": \"NOUN\",\n",
      "  \"xpos\": \"NN\",\n",
      "  \"feats\": \"Number=Sing\",\n",
      "  \"start_char\": 0,\n",
      "  \"end_char\": 4\n",
      "}\n",
      "{\n",
      "  \"id\": 2,\n",
      "  \"text\": \"waking\",\n",
      "  \"upos\": \"NOUN\",\n",
      "  \"xpos\": \"NN\",\n",
      "  \"feats\": \"Number=Sing\",\n",
      "  \"start_char\": 5,\n",
      "  \"end_char\": 11\n",
      "}\n",
      "{\n",
      "  \"id\": 3,\n",
      "  \"text\": \"up\",\n",
      "  \"upos\": \"ADP\",\n",
      "  \"xpos\": \"RP\",\n",
      "  \"start_char\": 12,\n",
      "  \"end_char\": 14\n",
      "}\n",
      "\n",
      "\n",
      "{\n",
      "  \"id\": 1,\n",
      "  \"text\": \"baking\",\n",
      "  \"upos\": \"NOUN\",\n",
      "  \"xpos\": \"NN\",\n",
      "  \"feats\": \"Number=Sing\",\n",
      "  \"start_char\": 0,\n",
      "  \"end_char\": 6\n",
      "}\n",
      "{\n",
      "  \"id\": 2,\n",
      "  \"text\": \"cookies\",\n",
      "  \"upos\": \"NOUN\",\n",
      "  \"xpos\": \"NNS\",\n",
      "  \"feats\": \"Number=Plur\",\n",
      "  \"start_char\": 7,\n",
      "  \"end_char\": 14\n",
      "}\n",
      "\n",
      "\n",
      "{\n",
      "  \"id\": 1,\n",
      "  \"text\": \"balloon\",\n",
      "  \"upos\": \"NOUN\",\n",
      "  \"xpos\": \"NN\",\n",
      "  \"feats\": \"Number=Sing\",\n",
      "  \"start_char\": 0,\n",
      "  \"end_char\": 7\n",
      "}\n",
      "{\n",
      "  \"id\": 2,\n",
      "  \"text\": \"blowing\",\n",
      "  \"upos\": \"NOUN\",\n",
      "  \"xpos\": \"NN\",\n",
      "  \"feats\": \"Number=Sing\",\n",
      "  \"start_char\": 8,\n",
      "  \"end_char\": 15\n",
      "}\n",
      "\n",
      "\n",
      "{\n",
      "  \"id\": 1,\n",
      "  \"text\": \"bandaging\",\n",
      "  \"upos\": \"NOUN\",\n",
      "  \"xpos\": \"NN\",\n",
      "  \"feats\": \"Number=Sing\",\n",
      "  \"start_char\": 0,\n",
      "  \"end_char\": 9\n",
      "}\n",
      "\n",
      "\n",
      "{\n",
      "  \"id\": 1,\n",
      "  \"text\": \"barbequing\",\n",
      "  \"upos\": \"NOUN\",\n",
      "  \"xpos\": \"NN\",\n",
      "  \"feats\": \"Number=Sing\",\n",
      "  \"start_char\": 0,\n",
      "  \"end_char\": 10\n",
      "}\n",
      "\n",
      "\n",
      "{\n",
      "  \"id\": 1,\n",
      "  \"text\": \"bartending\",\n",
      "  \"upos\": \"NOUN\",\n",
      "  \"xpos\": \"NN\",\n",
      "  \"feats\": \"Number=Sing\",\n",
      "  \"start_char\": 0,\n",
      "  \"end_char\": 10\n",
      "}\n",
      "\n",
      "\n",
      "{\n",
      "  \"id\": 1,\n",
      "  \"text\": \"beatboxing\",\n",
      "  \"upos\": \"NOUN\",\n",
      "  \"xpos\": \"NN\",\n",
      "  \"feats\": \"Number=Sing\",\n",
      "  \"start_char\": 0,\n",
      "  \"end_char\": 10\n",
      "}\n",
      "\n",
      "\n",
      "{\n",
      "  \"id\": 1,\n",
      "  \"text\": \"bee\",\n",
      "  \"upos\": \"NOUN\",\n",
      "  \"xpos\": \"NN\",\n",
      "  \"feats\": \"Number=Sing\",\n",
      "  \"start_char\": 0,\n",
      "  \"end_char\": 3\n",
      "}\n",
      "{\n",
      "  \"id\": 2,\n",
      "  \"text\": \"keeping\",\n",
      "  \"upos\": \"NOUN\",\n",
      "  \"xpos\": \"NN\",\n",
      "  \"feats\": \"Number=Sing\",\n",
      "  \"start_char\": 4,\n",
      "  \"end_char\": 11\n",
      "}\n",
      "\n",
      "\n",
      "{\n",
      "  \"id\": 1,\n",
      "  \"text\": \"belly\",\n",
      "  \"upos\": \"NOUN\",\n",
      "  \"xpos\": \"NN\",\n",
      "  \"feats\": \"Number=Sing\",\n",
      "  \"start_char\": 0,\n",
      "  \"end_char\": 5\n",
      "}\n",
      "{\n",
      "  \"id\": 2,\n",
      "  \"text\": \"dancing\",\n",
      "  \"upos\": \"NOUN\",\n",
      "  \"xpos\": \"NN\",\n",
      "  \"feats\": \"Number=Sing\",\n",
      "  \"start_char\": 6,\n",
      "  \"end_char\": 13\n",
      "}\n",
      "\n",
      "\n",
      "{\n",
      "  \"id\": 1,\n",
      "  \"text\": \"bench\",\n",
      "  \"upos\": \"NOUN\",\n",
      "  \"xpos\": \"NN\",\n",
      "  \"feats\": \"Number=Sing\",\n",
      "  \"start_char\": 0,\n",
      "  \"end_char\": 5\n",
      "}\n",
      "{\n",
      "  \"id\": 2,\n",
      "  \"text\": \"pressing\",\n",
      "  \"upos\": \"NOUN\",\n",
      "  \"xpos\": \"NN\",\n",
      "  \"feats\": \"Number=Sing\",\n",
      "  \"start_char\": 6,\n",
      "  \"end_char\": 14\n",
      "}\n",
      "precision: , recall: \n"
     ]
    },
    {
     "data": {
      "text/plain": [
       "['not verb',\n",
       " 'not verb',\n",
       " 'not verb',\n",
       " 'verb',\n",
       " 'not verb',\n",
       " 'not verb',\n",
       " 'verb',\n",
       " 'not verb',\n",
       " 'not verb',\n",
       " 'not verb',\n",
       " 'not verb',\n",
       " 'verb',\n",
       " 'not verb',\n",
       " 'verb',\n",
       " 'not verb',\n",
       " 'not verb',\n",
       " 'not verb',\n",
       " 'not verb',\n",
       " 'not verb',\n",
       " 'not verb',\n",
       " 'not verb',\n",
       " 'not verb',\n",
       " 'not verb',\n",
       " 'not verb',\n",
       " 'not verb',\n",
       " 'not verb',\n",
       " 'not verb',\n",
       " 'not verb',\n",
       " 'not verb',\n",
       " 'not verb',\n",
       " 'not verb',\n",
       " 'not verb',\n",
       " 'not verb']"
      ]
     },
     "execution_count": 78,
     "metadata": {},
     "output_type": "execute_result"
    }
   ],
   "source": [
    "cm2_predicted_labels= []\n",
    "nlp = stanza.Pipeline(lang='en', processors='tokenize,mwt,pos')\n",
    "# kinetics labels: labels\n",
    "for label in labels[0:20]:\n",
    "    doc = nlp(label)\n",
    "    #print(*[f'word: {word.text}\\tupos: {word.upos}\\txpos: {word.xpos}\\tfeats: {word.feats if word.feats else \"_\"}' for sent in doc.sentences for word in sent.words], sep='\\n')\n",
    "    print(\"\\n\")\n",
    "    for sent in doc.sentences:\n",
    "        for word in sent.words:\n",
    "            print(word)\n",
    "            if word.upos == \"VERB\":\n",
    "                cm2_predicted_labels.append(\"verb\")\n",
    "            else:\n",
    "                cm2_predicted_labels.append(\"not verb\")\n",
    "    \n",
    "        \n",
    "print(\"precision: , recall: \")\n",
    "cm2_predicted_labels\n"
   ]
  },
  {
   "cell_type": "code",
   "execution_count": 79,
   "metadata": {},
   "outputs": [
    {
     "data": {
      "text/plain": [
       "<sklearn.metrics._plot.confusion_matrix.ConfusionMatrixDisplay at 0x1b99f14b680>"
      ]
     },
     "execution_count": 79,
     "metadata": {},
     "output_type": "execute_result"
    },
    {
     "data": {
      "image/png": "[encoded data removed]",
      "text/plain": [
       "<Figure size 640x480 with 2 Axes>"
      ]
     },
     "metadata": {},
     "output_type": "display_data"
    }
   ],
   "source": [
    "disp =  ConfusionMatrixDisplay(confusion_matrix=confusion_matrix(cm2_actual_labels, cm2_predicted_labels, labels=['verb', 'not verb']),\n",
    "                              display_labels=['verb', 'not verb'])\n",
    "disp.plot(xticks_rotation = 'vertical') "
   ]
  },
  {
   "cell_type": "code",
   "execution_count": 80,
   "metadata": {},
   "outputs": [
    {
     "data": {
      "text/plain": [
       "1.0"
      ]
     },
     "execution_count": 80,
     "metadata": {},
     "output_type": "execute_result"
    }
   ],
   "source": [
    "precision_sc = precision_score(cm2_actual_labels, cm2_predicted_labels, pos_label='verb')\n",
    "precision_sc"
   ]
  },
  {
   "cell_type": "code",
   "execution_count": 81,
   "metadata": {},
   "outputs": [
    {
     "data": {
      "text/plain": [
       "1.0"
      ]
     },
     "execution_count": 81,
     "metadata": {},
     "output_type": "execute_result"
    }
   ],
   "source": [
    "manual_precision = 4/(4)\n",
    "manual_precision"
   ]
  },
  {
   "cell_type": "code",
   "execution_count": 82,
   "metadata": {},
   "outputs": [
    {
     "data": {
      "text/plain": [
       "0.25"
      ]
     },
     "execution_count": 82,
     "metadata": {},
     "output_type": "execute_result"
    }
   ],
   "source": [
    "from sklearn.metrics import recall_score\n",
    "recall_sc = recall_score(cm2_actual_labels, cm2_predicted_labels, pos_label='verb')\n",
    "recall_sc"
   ]
  },
  {
   "cell_type": "code",
   "execution_count": 83,
   "metadata": {},
   "outputs": [
    {
     "data": {
      "text/plain": [
       "0.25"
      ]
     },
     "execution_count": 83,
     "metadata": {},
     "output_type": "execute_result"
    }
   ],
   "source": [
    "manual_recall = 4/(4+12)\n",
    "manual_recall"
   ]
  },
  {
   "cell_type": "code",
   "execution_count": 84,
   "metadata": {},
   "outputs": [
    {
     "data": {
      "text/plain": [
       "0.4"
      ]
     },
     "execution_count": 84,
     "metadata": {},
     "output_type": "execute_result"
    }
   ],
   "source": [
    "from sklearn.metrics import f1_score\n",
    "f1_sc = f1_score(cm2_actual_labels, cm2_predicted_labels, pos_label='verb')\n",
    "f1_sc"
   ]
  },
  {
   "cell_type": "code",
   "execution_count": 85,
   "metadata": {},
   "outputs": [
    {
     "data": {
      "text/plain": [
       "0.4"
      ]
     },
     "execution_count": 85,
     "metadata": {},
     "output_type": "execute_result"
    }
   ],
   "source": [
    "manual_f1 = 2*manual_precision*manual_recall/(manual_precision+manual_recall)\n",
    "manual_f1"
   ]
  },
  {
   "cell_type": "code",
   "execution_count": 86,
   "metadata": {},
   "outputs": [],
   "source": [
    "#ucf_20_classes = [\"apply eye makeup\", \"apply lipstick\", \"archery\", \"baby crawling\", \"balance beam\", \"band marching\", \"baseball pitch\", \"basketball shooting\", \"basketball dunk\", \"bench press\", \"biking\", \"billiards shot\", \"blow dry hair\", \"blowing candles\", \"body weight squats\", \"bowling\", \"boxing punching bag\", \"boxing speed bag\", \"breaststroke\", \"brushing teeth\"]"
   ]
  },
  {
   "cell_type": "code",
   "execution_count": 87,
   "metadata": {},
   "outputs": [],
   "source": [
    "\n",
    "# for label in ucf_20_classes:\n",
    "#     # print (label)\n",
    "#     sentence = label\n",
    "\n",
    "#     tokens = nltk.word_tokenize(sentence)  \n",
    "\n",
    "#     pos_tags = nltk.pos_tag(tokens, tagset='universal')  \n",
    "\n",
    "#     print(pos_tags) \n",
    "#     print(\"\\n\")"
   ]
  },
  {
   "cell_type": "code",
   "execution_count": 88,
   "metadata": {},
   "outputs": [],
   "source": [
    "# spacy_nlp = spacy.load(\"en_core_web_lg\")\n",
    "# # kinetics labels: labels\n",
    "# for label in ucf_20_classes:\n",
    "#     # print (label)\n",
    "#     doc = spacy_nlp(label)\n",
    "\n",
    "#     for token in doc:\n",
    "#         print(token.text, token.pos_)\n",
    "#     print(\"\\n\")"
   ]
  },
  {
   "cell_type": "code",
   "execution_count": 89,
   "metadata": {},
   "outputs": [],
   "source": [
    "# spacy_nlp = spacy.load(\"en_core_web_trf\")\n",
    "# # kinetics labels: labels\n",
    "# for label in ucf_20_classes:\n",
    "#     # print (label)\n",
    "#     doc = spacy_nlp(label)\n",
    "\n",
    "#     for token in doc:\n",
    "#         print(token.text, token.pos_)\n",
    "#     print(\"\\n\")"
   ]
  },
  {
   "cell_type": "code",
   "execution_count": 90,
   "metadata": {},
   "outputs": [],
   "source": [
    "# # kinetics labels: labels\n",
    "# for label in ucf_20_classes:\n",
    "#     # print (label)\n",
    "#     sentence = label\n",
    "\n",
    "#     text_blob = TextBlob(sentence)  \n",
    "#     # Use the 'tags' property to get the POS tags  \n",
    "\n",
    "#     pos_tags = text_blob.tags \n",
    "#     print(pos_tags) \n",
    "#     print(\"\\n\")\n"
   ]
  },
  {
   "cell_type": "code",
   "execution_count": 91,
   "metadata": {},
   "outputs": [],
   "source": [
    "# nlp = stanza.Pipeline(lang='en', processors='tokenize,mwt,pos')\n",
    "# # kinetics labels: labels\n",
    "# for label in ucf_20_classes:\n",
    "#     doc = nlp(label)\n",
    "#     print(*[f'word: {word.text}\\tupos: {word.upos}\\txpos: {word.xpos}\\tfeats: {word.feats if word.feats else \"_\"}' for sent in doc.sentences for word in sent.words], sep='\\n')\n",
    "#     print(\"\\n\")\n",
    "\n"
   ]
  }
 ],
 "metadata": {
  "celltoolbar": "Edit Metadata",
  "kernelspec": {
   "display_name": "Python 3 (ipykernel)",
   "language": "python",
   "name": "python3"
  },
  "language_info": {
   "codemirror_mode": {
    "name": "ipython",
    "version": 3
   },
   "file_extension": ".py",
   "mimetype": "text/x-python",
   "name": "python",
   "nbconvert_exporter": "python",
   "pygments_lexer": "ipython3",
   "version": "3.12.3"
  },
  "openvino_notebooks": {
   "imageUrl": "https://user-images.githubusercontent.com/10940214/151552326-642d6e49-f5a0-4fc1-bf14-ae3f457e1fec.gif",
   "tags": {
    "categories": [
     "Live Demos"
    ],
    "libraries": [],
    "other": [],
    "tasks": [
     "Image Classification"
    ]
   }
  },
  "widgets": {
   "application/vnd.jupyter.widget-state+json": {
    "state": {},
    "version_major": 2,
    "version_minor": 0
   }
  }
 },
 "nbformat": 4,
 "nbformat_minor": 4
}
